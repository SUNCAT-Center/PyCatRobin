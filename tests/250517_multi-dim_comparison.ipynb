{
 "cells": [
  {
   "cell_type": "markdown",
   "id": "0adf19b9",
   "metadata": {},
   "source": [
    "# 1. Using RR data"
   ]
  },
  {
   "cell_type": "markdown",
   "id": "76f69887",
   "metadata": {},
   "source": [
    "### Add root of CatNaviGATE to sys.path to import submodules of it."
   ]
  },
  {
   "cell_type": "code",
   "execution_count": 25,
   "id": "b7396a36",
   "metadata": {},
   "outputs": [],
   "source": [
    "import sys\n",
    "import os\n",
    "\n",
    "# Add the project root to sys.path so I can import submodules\n",
    "project_root = os.path.abspath(os.path.join(os.getcwd(), \"..\"))\n",
    "if project_root not in sys.path:\n",
    "    sys.path.insert(0, project_root)"
   ]
  },
  {
   "cell_type": "markdown",
   "id": "ab44bbca",
   "metadata": {},
   "source": [
    "### Load Round Robin data"
   ]
  },
  {
   "cell_type": "code",
   "execution_count": 26,
   "id": "5d55863c",
   "metadata": {},
   "outputs": [
    {
     "name": "stdout",
     "output_type": "stream",
     "text": [
      "32 excel files were found:\n",
      "0 files were filtered out:\n",
      "data indexed 0 is not nominal:  0.01972573054352579 -> 0.02\n",
      "data indexed 1 is not nominal:  0.02001 -> 0.02\n",
      "data indexed 3 is not nominal:  0.019950000000000002 -> 0.02\n",
      "data indexed 4 is not nominal:  0.0202120079576469 -> 0.02\n",
      "data indexed 5 is not nominal:  0.0204 -> 0.02\n",
      "data indexed 6 is not nominal:  0.02003736 -> 0.02\n",
      "data indexed 7 is not nominal:  0.020099999999999996 -> 0.02\n",
      "data indexed 8 is not nominal:  0.020033340042249353 -> 0.02\n",
      "data indexed 9 is not nominal:  0.02004 -> 0.02\n",
      "data indexed 10 is not nominal:  0.0203666116136285 -> 0.02\n",
      "data indexed 11 is not nominal:  0.020099999999999996 -> 0.02\n",
      "data indexed 12 is not nominal:  0.02008875023818638 -> 0.02\n",
      "data indexed 16 is not nominal:  0.020011 -> 0.02\n",
      "data indexed 17 is not nominal:  0.02000045487325554 -> 0.02\n",
      "data indexed 18 is not nominal:  0.02000358 -> 0.02\n",
      "data indexed 20 is not nominal:  0.020020747060179853 -> 0.02\n",
      "data indexed 21 is not nominal:  0.020050500000000002 -> 0.02\n",
      "data indexed 23 is not nominal:  0.01994785098700524 -> 0.02\n",
      "data indexed 24 is not nominal:  0.00042 -> 0.02\n",
      "data indexed 25 is not nominal:  0.0207 -> 0.02\n",
      "data indexed 27 is not nominal:  0.0204 -> 0.02\n",
      "data indexed 28 is not nominal:  0.0005400000000000001 -> 0.02\n",
      "data indexed 29 is not nominal:  2e-05 -> 0.02\n",
      "data indexed 31 is not nominal:  0.01824 -> 0.02\n"
     ]
    }
   ],
   "source": [
    "import os\n",
    "import data.extract as ex\n",
    "import analysis.data_analysis as da\n",
    "import numpy as np\n",
    "\n",
    "# Define the home directory zand path to data\n",
    "home_dir = os.path.expanduser(\"~\")\n",
    "path = (home_dir +\n",
    "        \"/Dropbox/0.Dongjae/04.SUNCAT@SLAC,Standford(2402~)/231128_research/Accelerate/250502_Round_Robin/250505_finalized_RR_data/alldata\")\n",
    "\n",
    "# Keywords to exclude\n",
    "exclude_keywords = [\n",
    "    \"0p0005\", # data with too low Rh mass, likely to be inaccurate\n",
    "    \"(1)\",    # data mistakenly uploaded twice\n",
    "    \"PercentLoading_Synthesis_MassLoading_Temperature_Date_Location\", # example Excel file\n",
    "    # \"_SLAC\",   # data from SLAC\n",
    "    # \"PSU\",\n",
    "]\n",
    "\n",
    "# Create an instance of DataForGP\n",
    "dataset = ex.DataForGP(path=path)\n",
    "dataset.find_excel_files()\n",
    "dataset.filter_excel_files(exclude_keywords=exclude_keywords, verbose=True)\n",
    "dataset.construct_dataframe(extensive=False)\n",
    "# dataset.convert_measured_to_nominal(which_column=\"Rh_total_mass\")\n",
    "dataset.convert_measured_to_nominal(which_column=\"Rh_total_mass\", allowed_values=np.array([0.02])) # for Round Robin data\n",
    "dataset.apply_duplicate_groupid(\n",
    "    exclude_columns=['filename', 'experiment_date', 'location'],\n",
    "    verbose=False\n",
    ")"
   ]
  },
  {
   "cell_type": "markdown",
   "id": "0fe88392",
   "metadata": {},
   "source": [
    "### Calculate and add target metrics into the DataFrame"
   ]
  },
  {
   "cell_type": "code",
   "execution_count": 27,
   "id": "1fa4547f",
   "metadata": {},
   "outputs": [
    {
     "name": "stdout",
     "output_type": "stream",
     "text": [
      "Group 1: \n",
      "mean of CO Net Production Rate (mol/molRh/s)_initial value:  1.24\n",
      "mean of CO Net Production Rate (mol/molRh/s)_final value:  0.88\n",
      "mean of CO Net Production Rate (mol/molRh/s)_initial slope: -0.08\n",
      "mean of CO Net Production Rate (mol/molRh/s)_final slope: -0.03\n",
      "mean of CO Net Production Rate (mol/molRh/s)_overall slope: -0.04\n",
      "Group 2: \n",
      "mean of CO Net Production Rate (mol/molRh/s)_initial value:  5.56\n",
      "mean of CO Net Production Rate (mol/molRh/s)_final value:  5.27\n",
      "mean of CO Net Production Rate (mol/molRh/s)_initial slope:  0.02\n",
      "mean of CO Net Production Rate (mol/molRh/s)_final slope: -0.01\n",
      "mean of CO Net Production Rate (mol/molRh/s)_overall slope: -0.03\n",
      "Group 3: \n",
      "mean of CO Net Production Rate (mol/molRh/s)_initial value:  1.41\n",
      "mean of CO Net Production Rate (mol/molRh/s)_final value:  1.85\n",
      "mean of CO Net Production Rate (mol/molRh/s)_initial slope:  0.11\n",
      "mean of CO Net Production Rate (mol/molRh/s)_final slope:  0.01\n",
      "mean of CO Net Production Rate (mol/molRh/s)_overall slope:  0.04\n",
      "Group 4: \n",
      "mean of CO Net Production Rate (mol/molRh/s)_initial value:  3.75\n",
      "mean of CO Net Production Rate (mol/molRh/s)_final value:  3.24\n",
      "mean of CO Net Production Rate (mol/molRh/s)_initial slope: -0.18\n",
      "mean of CO Net Production Rate (mol/molRh/s)_final slope: -0.00\n",
      "mean of CO Net Production Rate (mol/molRh/s)_overall slope: -0.05\n",
      "Group 5: \n",
      "mean of CO Net Production Rate (mol/molRh/s)_initial value:  3.32\n",
      "mean of CO Net Production Rate (mol/molRh/s)_final value:  2.76\n",
      "mean of CO Net Production Rate (mol/molRh/s)_initial slope: -0.20\n",
      "mean of CO Net Production Rate (mol/molRh/s)_final slope:  0.01\n",
      "mean of CO Net Production Rate (mol/molRh/s)_overall slope: -0.06\n",
      "Group 6: \n",
      "mean of CO Net Production Rate (mol/molRh/s)_initial value:  6.25\n",
      "mean of CO Net Production Rate (mol/molRh/s)_final value:  5.34\n",
      "mean of CO Net Production Rate (mol/molRh/s)_initial slope: -1.12\n",
      "mean of CO Net Production Rate (mol/molRh/s)_final slope:  0.02\n",
      "mean of CO Net Production Rate (mol/molRh/s)_overall slope: -0.09\n"
     ]
    }
   ],
   "source": [
    "savgol=False\n",
    "methods=[\n",
    "            'initial value',\n",
    "            'final value',\n",
    "            'initial slope',\n",
    "            'final slope',\n",
    "            'overall slope',\n",
    "            # 'delta'\n",
    "        ]\n",
    "for column in [\n",
    "   # 'CO2 Conversion (%)',\n",
    "   # 'CH4 Net Production Rate (mol/molRh/s)',\n",
    "   'CO Net Production Rate (mol/molRh/s)',\n",
    "   # 'CO Forward Production Rate (mol/molRh/s)',\n",
    "   # 'Selectivity to CO (%)'\n",
    "    ]:\n",
    "    dataset.assign_target_values(\n",
    "        savgol=savgol, methods=methods,\n",
    "        column=column, temp_threshold=3.5, init_tos_buffer=0.5, adjacency_slope=1.0,\n",
    "        )\n",
    "\n",
    "# Construct unique DataFrame using group IDs\n",
    "dataset.construct_unique_dataframe(verbose=True)"
   ]
  },
  {
   "cell_type": "code",
   "execution_count": 28,
   "id": "0ca3173a",
   "metadata": {},
   "outputs": [
    {
     "data": {
      "application/vnd.microsoft.datawrangler.viewer.v0+json": {
       "columns": [
        {
         "name": "index",
         "rawType": "int64",
         "type": "integer"
        },
        {
         "name": "reaction_temp",
         "rawType": "float64",
         "type": "float"
        },
        {
         "name": "Rh_weight_loading",
         "rawType": "float64",
         "type": "float"
        },
        {
         "name": "Rh_total_mass",
         "rawType": "float64",
         "type": "float"
        },
        {
         "name": "synth_method",
         "rawType": "object",
         "type": "string"
        },
        {
         "name": "filename",
         "rawType": "object",
         "type": "string"
        },
        {
         "name": "experiment_date",
         "rawType": "datetime64[ns]",
         "type": "datetime"
        },
        {
         "name": "location",
         "rawType": "object",
         "type": "string"
        },
        {
         "name": "GroupID",
         "rawType": "int64",
         "type": "integer"
        },
        {
         "name": "CO Net Production Rate (mol/molRh/s)_initial value",
         "rawType": "float64",
         "type": "float"
        },
        {
         "name": "CO Net Production Rate (mol/molRh/s)_final value",
         "rawType": "float64",
         "type": "float"
        },
        {
         "name": "CO Net Production Rate (mol/molRh/s)_initial slope",
         "rawType": "float64",
         "type": "float"
        },
        {
         "name": "CO Net Production Rate (mol/molRh/s)_final slope",
         "rawType": "float64",
         "type": "float"
        },
        {
         "name": "CO Net Production Rate (mol/molRh/s)_overall slope",
         "rawType": "float64",
         "type": "float"
        }
       ],
       "ref": "c4996eaf-c55a-4e19-8226-62349fada82c",
       "rows": [
        [
         "0",
         "500.0",
         "0.3",
         "0.02",
         "NP",
         "0p3_RhNP_0p0197mg_500C_20250211_Cargnello1.xlsx",
         "2025-02-11 00:00:00",
         "Cargnello",
         "3",
         "1.490511111936049",
         "2.26791561526021",
         "0.17283811985717162",
         "-0.04938183256200179",
         "0.07772102007739673"
        ],
        [
         "1",
         "500.0",
         "0.3",
         "0.02",
         "WI",
         "0p3_RhWI_0p02mg_500C_20250331_SLAC1.xlsx",
         "2025-03-31 00:00:00",
         "SLAC",
         "4",
         "3.55158890156156",
         "2.615114443141619",
         "-0.2233545978378897",
         "-0.0471632528119161",
         "-0.09355648814518622"
        ],
        [
         "2",
         "500.0",
         "0.1",
         "0.02",
         "WI",
         "0p1_RhWI_0p02mg_500C_20250319_UCSBRR.xlsx",
         "2025-03-19 00:00:00",
         "UCSB",
         "2",
         "5.047596500714384",
         "4.849660290357718",
         "0.07678451404327355",
         "-0.02538089924839146",
         "-0.019788673862704068"
        ],
        [
         "3",
         "500.0",
         "0.3",
         "0.02",
         "WI",
         "0p3_RhWI_0p0199mg_500C_20250415_SLAC1.xlsx",
         "2025-04-15 00:00:00",
         "SLAC",
         "4",
         "4.109359191155567",
         "3.920400220165672",
         "-0.17048526745189416",
         "0.05945548613684286",
         "-0.018860795063732054"
        ],
        [
         "4",
         "500.0",
         "2.0",
         "0.02",
         "WI",
         "2_RhWI_0p0202mg_500C_20250317_Cargnello1.xlsx",
         "2025-03-17 00:00:00",
         "Cargnello",
         "5",
         "2.879354225605248",
         "2.187945954544626",
         "-0.2990129468379078",
         "0.042865343502297794",
         "-0.0691235462195073"
        ],
        [
         "5",
         "500.0",
         "0.3",
         "0.02",
         "WI",
         "0p3_RhWI_0p0204mg_500C_20250421_SLAC1.xlsx",
         "2025-04-21 00:00:00",
         "SLAC",
         "4",
         "4.278838793032906",
         "3.110261883432081",
         "-0.2617319775683954",
         "-0.019746329630192044",
         "-0.11669561371880632"
        ],
        [
         "6",
         "400.0",
         "2.0",
         "0.02",
         "WI",
         "2_RhWI_0p02mg_400C_20250422_SLAC1.xlsx",
         "2025-04-22 00:00:00",
         "SLAC",
         "1",
         "1.186812724896313",
         "0.8863508773925507",
         "-0.0633393093144619",
         "-0.021426916074428086",
         "-0.02998039444035433"
        ],
        [
         "7",
         "500.0",
         "0.3",
         "0.02",
         "NP",
         "0p3_RhNP_0p0201mg_500C_20250312_UCSBRR.xlsx",
         "2025-03-12 00:00:00",
         "UCSB",
         "3",
         "1.1181027879085865",
         "1.5652614450325835",
         "0.05249231461690488",
         "0.040366433693488385",
         "0.04470468954234564"
        ],
        [
         "8",
         "500.0",
         "0.3",
         "0.02",
         "WI",
         "0p3_RhWI_0p02mg_500C_20250312_Cargnello1.xlsx",
         "2025-03-12 00:00:00",
         "Cargnello",
         "4",
         "3.697581646118912",
         "3.456457684562536",
         "-0.17087724824892433",
         "-0.0050464498330429555",
         "-0.024105700127824342"
        ],
        [
         "9",
         "500.0",
         "2.0",
         "0.02",
         "WI",
         "2_RhWI_0p02mg_500C_20250417_SLAC1.xlsx",
         "2025-04-17 00:00:00",
         "SLAC",
         "5",
         "3.220149617406028",
         "1.3888052377618",
         "-0.3920289136522195",
         "-0.028997251567006173",
         "-0.18301751011074097"
        ],
        [
         "10",
         "400.0",
         "2.0",
         "0.02",
         "WI",
         "2_RhWI_0p0204mg_400C_20250324_Cargnello1.xlsx",
         "2025-03-24 00:00:00",
         "Cargnello",
         "1",
         "1.721066043981482",
         "0.9187053876473583",
         "-0.1519869503232462",
         "-0.06123162392637923",
         "-0.08021378402673829"
        ],
        [
         "11",
         "500.0",
         "0.3",
         "0.02",
         "WI",
         "0p3_RhWI_0p0201mg_500C_20250311_UCSBRR.xlsx",
         "2025-03-11 00:00:00",
         "UCSB",
         "4",
         "3.4337235342347525",
         "3.04283059694909",
         "-0.1391327156654527",
         "-0.00863183457862137",
         "-0.03907843860373943"
        ],
        [
         "12",
         "500.0",
         "0.3",
         "0.02",
         "NP",
         "0p3_RhNP_0p0201mg_500C_20250207_Cargnello1.xlsx",
         "2025-02-07 00:00:00",
         "Cargnello",
         "3",
         "1.4610785525882",
         "1.966910551404788",
         "0.07707681580901878",
         "-0.03688723914972286",
         "0.05056774862513444"
        ],
        [
         "13",
         "400.0",
         "2.0",
         "0.02",
         "WI",
         "2_RhWI_0p02mg_400C_20250306_UCSBRR.xlsx",
         "2025-03-06 00:00:00",
         "UCSB",
         "1",
         "1.1250053965091962",
         "0.9195470703931842",
         "-0.05941842259294857",
         "-0.019559120862689874",
         "-0.02042442077547813"
        ],
        [
         "14",
         "600.0",
         "2.0",
         "0.02",
         "WI",
         "2_RhWI_0p02mg_600C_20250318_UCSBRR.xlsx",
         "2025-03-18 00:00:00",
         "UCSB",
         "6",
         "8.50477904595627",
         "6.368777594351421",
         "-3.0076279282345255",
         "0.10686716256764543",
         "-0.21353489834215184"
        ],
        [
         "15",
         "500.0",
         "2.0",
         "0.02",
         "WI",
         "2_RhWI_0p02mg_500C_20250307_UCSBRR.xlsx",
         "2025-03-07 00:00:00",
         "UCSB",
         "5",
         "3.535034932715534",
         "3.044443668845103",
         "-0.16945676734858214",
         "-0.013849016230902877",
         "-0.04904686467343274"
        ],
        [
         "16",
         "500.0",
         "0.1",
         "0.02",
         "WI",
         "0p1_RhWI_0p02mg_500C_20250418_SLAC1.xlsx",
         "2025-04-18 00:00:00",
         "SLAC",
         "2",
         "6.583206137847368",
         "6.080407894025111",
         "0.07169809054070302",
         "0.011597573396429006",
         "-0.05006842436822649"
        ],
        [
         "17",
         "600.0",
         "2.0",
         "0.02",
         "WI",
         "2_RhWI_0p02mg_600C_20250326_Cargnello1.xlsx",
         "2025-03-26 00:00:00",
         "Cargnello",
         "6",
         "5.414712533156736",
         "4.588808950681281",
         "-0.3720675293342255",
         "-0.041833786598367825",
         "-0.08257200891223178"
        ],
        [
         "18",
         "600.0",
         "2.0",
         "0.02",
         "WI",
         "2_RhWI_0p02mg_600C_20250423_SLAC1.xlsx",
         "2025-04-23 00:00:00",
         "SLAC",
         "6",
         "3.211452931696449",
         "3.861620996957697",
         "-0.6703748067107089",
         "0.13204413409285404",
         "0.06484029682920085"
        ],
        [
         "19",
         "500.0",
         "0.1",
         "0.02",
         "WI",
         "0p1_RhWI_0p02mg_500C_20250314_UCSBRR.xlsx",
         "2025-03-14 00:00:00",
         "UCSB",
         "2",
         "4.95896140453051",
         "4.890500069983548",
         "0.07455939739854939",
         "-0.013745999287005926",
         "-0.006844422349465778"
        ],
        [
         "20",
         "500.0",
         "0.1",
         "0.02",
         "WI",
         "0p1_RhWI_0p02mg_500C_20250314_Cargnello1.xlsx",
         "2025-03-14 00:00:00",
         "Cargnello",
         "2",
         "5.391405085997567",
         "4.692029649465869",
         "-0.2870072495094219",
         "-0.02677847914544528",
         "-0.06992006363726047"
        ],
        [
         "21",
         "500.0",
         "0.3",
         "0.02",
         "NP",
         "0p3_RhNP_0p0201mg_500C_20250424_SLAC1.xlsx",
         "2025-04-24 00:00:00",
         "SLAC",
         "3",
         "1.783016937415835",
         "1.921074182080067",
         "0.12634563264775175",
         "0.02755333886872722",
         "0.013760239231186784"
        ],
        [
         "22",
         "500.0",
         "0.1",
         "0.02",
         "WI",
         "0p1_RhWI_0p02mg_500C_20250317_UCSBRR.xlsx",
         "2025-03-17 00:00:00",
         "UCSB",
         "2",
         "5.100334568563821",
         "4.949598990569859",
         "0.049010606161444335",
         "-0.0139955406171536",
         "-0.015069371865823205"
        ],
        [
         "23",
         "500.0",
         "0.3",
         "0.02",
         "NP",
         "0p3_RhNP_0p0199mg_500C_20250212_Cargnello1.xlsx",
         "2025-02-12 00:00:00",
         "Cargnello",
         "3",
         "1.420055978987962",
         "1.652649232702722",
         "0.16378526013422115",
         "0.026282145474699443",
         "0.023252866241964345"
        ],
        [
         "24",
         "400.0",
         "2.0",
         "0.02",
         "WI",
         "2_RhWI_0p021_400C_20250425_PSURight.xls",
         "2025-04-25 00:00:00",
         "PSU",
         "1",
         "0.9461263407264587",
         "0.7950233807469398",
         "-0.05586165799247565",
         "0.00020181396944309366",
         "-0.015002279584940326"
        ],
        [
         "25",
         "500.0",
         "0.3",
         "0.02",
         "WI",
         "0p3_RhWI_0p0207_500C_20250315_PSURight.xls",
         "2025-03-15 00:00:00",
         "PSU",
         "4",
         "3.4296623213007225",
         "3.319420195994572",
         "-0.1034105431663389",
         "0.009079049399418103",
         "-0.010943232609306163"
        ],
        [
         "26",
         "500.0",
         "2.0",
         "0.02",
         "WI",
         "2p0_RhWI_0p02_500C_20250331_PSURight.xls",
         "2025-03-31 00:00:00",
         "PSU",
         "5",
         "3.2033828094497747",
         "3.107922216817602",
         "-0.08470132983185118",
         "0.015480006471115047",
         "-0.009475937326997495"
        ],
        [
         "27",
         "500.0",
         "0.3",
         "0.02",
         "NP",
         "0p3_RhNP_0p0204_500C_20250315_PSULeft.xls",
         "2025-03-15 00:00:00",
         "PSU",
         "3",
         "1.2104565468124198",
         "1.6997445616268516",
         "0.04311433106768242",
         "0.036082413824238824",
         "0.04856938801016794"
        ],
        [
         "28",
         "600.0",
         "2.0",
         "0.02",
         "WI",
         "2_RhWI_0p027_600C_20250422_PSURight.xls",
         "2025-04-22 00:00:00",
         "PSU",
         "6",
         "7.854932302539958",
         "6.537969150667977",
         "-0.43206971293589447",
         "-0.11494085237535769",
         "-0.13074189932214644"
        ],
        [
         "29",
         "500.0",
         "0.1",
         "0.02",
         "WI",
         "0p1_RhWI_0p02_500C_20250414_PSURight.xls",
         "2025-04-14 00:00:00",
         "PSU",
         "2",
         "6.273850575235025",
         "6.179642716761657",
         "0.12392631257534222",
         "-0.0198051488180444",
         "-0.009351584124813168"
        ],
        [
         "30",
         "500.0",
         "2.0",
         "0.02",
         "WI",
         "2_RhWI_0p02_500C_20250403_PSURight.xls",
         "2025-04-03 00:00:00",
         "PSU",
         "5",
         "3.4712876463592828",
         "3.33422956438119",
         "-0.11145839537999389",
         "0.017401175731275646",
         "-0.013603779848942222"
        ],
        [
         "31",
         "500.0",
         "2.0",
         "0.02",
         "WI",
         "2_RhWI_0p01824_500C_20250401_PSURight.xls",
         "2025-04-01 00:00:00",
         "PSU",
         "5",
         "3.6359450502423893",
         "3.500163955932442",
         "-0.11882980550904243",
         "0.012302912744895188",
         "-0.013477031693295043"
        ]
       ],
       "shape": {
        "columns": 13,
        "rows": 32
       }
      },
      "text/html": [
       "<div>\n",
       "<style scoped>\n",
       "    .dataframe tbody tr th:only-of-type {\n",
       "        vertical-align: middle;\n",
       "    }\n",
       "\n",
       "    .dataframe tbody tr th {\n",
       "        vertical-align: top;\n",
       "    }\n",
       "\n",
       "    .dataframe thead th {\n",
       "        text-align: right;\n",
       "    }\n",
       "</style>\n",
       "<table border=\"1\" class=\"dataframe\">\n",
       "  <thead>\n",
       "    <tr style=\"text-align: right;\">\n",
       "      <th></th>\n",
       "      <th>reaction_temp</th>\n",
       "      <th>Rh_weight_loading</th>\n",
       "      <th>Rh_total_mass</th>\n",
       "      <th>synth_method</th>\n",
       "      <th>filename</th>\n",
       "      <th>experiment_date</th>\n",
       "      <th>location</th>\n",
       "      <th>GroupID</th>\n",
       "      <th>CO Net Production Rate (mol/molRh/s)_initial value</th>\n",
       "      <th>CO Net Production Rate (mol/molRh/s)_final value</th>\n",
       "      <th>CO Net Production Rate (mol/molRh/s)_initial slope</th>\n",
       "      <th>CO Net Production Rate (mol/molRh/s)_final slope</th>\n",
       "      <th>CO Net Production Rate (mol/molRh/s)_overall slope</th>\n",
       "    </tr>\n",
       "  </thead>\n",
       "  <tbody>\n",
       "    <tr>\n",
       "      <th>0</th>\n",
       "      <td>500.0</td>\n",
       "      <td>0.3</td>\n",
       "      <td>0.02</td>\n",
       "      <td>NP</td>\n",
       "      <td>0p3_RhNP_0p0197mg_500C_20250211_Cargnello1.xlsx</td>\n",
       "      <td>2025-02-11</td>\n",
       "      <td>Cargnello</td>\n",
       "      <td>3</td>\n",
       "      <td>1.490511</td>\n",
       "      <td>2.267916</td>\n",
       "      <td>0.172838</td>\n",
       "      <td>-0.049382</td>\n",
       "      <td>0.077721</td>\n",
       "    </tr>\n",
       "    <tr>\n",
       "      <th>1</th>\n",
       "      <td>500.0</td>\n",
       "      <td>0.3</td>\n",
       "      <td>0.02</td>\n",
       "      <td>WI</td>\n",
       "      <td>0p3_RhWI_0p02mg_500C_20250331_SLAC1.xlsx</td>\n",
       "      <td>2025-03-31</td>\n",
       "      <td>SLAC</td>\n",
       "      <td>4</td>\n",
       "      <td>3.551589</td>\n",
       "      <td>2.615114</td>\n",
       "      <td>-0.223355</td>\n",
       "      <td>-0.047163</td>\n",
       "      <td>-0.093556</td>\n",
       "    </tr>\n",
       "    <tr>\n",
       "      <th>2</th>\n",
       "      <td>500.0</td>\n",
       "      <td>0.1</td>\n",
       "      <td>0.02</td>\n",
       "      <td>WI</td>\n",
       "      <td>0p1_RhWI_0p02mg_500C_20250319_UCSBRR.xlsx</td>\n",
       "      <td>2025-03-19</td>\n",
       "      <td>UCSB</td>\n",
       "      <td>2</td>\n",
       "      <td>5.047597</td>\n",
       "      <td>4.849660</td>\n",
       "      <td>0.076785</td>\n",
       "      <td>-0.025381</td>\n",
       "      <td>-0.019789</td>\n",
       "    </tr>\n",
       "    <tr>\n",
       "      <th>3</th>\n",
       "      <td>500.0</td>\n",
       "      <td>0.3</td>\n",
       "      <td>0.02</td>\n",
       "      <td>WI</td>\n",
       "      <td>0p3_RhWI_0p0199mg_500C_20250415_SLAC1.xlsx</td>\n",
       "      <td>2025-04-15</td>\n",
       "      <td>SLAC</td>\n",
       "      <td>4</td>\n",
       "      <td>4.109359</td>\n",
       "      <td>3.920400</td>\n",
       "      <td>-0.170485</td>\n",
       "      <td>0.059455</td>\n",
       "      <td>-0.018861</td>\n",
       "    </tr>\n",
       "    <tr>\n",
       "      <th>4</th>\n",
       "      <td>500.0</td>\n",
       "      <td>2.0</td>\n",
       "      <td>0.02</td>\n",
       "      <td>WI</td>\n",
       "      <td>2_RhWI_0p0202mg_500C_20250317_Cargnello1.xlsx</td>\n",
       "      <td>2025-03-17</td>\n",
       "      <td>Cargnello</td>\n",
       "      <td>5</td>\n",
       "      <td>2.879354</td>\n",
       "      <td>2.187946</td>\n",
       "      <td>-0.299013</td>\n",
       "      <td>0.042865</td>\n",
       "      <td>-0.069124</td>\n",
       "    </tr>\n",
       "    <tr>\n",
       "      <th>5</th>\n",
       "      <td>500.0</td>\n",
       "      <td>0.3</td>\n",
       "      <td>0.02</td>\n",
       "      <td>WI</td>\n",
       "      <td>0p3_RhWI_0p0204mg_500C_20250421_SLAC1.xlsx</td>\n",
       "      <td>2025-04-21</td>\n",
       "      <td>SLAC</td>\n",
       "      <td>4</td>\n",
       "      <td>4.278839</td>\n",
       "      <td>3.110262</td>\n",
       "      <td>-0.261732</td>\n",
       "      <td>-0.019746</td>\n",
       "      <td>-0.116696</td>\n",
       "    </tr>\n",
       "    <tr>\n",
       "      <th>6</th>\n",
       "      <td>400.0</td>\n",
       "      <td>2.0</td>\n",
       "      <td>0.02</td>\n",
       "      <td>WI</td>\n",
       "      <td>2_RhWI_0p02mg_400C_20250422_SLAC1.xlsx</td>\n",
       "      <td>2025-04-22</td>\n",
       "      <td>SLAC</td>\n",
       "      <td>1</td>\n",
       "      <td>1.186813</td>\n",
       "      <td>0.886351</td>\n",
       "      <td>-0.063339</td>\n",
       "      <td>-0.021427</td>\n",
       "      <td>-0.029980</td>\n",
       "    </tr>\n",
       "    <tr>\n",
       "      <th>7</th>\n",
       "      <td>500.0</td>\n",
       "      <td>0.3</td>\n",
       "      <td>0.02</td>\n",
       "      <td>NP</td>\n",
       "      <td>0p3_RhNP_0p0201mg_500C_20250312_UCSBRR.xlsx</td>\n",
       "      <td>2025-03-12</td>\n",
       "      <td>UCSB</td>\n",
       "      <td>3</td>\n",
       "      <td>1.118103</td>\n",
       "      <td>1.565261</td>\n",
       "      <td>0.052492</td>\n",
       "      <td>0.040366</td>\n",
       "      <td>0.044705</td>\n",
       "    </tr>\n",
       "    <tr>\n",
       "      <th>8</th>\n",
       "      <td>500.0</td>\n",
       "      <td>0.3</td>\n",
       "      <td>0.02</td>\n",
       "      <td>WI</td>\n",
       "      <td>0p3_RhWI_0p02mg_500C_20250312_Cargnello1.xlsx</td>\n",
       "      <td>2025-03-12</td>\n",
       "      <td>Cargnello</td>\n",
       "      <td>4</td>\n",
       "      <td>3.697582</td>\n",
       "      <td>3.456458</td>\n",
       "      <td>-0.170877</td>\n",
       "      <td>-0.005046</td>\n",
       "      <td>-0.024106</td>\n",
       "    </tr>\n",
       "    <tr>\n",
       "      <th>9</th>\n",
       "      <td>500.0</td>\n",
       "      <td>2.0</td>\n",
       "      <td>0.02</td>\n",
       "      <td>WI</td>\n",
       "      <td>2_RhWI_0p02mg_500C_20250417_SLAC1.xlsx</td>\n",
       "      <td>2025-04-17</td>\n",
       "      <td>SLAC</td>\n",
       "      <td>5</td>\n",
       "      <td>3.220150</td>\n",
       "      <td>1.388805</td>\n",
       "      <td>-0.392029</td>\n",
       "      <td>-0.028997</td>\n",
       "      <td>-0.183018</td>\n",
       "    </tr>\n",
       "    <tr>\n",
       "      <th>10</th>\n",
       "      <td>400.0</td>\n",
       "      <td>2.0</td>\n",
       "      <td>0.02</td>\n",
       "      <td>WI</td>\n",
       "      <td>2_RhWI_0p0204mg_400C_20250324_Cargnello1.xlsx</td>\n",
       "      <td>2025-03-24</td>\n",
       "      <td>Cargnello</td>\n",
       "      <td>1</td>\n",
       "      <td>1.721066</td>\n",
       "      <td>0.918705</td>\n",
       "      <td>-0.151987</td>\n",
       "      <td>-0.061232</td>\n",
       "      <td>-0.080214</td>\n",
       "    </tr>\n",
       "    <tr>\n",
       "      <th>11</th>\n",
       "      <td>500.0</td>\n",
       "      <td>0.3</td>\n",
       "      <td>0.02</td>\n",
       "      <td>WI</td>\n",
       "      <td>0p3_RhWI_0p0201mg_500C_20250311_UCSBRR.xlsx</td>\n",
       "      <td>2025-03-11</td>\n",
       "      <td>UCSB</td>\n",
       "      <td>4</td>\n",
       "      <td>3.433724</td>\n",
       "      <td>3.042831</td>\n",
       "      <td>-0.139133</td>\n",
       "      <td>-0.008632</td>\n",
       "      <td>-0.039078</td>\n",
       "    </tr>\n",
       "    <tr>\n",
       "      <th>12</th>\n",
       "      <td>500.0</td>\n",
       "      <td>0.3</td>\n",
       "      <td>0.02</td>\n",
       "      <td>NP</td>\n",
       "      <td>0p3_RhNP_0p0201mg_500C_20250207_Cargnello1.xlsx</td>\n",
       "      <td>2025-02-07</td>\n",
       "      <td>Cargnello</td>\n",
       "      <td>3</td>\n",
       "      <td>1.461079</td>\n",
       "      <td>1.966911</td>\n",
       "      <td>0.077077</td>\n",
       "      <td>-0.036887</td>\n",
       "      <td>0.050568</td>\n",
       "    </tr>\n",
       "    <tr>\n",
       "      <th>13</th>\n",
       "      <td>400.0</td>\n",
       "      <td>2.0</td>\n",
       "      <td>0.02</td>\n",
       "      <td>WI</td>\n",
       "      <td>2_RhWI_0p02mg_400C_20250306_UCSBRR.xlsx</td>\n",
       "      <td>2025-03-06</td>\n",
       "      <td>UCSB</td>\n",
       "      <td>1</td>\n",
       "      <td>1.125005</td>\n",
       "      <td>0.919547</td>\n",
       "      <td>-0.059418</td>\n",
       "      <td>-0.019559</td>\n",
       "      <td>-0.020424</td>\n",
       "    </tr>\n",
       "    <tr>\n",
       "      <th>14</th>\n",
       "      <td>600.0</td>\n",
       "      <td>2.0</td>\n",
       "      <td>0.02</td>\n",
       "      <td>WI</td>\n",
       "      <td>2_RhWI_0p02mg_600C_20250318_UCSBRR.xlsx</td>\n",
       "      <td>2025-03-18</td>\n",
       "      <td>UCSB</td>\n",
       "      <td>6</td>\n",
       "      <td>8.504779</td>\n",
       "      <td>6.368778</td>\n",
       "      <td>-3.007628</td>\n",
       "      <td>0.106867</td>\n",
       "      <td>-0.213535</td>\n",
       "    </tr>\n",
       "    <tr>\n",
       "      <th>15</th>\n",
       "      <td>500.0</td>\n",
       "      <td>2.0</td>\n",
       "      <td>0.02</td>\n",
       "      <td>WI</td>\n",
       "      <td>2_RhWI_0p02mg_500C_20250307_UCSBRR.xlsx</td>\n",
       "      <td>2025-03-07</td>\n",
       "      <td>UCSB</td>\n",
       "      <td>5</td>\n",
       "      <td>3.535035</td>\n",
       "      <td>3.044444</td>\n",
       "      <td>-0.169457</td>\n",
       "      <td>-0.013849</td>\n",
       "      <td>-0.049047</td>\n",
       "    </tr>\n",
       "    <tr>\n",
       "      <th>16</th>\n",
       "      <td>500.0</td>\n",
       "      <td>0.1</td>\n",
       "      <td>0.02</td>\n",
       "      <td>WI</td>\n",
       "      <td>0p1_RhWI_0p02mg_500C_20250418_SLAC1.xlsx</td>\n",
       "      <td>2025-04-18</td>\n",
       "      <td>SLAC</td>\n",
       "      <td>2</td>\n",
       "      <td>6.583206</td>\n",
       "      <td>6.080408</td>\n",
       "      <td>0.071698</td>\n",
       "      <td>0.011598</td>\n",
       "      <td>-0.050068</td>\n",
       "    </tr>\n",
       "    <tr>\n",
       "      <th>17</th>\n",
       "      <td>600.0</td>\n",
       "      <td>2.0</td>\n",
       "      <td>0.02</td>\n",
       "      <td>WI</td>\n",
       "      <td>2_RhWI_0p02mg_600C_20250326_Cargnello1.xlsx</td>\n",
       "      <td>2025-03-26</td>\n",
       "      <td>Cargnello</td>\n",
       "      <td>6</td>\n",
       "      <td>5.414713</td>\n",
       "      <td>4.588809</td>\n",
       "      <td>-0.372068</td>\n",
       "      <td>-0.041834</td>\n",
       "      <td>-0.082572</td>\n",
       "    </tr>\n",
       "    <tr>\n",
       "      <th>18</th>\n",
       "      <td>600.0</td>\n",
       "      <td>2.0</td>\n",
       "      <td>0.02</td>\n",
       "      <td>WI</td>\n",
       "      <td>2_RhWI_0p02mg_600C_20250423_SLAC1.xlsx</td>\n",
       "      <td>2025-04-23</td>\n",
       "      <td>SLAC</td>\n",
       "      <td>6</td>\n",
       "      <td>3.211453</td>\n",
       "      <td>3.861621</td>\n",
       "      <td>-0.670375</td>\n",
       "      <td>0.132044</td>\n",
       "      <td>0.064840</td>\n",
       "    </tr>\n",
       "    <tr>\n",
       "      <th>19</th>\n",
       "      <td>500.0</td>\n",
       "      <td>0.1</td>\n",
       "      <td>0.02</td>\n",
       "      <td>WI</td>\n",
       "      <td>0p1_RhWI_0p02mg_500C_20250314_UCSBRR.xlsx</td>\n",
       "      <td>2025-03-14</td>\n",
       "      <td>UCSB</td>\n",
       "      <td>2</td>\n",
       "      <td>4.958961</td>\n",
       "      <td>4.890500</td>\n",
       "      <td>0.074559</td>\n",
       "      <td>-0.013746</td>\n",
       "      <td>-0.006844</td>\n",
       "    </tr>\n",
       "    <tr>\n",
       "      <th>20</th>\n",
       "      <td>500.0</td>\n",
       "      <td>0.1</td>\n",
       "      <td>0.02</td>\n",
       "      <td>WI</td>\n",
       "      <td>0p1_RhWI_0p02mg_500C_20250314_Cargnello1.xlsx</td>\n",
       "      <td>2025-03-14</td>\n",
       "      <td>Cargnello</td>\n",
       "      <td>2</td>\n",
       "      <td>5.391405</td>\n",
       "      <td>4.692030</td>\n",
       "      <td>-0.287007</td>\n",
       "      <td>-0.026778</td>\n",
       "      <td>-0.069920</td>\n",
       "    </tr>\n",
       "    <tr>\n",
       "      <th>21</th>\n",
       "      <td>500.0</td>\n",
       "      <td>0.3</td>\n",
       "      <td>0.02</td>\n",
       "      <td>NP</td>\n",
       "      <td>0p3_RhNP_0p0201mg_500C_20250424_SLAC1.xlsx</td>\n",
       "      <td>2025-04-24</td>\n",
       "      <td>SLAC</td>\n",
       "      <td>3</td>\n",
       "      <td>1.783017</td>\n",
       "      <td>1.921074</td>\n",
       "      <td>0.126346</td>\n",
       "      <td>0.027553</td>\n",
       "      <td>0.013760</td>\n",
       "    </tr>\n",
       "    <tr>\n",
       "      <th>22</th>\n",
       "      <td>500.0</td>\n",
       "      <td>0.1</td>\n",
       "      <td>0.02</td>\n",
       "      <td>WI</td>\n",
       "      <td>0p1_RhWI_0p02mg_500C_20250317_UCSBRR.xlsx</td>\n",
       "      <td>2025-03-17</td>\n",
       "      <td>UCSB</td>\n",
       "      <td>2</td>\n",
       "      <td>5.100335</td>\n",
       "      <td>4.949599</td>\n",
       "      <td>0.049011</td>\n",
       "      <td>-0.013996</td>\n",
       "      <td>-0.015069</td>\n",
       "    </tr>\n",
       "    <tr>\n",
       "      <th>23</th>\n",
       "      <td>500.0</td>\n",
       "      <td>0.3</td>\n",
       "      <td>0.02</td>\n",
       "      <td>NP</td>\n",
       "      <td>0p3_RhNP_0p0199mg_500C_20250212_Cargnello1.xlsx</td>\n",
       "      <td>2025-02-12</td>\n",
       "      <td>Cargnello</td>\n",
       "      <td>3</td>\n",
       "      <td>1.420056</td>\n",
       "      <td>1.652649</td>\n",
       "      <td>0.163785</td>\n",
       "      <td>0.026282</td>\n",
       "      <td>0.023253</td>\n",
       "    </tr>\n",
       "    <tr>\n",
       "      <th>24</th>\n",
       "      <td>400.0</td>\n",
       "      <td>2.0</td>\n",
       "      <td>0.02</td>\n",
       "      <td>WI</td>\n",
       "      <td>2_RhWI_0p021_400C_20250425_PSURight.xls</td>\n",
       "      <td>2025-04-25</td>\n",
       "      <td>PSU</td>\n",
       "      <td>1</td>\n",
       "      <td>0.946126</td>\n",
       "      <td>0.795023</td>\n",
       "      <td>-0.055862</td>\n",
       "      <td>0.000202</td>\n",
       "      <td>-0.015002</td>\n",
       "    </tr>\n",
       "    <tr>\n",
       "      <th>25</th>\n",
       "      <td>500.0</td>\n",
       "      <td>0.3</td>\n",
       "      <td>0.02</td>\n",
       "      <td>WI</td>\n",
       "      <td>0p3_RhWI_0p0207_500C_20250315_PSURight.xls</td>\n",
       "      <td>2025-03-15</td>\n",
       "      <td>PSU</td>\n",
       "      <td>4</td>\n",
       "      <td>3.429662</td>\n",
       "      <td>3.319420</td>\n",
       "      <td>-0.103411</td>\n",
       "      <td>0.009079</td>\n",
       "      <td>-0.010943</td>\n",
       "    </tr>\n",
       "    <tr>\n",
       "      <th>26</th>\n",
       "      <td>500.0</td>\n",
       "      <td>2.0</td>\n",
       "      <td>0.02</td>\n",
       "      <td>WI</td>\n",
       "      <td>2p0_RhWI_0p02_500C_20250331_PSURight.xls</td>\n",
       "      <td>2025-03-31</td>\n",
       "      <td>PSU</td>\n",
       "      <td>5</td>\n",
       "      <td>3.203383</td>\n",
       "      <td>3.107922</td>\n",
       "      <td>-0.084701</td>\n",
       "      <td>0.015480</td>\n",
       "      <td>-0.009476</td>\n",
       "    </tr>\n",
       "    <tr>\n",
       "      <th>27</th>\n",
       "      <td>500.0</td>\n",
       "      <td>0.3</td>\n",
       "      <td>0.02</td>\n",
       "      <td>NP</td>\n",
       "      <td>0p3_RhNP_0p0204_500C_20250315_PSULeft.xls</td>\n",
       "      <td>2025-03-15</td>\n",
       "      <td>PSU</td>\n",
       "      <td>3</td>\n",
       "      <td>1.210457</td>\n",
       "      <td>1.699745</td>\n",
       "      <td>0.043114</td>\n",
       "      <td>0.036082</td>\n",
       "      <td>0.048569</td>\n",
       "    </tr>\n",
       "    <tr>\n",
       "      <th>28</th>\n",
       "      <td>600.0</td>\n",
       "      <td>2.0</td>\n",
       "      <td>0.02</td>\n",
       "      <td>WI</td>\n",
       "      <td>2_RhWI_0p027_600C_20250422_PSURight.xls</td>\n",
       "      <td>2025-04-22</td>\n",
       "      <td>PSU</td>\n",
       "      <td>6</td>\n",
       "      <td>7.854932</td>\n",
       "      <td>6.537969</td>\n",
       "      <td>-0.432070</td>\n",
       "      <td>-0.114941</td>\n",
       "      <td>-0.130742</td>\n",
       "    </tr>\n",
       "    <tr>\n",
       "      <th>29</th>\n",
       "      <td>500.0</td>\n",
       "      <td>0.1</td>\n",
       "      <td>0.02</td>\n",
       "      <td>WI</td>\n",
       "      <td>0p1_RhWI_0p02_500C_20250414_PSURight.xls</td>\n",
       "      <td>2025-04-14</td>\n",
       "      <td>PSU</td>\n",
       "      <td>2</td>\n",
       "      <td>6.273851</td>\n",
       "      <td>6.179643</td>\n",
       "      <td>0.123926</td>\n",
       "      <td>-0.019805</td>\n",
       "      <td>-0.009352</td>\n",
       "    </tr>\n",
       "    <tr>\n",
       "      <th>30</th>\n",
       "      <td>500.0</td>\n",
       "      <td>2.0</td>\n",
       "      <td>0.02</td>\n",
       "      <td>WI</td>\n",
       "      <td>2_RhWI_0p02_500C_20250403_PSURight.xls</td>\n",
       "      <td>2025-04-03</td>\n",
       "      <td>PSU</td>\n",
       "      <td>5</td>\n",
       "      <td>3.471288</td>\n",
       "      <td>3.334230</td>\n",
       "      <td>-0.111458</td>\n",
       "      <td>0.017401</td>\n",
       "      <td>-0.013604</td>\n",
       "    </tr>\n",
       "    <tr>\n",
       "      <th>31</th>\n",
       "      <td>500.0</td>\n",
       "      <td>2.0</td>\n",
       "      <td>0.02</td>\n",
       "      <td>WI</td>\n",
       "      <td>2_RhWI_0p01824_500C_20250401_PSURight.xls</td>\n",
       "      <td>2025-04-01</td>\n",
       "      <td>PSU</td>\n",
       "      <td>5</td>\n",
       "      <td>3.635945</td>\n",
       "      <td>3.500164</td>\n",
       "      <td>-0.118830</td>\n",
       "      <td>0.012303</td>\n",
       "      <td>-0.013477</td>\n",
       "    </tr>\n",
       "  </tbody>\n",
       "</table>\n",
       "</div>"
      ],
      "text/plain": [
       "    reaction_temp  Rh_weight_loading  Rh_total_mass synth_method  \\\n",
       "0           500.0                0.3           0.02           NP   \n",
       "1           500.0                0.3           0.02           WI   \n",
       "2           500.0                0.1           0.02           WI   \n",
       "3           500.0                0.3           0.02           WI   \n",
       "4           500.0                2.0           0.02           WI   \n",
       "5           500.0                0.3           0.02           WI   \n",
       "6           400.0                2.0           0.02           WI   \n",
       "7           500.0                0.3           0.02           NP   \n",
       "8           500.0                0.3           0.02           WI   \n",
       "9           500.0                2.0           0.02           WI   \n",
       "10          400.0                2.0           0.02           WI   \n",
       "11          500.0                0.3           0.02           WI   \n",
       "12          500.0                0.3           0.02           NP   \n",
       "13          400.0                2.0           0.02           WI   \n",
       "14          600.0                2.0           0.02           WI   \n",
       "15          500.0                2.0           0.02           WI   \n",
       "16          500.0                0.1           0.02           WI   \n",
       "17          600.0                2.0           0.02           WI   \n",
       "18          600.0                2.0           0.02           WI   \n",
       "19          500.0                0.1           0.02           WI   \n",
       "20          500.0                0.1           0.02           WI   \n",
       "21          500.0                0.3           0.02           NP   \n",
       "22          500.0                0.1           0.02           WI   \n",
       "23          500.0                0.3           0.02           NP   \n",
       "24          400.0                2.0           0.02           WI   \n",
       "25          500.0                0.3           0.02           WI   \n",
       "26          500.0                2.0           0.02           WI   \n",
       "27          500.0                0.3           0.02           NP   \n",
       "28          600.0                2.0           0.02           WI   \n",
       "29          500.0                0.1           0.02           WI   \n",
       "30          500.0                2.0           0.02           WI   \n",
       "31          500.0                2.0           0.02           WI   \n",
       "\n",
       "                                           filename experiment_date  \\\n",
       "0   0p3_RhNP_0p0197mg_500C_20250211_Cargnello1.xlsx      2025-02-11   \n",
       "1          0p3_RhWI_0p02mg_500C_20250331_SLAC1.xlsx      2025-03-31   \n",
       "2         0p1_RhWI_0p02mg_500C_20250319_UCSBRR.xlsx      2025-03-19   \n",
       "3        0p3_RhWI_0p0199mg_500C_20250415_SLAC1.xlsx      2025-04-15   \n",
       "4     2_RhWI_0p0202mg_500C_20250317_Cargnello1.xlsx      2025-03-17   \n",
       "5        0p3_RhWI_0p0204mg_500C_20250421_SLAC1.xlsx      2025-04-21   \n",
       "6            2_RhWI_0p02mg_400C_20250422_SLAC1.xlsx      2025-04-22   \n",
       "7       0p3_RhNP_0p0201mg_500C_20250312_UCSBRR.xlsx      2025-03-12   \n",
       "8     0p3_RhWI_0p02mg_500C_20250312_Cargnello1.xlsx      2025-03-12   \n",
       "9            2_RhWI_0p02mg_500C_20250417_SLAC1.xlsx      2025-04-17   \n",
       "10    2_RhWI_0p0204mg_400C_20250324_Cargnello1.xlsx      2025-03-24   \n",
       "11      0p3_RhWI_0p0201mg_500C_20250311_UCSBRR.xlsx      2025-03-11   \n",
       "12  0p3_RhNP_0p0201mg_500C_20250207_Cargnello1.xlsx      2025-02-07   \n",
       "13          2_RhWI_0p02mg_400C_20250306_UCSBRR.xlsx      2025-03-06   \n",
       "14          2_RhWI_0p02mg_600C_20250318_UCSBRR.xlsx      2025-03-18   \n",
       "15          2_RhWI_0p02mg_500C_20250307_UCSBRR.xlsx      2025-03-07   \n",
       "16         0p1_RhWI_0p02mg_500C_20250418_SLAC1.xlsx      2025-04-18   \n",
       "17      2_RhWI_0p02mg_600C_20250326_Cargnello1.xlsx      2025-03-26   \n",
       "18           2_RhWI_0p02mg_600C_20250423_SLAC1.xlsx      2025-04-23   \n",
       "19        0p1_RhWI_0p02mg_500C_20250314_UCSBRR.xlsx      2025-03-14   \n",
       "20    0p1_RhWI_0p02mg_500C_20250314_Cargnello1.xlsx      2025-03-14   \n",
       "21       0p3_RhNP_0p0201mg_500C_20250424_SLAC1.xlsx      2025-04-24   \n",
       "22        0p1_RhWI_0p02mg_500C_20250317_UCSBRR.xlsx      2025-03-17   \n",
       "23  0p3_RhNP_0p0199mg_500C_20250212_Cargnello1.xlsx      2025-02-12   \n",
       "24          2_RhWI_0p021_400C_20250425_PSURight.xls      2025-04-25   \n",
       "25       0p3_RhWI_0p0207_500C_20250315_PSURight.xls      2025-03-15   \n",
       "26         2p0_RhWI_0p02_500C_20250331_PSURight.xls      2025-03-31   \n",
       "27        0p3_RhNP_0p0204_500C_20250315_PSULeft.xls      2025-03-15   \n",
       "28          2_RhWI_0p027_600C_20250422_PSURight.xls      2025-04-22   \n",
       "29         0p1_RhWI_0p02_500C_20250414_PSURight.xls      2025-04-14   \n",
       "30           2_RhWI_0p02_500C_20250403_PSURight.xls      2025-04-03   \n",
       "31        2_RhWI_0p01824_500C_20250401_PSURight.xls      2025-04-01   \n",
       "\n",
       "     location  GroupID  CO Net Production Rate (mol/molRh/s)_initial value  \\\n",
       "0   Cargnello        3                                           1.490511    \n",
       "1        SLAC        4                                           3.551589    \n",
       "2        UCSB        2                                           5.047597    \n",
       "3        SLAC        4                                           4.109359    \n",
       "4   Cargnello        5                                           2.879354    \n",
       "5        SLAC        4                                           4.278839    \n",
       "6        SLAC        1                                           1.186813    \n",
       "7        UCSB        3                                           1.118103    \n",
       "8   Cargnello        4                                           3.697582    \n",
       "9        SLAC        5                                           3.220150    \n",
       "10  Cargnello        1                                           1.721066    \n",
       "11       UCSB        4                                           3.433724    \n",
       "12  Cargnello        3                                           1.461079    \n",
       "13       UCSB        1                                           1.125005    \n",
       "14       UCSB        6                                           8.504779    \n",
       "15       UCSB        5                                           3.535035    \n",
       "16       SLAC        2                                           6.583206    \n",
       "17  Cargnello        6                                           5.414713    \n",
       "18       SLAC        6                                           3.211453    \n",
       "19       UCSB        2                                           4.958961    \n",
       "20  Cargnello        2                                           5.391405    \n",
       "21       SLAC        3                                           1.783017    \n",
       "22       UCSB        2                                           5.100335    \n",
       "23  Cargnello        3                                           1.420056    \n",
       "24        PSU        1                                           0.946126    \n",
       "25        PSU        4                                           3.429662    \n",
       "26        PSU        5                                           3.203383    \n",
       "27        PSU        3                                           1.210457    \n",
       "28        PSU        6                                           7.854932    \n",
       "29        PSU        2                                           6.273851    \n",
       "30        PSU        5                                           3.471288    \n",
       "31        PSU        5                                           3.635945    \n",
       "\n",
       "    CO Net Production Rate (mol/molRh/s)_final value  \\\n",
       "0                                           2.267916   \n",
       "1                                           2.615114   \n",
       "2                                           4.849660   \n",
       "3                                           3.920400   \n",
       "4                                           2.187946   \n",
       "5                                           3.110262   \n",
       "6                                           0.886351   \n",
       "7                                           1.565261   \n",
       "8                                           3.456458   \n",
       "9                                           1.388805   \n",
       "10                                          0.918705   \n",
       "11                                          3.042831   \n",
       "12                                          1.966911   \n",
       "13                                          0.919547   \n",
       "14                                          6.368778   \n",
       "15                                          3.044444   \n",
       "16                                          6.080408   \n",
       "17                                          4.588809   \n",
       "18                                          3.861621   \n",
       "19                                          4.890500   \n",
       "20                                          4.692030   \n",
       "21                                          1.921074   \n",
       "22                                          4.949599   \n",
       "23                                          1.652649   \n",
       "24                                          0.795023   \n",
       "25                                          3.319420   \n",
       "26                                          3.107922   \n",
       "27                                          1.699745   \n",
       "28                                          6.537969   \n",
       "29                                          6.179643   \n",
       "30                                          3.334230   \n",
       "31                                          3.500164   \n",
       "\n",
       "    CO Net Production Rate (mol/molRh/s)_initial slope  \\\n",
       "0                                            0.172838    \n",
       "1                                           -0.223355    \n",
       "2                                            0.076785    \n",
       "3                                           -0.170485    \n",
       "4                                           -0.299013    \n",
       "5                                           -0.261732    \n",
       "6                                           -0.063339    \n",
       "7                                            0.052492    \n",
       "8                                           -0.170877    \n",
       "9                                           -0.392029    \n",
       "10                                          -0.151987    \n",
       "11                                          -0.139133    \n",
       "12                                           0.077077    \n",
       "13                                          -0.059418    \n",
       "14                                          -3.007628    \n",
       "15                                          -0.169457    \n",
       "16                                           0.071698    \n",
       "17                                          -0.372068    \n",
       "18                                          -0.670375    \n",
       "19                                           0.074559    \n",
       "20                                          -0.287007    \n",
       "21                                           0.126346    \n",
       "22                                           0.049011    \n",
       "23                                           0.163785    \n",
       "24                                          -0.055862    \n",
       "25                                          -0.103411    \n",
       "26                                          -0.084701    \n",
       "27                                           0.043114    \n",
       "28                                          -0.432070    \n",
       "29                                           0.123926    \n",
       "30                                          -0.111458    \n",
       "31                                          -0.118830    \n",
       "\n",
       "    CO Net Production Rate (mol/molRh/s)_final slope  \\\n",
       "0                                          -0.049382   \n",
       "1                                          -0.047163   \n",
       "2                                          -0.025381   \n",
       "3                                           0.059455   \n",
       "4                                           0.042865   \n",
       "5                                          -0.019746   \n",
       "6                                          -0.021427   \n",
       "7                                           0.040366   \n",
       "8                                          -0.005046   \n",
       "9                                          -0.028997   \n",
       "10                                         -0.061232   \n",
       "11                                         -0.008632   \n",
       "12                                         -0.036887   \n",
       "13                                         -0.019559   \n",
       "14                                          0.106867   \n",
       "15                                         -0.013849   \n",
       "16                                          0.011598   \n",
       "17                                         -0.041834   \n",
       "18                                          0.132044   \n",
       "19                                         -0.013746   \n",
       "20                                         -0.026778   \n",
       "21                                          0.027553   \n",
       "22                                         -0.013996   \n",
       "23                                          0.026282   \n",
       "24                                          0.000202   \n",
       "25                                          0.009079   \n",
       "26                                          0.015480   \n",
       "27                                          0.036082   \n",
       "28                                         -0.114941   \n",
       "29                                         -0.019805   \n",
       "30                                          0.017401   \n",
       "31                                          0.012303   \n",
       "\n",
       "    CO Net Production Rate (mol/molRh/s)_overall slope  \n",
       "0                                            0.077721   \n",
       "1                                           -0.093556   \n",
       "2                                           -0.019789   \n",
       "3                                           -0.018861   \n",
       "4                                           -0.069124   \n",
       "5                                           -0.116696   \n",
       "6                                           -0.029980   \n",
       "7                                            0.044705   \n",
       "8                                           -0.024106   \n",
       "9                                           -0.183018   \n",
       "10                                          -0.080214   \n",
       "11                                          -0.039078   \n",
       "12                                           0.050568   \n",
       "13                                          -0.020424   \n",
       "14                                          -0.213535   \n",
       "15                                          -0.049047   \n",
       "16                                          -0.050068   \n",
       "17                                          -0.082572   \n",
       "18                                           0.064840   \n",
       "19                                          -0.006844   \n",
       "20                                          -0.069920   \n",
       "21                                           0.013760   \n",
       "22                                          -0.015069   \n",
       "23                                           0.023253   \n",
       "24                                          -0.015002   \n",
       "25                                          -0.010943   \n",
       "26                                          -0.009476   \n",
       "27                                           0.048569   \n",
       "28                                          -0.130742   \n",
       "29                                          -0.009352   \n",
       "30                                          -0.013604   \n",
       "31                                          -0.013477   "
      ]
     },
     "execution_count": 28,
     "metadata": {},
     "output_type": "execute_result"
    }
   ],
   "source": [
    "dataset.df_us"
   ]
  },
  {
   "cell_type": "markdown",
   "id": "e8133172",
   "metadata": {},
   "source": [
    "## 1. Intra-/Interlab variability analysis using dispersion"
   ]
  },
  {
   "cell_type": "markdown",
   "id": "9affb49a",
   "metadata": {},
   "source": [
    "### Min-max normalization to avoid implicit weight on some specific metrics"
   ]
  },
  {
   "cell_type": "code",
   "execution_count": 29,
   "id": "a9565d70",
   "metadata": {},
   "outputs": [],
   "source": [
    "from sklearn.preprocessing import MinMaxScaler\n",
    "\n",
    "metric_columns = dataset.df_us.columns[-5:]\n",
    "\n",
    "# Min-max scale only the columns in 'metric_columns' of dataset.df_us (to avoid implicit weight on the metric with larger range)\n",
    "scaler = MinMaxScaler()\n",
    "df_scaled = dataset.df_us.copy()\n",
    "df_scaled[metric_columns] = scaler.fit_transform(df_scaled[metric_columns])"
   ]
  },
  {
   "cell_type": "code",
   "execution_count": 30,
   "id": "65409f7a",
   "metadata": {},
   "outputs": [
    {
     "data": {
      "text/plain": [
       "(array([8.50477905, 6.53796915, 0.17283812, 0.13204413, 0.07772102]),\n",
       " array([ 0.94612634,  0.79502338, -3.00762793, -0.11494085, -0.2135349 ]))"
      ]
     },
     "execution_count": 30,
     "metadata": {},
     "output_type": "execute_result"
    }
   ],
   "source": [
    "scaler.data_max_, scaler.data_min_"
   ]
  },
  {
   "cell_type": "code",
   "execution_count": 31,
   "id": "41d430bf",
   "metadata": {},
   "outputs": [
    {
     "data": {
      "application/vnd.microsoft.datawrangler.viewer.v0+json": {
       "columns": [
        {
         "name": "index",
         "rawType": "int64",
         "type": "integer"
        },
        {
         "name": "reaction_temp",
         "rawType": "float64",
         "type": "float"
        },
        {
         "name": "Rh_weight_loading",
         "rawType": "float64",
         "type": "float"
        },
        {
         "name": "Rh_total_mass",
         "rawType": "float64",
         "type": "float"
        },
        {
         "name": "synth_method",
         "rawType": "object",
         "type": "string"
        },
        {
         "name": "filename",
         "rawType": "object",
         "type": "string"
        },
        {
         "name": "experiment_date",
         "rawType": "datetime64[ns]",
         "type": "datetime"
        },
        {
         "name": "location",
         "rawType": "object",
         "type": "string"
        },
        {
         "name": "GroupID",
         "rawType": "int64",
         "type": "integer"
        },
        {
         "name": "CO Net Production Rate (mol/molRh/s)_initial value",
         "rawType": "float64",
         "type": "float"
        },
        {
         "name": "CO Net Production Rate (mol/molRh/s)_final value",
         "rawType": "float64",
         "type": "float"
        },
        {
         "name": "CO Net Production Rate (mol/molRh/s)_initial slope",
         "rawType": "float64",
         "type": "float"
        },
        {
         "name": "CO Net Production Rate (mol/molRh/s)_final slope",
         "rawType": "float64",
         "type": "float"
        },
        {
         "name": "CO Net Production Rate (mol/molRh/s)_overall slope",
         "rawType": "float64",
         "type": "float"
        }
       ],
       "ref": "88bcc6e6-2851-4501-a3c0-8c425a15dd1f",
       "rows": [
        [
         "0",
         "500.0",
         "0.3",
         "0.02",
         "NP",
         "0p3_RhNP_0p0197mg_500C_20250211_Cargnello1.xlsx",
         "2025-02-11 00:00:00",
         "Cargnello",
         "3",
         "0.07202140281335218",
         "0.25646981418971704",
         "1.0",
         "0.26543726706154946",
         "1.0"
        ],
        [
         "1",
         "500.0",
         "0.3",
         "0.02",
         "WI",
         "0p3_RhWI_0p02mg_500C_20250331_SLAC1.xlsx",
         "2025-03-31 00:00:00",
         "SLAC",
         "4",
         "0.3446993349796834",
         "0.3169263885317351",
         "0.8754293516408452",
         "0.27441991731009496",
         "0.41193466847990035"
        ],
        [
         "2",
         "500.0",
         "0.1",
         "0.02",
         "WI",
         "0p1_RhWI_0p02mg_500C_20250319_UCSBRR.xlsx",
         "2025-03-19 00:00:00",
         "UCSB",
         "2",
         "0.5426192100544756",
         "0.7060204069568513",
         "0.9697988897345624",
         "0.36261294424263746",
         "0.6652095707815285"
        ],
        [
         "3",
         "500.0",
         "0.3",
         "0.02",
         "WI",
         "0p3_RhWI_0p0199mg_500C_20250415_SLAC1.xlsx",
         "2025-04-15 00:00:00",
         "SLAC",
         "4",
         "0.4184916246040086",
         "0.5442114490768915",
         "0.8920524910130506",
         "0.7061009699658254",
         "0.6683953559975234"
        ],
        [
         "4",
         "500.0",
         "2.0",
         "0.02",
         "WI",
         "2_RhWI_0p0202mg_500C_20250317_Cargnello1.xlsx",
         "2025-03-17 00:00:00",
         "Cargnello",
         "5",
         "0.25576355473260387",
         "0.24254496378725832",
         "0.851640904332812",
         "0.6389303177258752",
         "0.49582289316649275"
        ],
        [
         "5",
         "500.0",
         "0.3",
         "0.02",
         "WI",
         "0p3_RhWI_0p0204mg_500C_20250421_SLAC1.xlsx",
         "2025-04-21 00:00:00",
         "SLAC",
         "4",
         "0.440913557253471",
         "0.4031447614935383",
         "0.8633627616662306",
         "0.38542635366792904",
         "0.332488641428568"
        ],
        [
         "6",
         "400.0",
         "2.0",
         "0.02",
         "WI",
         "2_RhWI_0p02mg_400C_20250422_SLAC1.xlsx",
         "2025-04-22 00:00:00",
         "SLAC",
         "1",
         "0.03184249806891168",
         "0.015902552506057627",
         "0.9257412512504758",
         "0.3786219463706768",
         "0.6302172498256011"
        ],
        [
         "7",
         "500.0",
         "0.3",
         "0.02",
         "NP",
         "0p3_RhNP_0p0201mg_500C_20250312_UCSBRR.xlsx",
         "2025-03-12 00:00:00",
         "UCSB",
         "3",
         "0.02275226206161554",
         "0.13411898616905",
         "0.9621609526967047",
         "0.6288126589785041",
         "0.8866415119932716"
        ],
        [
         "8",
         "500.0",
         "0.3",
         "0.02",
         "WI",
         "0p3_RhWI_0p02mg_500C_20250312_Cargnello1.xlsx",
         "2025-03-12 00:00:00",
         "Cargnello",
         "4",
         "0.3640139867107175",
         "0.4634266821314925",
         "0.8919292446739597",
         "0.44494365472882186",
         "0.6503874642006704"
        ],
        [
         "9",
         "500.0",
         "2.0",
         "0.02",
         "WI",
         "2_RhWI_0p02mg_500C_20250417_SLAC1.xlsx",
         "2025-04-17 00:00:00",
         "SLAC",
         "5",
         "0.3008503453408011",
         "0.10339325509999103",
         "0.8223948864826539",
         "0.3479709517461415",
         "0.10477860294482044"
        ],
        [
         "10",
         "400.0",
         "2.0",
         "0.02",
         "WI",
         "2_RhWI_0p0204mg_400C_20250324_Cargnello1.xlsx",
         "2025-03-24 00:00:00",
         "Cargnello",
         "1",
         "0.1025235228387785",
         "0.02153633550715542",
         "0.8978687194679172",
         "0.2174594869793477",
         "0.45774559720145175"
        ],
        [
         "11",
         "500.0",
         "0.3",
         "0.02",
         "WI",
         "0p3_RhWI_0p0201mg_500C_20250311_UCSBRR.xlsx",
         "2025-03-11 00:00:00",
         "UCSB",
         "4",
         "0.32910589896359865",
         "0.39140317639340283",
         "0.901910339300805",
         "0.430427044643132",
         "0.5989799647164981"
        ],
        [
         "12",
         "500.0",
         "0.3",
         "0.02",
         "NP",
         "0p3_RhNP_0p0201mg_500C_20250207_Cargnello1.xlsx",
         "2025-02-07 00:00:00",
         "Cargnello",
         "3",
         "0.06812751318835528",
         "0.20405680596805653",
         "0.9698907950595447",
         "0.31602574043779275",
         "0.906771777893459"
        ],
        [
         "13",
         "400.0",
         "2.0",
         "0.02",
         "WI",
         "2_RhWI_0p02mg_400C_20250306_UCSBRR.xlsx",
         "2025-03-06 00:00:00",
         "UCSB",
         "1",
         "0.023665468273065593",
         "0.021682894917525314",
         "0.9269740538216166",
         "0.38618432997320645",
         "0.6630267931191076"
        ],
        [
         "14",
         "600.0",
         "2.0",
         "0.02",
         "WI",
         "2_RhWI_0p02mg_600C_20250318_UCSBRR.xlsx",
         "2025-03-18 00:00:00",
         "UCSB",
         "6",
         "1.0",
         "0.9705392383813365",
         "0.0",
         "0.8980627450873455",
         "0.0"
        ],
        [
         "15",
         "500.0",
         "2.0",
         "0.02",
         "WI",
         "2_RhWI_0p02mg_500C_20250307_UCSBRR.xlsx",
         "2025-03-07 00:00:00",
         "UCSB",
         "5",
         "0.34250926626087963",
         "0.3916840552246921",
         "0.8923758713251685",
         "0.4093035677594349",
         "0.5647543046036141"
        ],
        [
         "16",
         "500.0",
         "0.1",
         "0.02",
         "WI",
         "0p1_RhWI_0p02mg_500C_20250418_SLAC1.xlsx",
         "2025-04-18 00:00:00",
         "SLAC",
         "2",
         "0.7457783836556784",
         "0.9203263838848408",
         "0.968199619871071",
         "0.5123324602893337",
         "0.5612468747792279"
        ],
        [
         "17",
         "600.0",
         "2.0",
         "0.02",
         "WI",
         "2_RhWI_0p02mg_600C_20250326_Cargnello1.xlsx",
         "2025-03-26 00:00:00",
         "Cargnello",
         "6",
         "0.5911881874581266",
         "0.6605992328544142",
         "0.8286711315411324",
         "0.29599801519271346",
         "0.44964885225532325"
        ],
        [
         "18",
         "600.0",
         "2.0",
         "0.02",
         "WI",
         "2_RhWI_0p02mg_600C_20250423_SLAC1.xlsx",
         "2025-04-23 00:00:00",
         "SLAC",
         "6",
         "0.29969978504272554",
         "0.5339764189089533",
         "0.7348775576227847",
         "1.0",
         "0.9557752394591982"
        ],
        [
         "19",
         "500.0",
         "0.1",
         "0.02",
         "WI",
         "0p1_RhWI_0p02mg_500C_20250314_UCSBRR.xlsx",
         "2025-03-14 00:00:00",
         "UCSB",
         "2",
         "0.5308929011948891",
         "0.713131701623733",
         "0.9690992700527049",
         "0.4097206657594796",
         "0.7096524496884298"
        ],
        [
         "20",
         "500.0",
         "0.1",
         "0.02",
         "WI",
         "0p1_RhWI_0p02mg_500C_20250314_Cargnello1.xlsx",
         "2025-03-14 00:00:00",
         "Cargnello",
         "2",
         "0.5881046422724823",
         "0.6785727089971305",
         "0.8554157276281871",
         "0.35695438208856217",
         "0.4930881249871014"
        ],
        [
         "21",
         "500.0",
         "0.3",
         "0.02",
         "NP",
         "0p3_RhNP_0p0201mg_500C_20250424_SLAC1.xlsx",
         "2025-04-24 00:00:00",
         "SLAC",
         "3",
         "0.11071954610513246",
         "0.19607547179548063",
         "0.9853818633790115",
         "0.576934627815625",
         "0.7803966312743708"
        ],
        [
         "22",
         "500.0",
         "0.1",
         "0.02",
         "WI",
         "0p1_RhWI_0p02mg_500C_20250317_UCSBRR.xlsx",
         "2025-03-17 00:00:00",
         "UCSB",
         "2",
         "0.5495963883832202",
         "0.7234223996302933",
         "0.9610662362611843",
         "0.4087103155608055",
         "0.6814128535250668"
        ],
        [
         "23",
         "500.0",
         "0.3",
         "0.02",
         "NP",
         "0p3_RhNP_0p0199mg_500C_20250212_Cargnello1.xlsx",
         "2025-02-12 00:00:00",
         "Cargnello",
         "3",
         "0.0627002796323203",
         "0.14933553028615382",
         "0.9971536059225087",
         "0.5717877830126055",
         "0.8129886797459956"
        ],
        [
         "24",
         "400.0",
         "2.0",
         "0.02",
         "WI",
         "2_RhWI_0p021_400C_20250425_PSURight.xls",
         "2025-04-25 00:00:00",
         "PSU",
         "1",
         "0.0",
         "0.0",
         "0.9280923693598714",
         "0.4661929779266978",
         "0.6816432086067659"
        ],
        [
         "25",
         "500.0",
         "0.3",
         "0.02",
         "WI",
         "0p3_RhWI_0p0207_500C_20250315_PSURight.xls",
         "2025-03-15 00:00:00",
         "PSU",
         "4",
         "0.32856860573259467",
         "0.43956480112859253",
         "0.9131420807999941",
         "0.5021353870460373",
         "0.6955795673858763"
        ],
        [
         "26",
         "500.0",
         "2.0",
         "0.02",
         "WI",
         "2p0_RhWI_0p02_500C_20250331_PSURight.xls",
         "2025-03-31 00:00:00",
         "PSU",
         "5",
         "0.2986321182823397",
         "0.4027373631463811",
         "0.9190246190983399",
         "0.5280517682934488",
         "0.7006173887296303"
        ],
        [
         "27",
         "500.0",
         "0.3",
         "0.02",
         "NP",
         "0p3_RhNP_0p0204_500C_20250315_PSULeft.xls",
         "2025-03-15 00:00:00",
         "PSU",
         "3",
         "0.03497054520087578",
         "0.15753608289641768",
         "0.9592123334039914",
         "0.6114673946751578",
         "0.8999105933180167"
        ],
        [
         "28",
         "600.0",
         "2.0",
         "0.02",
         "WI",
         "2_RhWI_0p027_600C_20250422_PSURight.xls",
         "2025-04-22 00:00:00",
         "PSU",
         "6",
         "0.914026114340895",
         "1.0",
         "0.8098052852486776",
         "0.0",
         "0.2842620313752515"
        ],
        [
         "29",
         "500.0",
         "0.1",
         "0.02",
         "WI",
         "0p1_RhWI_0p02_500C_20250414_PSURight.xls",
         "2025-04-14 00:00:00",
         "PSU",
         "2",
         "0.704851041882415",
         "0.9376058127201772",
         "0.9846211823857774",
         "0.3851882048286273",
         "0.7010443438379046"
        ],
        [
         "30",
         "500.0",
         "2.0",
         "0.02",
         "WI",
         "2_RhWI_0p02_500C_20250403_PSURight.xls",
         "2025-04-03 00:00:00",
         "PSU",
         "5",
         "0.3340755825288377",
         "0.4421435070714873",
         "0.910611680508979",
         "0.535830254296313",
         "0.6864448268660165"
        ],
        [
         "31",
         "500.0",
         "2.0",
         "0.02",
         "WI",
         "2_RhWI_0p01824_500C_20250401_PSURight.xls",
         "2025-04-01 00:00:00",
         "PSU",
         "5",
         "0.35585954460572744",
         "0.47103710944891897",
         "0.9082939666841541",
         "0.5151882587674204",
         "0.6868800048233776"
        ]
       ],
       "shape": {
        "columns": 13,
        "rows": 32
       }
      },
      "text/html": [
       "<div>\n",
       "<style scoped>\n",
       "    .dataframe tbody tr th:only-of-type {\n",
       "        vertical-align: middle;\n",
       "    }\n",
       "\n",
       "    .dataframe tbody tr th {\n",
       "        vertical-align: top;\n",
       "    }\n",
       "\n",
       "    .dataframe thead th {\n",
       "        text-align: right;\n",
       "    }\n",
       "</style>\n",
       "<table border=\"1\" class=\"dataframe\">\n",
       "  <thead>\n",
       "    <tr style=\"text-align: right;\">\n",
       "      <th></th>\n",
       "      <th>reaction_temp</th>\n",
       "      <th>Rh_weight_loading</th>\n",
       "      <th>Rh_total_mass</th>\n",
       "      <th>synth_method</th>\n",
       "      <th>filename</th>\n",
       "      <th>experiment_date</th>\n",
       "      <th>location</th>\n",
       "      <th>GroupID</th>\n",
       "      <th>CO Net Production Rate (mol/molRh/s)_initial value</th>\n",
       "      <th>CO Net Production Rate (mol/molRh/s)_final value</th>\n",
       "      <th>CO Net Production Rate (mol/molRh/s)_initial slope</th>\n",
       "      <th>CO Net Production Rate (mol/molRh/s)_final slope</th>\n",
       "      <th>CO Net Production Rate (mol/molRh/s)_overall slope</th>\n",
       "    </tr>\n",
       "  </thead>\n",
       "  <tbody>\n",
       "    <tr>\n",
       "      <th>0</th>\n",
       "      <td>500.0</td>\n",
       "      <td>0.3</td>\n",
       "      <td>0.02</td>\n",
       "      <td>NP</td>\n",
       "      <td>0p3_RhNP_0p0197mg_500C_20250211_Cargnello1.xlsx</td>\n",
       "      <td>2025-02-11</td>\n",
       "      <td>Cargnello</td>\n",
       "      <td>3</td>\n",
       "      <td>0.072021</td>\n",
       "      <td>0.256470</td>\n",
       "      <td>1.000000</td>\n",
       "      <td>0.265437</td>\n",
       "      <td>1.000000</td>\n",
       "    </tr>\n",
       "    <tr>\n",
       "      <th>1</th>\n",
       "      <td>500.0</td>\n",
       "      <td>0.3</td>\n",
       "      <td>0.02</td>\n",
       "      <td>WI</td>\n",
       "      <td>0p3_RhWI_0p02mg_500C_20250331_SLAC1.xlsx</td>\n",
       "      <td>2025-03-31</td>\n",
       "      <td>SLAC</td>\n",
       "      <td>4</td>\n",
       "      <td>0.344699</td>\n",
       "      <td>0.316926</td>\n",
       "      <td>0.875429</td>\n",
       "      <td>0.274420</td>\n",
       "      <td>0.411935</td>\n",
       "    </tr>\n",
       "    <tr>\n",
       "      <th>2</th>\n",
       "      <td>500.0</td>\n",
       "      <td>0.1</td>\n",
       "      <td>0.02</td>\n",
       "      <td>WI</td>\n",
       "      <td>0p1_RhWI_0p02mg_500C_20250319_UCSBRR.xlsx</td>\n",
       "      <td>2025-03-19</td>\n",
       "      <td>UCSB</td>\n",
       "      <td>2</td>\n",
       "      <td>0.542619</td>\n",
       "      <td>0.706020</td>\n",
       "      <td>0.969799</td>\n",
       "      <td>0.362613</td>\n",
       "      <td>0.665210</td>\n",
       "    </tr>\n",
       "    <tr>\n",
       "      <th>3</th>\n",
       "      <td>500.0</td>\n",
       "      <td>0.3</td>\n",
       "      <td>0.02</td>\n",
       "      <td>WI</td>\n",
       "      <td>0p3_RhWI_0p0199mg_500C_20250415_SLAC1.xlsx</td>\n",
       "      <td>2025-04-15</td>\n",
       "      <td>SLAC</td>\n",
       "      <td>4</td>\n",
       "      <td>0.418492</td>\n",
       "      <td>0.544211</td>\n",
       "      <td>0.892052</td>\n",
       "      <td>0.706101</td>\n",
       "      <td>0.668395</td>\n",
       "    </tr>\n",
       "    <tr>\n",
       "      <th>4</th>\n",
       "      <td>500.0</td>\n",
       "      <td>2.0</td>\n",
       "      <td>0.02</td>\n",
       "      <td>WI</td>\n",
       "      <td>2_RhWI_0p0202mg_500C_20250317_Cargnello1.xlsx</td>\n",
       "      <td>2025-03-17</td>\n",
       "      <td>Cargnello</td>\n",
       "      <td>5</td>\n",
       "      <td>0.255764</td>\n",
       "      <td>0.242545</td>\n",
       "      <td>0.851641</td>\n",
       "      <td>0.638930</td>\n",
       "      <td>0.495823</td>\n",
       "    </tr>\n",
       "    <tr>\n",
       "      <th>5</th>\n",
       "      <td>500.0</td>\n",
       "      <td>0.3</td>\n",
       "      <td>0.02</td>\n",
       "      <td>WI</td>\n",
       "      <td>0p3_RhWI_0p0204mg_500C_20250421_SLAC1.xlsx</td>\n",
       "      <td>2025-04-21</td>\n",
       "      <td>SLAC</td>\n",
       "      <td>4</td>\n",
       "      <td>0.440914</td>\n",
       "      <td>0.403145</td>\n",
       "      <td>0.863363</td>\n",
       "      <td>0.385426</td>\n",
       "      <td>0.332489</td>\n",
       "    </tr>\n",
       "    <tr>\n",
       "      <th>6</th>\n",
       "      <td>400.0</td>\n",
       "      <td>2.0</td>\n",
       "      <td>0.02</td>\n",
       "      <td>WI</td>\n",
       "      <td>2_RhWI_0p02mg_400C_20250422_SLAC1.xlsx</td>\n",
       "      <td>2025-04-22</td>\n",
       "      <td>SLAC</td>\n",
       "      <td>1</td>\n",
       "      <td>0.031842</td>\n",
       "      <td>0.015903</td>\n",
       "      <td>0.925741</td>\n",
       "      <td>0.378622</td>\n",
       "      <td>0.630217</td>\n",
       "    </tr>\n",
       "    <tr>\n",
       "      <th>7</th>\n",
       "      <td>500.0</td>\n",
       "      <td>0.3</td>\n",
       "      <td>0.02</td>\n",
       "      <td>NP</td>\n",
       "      <td>0p3_RhNP_0p0201mg_500C_20250312_UCSBRR.xlsx</td>\n",
       "      <td>2025-03-12</td>\n",
       "      <td>UCSB</td>\n",
       "      <td>3</td>\n",
       "      <td>0.022752</td>\n",
       "      <td>0.134119</td>\n",
       "      <td>0.962161</td>\n",
       "      <td>0.628813</td>\n",
       "      <td>0.886642</td>\n",
       "    </tr>\n",
       "    <tr>\n",
       "      <th>8</th>\n",
       "      <td>500.0</td>\n",
       "      <td>0.3</td>\n",
       "      <td>0.02</td>\n",
       "      <td>WI</td>\n",
       "      <td>0p3_RhWI_0p02mg_500C_20250312_Cargnello1.xlsx</td>\n",
       "      <td>2025-03-12</td>\n",
       "      <td>Cargnello</td>\n",
       "      <td>4</td>\n",
       "      <td>0.364014</td>\n",
       "      <td>0.463427</td>\n",
       "      <td>0.891929</td>\n",
       "      <td>0.444944</td>\n",
       "      <td>0.650387</td>\n",
       "    </tr>\n",
       "    <tr>\n",
       "      <th>9</th>\n",
       "      <td>500.0</td>\n",
       "      <td>2.0</td>\n",
       "      <td>0.02</td>\n",
       "      <td>WI</td>\n",
       "      <td>2_RhWI_0p02mg_500C_20250417_SLAC1.xlsx</td>\n",
       "      <td>2025-04-17</td>\n",
       "      <td>SLAC</td>\n",
       "      <td>5</td>\n",
       "      <td>0.300850</td>\n",
       "      <td>0.103393</td>\n",
       "      <td>0.822395</td>\n",
       "      <td>0.347971</td>\n",
       "      <td>0.104779</td>\n",
       "    </tr>\n",
       "    <tr>\n",
       "      <th>10</th>\n",
       "      <td>400.0</td>\n",
       "      <td>2.0</td>\n",
       "      <td>0.02</td>\n",
       "      <td>WI</td>\n",
       "      <td>2_RhWI_0p0204mg_400C_20250324_Cargnello1.xlsx</td>\n",
       "      <td>2025-03-24</td>\n",
       "      <td>Cargnello</td>\n",
       "      <td>1</td>\n",
       "      <td>0.102524</td>\n",
       "      <td>0.021536</td>\n",
       "      <td>0.897869</td>\n",
       "      <td>0.217459</td>\n",
       "      <td>0.457746</td>\n",
       "    </tr>\n",
       "    <tr>\n",
       "      <th>11</th>\n",
       "      <td>500.0</td>\n",
       "      <td>0.3</td>\n",
       "      <td>0.02</td>\n",
       "      <td>WI</td>\n",
       "      <td>0p3_RhWI_0p0201mg_500C_20250311_UCSBRR.xlsx</td>\n",
       "      <td>2025-03-11</td>\n",
       "      <td>UCSB</td>\n",
       "      <td>4</td>\n",
       "      <td>0.329106</td>\n",
       "      <td>0.391403</td>\n",
       "      <td>0.901910</td>\n",
       "      <td>0.430427</td>\n",
       "      <td>0.598980</td>\n",
       "    </tr>\n",
       "    <tr>\n",
       "      <th>12</th>\n",
       "      <td>500.0</td>\n",
       "      <td>0.3</td>\n",
       "      <td>0.02</td>\n",
       "      <td>NP</td>\n",
       "      <td>0p3_RhNP_0p0201mg_500C_20250207_Cargnello1.xlsx</td>\n",
       "      <td>2025-02-07</td>\n",
       "      <td>Cargnello</td>\n",
       "      <td>3</td>\n",
       "      <td>0.068128</td>\n",
       "      <td>0.204057</td>\n",
       "      <td>0.969891</td>\n",
       "      <td>0.316026</td>\n",
       "      <td>0.906772</td>\n",
       "    </tr>\n",
       "    <tr>\n",
       "      <th>13</th>\n",
       "      <td>400.0</td>\n",
       "      <td>2.0</td>\n",
       "      <td>0.02</td>\n",
       "      <td>WI</td>\n",
       "      <td>2_RhWI_0p02mg_400C_20250306_UCSBRR.xlsx</td>\n",
       "      <td>2025-03-06</td>\n",
       "      <td>UCSB</td>\n",
       "      <td>1</td>\n",
       "      <td>0.023665</td>\n",
       "      <td>0.021683</td>\n",
       "      <td>0.926974</td>\n",
       "      <td>0.386184</td>\n",
       "      <td>0.663027</td>\n",
       "    </tr>\n",
       "    <tr>\n",
       "      <th>14</th>\n",
       "      <td>600.0</td>\n",
       "      <td>2.0</td>\n",
       "      <td>0.02</td>\n",
       "      <td>WI</td>\n",
       "      <td>2_RhWI_0p02mg_600C_20250318_UCSBRR.xlsx</td>\n",
       "      <td>2025-03-18</td>\n",
       "      <td>UCSB</td>\n",
       "      <td>6</td>\n",
       "      <td>1.000000</td>\n",
       "      <td>0.970539</td>\n",
       "      <td>0.000000</td>\n",
       "      <td>0.898063</td>\n",
       "      <td>0.000000</td>\n",
       "    </tr>\n",
       "    <tr>\n",
       "      <th>15</th>\n",
       "      <td>500.0</td>\n",
       "      <td>2.0</td>\n",
       "      <td>0.02</td>\n",
       "      <td>WI</td>\n",
       "      <td>2_RhWI_0p02mg_500C_20250307_UCSBRR.xlsx</td>\n",
       "      <td>2025-03-07</td>\n",
       "      <td>UCSB</td>\n",
       "      <td>5</td>\n",
       "      <td>0.342509</td>\n",
       "      <td>0.391684</td>\n",
       "      <td>0.892376</td>\n",
       "      <td>0.409304</td>\n",
       "      <td>0.564754</td>\n",
       "    </tr>\n",
       "    <tr>\n",
       "      <th>16</th>\n",
       "      <td>500.0</td>\n",
       "      <td>0.1</td>\n",
       "      <td>0.02</td>\n",
       "      <td>WI</td>\n",
       "      <td>0p1_RhWI_0p02mg_500C_20250418_SLAC1.xlsx</td>\n",
       "      <td>2025-04-18</td>\n",
       "      <td>SLAC</td>\n",
       "      <td>2</td>\n",
       "      <td>0.745778</td>\n",
       "      <td>0.920326</td>\n",
       "      <td>0.968200</td>\n",
       "      <td>0.512332</td>\n",
       "      <td>0.561247</td>\n",
       "    </tr>\n",
       "    <tr>\n",
       "      <th>17</th>\n",
       "      <td>600.0</td>\n",
       "      <td>2.0</td>\n",
       "      <td>0.02</td>\n",
       "      <td>WI</td>\n",
       "      <td>2_RhWI_0p02mg_600C_20250326_Cargnello1.xlsx</td>\n",
       "      <td>2025-03-26</td>\n",
       "      <td>Cargnello</td>\n",
       "      <td>6</td>\n",
       "      <td>0.591188</td>\n",
       "      <td>0.660599</td>\n",
       "      <td>0.828671</td>\n",
       "      <td>0.295998</td>\n",
       "      <td>0.449649</td>\n",
       "    </tr>\n",
       "    <tr>\n",
       "      <th>18</th>\n",
       "      <td>600.0</td>\n",
       "      <td>2.0</td>\n",
       "      <td>0.02</td>\n",
       "      <td>WI</td>\n",
       "      <td>2_RhWI_0p02mg_600C_20250423_SLAC1.xlsx</td>\n",
       "      <td>2025-04-23</td>\n",
       "      <td>SLAC</td>\n",
       "      <td>6</td>\n",
       "      <td>0.299700</td>\n",
       "      <td>0.533976</td>\n",
       "      <td>0.734878</td>\n",
       "      <td>1.000000</td>\n",
       "      <td>0.955775</td>\n",
       "    </tr>\n",
       "    <tr>\n",
       "      <th>19</th>\n",
       "      <td>500.0</td>\n",
       "      <td>0.1</td>\n",
       "      <td>0.02</td>\n",
       "      <td>WI</td>\n",
       "      <td>0p1_RhWI_0p02mg_500C_20250314_UCSBRR.xlsx</td>\n",
       "      <td>2025-03-14</td>\n",
       "      <td>UCSB</td>\n",
       "      <td>2</td>\n",
       "      <td>0.530893</td>\n",
       "      <td>0.713132</td>\n",
       "      <td>0.969099</td>\n",
       "      <td>0.409721</td>\n",
       "      <td>0.709652</td>\n",
       "    </tr>\n",
       "    <tr>\n",
       "      <th>20</th>\n",
       "      <td>500.0</td>\n",
       "      <td>0.1</td>\n",
       "      <td>0.02</td>\n",
       "      <td>WI</td>\n",
       "      <td>0p1_RhWI_0p02mg_500C_20250314_Cargnello1.xlsx</td>\n",
       "      <td>2025-03-14</td>\n",
       "      <td>Cargnello</td>\n",
       "      <td>2</td>\n",
       "      <td>0.588105</td>\n",
       "      <td>0.678573</td>\n",
       "      <td>0.855416</td>\n",
       "      <td>0.356954</td>\n",
       "      <td>0.493088</td>\n",
       "    </tr>\n",
       "    <tr>\n",
       "      <th>21</th>\n",
       "      <td>500.0</td>\n",
       "      <td>0.3</td>\n",
       "      <td>0.02</td>\n",
       "      <td>NP</td>\n",
       "      <td>0p3_RhNP_0p0201mg_500C_20250424_SLAC1.xlsx</td>\n",
       "      <td>2025-04-24</td>\n",
       "      <td>SLAC</td>\n",
       "      <td>3</td>\n",
       "      <td>0.110720</td>\n",
       "      <td>0.196075</td>\n",
       "      <td>0.985382</td>\n",
       "      <td>0.576935</td>\n",
       "      <td>0.780397</td>\n",
       "    </tr>\n",
       "    <tr>\n",
       "      <th>22</th>\n",
       "      <td>500.0</td>\n",
       "      <td>0.1</td>\n",
       "      <td>0.02</td>\n",
       "      <td>WI</td>\n",
       "      <td>0p1_RhWI_0p02mg_500C_20250317_UCSBRR.xlsx</td>\n",
       "      <td>2025-03-17</td>\n",
       "      <td>UCSB</td>\n",
       "      <td>2</td>\n",
       "      <td>0.549596</td>\n",
       "      <td>0.723422</td>\n",
       "      <td>0.961066</td>\n",
       "      <td>0.408710</td>\n",
       "      <td>0.681413</td>\n",
       "    </tr>\n",
       "    <tr>\n",
       "      <th>23</th>\n",
       "      <td>500.0</td>\n",
       "      <td>0.3</td>\n",
       "      <td>0.02</td>\n",
       "      <td>NP</td>\n",
       "      <td>0p3_RhNP_0p0199mg_500C_20250212_Cargnello1.xlsx</td>\n",
       "      <td>2025-02-12</td>\n",
       "      <td>Cargnello</td>\n",
       "      <td>3</td>\n",
       "      <td>0.062700</td>\n",
       "      <td>0.149336</td>\n",
       "      <td>0.997154</td>\n",
       "      <td>0.571788</td>\n",
       "      <td>0.812989</td>\n",
       "    </tr>\n",
       "    <tr>\n",
       "      <th>24</th>\n",
       "      <td>400.0</td>\n",
       "      <td>2.0</td>\n",
       "      <td>0.02</td>\n",
       "      <td>WI</td>\n",
       "      <td>2_RhWI_0p021_400C_20250425_PSURight.xls</td>\n",
       "      <td>2025-04-25</td>\n",
       "      <td>PSU</td>\n",
       "      <td>1</td>\n",
       "      <td>0.000000</td>\n",
       "      <td>0.000000</td>\n",
       "      <td>0.928092</td>\n",
       "      <td>0.466193</td>\n",
       "      <td>0.681643</td>\n",
       "    </tr>\n",
       "    <tr>\n",
       "      <th>25</th>\n",
       "      <td>500.0</td>\n",
       "      <td>0.3</td>\n",
       "      <td>0.02</td>\n",
       "      <td>WI</td>\n",
       "      <td>0p3_RhWI_0p0207_500C_20250315_PSURight.xls</td>\n",
       "      <td>2025-03-15</td>\n",
       "      <td>PSU</td>\n",
       "      <td>4</td>\n",
       "      <td>0.328569</td>\n",
       "      <td>0.439565</td>\n",
       "      <td>0.913142</td>\n",
       "      <td>0.502135</td>\n",
       "      <td>0.695580</td>\n",
       "    </tr>\n",
       "    <tr>\n",
       "      <th>26</th>\n",
       "      <td>500.0</td>\n",
       "      <td>2.0</td>\n",
       "      <td>0.02</td>\n",
       "      <td>WI</td>\n",
       "      <td>2p0_RhWI_0p02_500C_20250331_PSURight.xls</td>\n",
       "      <td>2025-03-31</td>\n",
       "      <td>PSU</td>\n",
       "      <td>5</td>\n",
       "      <td>0.298632</td>\n",
       "      <td>0.402737</td>\n",
       "      <td>0.919025</td>\n",
       "      <td>0.528052</td>\n",
       "      <td>0.700617</td>\n",
       "    </tr>\n",
       "    <tr>\n",
       "      <th>27</th>\n",
       "      <td>500.0</td>\n",
       "      <td>0.3</td>\n",
       "      <td>0.02</td>\n",
       "      <td>NP</td>\n",
       "      <td>0p3_RhNP_0p0204_500C_20250315_PSULeft.xls</td>\n",
       "      <td>2025-03-15</td>\n",
       "      <td>PSU</td>\n",
       "      <td>3</td>\n",
       "      <td>0.034971</td>\n",
       "      <td>0.157536</td>\n",
       "      <td>0.959212</td>\n",
       "      <td>0.611467</td>\n",
       "      <td>0.899911</td>\n",
       "    </tr>\n",
       "    <tr>\n",
       "      <th>28</th>\n",
       "      <td>600.0</td>\n",
       "      <td>2.0</td>\n",
       "      <td>0.02</td>\n",
       "      <td>WI</td>\n",
       "      <td>2_RhWI_0p027_600C_20250422_PSURight.xls</td>\n",
       "      <td>2025-04-22</td>\n",
       "      <td>PSU</td>\n",
       "      <td>6</td>\n",
       "      <td>0.914026</td>\n",
       "      <td>1.000000</td>\n",
       "      <td>0.809805</td>\n",
       "      <td>0.000000</td>\n",
       "      <td>0.284262</td>\n",
       "    </tr>\n",
       "    <tr>\n",
       "      <th>29</th>\n",
       "      <td>500.0</td>\n",
       "      <td>0.1</td>\n",
       "      <td>0.02</td>\n",
       "      <td>WI</td>\n",
       "      <td>0p1_RhWI_0p02_500C_20250414_PSURight.xls</td>\n",
       "      <td>2025-04-14</td>\n",
       "      <td>PSU</td>\n",
       "      <td>2</td>\n",
       "      <td>0.704851</td>\n",
       "      <td>0.937606</td>\n",
       "      <td>0.984621</td>\n",
       "      <td>0.385188</td>\n",
       "      <td>0.701044</td>\n",
       "    </tr>\n",
       "    <tr>\n",
       "      <th>30</th>\n",
       "      <td>500.0</td>\n",
       "      <td>2.0</td>\n",
       "      <td>0.02</td>\n",
       "      <td>WI</td>\n",
       "      <td>2_RhWI_0p02_500C_20250403_PSURight.xls</td>\n",
       "      <td>2025-04-03</td>\n",
       "      <td>PSU</td>\n",
       "      <td>5</td>\n",
       "      <td>0.334076</td>\n",
       "      <td>0.442144</td>\n",
       "      <td>0.910612</td>\n",
       "      <td>0.535830</td>\n",
       "      <td>0.686445</td>\n",
       "    </tr>\n",
       "    <tr>\n",
       "      <th>31</th>\n",
       "      <td>500.0</td>\n",
       "      <td>2.0</td>\n",
       "      <td>0.02</td>\n",
       "      <td>WI</td>\n",
       "      <td>2_RhWI_0p01824_500C_20250401_PSURight.xls</td>\n",
       "      <td>2025-04-01</td>\n",
       "      <td>PSU</td>\n",
       "      <td>5</td>\n",
       "      <td>0.355860</td>\n",
       "      <td>0.471037</td>\n",
       "      <td>0.908294</td>\n",
       "      <td>0.515188</td>\n",
       "      <td>0.686880</td>\n",
       "    </tr>\n",
       "  </tbody>\n",
       "</table>\n",
       "</div>"
      ],
      "text/plain": [
       "    reaction_temp  Rh_weight_loading  Rh_total_mass synth_method  \\\n",
       "0           500.0                0.3           0.02           NP   \n",
       "1           500.0                0.3           0.02           WI   \n",
       "2           500.0                0.1           0.02           WI   \n",
       "3           500.0                0.3           0.02           WI   \n",
       "4           500.0                2.0           0.02           WI   \n",
       "5           500.0                0.3           0.02           WI   \n",
       "6           400.0                2.0           0.02           WI   \n",
       "7           500.0                0.3           0.02           NP   \n",
       "8           500.0                0.3           0.02           WI   \n",
       "9           500.0                2.0           0.02           WI   \n",
       "10          400.0                2.0           0.02           WI   \n",
       "11          500.0                0.3           0.02           WI   \n",
       "12          500.0                0.3           0.02           NP   \n",
       "13          400.0                2.0           0.02           WI   \n",
       "14          600.0                2.0           0.02           WI   \n",
       "15          500.0                2.0           0.02           WI   \n",
       "16          500.0                0.1           0.02           WI   \n",
       "17          600.0                2.0           0.02           WI   \n",
       "18          600.0                2.0           0.02           WI   \n",
       "19          500.0                0.1           0.02           WI   \n",
       "20          500.0                0.1           0.02           WI   \n",
       "21          500.0                0.3           0.02           NP   \n",
       "22          500.0                0.1           0.02           WI   \n",
       "23          500.0                0.3           0.02           NP   \n",
       "24          400.0                2.0           0.02           WI   \n",
       "25          500.0                0.3           0.02           WI   \n",
       "26          500.0                2.0           0.02           WI   \n",
       "27          500.0                0.3           0.02           NP   \n",
       "28          600.0                2.0           0.02           WI   \n",
       "29          500.0                0.1           0.02           WI   \n",
       "30          500.0                2.0           0.02           WI   \n",
       "31          500.0                2.0           0.02           WI   \n",
       "\n",
       "                                           filename experiment_date  \\\n",
       "0   0p3_RhNP_0p0197mg_500C_20250211_Cargnello1.xlsx      2025-02-11   \n",
       "1          0p3_RhWI_0p02mg_500C_20250331_SLAC1.xlsx      2025-03-31   \n",
       "2         0p1_RhWI_0p02mg_500C_20250319_UCSBRR.xlsx      2025-03-19   \n",
       "3        0p3_RhWI_0p0199mg_500C_20250415_SLAC1.xlsx      2025-04-15   \n",
       "4     2_RhWI_0p0202mg_500C_20250317_Cargnello1.xlsx      2025-03-17   \n",
       "5        0p3_RhWI_0p0204mg_500C_20250421_SLAC1.xlsx      2025-04-21   \n",
       "6            2_RhWI_0p02mg_400C_20250422_SLAC1.xlsx      2025-04-22   \n",
       "7       0p3_RhNP_0p0201mg_500C_20250312_UCSBRR.xlsx      2025-03-12   \n",
       "8     0p3_RhWI_0p02mg_500C_20250312_Cargnello1.xlsx      2025-03-12   \n",
       "9            2_RhWI_0p02mg_500C_20250417_SLAC1.xlsx      2025-04-17   \n",
       "10    2_RhWI_0p0204mg_400C_20250324_Cargnello1.xlsx      2025-03-24   \n",
       "11      0p3_RhWI_0p0201mg_500C_20250311_UCSBRR.xlsx      2025-03-11   \n",
       "12  0p3_RhNP_0p0201mg_500C_20250207_Cargnello1.xlsx      2025-02-07   \n",
       "13          2_RhWI_0p02mg_400C_20250306_UCSBRR.xlsx      2025-03-06   \n",
       "14          2_RhWI_0p02mg_600C_20250318_UCSBRR.xlsx      2025-03-18   \n",
       "15          2_RhWI_0p02mg_500C_20250307_UCSBRR.xlsx      2025-03-07   \n",
       "16         0p1_RhWI_0p02mg_500C_20250418_SLAC1.xlsx      2025-04-18   \n",
       "17      2_RhWI_0p02mg_600C_20250326_Cargnello1.xlsx      2025-03-26   \n",
       "18           2_RhWI_0p02mg_600C_20250423_SLAC1.xlsx      2025-04-23   \n",
       "19        0p1_RhWI_0p02mg_500C_20250314_UCSBRR.xlsx      2025-03-14   \n",
       "20    0p1_RhWI_0p02mg_500C_20250314_Cargnello1.xlsx      2025-03-14   \n",
       "21       0p3_RhNP_0p0201mg_500C_20250424_SLAC1.xlsx      2025-04-24   \n",
       "22        0p1_RhWI_0p02mg_500C_20250317_UCSBRR.xlsx      2025-03-17   \n",
       "23  0p3_RhNP_0p0199mg_500C_20250212_Cargnello1.xlsx      2025-02-12   \n",
       "24          2_RhWI_0p021_400C_20250425_PSURight.xls      2025-04-25   \n",
       "25       0p3_RhWI_0p0207_500C_20250315_PSURight.xls      2025-03-15   \n",
       "26         2p0_RhWI_0p02_500C_20250331_PSURight.xls      2025-03-31   \n",
       "27        0p3_RhNP_0p0204_500C_20250315_PSULeft.xls      2025-03-15   \n",
       "28          2_RhWI_0p027_600C_20250422_PSURight.xls      2025-04-22   \n",
       "29         0p1_RhWI_0p02_500C_20250414_PSURight.xls      2025-04-14   \n",
       "30           2_RhWI_0p02_500C_20250403_PSURight.xls      2025-04-03   \n",
       "31        2_RhWI_0p01824_500C_20250401_PSURight.xls      2025-04-01   \n",
       "\n",
       "     location  GroupID  CO Net Production Rate (mol/molRh/s)_initial value  \\\n",
       "0   Cargnello        3                                           0.072021    \n",
       "1        SLAC        4                                           0.344699    \n",
       "2        UCSB        2                                           0.542619    \n",
       "3        SLAC        4                                           0.418492    \n",
       "4   Cargnello        5                                           0.255764    \n",
       "5        SLAC        4                                           0.440914    \n",
       "6        SLAC        1                                           0.031842    \n",
       "7        UCSB        3                                           0.022752    \n",
       "8   Cargnello        4                                           0.364014    \n",
       "9        SLAC        5                                           0.300850    \n",
       "10  Cargnello        1                                           0.102524    \n",
       "11       UCSB        4                                           0.329106    \n",
       "12  Cargnello        3                                           0.068128    \n",
       "13       UCSB        1                                           0.023665    \n",
       "14       UCSB        6                                           1.000000    \n",
       "15       UCSB        5                                           0.342509    \n",
       "16       SLAC        2                                           0.745778    \n",
       "17  Cargnello        6                                           0.591188    \n",
       "18       SLAC        6                                           0.299700    \n",
       "19       UCSB        2                                           0.530893    \n",
       "20  Cargnello        2                                           0.588105    \n",
       "21       SLAC        3                                           0.110720    \n",
       "22       UCSB        2                                           0.549596    \n",
       "23  Cargnello        3                                           0.062700    \n",
       "24        PSU        1                                           0.000000    \n",
       "25        PSU        4                                           0.328569    \n",
       "26        PSU        5                                           0.298632    \n",
       "27        PSU        3                                           0.034971    \n",
       "28        PSU        6                                           0.914026    \n",
       "29        PSU        2                                           0.704851    \n",
       "30        PSU        5                                           0.334076    \n",
       "31        PSU        5                                           0.355860    \n",
       "\n",
       "    CO Net Production Rate (mol/molRh/s)_final value  \\\n",
       "0                                           0.256470   \n",
       "1                                           0.316926   \n",
       "2                                           0.706020   \n",
       "3                                           0.544211   \n",
       "4                                           0.242545   \n",
       "5                                           0.403145   \n",
       "6                                           0.015903   \n",
       "7                                           0.134119   \n",
       "8                                           0.463427   \n",
       "9                                           0.103393   \n",
       "10                                          0.021536   \n",
       "11                                          0.391403   \n",
       "12                                          0.204057   \n",
       "13                                          0.021683   \n",
       "14                                          0.970539   \n",
       "15                                          0.391684   \n",
       "16                                          0.920326   \n",
       "17                                          0.660599   \n",
       "18                                          0.533976   \n",
       "19                                          0.713132   \n",
       "20                                          0.678573   \n",
       "21                                          0.196075   \n",
       "22                                          0.723422   \n",
       "23                                          0.149336   \n",
       "24                                          0.000000   \n",
       "25                                          0.439565   \n",
       "26                                          0.402737   \n",
       "27                                          0.157536   \n",
       "28                                          1.000000   \n",
       "29                                          0.937606   \n",
       "30                                          0.442144   \n",
       "31                                          0.471037   \n",
       "\n",
       "    CO Net Production Rate (mol/molRh/s)_initial slope  \\\n",
       "0                                            1.000000    \n",
       "1                                            0.875429    \n",
       "2                                            0.969799    \n",
       "3                                            0.892052    \n",
       "4                                            0.851641    \n",
       "5                                            0.863363    \n",
       "6                                            0.925741    \n",
       "7                                            0.962161    \n",
       "8                                            0.891929    \n",
       "9                                            0.822395    \n",
       "10                                           0.897869    \n",
       "11                                           0.901910    \n",
       "12                                           0.969891    \n",
       "13                                           0.926974    \n",
       "14                                           0.000000    \n",
       "15                                           0.892376    \n",
       "16                                           0.968200    \n",
       "17                                           0.828671    \n",
       "18                                           0.734878    \n",
       "19                                           0.969099    \n",
       "20                                           0.855416    \n",
       "21                                           0.985382    \n",
       "22                                           0.961066    \n",
       "23                                           0.997154    \n",
       "24                                           0.928092    \n",
       "25                                           0.913142    \n",
       "26                                           0.919025    \n",
       "27                                           0.959212    \n",
       "28                                           0.809805    \n",
       "29                                           0.984621    \n",
       "30                                           0.910612    \n",
       "31                                           0.908294    \n",
       "\n",
       "    CO Net Production Rate (mol/molRh/s)_final slope  \\\n",
       "0                                           0.265437   \n",
       "1                                           0.274420   \n",
       "2                                           0.362613   \n",
       "3                                           0.706101   \n",
       "4                                           0.638930   \n",
       "5                                           0.385426   \n",
       "6                                           0.378622   \n",
       "7                                           0.628813   \n",
       "8                                           0.444944   \n",
       "9                                           0.347971   \n",
       "10                                          0.217459   \n",
       "11                                          0.430427   \n",
       "12                                          0.316026   \n",
       "13                                          0.386184   \n",
       "14                                          0.898063   \n",
       "15                                          0.409304   \n",
       "16                                          0.512332   \n",
       "17                                          0.295998   \n",
       "18                                          1.000000   \n",
       "19                                          0.409721   \n",
       "20                                          0.356954   \n",
       "21                                          0.576935   \n",
       "22                                          0.408710   \n",
       "23                                          0.571788   \n",
       "24                                          0.466193   \n",
       "25                                          0.502135   \n",
       "26                                          0.528052   \n",
       "27                                          0.611467   \n",
       "28                                          0.000000   \n",
       "29                                          0.385188   \n",
       "30                                          0.535830   \n",
       "31                                          0.515188   \n",
       "\n",
       "    CO Net Production Rate (mol/molRh/s)_overall slope  \n",
       "0                                            1.000000   \n",
       "1                                            0.411935   \n",
       "2                                            0.665210   \n",
       "3                                            0.668395   \n",
       "4                                            0.495823   \n",
       "5                                            0.332489   \n",
       "6                                            0.630217   \n",
       "7                                            0.886642   \n",
       "8                                            0.650387   \n",
       "9                                            0.104779   \n",
       "10                                           0.457746   \n",
       "11                                           0.598980   \n",
       "12                                           0.906772   \n",
       "13                                           0.663027   \n",
       "14                                           0.000000   \n",
       "15                                           0.564754   \n",
       "16                                           0.561247   \n",
       "17                                           0.449649   \n",
       "18                                           0.955775   \n",
       "19                                           0.709652   \n",
       "20                                           0.493088   \n",
       "21                                           0.780397   \n",
       "22                                           0.681413   \n",
       "23                                           0.812989   \n",
       "24                                           0.681643   \n",
       "25                                           0.695580   \n",
       "26                                           0.700617   \n",
       "27                                           0.899911   \n",
       "28                                           0.284262   \n",
       "29                                           0.701044   \n",
       "30                                           0.686445   \n",
       "31                                           0.686880   "
      ]
     },
     "execution_count": 31,
     "metadata": {},
     "output_type": "execute_result"
    }
   ],
   "source": [
    "df_scaled"
   ]
  },
  {
   "cell_type": "markdown",
   "id": "77c231c8",
   "metadata": {},
   "source": [
    "### Function to calculate the dispersion (D)"
   ]
  },
  {
   "cell_type": "code",
   "execution_count": 32,
   "id": "3c61ee46",
   "metadata": {},
   "outputs": [],
   "source": [
    "def get_dispersion(df, metric_columns):\n",
    "    \"\"\"\n",
    "    Calculate the dispersion of metric columns in a DataFrame.\n",
    "    \"\"\"\n",
    "\n",
    "    # Calculate the centroid of the metric columns\n",
    "    centroid = df[metric_columns].mean(axis=0)\n",
    "\n",
    "    # Compute Euclidean distances from each point to the centroid\n",
    "    distances = np.linalg.norm(df[metric_columns] - centroid, axis=1)\n",
    "\n",
    "    # Compute average distance\n",
    "    dispersion = np.mean(distances)\n",
    "\n",
    "    return dispersion, centroid"
   ]
  },
  {
   "cell_type": "markdown",
   "id": "d0577838",
   "metadata": {},
   "source": [
    "### (1) Group dispersion"
   ]
  },
  {
   "cell_type": "code",
   "execution_count": 33,
   "id": "1831cd9c",
   "metadata": {},
   "outputs": [
    {
     "name": "stdout",
     "output_type": "stream",
     "text": [
      "Dispersion for GroupID 1: 0.1114\n",
      "Dispersion for GroupID 2: 0.1632\n",
      "Dispersion for GroupID 3: 0.1625\n",
      "Dispersion for GroupID 4: 0.1893\n",
      "Dispersion for GroupID 5: 0.2311\n",
      "Dispersion for GroupID 6: 0.6997\n"
     ]
    }
   ],
   "source": [
    "dfs_group = [df_scaled[df_scaled['GroupID'] == i] for i in range(1, 7)]\n",
    "dispersion_overall_RR = []\n",
    "for df_group in dfs_group:\n",
    "    dispersion, _ = get_dispersion(df_group, metric_columns)\n",
    "    dispersion_overall_RR.append(dispersion)\n",
    "    print(f\"Dispersion for GroupID {df_group['GroupID'].iloc[0]}: {dispersion:.4f}\")"
   ]
  },
  {
   "cell_type": "markdown",
   "id": "216c26a8",
   "metadata": {},
   "source": [
    "### (2) Intralab dispersion"
   ]
  },
  {
   "cell_type": "code",
   "execution_count": 34,
   "id": "23191824",
   "metadata": {},
   "outputs": [
    {
     "name": "stdout",
     "output_type": "stream",
     "text": [
      "Dispersion for Cargnello GroupID 3: 0.1494\n",
      "Dispersion for UCSB GroupID 2: 0.0299\n",
      "Dispersion for SLAC GroupID 4: 0.2429\n",
      "Dispersion for PSU GroupID 5: 0.0349\n"
     ]
    },
    {
     "name": "stderr",
     "output_type": "stream",
     "text": [
      "/var/folders/26/fw595kz14qg6n4glslpg2nd80000gn/T/ipykernel_42818/1966958160.py:1: UserWarning: Boolean Series key will be reindexed to match DataFrame index.\n",
      "  df_intra_cargnello = df_scaled[df_scaled['location'] == 'Cargnello'][df_scaled['GroupID'] == 3]\n",
      "/var/folders/26/fw595kz14qg6n4glslpg2nd80000gn/T/ipykernel_42818/1966958160.py:2: UserWarning: Boolean Series key will be reindexed to match DataFrame index.\n",
      "  df_intra_ucsb = df_scaled[df_scaled['location'] == 'UCSB'][df_scaled['GroupID'] == 2]\n",
      "/var/folders/26/fw595kz14qg6n4glslpg2nd80000gn/T/ipykernel_42818/1966958160.py:3: UserWarning: Boolean Series key will be reindexed to match DataFrame index.\n",
      "  df_intra_slac = df_scaled[df_scaled['location'] == 'SLAC'][df_scaled['GroupID'] == 4]\n",
      "/var/folders/26/fw595kz14qg6n4glslpg2nd80000gn/T/ipykernel_42818/1966958160.py:4: UserWarning: Boolean Series key will be reindexed to match DataFrame index.\n",
      "  df_intra_psu = df_scaled[df_scaled['location'] == 'PSU'][df_scaled['GroupID'] == 5]\n"
     ]
    }
   ],
   "source": [
    "df_intra_cargnello = df_scaled[df_scaled['location'] == 'Cargnello'][df_scaled['GroupID'] == 3]\n",
    "df_intra_ucsb = df_scaled[df_scaled['location'] == 'UCSB'][df_scaled['GroupID'] == 2]\n",
    "df_intra_slac = df_scaled[df_scaled['location'] == 'SLAC'][df_scaled['GroupID'] == 4]\n",
    "df_intra_psu = df_scaled[df_scaled['location'] == 'PSU'][df_scaled['GroupID'] == 5]\n",
    "\n",
    "dispersion_intra_RR = []\n",
    "for df_intra in [df_intra_cargnello, df_intra_ucsb, df_intra_slac, df_intra_psu]:\n",
    "    dispersion, _ = get_dispersion(df_intra, metric_columns)\n",
    "    dispersion_intra_RR.append(dispersion)\n",
    "    print(f\"Dispersion for {df_intra['location'].iloc[0]} GroupID {df_intra['GroupID'].iloc[0]}: {dispersion:.4f}\")"
   ]
  },
  {
   "cell_type": "markdown",
   "id": "618642d0",
   "metadata": {},
   "source": [
    "### (3) Interlab dispersion"
   ]
  },
  {
   "cell_type": "code",
   "execution_count": 35,
   "id": "143ad8c7",
   "metadata": {},
   "outputs": [
    {
     "data": {
      "application/vnd.microsoft.datawrangler.viewer.v0+json": {
       "columns": [
        {
         "name": "index",
         "rawType": "object",
         "type": "string"
        },
        {
         "name": "0",
         "rawType": "float64",
         "type": "float"
        }
       ],
       "ref": "d23926eb-08fb-45f7-886c-d8a875ca1d7f",
       "rows": [
        [
         "CO Net Production Rate (mol/molRh/s)_initial value",
         "0.541036166544195"
        ],
        [
         "CO Net Production Rate (mol/molRh/s)_final value",
         "0.7141915027369592"
        ],
        [
         "CO Net Production Rate (mol/molRh/s)_initial slope",
         "0.9666547986828172"
        ],
        [
         "CO Net Production Rate (mol/molRh/s)_final slope",
         "0.3936813085209742"
        ],
        [
         "CO Net Production Rate (mol/molRh/s)_overall slope",
         "0.6854249579983417"
        ]
       ],
       "shape": {
        "columns": 1,
        "rows": 5
       }
      },
      "text/plain": [
       "CO Net Production Rate (mol/molRh/s)_initial value    0.541036\n",
       "CO Net Production Rate (mol/molRh/s)_final value      0.714192\n",
       "CO Net Production Rate (mol/molRh/s)_initial slope    0.966655\n",
       "CO Net Production Rate (mol/molRh/s)_final slope      0.393681\n",
       "CO Net Production Rate (mol/molRh/s)_overall slope    0.685425\n",
       "dtype: float64"
      ]
     },
     "metadata": {},
     "output_type": "display_data"
    },
    {
     "name": "stderr",
     "output_type": "stream",
     "text": [
      "/var/folders/26/fw595kz14qg6n4glslpg2nd80000gn/T/ipykernel_42818/2279593757.py:10: FutureWarning: Series.__getitem__ treating keys as positions is deprecated. In a future version, integer keys will always be treated as labels (consistent with DataFrame behavior). To access a value by position, use `ser.iloc[pos]`\n",
      "  df_dupl[metric_columns] = centroid\n"
     ]
    },
    {
     "data": {
      "application/vnd.microsoft.datawrangler.viewer.v0+json": {
       "columns": [
        {
         "name": "index",
         "rawType": "int64",
         "type": "integer"
        },
        {
         "name": "reaction_temp",
         "rawType": "float64",
         "type": "float"
        },
        {
         "name": "Rh_weight_loading",
         "rawType": "float64",
         "type": "float"
        },
        {
         "name": "Rh_total_mass",
         "rawType": "float64",
         "type": "float"
        },
        {
         "name": "synth_method",
         "rawType": "object",
         "type": "string"
        },
        {
         "name": "filename",
         "rawType": "object",
         "type": "string"
        },
        {
         "name": "experiment_date",
         "rawType": "datetime64[ns]",
         "type": "datetime"
        },
        {
         "name": "location",
         "rawType": "object",
         "type": "string"
        },
        {
         "name": "GroupID",
         "rawType": "int64",
         "type": "integer"
        },
        {
         "name": "CO Net Production Rate (mol/molRh/s)_initial value",
         "rawType": "float64",
         "type": "float"
        },
        {
         "name": "CO Net Production Rate (mol/molRh/s)_final value",
         "rawType": "float64",
         "type": "float"
        },
        {
         "name": "CO Net Production Rate (mol/molRh/s)_initial slope",
         "rawType": "float64",
         "type": "float"
        },
        {
         "name": "CO Net Production Rate (mol/molRh/s)_final slope",
         "rawType": "float64",
         "type": "float"
        },
        {
         "name": "CO Net Production Rate (mol/molRh/s)_overall slope",
         "rawType": "float64",
         "type": "float"
        }
       ],
       "ref": "23aa279d-b0ff-4d2d-9d96-381d9511b3db",
       "rows": [
        [
         "16",
         "500.0",
         "0.1",
         "0.02",
         "WI",
         "0p1_RhWI_0p02mg_500C_20250418_SLAC1.xlsx",
         "2025-04-18 00:00:00",
         "SLAC",
         "2",
         "0.7457783836556784",
         "0.9203263838848408",
         "0.968199619871071",
         "0.5123324602893337",
         "0.5612468747792279"
        ],
        [
         "20",
         "500.0",
         "0.1",
         "0.02",
         "WI",
         "0p1_RhWI_0p02mg_500C_20250314_Cargnello1.xlsx",
         "2025-03-14 00:00:00",
         "Cargnello",
         "2",
         "0.5881046422724823",
         "0.6785727089971305",
         "0.8554157276281871",
         "0.35695438208856217",
         "0.4930881249871014"
        ],
        [
         "29",
         "500.0",
         "0.1",
         "0.02",
         "WI",
         "0p1_RhWI_0p02_500C_20250414_PSURight.xls",
         "2025-04-14 00:00:00",
         "PSU",
         "2",
         "0.704851041882415",
         "0.9376058127201772",
         "0.9846211823857774",
         "0.3851882048286273",
         "0.7010443438379046"
        ],
        [
         "2",
         "500.0",
         "0.1",
         "0.02",
         "WI",
         "0p1_RhWI_0p02mg_500C_20250319_UCSBRR.xlsx",
         "2025-03-19 00:00:00",
         "UCSB",
         "2",
         "0.541036166544195",
         "0.7141915027369592",
         "0.9666547986828172",
         "0.3936813085209742",
         "0.6854249579983417"
        ]
       ],
       "shape": {
        "columns": 13,
        "rows": 4
       }
      },
      "text/html": [
       "<div>\n",
       "<style scoped>\n",
       "    .dataframe tbody tr th:only-of-type {\n",
       "        vertical-align: middle;\n",
       "    }\n",
       "\n",
       "    .dataframe tbody tr th {\n",
       "        vertical-align: top;\n",
       "    }\n",
       "\n",
       "    .dataframe thead th {\n",
       "        text-align: right;\n",
       "    }\n",
       "</style>\n",
       "<table border=\"1\" class=\"dataframe\">\n",
       "  <thead>\n",
       "    <tr style=\"text-align: right;\">\n",
       "      <th></th>\n",
       "      <th>reaction_temp</th>\n",
       "      <th>Rh_weight_loading</th>\n",
       "      <th>Rh_total_mass</th>\n",
       "      <th>synth_method</th>\n",
       "      <th>filename</th>\n",
       "      <th>experiment_date</th>\n",
       "      <th>location</th>\n",
       "      <th>GroupID</th>\n",
       "      <th>CO Net Production Rate (mol/molRh/s)_initial value</th>\n",
       "      <th>CO Net Production Rate (mol/molRh/s)_final value</th>\n",
       "      <th>CO Net Production Rate (mol/molRh/s)_initial slope</th>\n",
       "      <th>CO Net Production Rate (mol/molRh/s)_final slope</th>\n",
       "      <th>CO Net Production Rate (mol/molRh/s)_overall slope</th>\n",
       "    </tr>\n",
       "  </thead>\n",
       "  <tbody>\n",
       "    <tr>\n",
       "      <th>16</th>\n",
       "      <td>500.0</td>\n",
       "      <td>0.1</td>\n",
       "      <td>0.02</td>\n",
       "      <td>WI</td>\n",
       "      <td>0p1_RhWI_0p02mg_500C_20250418_SLAC1.xlsx</td>\n",
       "      <td>2025-04-18</td>\n",
       "      <td>SLAC</td>\n",
       "      <td>2</td>\n",
       "      <td>0.745778</td>\n",
       "      <td>0.920326</td>\n",
       "      <td>0.968200</td>\n",
       "      <td>0.512332</td>\n",
       "      <td>0.561247</td>\n",
       "    </tr>\n",
       "    <tr>\n",
       "      <th>20</th>\n",
       "      <td>500.0</td>\n",
       "      <td>0.1</td>\n",
       "      <td>0.02</td>\n",
       "      <td>WI</td>\n",
       "      <td>0p1_RhWI_0p02mg_500C_20250314_Cargnello1.xlsx</td>\n",
       "      <td>2025-03-14</td>\n",
       "      <td>Cargnello</td>\n",
       "      <td>2</td>\n",
       "      <td>0.588105</td>\n",
       "      <td>0.678573</td>\n",
       "      <td>0.855416</td>\n",
       "      <td>0.356954</td>\n",
       "      <td>0.493088</td>\n",
       "    </tr>\n",
       "    <tr>\n",
       "      <th>29</th>\n",
       "      <td>500.0</td>\n",
       "      <td>0.1</td>\n",
       "      <td>0.02</td>\n",
       "      <td>WI</td>\n",
       "      <td>0p1_RhWI_0p02_500C_20250414_PSURight.xls</td>\n",
       "      <td>2025-04-14</td>\n",
       "      <td>PSU</td>\n",
       "      <td>2</td>\n",
       "      <td>0.704851</td>\n",
       "      <td>0.937606</td>\n",
       "      <td>0.984621</td>\n",
       "      <td>0.385188</td>\n",
       "      <td>0.701044</td>\n",
       "    </tr>\n",
       "    <tr>\n",
       "      <th>2</th>\n",
       "      <td>500.0</td>\n",
       "      <td>0.1</td>\n",
       "      <td>0.02</td>\n",
       "      <td>WI</td>\n",
       "      <td>0p1_RhWI_0p02mg_500C_20250319_UCSBRR.xlsx</td>\n",
       "      <td>2025-03-19</td>\n",
       "      <td>UCSB</td>\n",
       "      <td>2</td>\n",
       "      <td>0.541036</td>\n",
       "      <td>0.714192</td>\n",
       "      <td>0.966655</td>\n",
       "      <td>0.393681</td>\n",
       "      <td>0.685425</td>\n",
       "    </tr>\n",
       "  </tbody>\n",
       "</table>\n",
       "</div>"
      ],
      "text/plain": [
       "    reaction_temp  Rh_weight_loading  Rh_total_mass synth_method  \\\n",
       "16          500.0                0.1           0.02           WI   \n",
       "20          500.0                0.1           0.02           WI   \n",
       "29          500.0                0.1           0.02           WI   \n",
       "2           500.0                0.1           0.02           WI   \n",
       "\n",
       "                                         filename experiment_date   location  \\\n",
       "16       0p1_RhWI_0p02mg_500C_20250418_SLAC1.xlsx      2025-04-18       SLAC   \n",
       "20  0p1_RhWI_0p02mg_500C_20250314_Cargnello1.xlsx      2025-03-14  Cargnello   \n",
       "29       0p1_RhWI_0p02_500C_20250414_PSURight.xls      2025-04-14        PSU   \n",
       "2       0p1_RhWI_0p02mg_500C_20250319_UCSBRR.xlsx      2025-03-19       UCSB   \n",
       "\n",
       "    GroupID  CO Net Production Rate (mol/molRh/s)_initial value  \\\n",
       "16        2                                           0.745778    \n",
       "20        2                                           0.588105    \n",
       "29        2                                           0.704851    \n",
       "2         2                                           0.541036    \n",
       "\n",
       "    CO Net Production Rate (mol/molRh/s)_final value  \\\n",
       "16                                          0.920326   \n",
       "20                                          0.678573   \n",
       "29                                          0.937606   \n",
       "2                                           0.714192   \n",
       "\n",
       "    CO Net Production Rate (mol/molRh/s)_initial slope  \\\n",
       "16                                           0.968200    \n",
       "20                                           0.855416    \n",
       "29                                           0.984621    \n",
       "2                                            0.966655    \n",
       "\n",
       "    CO Net Production Rate (mol/molRh/s)_final slope  \\\n",
       "16                                          0.512332   \n",
       "20                                          0.356954   \n",
       "29                                          0.385188   \n",
       "2                                           0.393681   \n",
       "\n",
       "    CO Net Production Rate (mol/molRh/s)_overall slope  \n",
       "16                                           0.561247   \n",
       "20                                           0.493088   \n",
       "29                                           0.701044   \n",
       "2                                            0.685425   "
      ]
     },
     "metadata": {},
     "output_type": "display_data"
    },
    {
     "data": {
      "application/vnd.microsoft.datawrangler.viewer.v0+json": {
       "columns": [
        {
         "name": "index",
         "rawType": "object",
         "type": "string"
        },
        {
         "name": "0",
         "rawType": "float64",
         "type": "float"
        }
       ],
       "ref": "0803ab7c-b7fe-4c45-a7ed-ecc9182e6519",
       "rows": [
        [
         "CO Net Production Rate (mol/molRh/s)_initial value",
         "0.06761639854467592"
        ],
        [
         "CO Net Production Rate (mol/molRh/s)_final value",
         "0.20328738348130915"
        ],
        [
         "CO Net Production Rate (mol/molRh/s)_initial slope",
         "0.9890148003273511"
        ],
        [
         "CO Net Production Rate (mol/molRh/s)_final slope",
         "0.38441693017064926"
        ],
        [
         "CO Net Production Rate (mol/molRh/s)_overall slope",
         "0.9065868192131515"
        ]
       ],
       "shape": {
        "columns": 1,
        "rows": 5
       }
      },
      "text/plain": [
       "CO Net Production Rate (mol/molRh/s)_initial value    0.067616\n",
       "CO Net Production Rate (mol/molRh/s)_final value      0.203287\n",
       "CO Net Production Rate (mol/molRh/s)_initial slope    0.989015\n",
       "CO Net Production Rate (mol/molRh/s)_final slope      0.384417\n",
       "CO Net Production Rate (mol/molRh/s)_overall slope    0.906587\n",
       "dtype: float64"
      ]
     },
     "metadata": {},
     "output_type": "display_data"
    },
    {
     "name": "stderr",
     "output_type": "stream",
     "text": [
      "/var/folders/26/fw595kz14qg6n4glslpg2nd80000gn/T/ipykernel_42818/2279593757.py:20: FutureWarning: Series.__getitem__ treating keys as positions is deprecated. In a future version, integer keys will always be treated as labels (consistent with DataFrame behavior). To access a value by position, use `ser.iloc[pos]`\n",
      "  df_dupl[metric_columns] = centroid\n"
     ]
    },
    {
     "data": {
      "application/vnd.microsoft.datawrangler.viewer.v0+json": {
       "columns": [
        {
         "name": "index",
         "rawType": "int64",
         "type": "integer"
        },
        {
         "name": "reaction_temp",
         "rawType": "float64",
         "type": "float"
        },
        {
         "name": "Rh_weight_loading",
         "rawType": "float64",
         "type": "float"
        },
        {
         "name": "Rh_total_mass",
         "rawType": "float64",
         "type": "float"
        },
        {
         "name": "synth_method",
         "rawType": "object",
         "type": "string"
        },
        {
         "name": "filename",
         "rawType": "object",
         "type": "string"
        },
        {
         "name": "experiment_date",
         "rawType": "datetime64[ns]",
         "type": "datetime"
        },
        {
         "name": "location",
         "rawType": "object",
         "type": "string"
        },
        {
         "name": "GroupID",
         "rawType": "int64",
         "type": "integer"
        },
        {
         "name": "CO Net Production Rate (mol/molRh/s)_initial value",
         "rawType": "float64",
         "type": "float"
        },
        {
         "name": "CO Net Production Rate (mol/molRh/s)_final value",
         "rawType": "float64",
         "type": "float"
        },
        {
         "name": "CO Net Production Rate (mol/molRh/s)_initial slope",
         "rawType": "float64",
         "type": "float"
        },
        {
         "name": "CO Net Production Rate (mol/molRh/s)_final slope",
         "rawType": "float64",
         "type": "float"
        },
        {
         "name": "CO Net Production Rate (mol/molRh/s)_overall slope",
         "rawType": "float64",
         "type": "float"
        }
       ],
       "ref": "03f813f4-175d-4ccb-811d-1377b8353dc4",
       "rows": [
        [
         "7",
         "500.0",
         "0.3",
         "0.02",
         "NP",
         "0p3_RhNP_0p0201mg_500C_20250312_UCSBRR.xlsx",
         "2025-03-12 00:00:00",
         "UCSB",
         "3",
         "0.02275226206161554",
         "0.13411898616905",
         "0.9621609526967047",
         "0.6288126589785041",
         "0.8866415119932716"
        ],
        [
         "21",
         "500.0",
         "0.3",
         "0.02",
         "NP",
         "0p3_RhNP_0p0201mg_500C_20250424_SLAC1.xlsx",
         "2025-04-24 00:00:00",
         "SLAC",
         "3",
         "0.11071954610513246",
         "0.19607547179548063",
         "0.9853818633790115",
         "0.576934627815625",
         "0.7803966312743708"
        ],
        [
         "27",
         "500.0",
         "0.3",
         "0.02",
         "NP",
         "0p3_RhNP_0p0204_500C_20250315_PSULeft.xls",
         "2025-03-15 00:00:00",
         "PSU",
         "3",
         "0.03497054520087578",
         "0.15753608289641768",
         "0.9592123334039914",
         "0.6114673946751578",
         "0.8999105933180167"
        ],
        [
         "0",
         "500.0",
         "0.3",
         "0.02",
         "NP",
         "0p3_RhNP_0p0197mg_500C_20250211_Cargnello1.xlsx",
         "2025-02-11 00:00:00",
         "Cargnello",
         "3",
         "0.06761639854467592",
         "0.20328738348130915",
         "0.9890148003273511",
         "0.38441693017064926",
         "0.9065868192131515"
        ]
       ],
       "shape": {
        "columns": 13,
        "rows": 4
       }
      },
      "text/html": [
       "<div>\n",
       "<style scoped>\n",
       "    .dataframe tbody tr th:only-of-type {\n",
       "        vertical-align: middle;\n",
       "    }\n",
       "\n",
       "    .dataframe tbody tr th {\n",
       "        vertical-align: top;\n",
       "    }\n",
       "\n",
       "    .dataframe thead th {\n",
       "        text-align: right;\n",
       "    }\n",
       "</style>\n",
       "<table border=\"1\" class=\"dataframe\">\n",
       "  <thead>\n",
       "    <tr style=\"text-align: right;\">\n",
       "      <th></th>\n",
       "      <th>reaction_temp</th>\n",
       "      <th>Rh_weight_loading</th>\n",
       "      <th>Rh_total_mass</th>\n",
       "      <th>synth_method</th>\n",
       "      <th>filename</th>\n",
       "      <th>experiment_date</th>\n",
       "      <th>location</th>\n",
       "      <th>GroupID</th>\n",
       "      <th>CO Net Production Rate (mol/molRh/s)_initial value</th>\n",
       "      <th>CO Net Production Rate (mol/molRh/s)_final value</th>\n",
       "      <th>CO Net Production Rate (mol/molRh/s)_initial slope</th>\n",
       "      <th>CO Net Production Rate (mol/molRh/s)_final slope</th>\n",
       "      <th>CO Net Production Rate (mol/molRh/s)_overall slope</th>\n",
       "    </tr>\n",
       "  </thead>\n",
       "  <tbody>\n",
       "    <tr>\n",
       "      <th>7</th>\n",
       "      <td>500.0</td>\n",
       "      <td>0.3</td>\n",
       "      <td>0.02</td>\n",
       "      <td>NP</td>\n",
       "      <td>0p3_RhNP_0p0201mg_500C_20250312_UCSBRR.xlsx</td>\n",
       "      <td>2025-03-12</td>\n",
       "      <td>UCSB</td>\n",
       "      <td>3</td>\n",
       "      <td>0.022752</td>\n",
       "      <td>0.134119</td>\n",
       "      <td>0.962161</td>\n",
       "      <td>0.628813</td>\n",
       "      <td>0.886642</td>\n",
       "    </tr>\n",
       "    <tr>\n",
       "      <th>21</th>\n",
       "      <td>500.0</td>\n",
       "      <td>0.3</td>\n",
       "      <td>0.02</td>\n",
       "      <td>NP</td>\n",
       "      <td>0p3_RhNP_0p0201mg_500C_20250424_SLAC1.xlsx</td>\n",
       "      <td>2025-04-24</td>\n",
       "      <td>SLAC</td>\n",
       "      <td>3</td>\n",
       "      <td>0.110720</td>\n",
       "      <td>0.196075</td>\n",
       "      <td>0.985382</td>\n",
       "      <td>0.576935</td>\n",
       "      <td>0.780397</td>\n",
       "    </tr>\n",
       "    <tr>\n",
       "      <th>27</th>\n",
       "      <td>500.0</td>\n",
       "      <td>0.3</td>\n",
       "      <td>0.02</td>\n",
       "      <td>NP</td>\n",
       "      <td>0p3_RhNP_0p0204_500C_20250315_PSULeft.xls</td>\n",
       "      <td>2025-03-15</td>\n",
       "      <td>PSU</td>\n",
       "      <td>3</td>\n",
       "      <td>0.034971</td>\n",
       "      <td>0.157536</td>\n",
       "      <td>0.959212</td>\n",
       "      <td>0.611467</td>\n",
       "      <td>0.899911</td>\n",
       "    </tr>\n",
       "    <tr>\n",
       "      <th>0</th>\n",
       "      <td>500.0</td>\n",
       "      <td>0.3</td>\n",
       "      <td>0.02</td>\n",
       "      <td>NP</td>\n",
       "      <td>0p3_RhNP_0p0197mg_500C_20250211_Cargnello1.xlsx</td>\n",
       "      <td>2025-02-11</td>\n",
       "      <td>Cargnello</td>\n",
       "      <td>3</td>\n",
       "      <td>0.067616</td>\n",
       "      <td>0.203287</td>\n",
       "      <td>0.989015</td>\n",
       "      <td>0.384417</td>\n",
       "      <td>0.906587</td>\n",
       "    </tr>\n",
       "  </tbody>\n",
       "</table>\n",
       "</div>"
      ],
      "text/plain": [
       "    reaction_temp  Rh_weight_loading  Rh_total_mass synth_method  \\\n",
       "7           500.0                0.3           0.02           NP   \n",
       "21          500.0                0.3           0.02           NP   \n",
       "27          500.0                0.3           0.02           NP   \n",
       "0           500.0                0.3           0.02           NP   \n",
       "\n",
       "                                           filename experiment_date  \\\n",
       "7       0p3_RhNP_0p0201mg_500C_20250312_UCSBRR.xlsx      2025-03-12   \n",
       "21       0p3_RhNP_0p0201mg_500C_20250424_SLAC1.xlsx      2025-04-24   \n",
       "27        0p3_RhNP_0p0204_500C_20250315_PSULeft.xls      2025-03-15   \n",
       "0   0p3_RhNP_0p0197mg_500C_20250211_Cargnello1.xlsx      2025-02-11   \n",
       "\n",
       "     location  GroupID  CO Net Production Rate (mol/molRh/s)_initial value  \\\n",
       "7        UCSB        3                                           0.022752    \n",
       "21       SLAC        3                                           0.110720    \n",
       "27        PSU        3                                           0.034971    \n",
       "0   Cargnello        3                                           0.067616    \n",
       "\n",
       "    CO Net Production Rate (mol/molRh/s)_final value  \\\n",
       "7                                           0.134119   \n",
       "21                                          0.196075   \n",
       "27                                          0.157536   \n",
       "0                                           0.203287   \n",
       "\n",
       "    CO Net Production Rate (mol/molRh/s)_initial slope  \\\n",
       "7                                            0.962161    \n",
       "21                                           0.985382    \n",
       "27                                           0.959212    \n",
       "0                                            0.989015    \n",
       "\n",
       "    CO Net Production Rate (mol/molRh/s)_final slope  \\\n",
       "7                                           0.628813   \n",
       "21                                          0.576935   \n",
       "27                                          0.611467   \n",
       "0                                           0.384417   \n",
       "\n",
       "    CO Net Production Rate (mol/molRh/s)_overall slope  \n",
       "7                                            0.886642   \n",
       "21                                           0.780397   \n",
       "27                                           0.899911   \n",
       "0                                            0.906587   "
      ]
     },
     "metadata": {},
     "output_type": "display_data"
    },
    {
     "data": {
      "application/vnd.microsoft.datawrangler.viewer.v0+json": {
       "columns": [
        {
         "name": "index",
         "rawType": "object",
         "type": "string"
        },
        {
         "name": "0",
         "rawType": "float64",
         "type": "float"
        }
       ],
       "ref": "6260af29-426e-4d40-82ab-dcd4bcdcea14",
       "rows": [
        [
         "CO Net Production Rate (mol/molRh/s)_initial value",
         "0.40136817227905436"
        ],
        [
         "CO Net Production Rate (mol/molRh/s)_final value",
         "0.42142753303405495"
        ],
        [
         "CO Net Production Rate (mol/molRh/s)_initial slope",
         "0.8769482014400422"
        ],
        [
         "CO Net Production Rate (mol/molRh/s)_final slope",
         "0.45531574698128313"
        ],
        [
         "CO Net Production Rate (mol/molRh/s)_overall slope",
         "0.4709395553019972"
        ]
       ],
       "shape": {
        "columns": 1,
        "rows": 5
       }
      },
      "text/plain": [
       "CO Net Production Rate (mol/molRh/s)_initial value    0.401368\n",
       "CO Net Production Rate (mol/molRh/s)_final value      0.421428\n",
       "CO Net Production Rate (mol/molRh/s)_initial slope    0.876948\n",
       "CO Net Production Rate (mol/molRh/s)_final slope      0.455316\n",
       "CO Net Production Rate (mol/molRh/s)_overall slope    0.470940\n",
       "dtype: float64"
      ]
     },
     "metadata": {},
     "output_type": "display_data"
    },
    {
     "name": "stderr",
     "output_type": "stream",
     "text": [
      "/var/folders/26/fw595kz14qg6n4glslpg2nd80000gn/T/ipykernel_42818/2279593757.py:30: FutureWarning: Series.__getitem__ treating keys as positions is deprecated. In a future version, integer keys will always be treated as labels (consistent with DataFrame behavior). To access a value by position, use `ser.iloc[pos]`\n",
      "  df_dupl[metric_columns] = centroid\n"
     ]
    },
    {
     "data": {
      "application/vnd.microsoft.datawrangler.viewer.v0+json": {
       "columns": [
        {
         "name": "index",
         "rawType": "int64",
         "type": "integer"
        },
        {
         "name": "reaction_temp",
         "rawType": "float64",
         "type": "float"
        },
        {
         "name": "Rh_weight_loading",
         "rawType": "float64",
         "type": "float"
        },
        {
         "name": "Rh_total_mass",
         "rawType": "float64",
         "type": "float"
        },
        {
         "name": "synth_method",
         "rawType": "object",
         "type": "string"
        },
        {
         "name": "filename",
         "rawType": "object",
         "type": "string"
        },
        {
         "name": "experiment_date",
         "rawType": "datetime64[ns]",
         "type": "datetime"
        },
        {
         "name": "location",
         "rawType": "object",
         "type": "string"
        },
        {
         "name": "GroupID",
         "rawType": "int64",
         "type": "integer"
        },
        {
         "name": "CO Net Production Rate (mol/molRh/s)_initial value",
         "rawType": "float64",
         "type": "float"
        },
        {
         "name": "CO Net Production Rate (mol/molRh/s)_final value",
         "rawType": "float64",
         "type": "float"
        },
        {
         "name": "CO Net Production Rate (mol/molRh/s)_initial slope",
         "rawType": "float64",
         "type": "float"
        },
        {
         "name": "CO Net Production Rate (mol/molRh/s)_final slope",
         "rawType": "float64",
         "type": "float"
        },
        {
         "name": "CO Net Production Rate (mol/molRh/s)_overall slope",
         "rawType": "float64",
         "type": "float"
        }
       ],
       "ref": "f0b04b54-aca2-4ce4-bfd9-01e0d66ea58d",
       "rows": [
        [
         "8",
         "500.0",
         "0.3",
         "0.02",
         "WI",
         "0p3_RhWI_0p02mg_500C_20250312_Cargnello1.xlsx",
         "2025-03-12 00:00:00",
         "Cargnello",
         "4",
         "0.3640139867107175",
         "0.4634266821314925",
         "0.8919292446739597",
         "0.44494365472882186",
         "0.6503874642006704"
        ],
        [
         "11",
         "500.0",
         "0.3",
         "0.02",
         "WI",
         "0p3_RhWI_0p0201mg_500C_20250311_UCSBRR.xlsx",
         "2025-03-11 00:00:00",
         "UCSB",
         "4",
         "0.32910589896359865",
         "0.39140317639340283",
         "0.901910339300805",
         "0.430427044643132",
         "0.5989799647164981"
        ],
        [
         "25",
         "500.0",
         "0.3",
         "0.02",
         "WI",
         "0p3_RhWI_0p0207_500C_20250315_PSURight.xls",
         "2025-03-15 00:00:00",
         "PSU",
         "4",
         "0.32856860573259467",
         "0.43956480112859253",
         "0.9131420807999941",
         "0.5021353870460373",
         "0.6955795673858763"
        ],
        [
         "1",
         "500.0",
         "0.3",
         "0.02",
         "WI",
         "0p3_RhWI_0p02mg_500C_20250331_SLAC1.xlsx",
         "2025-03-31 00:00:00",
         "SLAC",
         "4",
         "0.40136817227905436",
         "0.42142753303405495",
         "0.8769482014400422",
         "0.45531574698128313",
         "0.4709395553019972"
        ]
       ],
       "shape": {
        "columns": 13,
        "rows": 4
       }
      },
      "text/html": [
       "<div>\n",
       "<style scoped>\n",
       "    .dataframe tbody tr th:only-of-type {\n",
       "        vertical-align: middle;\n",
       "    }\n",
       "\n",
       "    .dataframe tbody tr th {\n",
       "        vertical-align: top;\n",
       "    }\n",
       "\n",
       "    .dataframe thead th {\n",
       "        text-align: right;\n",
       "    }\n",
       "</style>\n",
       "<table border=\"1\" class=\"dataframe\">\n",
       "  <thead>\n",
       "    <tr style=\"text-align: right;\">\n",
       "      <th></th>\n",
       "      <th>reaction_temp</th>\n",
       "      <th>Rh_weight_loading</th>\n",
       "      <th>Rh_total_mass</th>\n",
       "      <th>synth_method</th>\n",
       "      <th>filename</th>\n",
       "      <th>experiment_date</th>\n",
       "      <th>location</th>\n",
       "      <th>GroupID</th>\n",
       "      <th>CO Net Production Rate (mol/molRh/s)_initial value</th>\n",
       "      <th>CO Net Production Rate (mol/molRh/s)_final value</th>\n",
       "      <th>CO Net Production Rate (mol/molRh/s)_initial slope</th>\n",
       "      <th>CO Net Production Rate (mol/molRh/s)_final slope</th>\n",
       "      <th>CO Net Production Rate (mol/molRh/s)_overall slope</th>\n",
       "    </tr>\n",
       "  </thead>\n",
       "  <tbody>\n",
       "    <tr>\n",
       "      <th>8</th>\n",
       "      <td>500.0</td>\n",
       "      <td>0.3</td>\n",
       "      <td>0.02</td>\n",
       "      <td>WI</td>\n",
       "      <td>0p3_RhWI_0p02mg_500C_20250312_Cargnello1.xlsx</td>\n",
       "      <td>2025-03-12</td>\n",
       "      <td>Cargnello</td>\n",
       "      <td>4</td>\n",
       "      <td>0.364014</td>\n",
       "      <td>0.463427</td>\n",
       "      <td>0.891929</td>\n",
       "      <td>0.444944</td>\n",
       "      <td>0.650387</td>\n",
       "    </tr>\n",
       "    <tr>\n",
       "      <th>11</th>\n",
       "      <td>500.0</td>\n",
       "      <td>0.3</td>\n",
       "      <td>0.02</td>\n",
       "      <td>WI</td>\n",
       "      <td>0p3_RhWI_0p0201mg_500C_20250311_UCSBRR.xlsx</td>\n",
       "      <td>2025-03-11</td>\n",
       "      <td>UCSB</td>\n",
       "      <td>4</td>\n",
       "      <td>0.329106</td>\n",
       "      <td>0.391403</td>\n",
       "      <td>0.901910</td>\n",
       "      <td>0.430427</td>\n",
       "      <td>0.598980</td>\n",
       "    </tr>\n",
       "    <tr>\n",
       "      <th>25</th>\n",
       "      <td>500.0</td>\n",
       "      <td>0.3</td>\n",
       "      <td>0.02</td>\n",
       "      <td>WI</td>\n",
       "      <td>0p3_RhWI_0p0207_500C_20250315_PSURight.xls</td>\n",
       "      <td>2025-03-15</td>\n",
       "      <td>PSU</td>\n",
       "      <td>4</td>\n",
       "      <td>0.328569</td>\n",
       "      <td>0.439565</td>\n",
       "      <td>0.913142</td>\n",
       "      <td>0.502135</td>\n",
       "      <td>0.695580</td>\n",
       "    </tr>\n",
       "    <tr>\n",
       "      <th>1</th>\n",
       "      <td>500.0</td>\n",
       "      <td>0.3</td>\n",
       "      <td>0.02</td>\n",
       "      <td>WI</td>\n",
       "      <td>0p3_RhWI_0p02mg_500C_20250331_SLAC1.xlsx</td>\n",
       "      <td>2025-03-31</td>\n",
       "      <td>SLAC</td>\n",
       "      <td>4</td>\n",
       "      <td>0.401368</td>\n",
       "      <td>0.421428</td>\n",
       "      <td>0.876948</td>\n",
       "      <td>0.455316</td>\n",
       "      <td>0.470940</td>\n",
       "    </tr>\n",
       "  </tbody>\n",
       "</table>\n",
       "</div>"
      ],
      "text/plain": [
       "    reaction_temp  Rh_weight_loading  Rh_total_mass synth_method  \\\n",
       "8           500.0                0.3           0.02           WI   \n",
       "11          500.0                0.3           0.02           WI   \n",
       "25          500.0                0.3           0.02           WI   \n",
       "1           500.0                0.3           0.02           WI   \n",
       "\n",
       "                                         filename experiment_date   location  \\\n",
       "8   0p3_RhWI_0p02mg_500C_20250312_Cargnello1.xlsx      2025-03-12  Cargnello   \n",
       "11    0p3_RhWI_0p0201mg_500C_20250311_UCSBRR.xlsx      2025-03-11       UCSB   \n",
       "25     0p3_RhWI_0p0207_500C_20250315_PSURight.xls      2025-03-15        PSU   \n",
       "1        0p3_RhWI_0p02mg_500C_20250331_SLAC1.xlsx      2025-03-31       SLAC   \n",
       "\n",
       "    GroupID  CO Net Production Rate (mol/molRh/s)_initial value  \\\n",
       "8         4                                           0.364014    \n",
       "11        4                                           0.329106    \n",
       "25        4                                           0.328569    \n",
       "1         4                                           0.401368    \n",
       "\n",
       "    CO Net Production Rate (mol/molRh/s)_final value  \\\n",
       "8                                           0.463427   \n",
       "11                                          0.391403   \n",
       "25                                          0.439565   \n",
       "1                                           0.421428   \n",
       "\n",
       "    CO Net Production Rate (mol/molRh/s)_initial slope  \\\n",
       "8                                            0.891929    \n",
       "11                                           0.901910    \n",
       "25                                           0.913142    \n",
       "1                                            0.876948    \n",
       "\n",
       "    CO Net Production Rate (mol/molRh/s)_final slope  \\\n",
       "8                                           0.444944   \n",
       "11                                          0.430427   \n",
       "25                                          0.502135   \n",
       "1                                           0.455316   \n",
       "\n",
       "    CO Net Production Rate (mol/molRh/s)_overall slope  \n",
       "8                                            0.650387   \n",
       "11                                           0.598980   \n",
       "25                                           0.695580   \n",
       "1                                            0.470940   "
      ]
     },
     "metadata": {},
     "output_type": "display_data"
    },
    {
     "data": {
      "application/vnd.microsoft.datawrangler.viewer.v0+json": {
       "columns": [
        {
         "name": "index",
         "rawType": "object",
         "type": "string"
        },
        {
         "name": "0",
         "rawType": "float64",
         "type": "float"
        }
       ],
       "ref": "87e67c17-a569-424f-be06-f791d388a535",
       "rows": [
        [
         "CO Net Production Rate (mol/molRh/s)_initial value",
         "0.3295224151389683"
        ],
        [
         "CO Net Production Rate (mol/molRh/s)_final value",
         "0.43863932655559584"
        ],
        [
         "CO Net Production Rate (mol/molRh/s)_initial slope",
         "0.9126434220971577"
        ],
        [
         "CO Net Production Rate (mol/molRh/s)_final slope",
         "0.5263567604523941"
        ],
        [
         "CO Net Production Rate (mol/molRh/s)_overall slope",
         "0.6913140734730082"
        ]
       ],
       "shape": {
        "columns": 1,
        "rows": 5
       }
      },
      "text/plain": [
       "CO Net Production Rate (mol/molRh/s)_initial value    0.329522\n",
       "CO Net Production Rate (mol/molRh/s)_final value      0.438639\n",
       "CO Net Production Rate (mol/molRh/s)_initial slope    0.912643\n",
       "CO Net Production Rate (mol/molRh/s)_final slope      0.526357\n",
       "CO Net Production Rate (mol/molRh/s)_overall slope    0.691314\n",
       "dtype: float64"
      ]
     },
     "metadata": {},
     "output_type": "display_data"
    },
    {
     "name": "stderr",
     "output_type": "stream",
     "text": [
      "/var/folders/26/fw595kz14qg6n4glslpg2nd80000gn/T/ipykernel_42818/2279593757.py:40: FutureWarning: Series.__getitem__ treating keys as positions is deprecated. In a future version, integer keys will always be treated as labels (consistent with DataFrame behavior). To access a value by position, use `ser.iloc[pos]`\n",
      "  df_dupl[metric_columns] = centroid\n"
     ]
    },
    {
     "data": {
      "application/vnd.microsoft.datawrangler.viewer.v0+json": {
       "columns": [
        {
         "name": "index",
         "rawType": "int64",
         "type": "integer"
        },
        {
         "name": "reaction_temp",
         "rawType": "float64",
         "type": "float"
        },
        {
         "name": "Rh_weight_loading",
         "rawType": "float64",
         "type": "float"
        },
        {
         "name": "Rh_total_mass",
         "rawType": "float64",
         "type": "float"
        },
        {
         "name": "synth_method",
         "rawType": "object",
         "type": "string"
        },
        {
         "name": "filename",
         "rawType": "object",
         "type": "string"
        },
        {
         "name": "experiment_date",
         "rawType": "datetime64[ns]",
         "type": "datetime"
        },
        {
         "name": "location",
         "rawType": "object",
         "type": "string"
        },
        {
         "name": "GroupID",
         "rawType": "int64",
         "type": "integer"
        },
        {
         "name": "CO Net Production Rate (mol/molRh/s)_initial value",
         "rawType": "float64",
         "type": "float"
        },
        {
         "name": "CO Net Production Rate (mol/molRh/s)_final value",
         "rawType": "float64",
         "type": "float"
        },
        {
         "name": "CO Net Production Rate (mol/molRh/s)_initial slope",
         "rawType": "float64",
         "type": "float"
        },
        {
         "name": "CO Net Production Rate (mol/molRh/s)_final slope",
         "rawType": "float64",
         "type": "float"
        },
        {
         "name": "CO Net Production Rate (mol/molRh/s)_overall slope",
         "rawType": "float64",
         "type": "float"
        }
       ],
       "ref": "5b60f657-e2dc-4ac9-88ae-7418de5e3ad5",
       "rows": [
        [
         "4",
         "500.0",
         "2.0",
         "0.02",
         "WI",
         "2_RhWI_0p0202mg_500C_20250317_Cargnello1.xlsx",
         "2025-03-17 00:00:00",
         "Cargnello",
         "5",
         "0.25576355473260387",
         "0.24254496378725832",
         "0.851640904332812",
         "0.6389303177258752",
         "0.49582289316649275"
        ],
        [
         "9",
         "500.0",
         "2.0",
         "0.02",
         "WI",
         "2_RhWI_0p02mg_500C_20250417_SLAC1.xlsx",
         "2025-04-17 00:00:00",
         "SLAC",
         "5",
         "0.3008503453408011",
         "0.10339325509999103",
         "0.8223948864826539",
         "0.3479709517461415",
         "0.10477860294482044"
        ],
        [
         "15",
         "500.0",
         "2.0",
         "0.02",
         "WI",
         "2_RhWI_0p02mg_500C_20250307_UCSBRR.xlsx",
         "2025-03-07 00:00:00",
         "UCSB",
         "5",
         "0.34250926626087963",
         "0.3916840552246921",
         "0.8923758713251685",
         "0.4093035677594349",
         "0.5647543046036141"
        ],
        [
         "26",
         "500.0",
         "2.0",
         "0.02",
         "WI",
         "2p0_RhWI_0p02_500C_20250331_PSURight.xls",
         "2025-03-31 00:00:00",
         "PSU",
         "5",
         "0.3295224151389683",
         "0.43863932655559584",
         "0.9126434220971577",
         "0.5263567604523941",
         "0.6913140734730082"
        ]
       ],
       "shape": {
        "columns": 13,
        "rows": 4
       }
      },
      "text/html": [
       "<div>\n",
       "<style scoped>\n",
       "    .dataframe tbody tr th:only-of-type {\n",
       "        vertical-align: middle;\n",
       "    }\n",
       "\n",
       "    .dataframe tbody tr th {\n",
       "        vertical-align: top;\n",
       "    }\n",
       "\n",
       "    .dataframe thead th {\n",
       "        text-align: right;\n",
       "    }\n",
       "</style>\n",
       "<table border=\"1\" class=\"dataframe\">\n",
       "  <thead>\n",
       "    <tr style=\"text-align: right;\">\n",
       "      <th></th>\n",
       "      <th>reaction_temp</th>\n",
       "      <th>Rh_weight_loading</th>\n",
       "      <th>Rh_total_mass</th>\n",
       "      <th>synth_method</th>\n",
       "      <th>filename</th>\n",
       "      <th>experiment_date</th>\n",
       "      <th>location</th>\n",
       "      <th>GroupID</th>\n",
       "      <th>CO Net Production Rate (mol/molRh/s)_initial value</th>\n",
       "      <th>CO Net Production Rate (mol/molRh/s)_final value</th>\n",
       "      <th>CO Net Production Rate (mol/molRh/s)_initial slope</th>\n",
       "      <th>CO Net Production Rate (mol/molRh/s)_final slope</th>\n",
       "      <th>CO Net Production Rate (mol/molRh/s)_overall slope</th>\n",
       "    </tr>\n",
       "  </thead>\n",
       "  <tbody>\n",
       "    <tr>\n",
       "      <th>4</th>\n",
       "      <td>500.0</td>\n",
       "      <td>2.0</td>\n",
       "      <td>0.02</td>\n",
       "      <td>WI</td>\n",
       "      <td>2_RhWI_0p0202mg_500C_20250317_Cargnello1.xlsx</td>\n",
       "      <td>2025-03-17</td>\n",
       "      <td>Cargnello</td>\n",
       "      <td>5</td>\n",
       "      <td>0.255764</td>\n",
       "      <td>0.242545</td>\n",
       "      <td>0.851641</td>\n",
       "      <td>0.638930</td>\n",
       "      <td>0.495823</td>\n",
       "    </tr>\n",
       "    <tr>\n",
       "      <th>9</th>\n",
       "      <td>500.0</td>\n",
       "      <td>2.0</td>\n",
       "      <td>0.02</td>\n",
       "      <td>WI</td>\n",
       "      <td>2_RhWI_0p02mg_500C_20250417_SLAC1.xlsx</td>\n",
       "      <td>2025-04-17</td>\n",
       "      <td>SLAC</td>\n",
       "      <td>5</td>\n",
       "      <td>0.300850</td>\n",
       "      <td>0.103393</td>\n",
       "      <td>0.822395</td>\n",
       "      <td>0.347971</td>\n",
       "      <td>0.104779</td>\n",
       "    </tr>\n",
       "    <tr>\n",
       "      <th>15</th>\n",
       "      <td>500.0</td>\n",
       "      <td>2.0</td>\n",
       "      <td>0.02</td>\n",
       "      <td>WI</td>\n",
       "      <td>2_RhWI_0p02mg_500C_20250307_UCSBRR.xlsx</td>\n",
       "      <td>2025-03-07</td>\n",
       "      <td>UCSB</td>\n",
       "      <td>5</td>\n",
       "      <td>0.342509</td>\n",
       "      <td>0.391684</td>\n",
       "      <td>0.892376</td>\n",
       "      <td>0.409304</td>\n",
       "      <td>0.564754</td>\n",
       "    </tr>\n",
       "    <tr>\n",
       "      <th>26</th>\n",
       "      <td>500.0</td>\n",
       "      <td>2.0</td>\n",
       "      <td>0.02</td>\n",
       "      <td>WI</td>\n",
       "      <td>2p0_RhWI_0p02_500C_20250331_PSURight.xls</td>\n",
       "      <td>2025-03-31</td>\n",
       "      <td>PSU</td>\n",
       "      <td>5</td>\n",
       "      <td>0.329522</td>\n",
       "      <td>0.438639</td>\n",
       "      <td>0.912643</td>\n",
       "      <td>0.526357</td>\n",
       "      <td>0.691314</td>\n",
       "    </tr>\n",
       "  </tbody>\n",
       "</table>\n",
       "</div>"
      ],
      "text/plain": [
       "    reaction_temp  Rh_weight_loading  Rh_total_mass synth_method  \\\n",
       "4           500.0                2.0           0.02           WI   \n",
       "9           500.0                2.0           0.02           WI   \n",
       "15          500.0                2.0           0.02           WI   \n",
       "26          500.0                2.0           0.02           WI   \n",
       "\n",
       "                                         filename experiment_date   location  \\\n",
       "4   2_RhWI_0p0202mg_500C_20250317_Cargnello1.xlsx      2025-03-17  Cargnello   \n",
       "9          2_RhWI_0p02mg_500C_20250417_SLAC1.xlsx      2025-04-17       SLAC   \n",
       "15        2_RhWI_0p02mg_500C_20250307_UCSBRR.xlsx      2025-03-07       UCSB   \n",
       "26       2p0_RhWI_0p02_500C_20250331_PSURight.xls      2025-03-31        PSU   \n",
       "\n",
       "    GroupID  CO Net Production Rate (mol/molRh/s)_initial value  \\\n",
       "4         5                                           0.255764    \n",
       "9         5                                           0.300850    \n",
       "15        5                                           0.342509    \n",
       "26        5                                           0.329522    \n",
       "\n",
       "    CO Net Production Rate (mol/molRh/s)_final value  \\\n",
       "4                                           0.242545   \n",
       "9                                           0.103393   \n",
       "15                                          0.391684   \n",
       "26                                          0.438639   \n",
       "\n",
       "    CO Net Production Rate (mol/molRh/s)_initial slope  \\\n",
       "4                                            0.851641    \n",
       "9                                            0.822395    \n",
       "15                                           0.892376    \n",
       "26                                           0.912643    \n",
       "\n",
       "    CO Net Production Rate (mol/molRh/s)_final slope  \\\n",
       "4                                           0.638930   \n",
       "9                                           0.347971   \n",
       "15                                          0.409304   \n",
       "26                                          0.526357   \n",
       "\n",
       "    CO Net Production Rate (mol/molRh/s)_overall slope  \n",
       "4                                            0.495823   \n",
       "9                                            0.104779   \n",
       "15                                           0.564754   \n",
       "26                                           0.691314   "
      ]
     },
     "metadata": {},
     "output_type": "display_data"
    },
    {
     "name": "stdout",
     "output_type": "stream",
     "text": [
      "Dispersion for GroupID 1: 0.1114\n",
      "Dispersion for GroupID 2: 0.1844\n",
      "Dispersion for GroupID 3: 0.1139\n",
      "Dispersion for GroupID 4: 0.0909\n",
      "Dispersion for GroupID 5: 0.2622\n",
      "Dispersion for GroupID 6: 0.6997\n"
     ]
    }
   ],
   "source": [
    "import pandas as pd\n",
    "df_inter_g1 = df_scaled[df_scaled['GroupID'] == 1]\n",
    "\n",
    "df_inter_g2 = df_scaled[df_scaled['GroupID'] == 2]\n",
    "df_rest = df_inter_g2[df_inter_g2['location'] != 'UCSB']\n",
    "df_dupl = df_inter_g2[df_inter_g2['location'] == 'UCSB']\n",
    "_, centroid = get_dispersion(df_dupl, metric_columns)\n",
    "display(centroid)\n",
    "df_dupl = df_dupl.iloc[:1]\n",
    "df_dupl[metric_columns] = centroid\n",
    "df_inter_g2 = pd.concat([df_rest, df_dupl], axis=0)\n",
    "display(df_inter_g2)\n",
    "\n",
    "df_inter_g3 = df_scaled[df_scaled['GroupID'] == 3]\n",
    "df_rest = df_inter_g3[df_inter_g3['location'] != 'Cargnello']\n",
    "df_dupl = df_inter_g3[df_inter_g3['location'] == 'Cargnello']\n",
    "_, centroid = get_dispersion(df_dupl, metric_columns)\n",
    "display(centroid)\n",
    "df_dupl = df_dupl.iloc[:1]\n",
    "df_dupl[metric_columns] = centroid\n",
    "df_inter_g3 = pd.concat([df_rest, df_dupl], axis=0)\n",
    "display(df_inter_g3)\n",
    "\n",
    "df_inter_g4 = df_scaled[df_scaled['GroupID'] == 4]\n",
    "df_rest = df_inter_g4[df_inter_g4['location'] != 'SLAC']\n",
    "df_dupl = df_inter_g4[df_inter_g4['location'] == 'SLAC']\n",
    "_, centroid = get_dispersion(df_dupl, metric_columns)\n",
    "display(centroid)\n",
    "df_dupl = df_dupl.iloc[:1]\n",
    "df_dupl[metric_columns] = centroid\n",
    "df_inter_g4 = pd.concat([df_rest, df_dupl], axis=0)\n",
    "display(df_inter_g4)\n",
    "\n",
    "df_inter_g5 = df_scaled[df_scaled['GroupID'] == 5]\n",
    "df_rest = df_inter_g5[df_inter_g5['location'] != 'PSU']\n",
    "df_dupl = df_inter_g5[df_inter_g5['location'] == 'PSU']\n",
    "_, centroid = get_dispersion(df_dupl, metric_columns)\n",
    "display(centroid)\n",
    "df_dupl = df_dupl.iloc[:1]\n",
    "df_dupl[metric_columns] = centroid\n",
    "df_inter_g5 = pd.concat([df_rest, df_dupl], axis=0)\n",
    "display(df_inter_g5)\n",
    "\n",
    "df_inter_g6 = df_scaled[df_scaled['GroupID'] == 6]\n",
    "\n",
    "dispersion_inter_RR = []\n",
    "for df_inter in [df_inter_g1, df_inter_g2, df_inter_g3, df_inter_g4, df_inter_g5, df_inter_g6]:\n",
    "    dispersion, _ = get_dispersion(df_inter, metric_columns)\n",
    "    dispersion_inter_RR.append(dispersion)\n",
    "    print(f\"Dispersion for GroupID {df_inter['GroupID'].iloc[0]}: {dispersion:.4f}\")"
   ]
  },
  {
   "cell_type": "markdown",
   "id": "216ba920",
   "metadata": {},
   "source": [
    "## 2. Visualization of data in metric space"
   ]
  },
  {
   "cell_type": "code",
   "execution_count": 8,
   "id": "ab3cca78",
   "metadata": {},
   "outputs": [
    {
     "data": {
      "application/vnd.microsoft.datawrangler.viewer.v0+json": {
       "columns": [
        {
         "name": "index",
         "rawType": "int64",
         "type": "integer"
        },
        {
         "name": "CO Net Production Rate (mol/molRh/s)_initial value",
         "rawType": "float64",
         "type": "float"
        },
        {
         "name": "CO Net Production Rate (mol/molRh/s)_final value",
         "rawType": "float64",
         "type": "float"
        },
        {
         "name": "CO Net Production Rate (mol/molRh/s)_initial slope",
         "rawType": "float64",
         "type": "float"
        },
        {
         "name": "CO Net Production Rate (mol/molRh/s)_final slope",
         "rawType": "float64",
         "type": "float"
        },
        {
         "name": "CO Net Production Rate (mol/molRh/s)_overall slope",
         "rawType": "float64",
         "type": "float"
        }
       ],
       "conversionMethod": "pd.DataFrame",
       "ref": "9dca24b1-3ad9-4e92-9b82-d39ba760f8a2",
       "rows": [
        [
         "0",
         "0.07202140281335218",
         "0.25646981418971704",
         "1.0",
         "0.26543726706154946",
         "1.0"
        ],
        [
         "1",
         "0.3446993349796834",
         "0.3169263885317351",
         "0.8754293516408452",
         "0.27441991731009496",
         "0.41193466847990035"
        ],
        [
         "2",
         "0.5426192100544756",
         "0.7060204069568513",
         "0.9697988897345624",
         "0.36261294424263746",
         "0.6652095707815285"
        ],
        [
         "3",
         "0.4184916246040086",
         "0.5442114490768915",
         "0.8920524910130506",
         "0.7061009699658254",
         "0.6683953559975234"
        ],
        [
         "4",
         "0.25576355473260387",
         "0.24254496378725832",
         "0.851640904332812",
         "0.6389303177258752",
         "0.49582289316649275"
        ],
        [
         "5",
         "0.440913557253471",
         "0.4031447614935383",
         "0.8633627616662306",
         "0.38542635366792904",
         "0.332488641428568"
        ],
        [
         "6",
         "0.03184249806891168",
         "0.015902552506057627",
         "0.9257412512504758",
         "0.3786219463706768",
         "0.6302172498256011"
        ],
        [
         "7",
         "0.02275226206161554",
         "0.13411898616905",
         "0.9621609526967047",
         "0.6288126589785041",
         "0.8866415119932716"
        ],
        [
         "8",
         "0.3640139867107175",
         "0.4634266821314925",
         "0.8919292446739597",
         "0.44494365472882186",
         "0.6503874642006704"
        ],
        [
         "9",
         "0.3008503453408011",
         "0.10339325509999103",
         "0.8223948864826539",
         "0.3479709517461415",
         "0.10477860294482044"
        ],
        [
         "10",
         "0.1025235228387785",
         "0.02153633550715542",
         "0.8978687194679172",
         "0.2174594869793477",
         "0.45774559720145175"
        ],
        [
         "11",
         "0.32910589896359865",
         "0.39140317639340283",
         "0.901910339300805",
         "0.430427044643132",
         "0.5989799647164981"
        ],
        [
         "12",
         "0.06812751318835528",
         "0.20405680596805653",
         "0.9698907950595447",
         "0.31602574043779275",
         "0.906771777893459"
        ],
        [
         "13",
         "0.023665468273065593",
         "0.021682894917525314",
         "0.9269740538216166",
         "0.38618432997320645",
         "0.6630267931191076"
        ],
        [
         "14",
         "1.0",
         "0.9705392383813365",
         "0.0",
         "0.8980627450873455",
         "0.0"
        ],
        [
         "15",
         "0.34250926626087963",
         "0.3916840552246921",
         "0.8923758713251685",
         "0.4093035677594349",
         "0.5647543046036141"
        ],
        [
         "16",
         "0.7457783836556784",
         "0.9203263838848408",
         "0.968199619871071",
         "0.5123324602893337",
         "0.5612468747792279"
        ],
        [
         "17",
         "0.5911881874581266",
         "0.6605992328544142",
         "0.8286711315411324",
         "0.29599801519271346",
         "0.44964885225532325"
        ],
        [
         "18",
         "0.29969978504272554",
         "0.5339764189089533",
         "0.7348775576227847",
         "1.0",
         "0.9557752394591982"
        ],
        [
         "19",
         "0.5308929011948891",
         "0.713131701623733",
         "0.9690992700527049",
         "0.4097206657594796",
         "0.7096524496884298"
        ],
        [
         "20",
         "0.5881046422724823",
         "0.6785727089971305",
         "0.8554157276281871",
         "0.35695438208856217",
         "0.4930881249871014"
        ],
        [
         "21",
         "0.11071954610513246",
         "0.19607547179548063",
         "0.9853818633790115",
         "0.576934627815625",
         "0.7803966312743708"
        ],
        [
         "22",
         "0.5495963883832202",
         "0.7234223996302933",
         "0.9610662362611843",
         "0.4087103155608055",
         "0.6814128535250668"
        ],
        [
         "23",
         "0.0627002796323203",
         "0.14933553028615382",
         "0.9971536059225087",
         "0.5717877830126055",
         "0.8129886797459956"
        ],
        [
         "24",
         "0.0",
         "0.0",
         "0.9280923693598714",
         "0.4661929779266978",
         "0.6816432086067659"
        ],
        [
         "25",
         "0.32856860573259467",
         "0.43956480112859253",
         "0.9131420807999941",
         "0.5021353870460373",
         "0.6955795673858763"
        ],
        [
         "26",
         "0.2986321182823397",
         "0.4027373631463811",
         "0.9190246190983399",
         "0.5280517682934488",
         "0.7006173887296303"
        ],
        [
         "27",
         "0.03497054520087578",
         "0.15753608289641768",
         "0.9592123334039914",
         "0.6114673946751578",
         "0.8999105933180167"
        ],
        [
         "28",
         "0.914026114340895",
         "1.0",
         "0.8098052852486776",
         "0.0",
         "0.2842620313752515"
        ],
        [
         "29",
         "0.704851041882415",
         "0.9376058127201772",
         "0.9846211823857774",
         "0.3851882048286273",
         "0.7010443438379046"
        ],
        [
         "30",
         "0.3340755825288377",
         "0.4421435070714873",
         "0.910611680508979",
         "0.535830254296313",
         "0.6864448268660165"
        ],
        [
         "31",
         "0.35585954460572744",
         "0.47103710944891897",
         "0.9082939666841541",
         "0.5151882587674204",
         "0.6868800048233776"
        ]
       ],
       "shape": {
        "columns": 5,
        "rows": 32
       }
      },
      "text/html": [
       "<div>\n",
       "<style scoped>\n",
       "    .dataframe tbody tr th:only-of-type {\n",
       "        vertical-align: middle;\n",
       "    }\n",
       "\n",
       "    .dataframe tbody tr th {\n",
       "        vertical-align: top;\n",
       "    }\n",
       "\n",
       "    .dataframe thead th {\n",
       "        text-align: right;\n",
       "    }\n",
       "</style>\n",
       "<table border=\"1\" class=\"dataframe\">\n",
       "  <thead>\n",
       "    <tr style=\"text-align: right;\">\n",
       "      <th></th>\n",
       "      <th>CO Net Production Rate (mol/molRh/s)_initial value</th>\n",
       "      <th>CO Net Production Rate (mol/molRh/s)_final value</th>\n",
       "      <th>CO Net Production Rate (mol/molRh/s)_initial slope</th>\n",
       "      <th>CO Net Production Rate (mol/molRh/s)_final slope</th>\n",
       "      <th>CO Net Production Rate (mol/molRh/s)_overall slope</th>\n",
       "    </tr>\n",
       "  </thead>\n",
       "  <tbody>\n",
       "    <tr>\n",
       "      <th>0</th>\n",
       "      <td>0.072021</td>\n",
       "      <td>0.256470</td>\n",
       "      <td>1.000000</td>\n",
       "      <td>0.265437</td>\n",
       "      <td>1.000000</td>\n",
       "    </tr>\n",
       "    <tr>\n",
       "      <th>1</th>\n",
       "      <td>0.344699</td>\n",
       "      <td>0.316926</td>\n",
       "      <td>0.875429</td>\n",
       "      <td>0.274420</td>\n",
       "      <td>0.411935</td>\n",
       "    </tr>\n",
       "    <tr>\n",
       "      <th>2</th>\n",
       "      <td>0.542619</td>\n",
       "      <td>0.706020</td>\n",
       "      <td>0.969799</td>\n",
       "      <td>0.362613</td>\n",
       "      <td>0.665210</td>\n",
       "    </tr>\n",
       "    <tr>\n",
       "      <th>3</th>\n",
       "      <td>0.418492</td>\n",
       "      <td>0.544211</td>\n",
       "      <td>0.892052</td>\n",
       "      <td>0.706101</td>\n",
       "      <td>0.668395</td>\n",
       "    </tr>\n",
       "    <tr>\n",
       "      <th>4</th>\n",
       "      <td>0.255764</td>\n",
       "      <td>0.242545</td>\n",
       "      <td>0.851641</td>\n",
       "      <td>0.638930</td>\n",
       "      <td>0.495823</td>\n",
       "    </tr>\n",
       "    <tr>\n",
       "      <th>5</th>\n",
       "      <td>0.440914</td>\n",
       "      <td>0.403145</td>\n",
       "      <td>0.863363</td>\n",
       "      <td>0.385426</td>\n",
       "      <td>0.332489</td>\n",
       "    </tr>\n",
       "    <tr>\n",
       "      <th>6</th>\n",
       "      <td>0.031842</td>\n",
       "      <td>0.015903</td>\n",
       "      <td>0.925741</td>\n",
       "      <td>0.378622</td>\n",
       "      <td>0.630217</td>\n",
       "    </tr>\n",
       "    <tr>\n",
       "      <th>7</th>\n",
       "      <td>0.022752</td>\n",
       "      <td>0.134119</td>\n",
       "      <td>0.962161</td>\n",
       "      <td>0.628813</td>\n",
       "      <td>0.886642</td>\n",
       "    </tr>\n",
       "    <tr>\n",
       "      <th>8</th>\n",
       "      <td>0.364014</td>\n",
       "      <td>0.463427</td>\n",
       "      <td>0.891929</td>\n",
       "      <td>0.444944</td>\n",
       "      <td>0.650387</td>\n",
       "    </tr>\n",
       "    <tr>\n",
       "      <th>9</th>\n",
       "      <td>0.300850</td>\n",
       "      <td>0.103393</td>\n",
       "      <td>0.822395</td>\n",
       "      <td>0.347971</td>\n",
       "      <td>0.104779</td>\n",
       "    </tr>\n",
       "    <tr>\n",
       "      <th>10</th>\n",
       "      <td>0.102524</td>\n",
       "      <td>0.021536</td>\n",
       "      <td>0.897869</td>\n",
       "      <td>0.217459</td>\n",
       "      <td>0.457746</td>\n",
       "    </tr>\n",
       "    <tr>\n",
       "      <th>11</th>\n",
       "      <td>0.329106</td>\n",
       "      <td>0.391403</td>\n",
       "      <td>0.901910</td>\n",
       "      <td>0.430427</td>\n",
       "      <td>0.598980</td>\n",
       "    </tr>\n",
       "    <tr>\n",
       "      <th>12</th>\n",
       "      <td>0.068128</td>\n",
       "      <td>0.204057</td>\n",
       "      <td>0.969891</td>\n",
       "      <td>0.316026</td>\n",
       "      <td>0.906772</td>\n",
       "    </tr>\n",
       "    <tr>\n",
       "      <th>13</th>\n",
       "      <td>0.023665</td>\n",
       "      <td>0.021683</td>\n",
       "      <td>0.926974</td>\n",
       "      <td>0.386184</td>\n",
       "      <td>0.663027</td>\n",
       "    </tr>\n",
       "    <tr>\n",
       "      <th>14</th>\n",
       "      <td>1.000000</td>\n",
       "      <td>0.970539</td>\n",
       "      <td>0.000000</td>\n",
       "      <td>0.898063</td>\n",
       "      <td>0.000000</td>\n",
       "    </tr>\n",
       "    <tr>\n",
       "      <th>15</th>\n",
       "      <td>0.342509</td>\n",
       "      <td>0.391684</td>\n",
       "      <td>0.892376</td>\n",
       "      <td>0.409304</td>\n",
       "      <td>0.564754</td>\n",
       "    </tr>\n",
       "    <tr>\n",
       "      <th>16</th>\n",
       "      <td>0.745778</td>\n",
       "      <td>0.920326</td>\n",
       "      <td>0.968200</td>\n",
       "      <td>0.512332</td>\n",
       "      <td>0.561247</td>\n",
       "    </tr>\n",
       "    <tr>\n",
       "      <th>17</th>\n",
       "      <td>0.591188</td>\n",
       "      <td>0.660599</td>\n",
       "      <td>0.828671</td>\n",
       "      <td>0.295998</td>\n",
       "      <td>0.449649</td>\n",
       "    </tr>\n",
       "    <tr>\n",
       "      <th>18</th>\n",
       "      <td>0.299700</td>\n",
       "      <td>0.533976</td>\n",
       "      <td>0.734878</td>\n",
       "      <td>1.000000</td>\n",
       "      <td>0.955775</td>\n",
       "    </tr>\n",
       "    <tr>\n",
       "      <th>19</th>\n",
       "      <td>0.530893</td>\n",
       "      <td>0.713132</td>\n",
       "      <td>0.969099</td>\n",
       "      <td>0.409721</td>\n",
       "      <td>0.709652</td>\n",
       "    </tr>\n",
       "    <tr>\n",
       "      <th>20</th>\n",
       "      <td>0.588105</td>\n",
       "      <td>0.678573</td>\n",
       "      <td>0.855416</td>\n",
       "      <td>0.356954</td>\n",
       "      <td>0.493088</td>\n",
       "    </tr>\n",
       "    <tr>\n",
       "      <th>21</th>\n",
       "      <td>0.110720</td>\n",
       "      <td>0.196075</td>\n",
       "      <td>0.985382</td>\n",
       "      <td>0.576935</td>\n",
       "      <td>0.780397</td>\n",
       "    </tr>\n",
       "    <tr>\n",
       "      <th>22</th>\n",
       "      <td>0.549596</td>\n",
       "      <td>0.723422</td>\n",
       "      <td>0.961066</td>\n",
       "      <td>0.408710</td>\n",
       "      <td>0.681413</td>\n",
       "    </tr>\n",
       "    <tr>\n",
       "      <th>23</th>\n",
       "      <td>0.062700</td>\n",
       "      <td>0.149336</td>\n",
       "      <td>0.997154</td>\n",
       "      <td>0.571788</td>\n",
       "      <td>0.812989</td>\n",
       "    </tr>\n",
       "    <tr>\n",
       "      <th>24</th>\n",
       "      <td>0.000000</td>\n",
       "      <td>0.000000</td>\n",
       "      <td>0.928092</td>\n",
       "      <td>0.466193</td>\n",
       "      <td>0.681643</td>\n",
       "    </tr>\n",
       "    <tr>\n",
       "      <th>25</th>\n",
       "      <td>0.328569</td>\n",
       "      <td>0.439565</td>\n",
       "      <td>0.913142</td>\n",
       "      <td>0.502135</td>\n",
       "      <td>0.695580</td>\n",
       "    </tr>\n",
       "    <tr>\n",
       "      <th>26</th>\n",
       "      <td>0.298632</td>\n",
       "      <td>0.402737</td>\n",
       "      <td>0.919025</td>\n",
       "      <td>0.528052</td>\n",
       "      <td>0.700617</td>\n",
       "    </tr>\n",
       "    <tr>\n",
       "      <th>27</th>\n",
       "      <td>0.034971</td>\n",
       "      <td>0.157536</td>\n",
       "      <td>0.959212</td>\n",
       "      <td>0.611467</td>\n",
       "      <td>0.899911</td>\n",
       "    </tr>\n",
       "    <tr>\n",
       "      <th>28</th>\n",
       "      <td>0.914026</td>\n",
       "      <td>1.000000</td>\n",
       "      <td>0.809805</td>\n",
       "      <td>0.000000</td>\n",
       "      <td>0.284262</td>\n",
       "    </tr>\n",
       "    <tr>\n",
       "      <th>29</th>\n",
       "      <td>0.704851</td>\n",
       "      <td>0.937606</td>\n",
       "      <td>0.984621</td>\n",
       "      <td>0.385188</td>\n",
       "      <td>0.701044</td>\n",
       "    </tr>\n",
       "    <tr>\n",
       "      <th>30</th>\n",
       "      <td>0.334076</td>\n",
       "      <td>0.442144</td>\n",
       "      <td>0.910612</td>\n",
       "      <td>0.535830</td>\n",
       "      <td>0.686445</td>\n",
       "    </tr>\n",
       "    <tr>\n",
       "      <th>31</th>\n",
       "      <td>0.355860</td>\n",
       "      <td>0.471037</td>\n",
       "      <td>0.908294</td>\n",
       "      <td>0.515188</td>\n",
       "      <td>0.686880</td>\n",
       "    </tr>\n",
       "  </tbody>\n",
       "</table>\n",
       "</div>"
      ],
      "text/plain": [
       "    CO Net Production Rate (mol/molRh/s)_initial value  \\\n",
       "0                                            0.072021    \n",
       "1                                            0.344699    \n",
       "2                                            0.542619    \n",
       "3                                            0.418492    \n",
       "4                                            0.255764    \n",
       "5                                            0.440914    \n",
       "6                                            0.031842    \n",
       "7                                            0.022752    \n",
       "8                                            0.364014    \n",
       "9                                            0.300850    \n",
       "10                                           0.102524    \n",
       "11                                           0.329106    \n",
       "12                                           0.068128    \n",
       "13                                           0.023665    \n",
       "14                                           1.000000    \n",
       "15                                           0.342509    \n",
       "16                                           0.745778    \n",
       "17                                           0.591188    \n",
       "18                                           0.299700    \n",
       "19                                           0.530893    \n",
       "20                                           0.588105    \n",
       "21                                           0.110720    \n",
       "22                                           0.549596    \n",
       "23                                           0.062700    \n",
       "24                                           0.000000    \n",
       "25                                           0.328569    \n",
       "26                                           0.298632    \n",
       "27                                           0.034971    \n",
       "28                                           0.914026    \n",
       "29                                           0.704851    \n",
       "30                                           0.334076    \n",
       "31                                           0.355860    \n",
       "\n",
       "    CO Net Production Rate (mol/molRh/s)_final value  \\\n",
       "0                                           0.256470   \n",
       "1                                           0.316926   \n",
       "2                                           0.706020   \n",
       "3                                           0.544211   \n",
       "4                                           0.242545   \n",
       "5                                           0.403145   \n",
       "6                                           0.015903   \n",
       "7                                           0.134119   \n",
       "8                                           0.463427   \n",
       "9                                           0.103393   \n",
       "10                                          0.021536   \n",
       "11                                          0.391403   \n",
       "12                                          0.204057   \n",
       "13                                          0.021683   \n",
       "14                                          0.970539   \n",
       "15                                          0.391684   \n",
       "16                                          0.920326   \n",
       "17                                          0.660599   \n",
       "18                                          0.533976   \n",
       "19                                          0.713132   \n",
       "20                                          0.678573   \n",
       "21                                          0.196075   \n",
       "22                                          0.723422   \n",
       "23                                          0.149336   \n",
       "24                                          0.000000   \n",
       "25                                          0.439565   \n",
       "26                                          0.402737   \n",
       "27                                          0.157536   \n",
       "28                                          1.000000   \n",
       "29                                          0.937606   \n",
       "30                                          0.442144   \n",
       "31                                          0.471037   \n",
       "\n",
       "    CO Net Production Rate (mol/molRh/s)_initial slope  \\\n",
       "0                                            1.000000    \n",
       "1                                            0.875429    \n",
       "2                                            0.969799    \n",
       "3                                            0.892052    \n",
       "4                                            0.851641    \n",
       "5                                            0.863363    \n",
       "6                                            0.925741    \n",
       "7                                            0.962161    \n",
       "8                                            0.891929    \n",
       "9                                            0.822395    \n",
       "10                                           0.897869    \n",
       "11                                           0.901910    \n",
       "12                                           0.969891    \n",
       "13                                           0.926974    \n",
       "14                                           0.000000    \n",
       "15                                           0.892376    \n",
       "16                                           0.968200    \n",
       "17                                           0.828671    \n",
       "18                                           0.734878    \n",
       "19                                           0.969099    \n",
       "20                                           0.855416    \n",
       "21                                           0.985382    \n",
       "22                                           0.961066    \n",
       "23                                           0.997154    \n",
       "24                                           0.928092    \n",
       "25                                           0.913142    \n",
       "26                                           0.919025    \n",
       "27                                           0.959212    \n",
       "28                                           0.809805    \n",
       "29                                           0.984621    \n",
       "30                                           0.910612    \n",
       "31                                           0.908294    \n",
       "\n",
       "    CO Net Production Rate (mol/molRh/s)_final slope  \\\n",
       "0                                           0.265437   \n",
       "1                                           0.274420   \n",
       "2                                           0.362613   \n",
       "3                                           0.706101   \n",
       "4                                           0.638930   \n",
       "5                                           0.385426   \n",
       "6                                           0.378622   \n",
       "7                                           0.628813   \n",
       "8                                           0.444944   \n",
       "9                                           0.347971   \n",
       "10                                          0.217459   \n",
       "11                                          0.430427   \n",
       "12                                          0.316026   \n",
       "13                                          0.386184   \n",
       "14                                          0.898063   \n",
       "15                                          0.409304   \n",
       "16                                          0.512332   \n",
       "17                                          0.295998   \n",
       "18                                          1.000000   \n",
       "19                                          0.409721   \n",
       "20                                          0.356954   \n",
       "21                                          0.576935   \n",
       "22                                          0.408710   \n",
       "23                                          0.571788   \n",
       "24                                          0.466193   \n",
       "25                                          0.502135   \n",
       "26                                          0.528052   \n",
       "27                                          0.611467   \n",
       "28                                          0.000000   \n",
       "29                                          0.385188   \n",
       "30                                          0.535830   \n",
       "31                                          0.515188   \n",
       "\n",
       "    CO Net Production Rate (mol/molRh/s)_overall slope  \n",
       "0                                            1.000000   \n",
       "1                                            0.411935   \n",
       "2                                            0.665210   \n",
       "3                                            0.668395   \n",
       "4                                            0.495823   \n",
       "5                                            0.332489   \n",
       "6                                            0.630217   \n",
       "7                                            0.886642   \n",
       "8                                            0.650387   \n",
       "9                                            0.104779   \n",
       "10                                           0.457746   \n",
       "11                                           0.598980   \n",
       "12                                           0.906772   \n",
       "13                                           0.663027   \n",
       "14                                           0.000000   \n",
       "15                                           0.564754   \n",
       "16                                           0.561247   \n",
       "17                                           0.449649   \n",
       "18                                           0.955775   \n",
       "19                                           0.709652   \n",
       "20                                           0.493088   \n",
       "21                                           0.780397   \n",
       "22                                           0.681413   \n",
       "23                                           0.812989   \n",
       "24                                           0.681643   \n",
       "25                                           0.695580   \n",
       "26                                           0.700617   \n",
       "27                                           0.899911   \n",
       "28                                           0.284262   \n",
       "29                                           0.701044   \n",
       "30                                           0.686445   \n",
       "31                                           0.686880   "
      ]
     },
     "execution_count": 8,
     "metadata": {},
     "output_type": "execute_result"
    }
   ],
   "source": [
    "df_selected = df_scaled.iloc[:, 8:]\n",
    "df_selected"
   ]
  },
  {
   "cell_type": "code",
   "execution_count": 10,
   "id": "96c52c5b",
   "metadata": {},
   "outputs": [
    {
     "name": "stdout",
     "output_type": "stream",
     "text": [
      "PCA explained variance ratio: [0.63735757 0.18045863]\n"
     ]
    },
    {
     "name": "stderr",
     "output_type": "stream",
     "text": [
      "/Users/djayshin/miniconda3/envs/botorch_env/lib/python3.12/site-packages/sklearn/manifold/_t_sne.py:1162: FutureWarning: 'n_iter' was renamed to 'max_iter' in version 1.5 and will be removed in 1.7.\n",
      "  warnings.warn(\n",
      "/Users/djayshin/miniconda3/envs/botorch_env/lib/python3.12/site-packages/sklearn/manifold/_t_sne.py:1162: FutureWarning: 'n_iter' was renamed to 'max_iter' in version 1.5 and will be removed in 1.7.\n",
      "  warnings.warn(\n",
      "/Users/djayshin/miniconda3/envs/botorch_env/lib/python3.12/site-packages/sklearn/manifold/_t_sne.py:1162: FutureWarning: 'n_iter' was renamed to 'max_iter' in version 1.5 and will be removed in 1.7.\n",
      "  warnings.warn(\n",
      "/Users/djayshin/miniconda3/envs/botorch_env/lib/python3.12/site-packages/sklearn/manifold/_t_sne.py:1162: FutureWarning: 'n_iter' was renamed to 'max_iter' in version 1.5 and will be removed in 1.7.\n",
      "  warnings.warn(\n",
      "/Users/djayshin/miniconda3/envs/botorch_env/lib/python3.12/site-packages/sklearn/manifold/_t_sne.py:1162: FutureWarning: 'n_iter' was renamed to 'max_iter' in version 1.5 and will be removed in 1.7.\n",
      "  warnings.warn(\n",
      "/Users/djayshin/miniconda3/envs/botorch_env/lib/python3.12/site-packages/sklearn/manifold/_t_sne.py:1162: FutureWarning: 'n_iter' was renamed to 'max_iter' in version 1.5 and will be removed in 1.7.\n",
      "  warnings.warn(\n",
      "/Users/djayshin/miniconda3/envs/botorch_env/lib/python3.12/site-packages/sklearn/manifold/_t_sne.py:1162: FutureWarning: 'n_iter' was renamed to 'max_iter' in version 1.5 and will be removed in 1.7.\n",
      "  warnings.warn(\n",
      "/Users/djayshin/miniconda3/envs/botorch_env/lib/python3.12/site-packages/sklearn/manifold/_t_sne.py:1162: FutureWarning: 'n_iter' was renamed to 'max_iter' in version 1.5 and will be removed in 1.7.\n",
      "  warnings.warn(\n",
      "/Users/djayshin/miniconda3/envs/botorch_env/lib/python3.12/site-packages/sklearn/manifold/_t_sne.py:1162: FutureWarning: 'n_iter' was renamed to 'max_iter' in version 1.5 and will be removed in 1.7.\n",
      "  warnings.warn(\n",
      "/Users/djayshin/miniconda3/envs/botorch_env/lib/python3.12/site-packages/sklearn/manifold/_t_sne.py:1162: FutureWarning: 'n_iter' was renamed to 'max_iter' in version 1.5 and will be removed in 1.7.\n",
      "  warnings.warn(\n",
      "/Users/djayshin/miniconda3/envs/botorch_env/lib/python3.12/site-packages/sklearn/manifold/_t_sne.py:1162: FutureWarning: 'n_iter' was renamed to 'max_iter' in version 1.5 and will be removed in 1.7.\n",
      "  warnings.warn(\n",
      "/Users/djayshin/miniconda3/envs/botorch_env/lib/python3.12/site-packages/sklearn/manifold/_t_sne.py:1162: FutureWarning: 'n_iter' was renamed to 'max_iter' in version 1.5 and will be removed in 1.7.\n",
      "  warnings.warn(\n",
      "/Users/djayshin/miniconda3/envs/botorch_env/lib/python3.12/site-packages/sklearn/manifold/_t_sne.py:1162: FutureWarning: 'n_iter' was renamed to 'max_iter' in version 1.5 and will be removed in 1.7.\n",
      "  warnings.warn(\n",
      "/Users/djayshin/miniconda3/envs/botorch_env/lib/python3.12/site-packages/sklearn/manifold/_t_sne.py:1162: FutureWarning: 'n_iter' was renamed to 'max_iter' in version 1.5 and will be removed in 1.7.\n",
      "  warnings.warn(\n",
      "/Users/djayshin/miniconda3/envs/botorch_env/lib/python3.12/site-packages/sklearn/manifold/_t_sne.py:1162: FutureWarning: 'n_iter' was renamed to 'max_iter' in version 1.5 and will be removed in 1.7.\n",
      "  warnings.warn(\n",
      "/Users/djayshin/miniconda3/envs/botorch_env/lib/python3.12/site-packages/sklearn/manifold/_t_sne.py:1162: FutureWarning: 'n_iter' was renamed to 'max_iter' in version 1.5 and will be removed in 1.7.\n",
      "  warnings.warn(\n",
      "/Users/djayshin/miniconda3/envs/botorch_env/lib/python3.12/site-packages/sklearn/manifold/_t_sne.py:1162: FutureWarning: 'n_iter' was renamed to 'max_iter' in version 1.5 and will be removed in 1.7.\n",
      "  warnings.warn(\n",
      "/Users/djayshin/miniconda3/envs/botorch_env/lib/python3.12/site-packages/sklearn/manifold/_t_sne.py:1162: FutureWarning: 'n_iter' was renamed to 'max_iter' in version 1.5 and will be removed in 1.7.\n",
      "  warnings.warn(\n",
      "/Users/djayshin/miniconda3/envs/botorch_env/lib/python3.12/site-packages/sklearn/manifold/_t_sne.py:1162: FutureWarning: 'n_iter' was renamed to 'max_iter' in version 1.5 and will be removed in 1.7.\n",
      "  warnings.warn(\n",
      "/Users/djayshin/miniconda3/envs/botorch_env/lib/python3.12/site-packages/sklearn/manifold/_t_sne.py:1162: FutureWarning: 'n_iter' was renamed to 'max_iter' in version 1.5 and will be removed in 1.7.\n",
      "  warnings.warn(\n",
      "/Users/djayshin/miniconda3/envs/botorch_env/lib/python3.12/site-packages/sklearn/manifold/_t_sne.py:1162: FutureWarning: 'n_iter' was renamed to 'max_iter' in version 1.5 and will be removed in 1.7.\n",
      "  warnings.warn(\n",
      "/Users/djayshin/miniconda3/envs/botorch_env/lib/python3.12/site-packages/sklearn/manifold/_t_sne.py:1162: FutureWarning: 'n_iter' was renamed to 'max_iter' in version 1.5 and will be removed in 1.7.\n",
      "  warnings.warn(\n",
      "/Users/djayshin/miniconda3/envs/botorch_env/lib/python3.12/site-packages/sklearn/manifold/_t_sne.py:1162: FutureWarning: 'n_iter' was renamed to 'max_iter' in version 1.5 and will be removed in 1.7.\n",
      "  warnings.warn(\n",
      "/Users/djayshin/miniconda3/envs/botorch_env/lib/python3.12/site-packages/sklearn/manifold/_t_sne.py:1162: FutureWarning: 'n_iter' was renamed to 'max_iter' in version 1.5 and will be removed in 1.7.\n",
      "  warnings.warn(\n",
      "/Users/djayshin/miniconda3/envs/botorch_env/lib/python3.12/site-packages/sklearn/manifold/_t_sne.py:1162: FutureWarning: 'n_iter' was renamed to 'max_iter' in version 1.5 and will be removed in 1.7.\n",
      "  warnings.warn(\n",
      "/Users/djayshin/miniconda3/envs/botorch_env/lib/python3.12/site-packages/sklearn/manifold/_t_sne.py:1162: FutureWarning: 'n_iter' was renamed to 'max_iter' in version 1.5 and will be removed in 1.7.\n",
      "  warnings.warn(\n",
      "/Users/djayshin/miniconda3/envs/botorch_env/lib/python3.12/site-packages/sklearn/manifold/_t_sne.py:1162: FutureWarning: 'n_iter' was renamed to 'max_iter' in version 1.5 and will be removed in 1.7.\n",
      "  warnings.warn(\n",
      "/Users/djayshin/miniconda3/envs/botorch_env/lib/python3.12/site-packages/sklearn/manifold/_t_sne.py:1162: FutureWarning: 'n_iter' was renamed to 'max_iter' in version 1.5 and will be removed in 1.7.\n",
      "  warnings.warn(\n",
      "/Users/djayshin/miniconda3/envs/botorch_env/lib/python3.12/site-packages/sklearn/manifold/_t_sne.py:1162: FutureWarning: 'n_iter' was renamed to 'max_iter' in version 1.5 and will be removed in 1.7.\n",
      "  warnings.warn(\n",
      "/Users/djayshin/miniconda3/envs/botorch_env/lib/python3.12/site-packages/sklearn/manifold/_t_sne.py:1162: FutureWarning: 'n_iter' was renamed to 'max_iter' in version 1.5 and will be removed in 1.7.\n",
      "  warnings.warn(\n",
      "/Users/djayshin/miniconda3/envs/botorch_env/lib/python3.12/site-packages/sklearn/manifold/_t_sne.py:1162: FutureWarning: 'n_iter' was renamed to 'max_iter' in version 1.5 and will be removed in 1.7.\n",
      "  warnings.warn(\n",
      "/Users/djayshin/miniconda3/envs/botorch_env/lib/python3.12/site-packages/sklearn/manifold/_t_sne.py:1162: FutureWarning: 'n_iter' was renamed to 'max_iter' in version 1.5 and will be removed in 1.7.\n",
      "  warnings.warn(\n",
      "/Users/djayshin/miniconda3/envs/botorch_env/lib/python3.12/site-packages/sklearn/manifold/_t_sne.py:1162: FutureWarning: 'n_iter' was renamed to 'max_iter' in version 1.5 and will be removed in 1.7.\n",
      "  warnings.warn(\n",
      "/Users/djayshin/miniconda3/envs/botorch_env/lib/python3.12/site-packages/sklearn/manifold/_t_sne.py:1162: FutureWarning: 'n_iter' was renamed to 'max_iter' in version 1.5 and will be removed in 1.7.\n",
      "  warnings.warn(\n",
      "/Users/djayshin/miniconda3/envs/botorch_env/lib/python3.12/site-packages/sklearn/manifold/_t_sne.py:1162: FutureWarning: 'n_iter' was renamed to 'max_iter' in version 1.5 and will be removed in 1.7.\n",
      "  warnings.warn(\n",
      "/Users/djayshin/miniconda3/envs/botorch_env/lib/python3.12/site-packages/sklearn/manifold/_t_sne.py:1162: FutureWarning: 'n_iter' was renamed to 'max_iter' in version 1.5 and will be removed in 1.7.\n",
      "  warnings.warn(\n",
      "/Users/djayshin/miniconda3/envs/botorch_env/lib/python3.12/site-packages/sklearn/manifold/_t_sne.py:1162: FutureWarning: 'n_iter' was renamed to 'max_iter' in version 1.5 and will be removed in 1.7.\n",
      "  warnings.warn(\n",
      "/Users/djayshin/miniconda3/envs/botorch_env/lib/python3.12/site-packages/sklearn/manifold/_t_sne.py:1162: FutureWarning: 'n_iter' was renamed to 'max_iter' in version 1.5 and will be removed in 1.7.\n",
      "  warnings.warn(\n",
      "/Users/djayshin/miniconda3/envs/botorch_env/lib/python3.12/site-packages/sklearn/manifold/_t_sne.py:1162: FutureWarning: 'n_iter' was renamed to 'max_iter' in version 1.5 and will be removed in 1.7.\n",
      "  warnings.warn(\n",
      "/Users/djayshin/miniconda3/envs/botorch_env/lib/python3.12/site-packages/sklearn/manifold/_t_sne.py:1162: FutureWarning: 'n_iter' was renamed to 'max_iter' in version 1.5 and will be removed in 1.7.\n",
      "  warnings.warn(\n",
      "/Users/djayshin/miniconda3/envs/botorch_env/lib/python3.12/site-packages/sklearn/manifold/_t_sne.py:1162: FutureWarning: 'n_iter' was renamed to 'max_iter' in version 1.5 and will be removed in 1.7.\n",
      "  warnings.warn(\n",
      "/Users/djayshin/miniconda3/envs/botorch_env/lib/python3.12/site-packages/sklearn/manifold/_t_sne.py:1162: FutureWarning: 'n_iter' was renamed to 'max_iter' in version 1.5 and will be removed in 1.7.\n",
      "  warnings.warn(\n",
      "/Users/djayshin/miniconda3/envs/botorch_env/lib/python3.12/site-packages/sklearn/manifold/_t_sne.py:1162: FutureWarning: 'n_iter' was renamed to 'max_iter' in version 1.5 and will be removed in 1.7.\n",
      "  warnings.warn(\n",
      "/Users/djayshin/miniconda3/envs/botorch_env/lib/python3.12/site-packages/sklearn/manifold/_t_sne.py:1162: FutureWarning: 'n_iter' was renamed to 'max_iter' in version 1.5 and will be removed in 1.7.\n",
      "  warnings.warn(\n",
      "/Users/djayshin/miniconda3/envs/botorch_env/lib/python3.12/site-packages/sklearn/manifold/_t_sne.py:1162: FutureWarning: 'n_iter' was renamed to 'max_iter' in version 1.5 and will be removed in 1.7.\n",
      "  warnings.warn(\n",
      "/Users/djayshin/miniconda3/envs/botorch_env/lib/python3.12/site-packages/sklearn/manifold/_t_sne.py:1162: FutureWarning: 'n_iter' was renamed to 'max_iter' in version 1.5 and will be removed in 1.7.\n",
      "  warnings.warn(\n",
      "/Users/djayshin/miniconda3/envs/botorch_env/lib/python3.12/site-packages/sklearn/manifold/_t_sne.py:1162: FutureWarning: 'n_iter' was renamed to 'max_iter' in version 1.5 and will be removed in 1.7.\n",
      "  warnings.warn(\n",
      "/Users/djayshin/miniconda3/envs/botorch_env/lib/python3.12/site-packages/sklearn/manifold/_t_sne.py:1162: FutureWarning: 'n_iter' was renamed to 'max_iter' in version 1.5 and will be removed in 1.7.\n",
      "  warnings.warn(\n",
      "/Users/djayshin/miniconda3/envs/botorch_env/lib/python3.12/site-packages/sklearn/manifold/_t_sne.py:1162: FutureWarning: 'n_iter' was renamed to 'max_iter' in version 1.5 and will be removed in 1.7.\n",
      "  warnings.warn(\n",
      "/Users/djayshin/miniconda3/envs/botorch_env/lib/python3.12/site-packages/sklearn/manifold/_t_sne.py:1162: FutureWarning: 'n_iter' was renamed to 'max_iter' in version 1.5 and will be removed in 1.7.\n",
      "  warnings.warn(\n",
      "/Users/djayshin/miniconda3/envs/botorch_env/lib/python3.12/site-packages/sklearn/manifold/_t_sne.py:1162: FutureWarning: 'n_iter' was renamed to 'max_iter' in version 1.5 and will be removed in 1.7.\n",
      "  warnings.warn(\n",
      "/Users/djayshin/miniconda3/envs/botorch_env/lib/python3.12/site-packages/sklearn/manifold/_t_sne.py:1162: FutureWarning: 'n_iter' was renamed to 'max_iter' in version 1.5 and will be removed in 1.7.\n",
      "  warnings.warn(\n",
      "/Users/djayshin/miniconda3/envs/botorch_env/lib/python3.12/site-packages/sklearn/manifold/_t_sne.py:1162: FutureWarning: 'n_iter' was renamed to 'max_iter' in version 1.5 and will be removed in 1.7.\n",
      "  warnings.warn(\n",
      "/Users/djayshin/miniconda3/envs/botorch_env/lib/python3.12/site-packages/sklearn/manifold/_t_sne.py:1162: FutureWarning: 'n_iter' was renamed to 'max_iter' in version 1.5 and will be removed in 1.7.\n",
      "  warnings.warn(\n",
      "/Users/djayshin/miniconda3/envs/botorch_env/lib/python3.12/site-packages/sklearn/manifold/_t_sne.py:1162: FutureWarning: 'n_iter' was renamed to 'max_iter' in version 1.5 and will be removed in 1.7.\n",
      "  warnings.warn(\n",
      "/Users/djayshin/miniconda3/envs/botorch_env/lib/python3.12/site-packages/sklearn/manifold/_t_sne.py:1162: FutureWarning: 'n_iter' was renamed to 'max_iter' in version 1.5 and will be removed in 1.7.\n",
      "  warnings.warn(\n",
      "/Users/djayshin/miniconda3/envs/botorch_env/lib/python3.12/site-packages/sklearn/manifold/_t_sne.py:1162: FutureWarning: 'n_iter' was renamed to 'max_iter' in version 1.5 and will be removed in 1.7.\n",
      "  warnings.warn(\n",
      "/Users/djayshin/miniconda3/envs/botorch_env/lib/python3.12/site-packages/sklearn/manifold/_t_sne.py:1162: FutureWarning: 'n_iter' was renamed to 'max_iter' in version 1.5 and will be removed in 1.7.\n",
      "  warnings.warn(\n",
      "/Users/djayshin/miniconda3/envs/botorch_env/lib/python3.12/site-packages/sklearn/manifold/_t_sne.py:1162: FutureWarning: 'n_iter' was renamed to 'max_iter' in version 1.5 and will be removed in 1.7.\n",
      "  warnings.warn(\n",
      "/Users/djayshin/miniconda3/envs/botorch_env/lib/python3.12/site-packages/sklearn/manifold/_t_sne.py:1162: FutureWarning: 'n_iter' was renamed to 'max_iter' in version 1.5 and will be removed in 1.7.\n",
      "  warnings.warn(\n",
      "/Users/djayshin/miniconda3/envs/botorch_env/lib/python3.12/site-packages/sklearn/manifold/_t_sne.py:1162: FutureWarning: 'n_iter' was renamed to 'max_iter' in version 1.5 and will be removed in 1.7.\n",
      "  warnings.warn(\n",
      "/Users/djayshin/miniconda3/envs/botorch_env/lib/python3.12/site-packages/sklearn/manifold/_t_sne.py:1162: FutureWarning: 'n_iter' was renamed to 'max_iter' in version 1.5 and will be removed in 1.7.\n",
      "  warnings.warn(\n",
      "/Users/djayshin/miniconda3/envs/botorch_env/lib/python3.12/site-packages/sklearn/manifold/_t_sne.py:1162: FutureWarning: 'n_iter' was renamed to 'max_iter' in version 1.5 and will be removed in 1.7.\n",
      "  warnings.warn(\n",
      "/Users/djayshin/miniconda3/envs/botorch_env/lib/python3.12/site-packages/sklearn/manifold/_t_sne.py:1162: FutureWarning: 'n_iter' was renamed to 'max_iter' in version 1.5 and will be removed in 1.7.\n",
      "  warnings.warn(\n",
      "/Users/djayshin/miniconda3/envs/botorch_env/lib/python3.12/site-packages/sklearn/manifold/_t_sne.py:1162: FutureWarning: 'n_iter' was renamed to 'max_iter' in version 1.5 and will be removed in 1.7.\n",
      "  warnings.warn(\n",
      "/Users/djayshin/miniconda3/envs/botorch_env/lib/python3.12/site-packages/sklearn/manifold/_t_sne.py:1162: FutureWarning: 'n_iter' was renamed to 'max_iter' in version 1.5 and will be removed in 1.7.\n",
      "  warnings.warn(\n",
      "/Users/djayshin/miniconda3/envs/botorch_env/lib/python3.12/site-packages/sklearn/manifold/_t_sne.py:1162: FutureWarning: 'n_iter' was renamed to 'max_iter' in version 1.5 and will be removed in 1.7.\n",
      "  warnings.warn(\n",
      "/Users/djayshin/miniconda3/envs/botorch_env/lib/python3.12/site-packages/sklearn/manifold/_t_sne.py:1162: FutureWarning: 'n_iter' was renamed to 'max_iter' in version 1.5 and will be removed in 1.7.\n",
      "  warnings.warn(\n",
      "/Users/djayshin/miniconda3/envs/botorch_env/lib/python3.12/site-packages/sklearn/manifold/_t_sne.py:1162: FutureWarning: 'n_iter' was renamed to 'max_iter' in version 1.5 and will be removed in 1.7.\n",
      "  warnings.warn(\n",
      "/Users/djayshin/miniconda3/envs/botorch_env/lib/python3.12/site-packages/sklearn/manifold/_t_sne.py:1162: FutureWarning: 'n_iter' was renamed to 'max_iter' in version 1.5 and will be removed in 1.7.\n",
      "  warnings.warn(\n",
      "/Users/djayshin/miniconda3/envs/botorch_env/lib/python3.12/site-packages/sklearn/manifold/_t_sne.py:1162: FutureWarning: 'n_iter' was renamed to 'max_iter' in version 1.5 and will be removed in 1.7.\n",
      "  warnings.warn(\n",
      "/Users/djayshin/miniconda3/envs/botorch_env/lib/python3.12/site-packages/sklearn/manifold/_t_sne.py:1162: FutureWarning: 'n_iter' was renamed to 'max_iter' in version 1.5 and will be removed in 1.7.\n",
      "  warnings.warn(\n",
      "/Users/djayshin/miniconda3/envs/botorch_env/lib/python3.12/site-packages/sklearn/manifold/_t_sne.py:1162: FutureWarning: 'n_iter' was renamed to 'max_iter' in version 1.5 and will be removed in 1.7.\n",
      "  warnings.warn(\n",
      "/Users/djayshin/miniconda3/envs/botorch_env/lib/python3.12/site-packages/sklearn/manifold/_t_sne.py:1162: FutureWarning: 'n_iter' was renamed to 'max_iter' in version 1.5 and will be removed in 1.7.\n",
      "  warnings.warn(\n",
      "/Users/djayshin/miniconda3/envs/botorch_env/lib/python3.12/site-packages/sklearn/manifold/_t_sne.py:1162: FutureWarning: 'n_iter' was renamed to 'max_iter' in version 1.5 and will be removed in 1.7.\n",
      "  warnings.warn(\n",
      "/Users/djayshin/miniconda3/envs/botorch_env/lib/python3.12/site-packages/sklearn/manifold/_t_sne.py:1162: FutureWarning: 'n_iter' was renamed to 'max_iter' in version 1.5 and will be removed in 1.7.\n",
      "  warnings.warn(\n",
      "/Users/djayshin/miniconda3/envs/botorch_env/lib/python3.12/site-packages/sklearn/manifold/_t_sne.py:1162: FutureWarning: 'n_iter' was renamed to 'max_iter' in version 1.5 and will be removed in 1.7.\n",
      "  warnings.warn(\n",
      "/Users/djayshin/miniconda3/envs/botorch_env/lib/python3.12/site-packages/sklearn/manifold/_t_sne.py:1162: FutureWarning: 'n_iter' was renamed to 'max_iter' in version 1.5 and will be removed in 1.7.\n",
      "  warnings.warn(\n",
      "/Users/djayshin/miniconda3/envs/botorch_env/lib/python3.12/site-packages/sklearn/manifold/_t_sne.py:1162: FutureWarning: 'n_iter' was renamed to 'max_iter' in version 1.5 and will be removed in 1.7.\n",
      "  warnings.warn(\n",
      "/Users/djayshin/miniconda3/envs/botorch_env/lib/python3.12/site-packages/sklearn/manifold/_t_sne.py:1162: FutureWarning: 'n_iter' was renamed to 'max_iter' in version 1.5 and will be removed in 1.7.\n",
      "  warnings.warn(\n",
      "/Users/djayshin/miniconda3/envs/botorch_env/lib/python3.12/site-packages/sklearn/manifold/_t_sne.py:1162: FutureWarning: 'n_iter' was renamed to 'max_iter' in version 1.5 and will be removed in 1.7.\n",
      "  warnings.warn(\n",
      "/Users/djayshin/miniconda3/envs/botorch_env/lib/python3.12/site-packages/sklearn/manifold/_t_sne.py:1162: FutureWarning: 'n_iter' was renamed to 'max_iter' in version 1.5 and will be removed in 1.7.\n",
      "  warnings.warn(\n",
      "/Users/djayshin/miniconda3/envs/botorch_env/lib/python3.12/site-packages/sklearn/manifold/_t_sne.py:1162: FutureWarning: 'n_iter' was renamed to 'max_iter' in version 1.5 and will be removed in 1.7.\n",
      "  warnings.warn(\n",
      "/Users/djayshin/miniconda3/envs/botorch_env/lib/python3.12/site-packages/sklearn/manifold/_t_sne.py:1162: FutureWarning: 'n_iter' was renamed to 'max_iter' in version 1.5 and will be removed in 1.7.\n",
      "  warnings.warn(\n",
      "/Users/djayshin/miniconda3/envs/botorch_env/lib/python3.12/site-packages/sklearn/manifold/_t_sne.py:1162: FutureWarning: 'n_iter' was renamed to 'max_iter' in version 1.5 and will be removed in 1.7.\n",
      "  warnings.warn(\n",
      "/Users/djayshin/miniconda3/envs/botorch_env/lib/python3.12/site-packages/sklearn/manifold/_t_sne.py:1162: FutureWarning: 'n_iter' was renamed to 'max_iter' in version 1.5 and will be removed in 1.7.\n",
      "  warnings.warn(\n",
      "/Users/djayshin/miniconda3/envs/botorch_env/lib/python3.12/site-packages/sklearn/manifold/_t_sne.py:1162: FutureWarning: 'n_iter' was renamed to 'max_iter' in version 1.5 and will be removed in 1.7.\n",
      "  warnings.warn(\n",
      "/Users/djayshin/miniconda3/envs/botorch_env/lib/python3.12/site-packages/sklearn/manifold/_t_sne.py:1162: FutureWarning: 'n_iter' was renamed to 'max_iter' in version 1.5 and will be removed in 1.7.\n",
      "  warnings.warn(\n",
      "/Users/djayshin/miniconda3/envs/botorch_env/lib/python3.12/site-packages/sklearn/manifold/_t_sne.py:1162: FutureWarning: 'n_iter' was renamed to 'max_iter' in version 1.5 and will be removed in 1.7.\n",
      "  warnings.warn(\n",
      "/Users/djayshin/miniconda3/envs/botorch_env/lib/python3.12/site-packages/sklearn/manifold/_t_sne.py:1162: FutureWarning: 'n_iter' was renamed to 'max_iter' in version 1.5 and will be removed in 1.7.\n",
      "  warnings.warn(\n",
      "/Users/djayshin/miniconda3/envs/botorch_env/lib/python3.12/site-packages/sklearn/manifold/_t_sne.py:1162: FutureWarning: 'n_iter' was renamed to 'max_iter' in version 1.5 and will be removed in 1.7.\n",
      "  warnings.warn(\n",
      "/Users/djayshin/miniconda3/envs/botorch_env/lib/python3.12/site-packages/sklearn/manifold/_t_sne.py:1162: FutureWarning: 'n_iter' was renamed to 'max_iter' in version 1.5 and will be removed in 1.7.\n",
      "  warnings.warn(\n",
      "/Users/djayshin/miniconda3/envs/botorch_env/lib/python3.12/site-packages/sklearn/manifold/_t_sne.py:1162: FutureWarning: 'n_iter' was renamed to 'max_iter' in version 1.5 and will be removed in 1.7.\n",
      "  warnings.warn(\n",
      "/Users/djayshin/miniconda3/envs/botorch_env/lib/python3.12/site-packages/sklearn/manifold/_t_sne.py:1162: FutureWarning: 'n_iter' was renamed to 'max_iter' in version 1.5 and will be removed in 1.7.\n",
      "  warnings.warn(\n",
      "/Users/djayshin/miniconda3/envs/botorch_env/lib/python3.12/site-packages/sklearn/manifold/_t_sne.py:1162: FutureWarning: 'n_iter' was renamed to 'max_iter' in version 1.5 and will be removed in 1.7.\n",
      "  warnings.warn(\n",
      "/Users/djayshin/miniconda3/envs/botorch_env/lib/python3.12/site-packages/sklearn/manifold/_t_sne.py:1162: FutureWarning: 'n_iter' was renamed to 'max_iter' in version 1.5 and will be removed in 1.7.\n",
      "  warnings.warn(\n",
      "/Users/djayshin/miniconda3/envs/botorch_env/lib/python3.12/site-packages/sklearn/manifold/_t_sne.py:1162: FutureWarning: 'n_iter' was renamed to 'max_iter' in version 1.5 and will be removed in 1.7.\n",
      "  warnings.warn(\n",
      "/Users/djayshin/miniconda3/envs/botorch_env/lib/python3.12/site-packages/sklearn/manifold/_t_sne.py:1162: FutureWarning: 'n_iter' was renamed to 'max_iter' in version 1.5 and will be removed in 1.7.\n",
      "  warnings.warn(\n",
      "/Users/djayshin/miniconda3/envs/botorch_env/lib/python3.12/site-packages/sklearn/manifold/_t_sne.py:1162: FutureWarning: 'n_iter' was renamed to 'max_iter' in version 1.5 and will be removed in 1.7.\n",
      "  warnings.warn(\n",
      "/Users/djayshin/miniconda3/envs/botorch_env/lib/python3.12/site-packages/sklearn/manifold/_t_sne.py:1162: FutureWarning: 'n_iter' was renamed to 'max_iter' in version 1.5 and will be removed in 1.7.\n",
      "  warnings.warn(\n",
      "/Users/djayshin/miniconda3/envs/botorch_env/lib/python3.12/site-packages/sklearn/manifold/_t_sne.py:1162: FutureWarning: 'n_iter' was renamed to 'max_iter' in version 1.5 and will be removed in 1.7.\n",
      "  warnings.warn(\n",
      "/Users/djayshin/miniconda3/envs/botorch_env/lib/python3.12/site-packages/sklearn/manifold/_t_sne.py:1162: FutureWarning: 'n_iter' was renamed to 'max_iter' in version 1.5 and will be removed in 1.7.\n",
      "  warnings.warn(\n",
      "/Users/djayshin/miniconda3/envs/botorch_env/lib/python3.12/site-packages/sklearn/manifold/_t_sne.py:1162: FutureWarning: 'n_iter' was renamed to 'max_iter' in version 1.5 and will be removed in 1.7.\n",
      "  warnings.warn(\n",
      "/Users/djayshin/miniconda3/envs/botorch_env/lib/python3.12/site-packages/sklearn/manifold/_t_sne.py:1162: FutureWarning: 'n_iter' was renamed to 'max_iter' in version 1.5 and will be removed in 1.7.\n",
      "  warnings.warn(\n",
      "/Users/djayshin/miniconda3/envs/botorch_env/lib/python3.12/site-packages/sklearn/manifold/_t_sne.py:1162: FutureWarning: 'n_iter' was renamed to 'max_iter' in version 1.5 and will be removed in 1.7.\n",
      "  warnings.warn(\n",
      "/Users/djayshin/miniconda3/envs/botorch_env/lib/python3.12/site-packages/sklearn/manifold/_t_sne.py:1162: FutureWarning: 'n_iter' was renamed to 'max_iter' in version 1.5 and will be removed in 1.7.\n",
      "  warnings.warn(\n",
      "/Users/djayshin/miniconda3/envs/botorch_env/lib/python3.12/site-packages/sklearn/manifold/_t_sne.py:1162: FutureWarning: 'n_iter' was renamed to 'max_iter' in version 1.5 and will be removed in 1.7.\n",
      "  warnings.warn(\n",
      "/Users/djayshin/miniconda3/envs/botorch_env/lib/python3.12/site-packages/sklearn/manifold/_t_sne.py:1162: FutureWarning: 'n_iter' was renamed to 'max_iter' in version 1.5 and will be removed in 1.7.\n",
      "  warnings.warn(\n",
      "/Users/djayshin/miniconda3/envs/botorch_env/lib/python3.12/site-packages/sklearn/manifold/_t_sne.py:1162: FutureWarning: 'n_iter' was renamed to 'max_iter' in version 1.5 and will be removed in 1.7.\n",
      "  warnings.warn(\n",
      "/Users/djayshin/miniconda3/envs/botorch_env/lib/python3.12/site-packages/sklearn/manifold/_t_sne.py:1162: FutureWarning: 'n_iter' was renamed to 'max_iter' in version 1.5 and will be removed in 1.7.\n",
      "  warnings.warn(\n",
      "/Users/djayshin/miniconda3/envs/botorch_env/lib/python3.12/site-packages/sklearn/manifold/_t_sne.py:1162: FutureWarning: 'n_iter' was renamed to 'max_iter' in version 1.5 and will be removed in 1.7.\n",
      "  warnings.warn(\n",
      "/Users/djayshin/miniconda3/envs/botorch_env/lib/python3.12/site-packages/sklearn/manifold/_t_sne.py:1162: FutureWarning: 'n_iter' was renamed to 'max_iter' in version 1.5 and will be removed in 1.7.\n",
      "  warnings.warn(\n",
      "/Users/djayshin/miniconda3/envs/botorch_env/lib/python3.12/site-packages/sklearn/manifold/_t_sne.py:1162: FutureWarning: 'n_iter' was renamed to 'max_iter' in version 1.5 and will be removed in 1.7.\n",
      "  warnings.warn(\n",
      "/Users/djayshin/miniconda3/envs/botorch_env/lib/python3.12/site-packages/sklearn/manifold/_t_sne.py:1162: FutureWarning: 'n_iter' was renamed to 'max_iter' in version 1.5 and will be removed in 1.7.\n",
      "  warnings.warn(\n",
      "/Users/djayshin/miniconda3/envs/botorch_env/lib/python3.12/site-packages/sklearn/manifold/_t_sne.py:1162: FutureWarning: 'n_iter' was renamed to 'max_iter' in version 1.5 and will be removed in 1.7.\n",
      "  warnings.warn(\n",
      "/Users/djayshin/miniconda3/envs/botorch_env/lib/python3.12/site-packages/sklearn/manifold/_t_sne.py:1162: FutureWarning: 'n_iter' was renamed to 'max_iter' in version 1.5 and will be removed in 1.7.\n",
      "  warnings.warn(\n",
      "/Users/djayshin/miniconda3/envs/botorch_env/lib/python3.12/site-packages/sklearn/manifold/_t_sne.py:1162: FutureWarning: 'n_iter' was renamed to 'max_iter' in version 1.5 and will be removed in 1.7.\n",
      "  warnings.warn(\n",
      "/Users/djayshin/miniconda3/envs/botorch_env/lib/python3.12/site-packages/sklearn/manifold/_t_sne.py:1162: FutureWarning: 'n_iter' was renamed to 'max_iter' in version 1.5 and will be removed in 1.7.\n",
      "  warnings.warn(\n",
      "/Users/djayshin/miniconda3/envs/botorch_env/lib/python3.12/site-packages/sklearn/manifold/_t_sne.py:1162: FutureWarning: 'n_iter' was renamed to 'max_iter' in version 1.5 and will be removed in 1.7.\n",
      "  warnings.warn(\n",
      "/Users/djayshin/miniconda3/envs/botorch_env/lib/python3.12/site-packages/sklearn/manifold/_t_sne.py:1162: FutureWarning: 'n_iter' was renamed to 'max_iter' in version 1.5 and will be removed in 1.7.\n",
      "  warnings.warn(\n",
      "/Users/djayshin/miniconda3/envs/botorch_env/lib/python3.12/site-packages/sklearn/manifold/_t_sne.py:1162: FutureWarning: 'n_iter' was renamed to 'max_iter' in version 1.5 and will be removed in 1.7.\n",
      "  warnings.warn(\n",
      "/Users/djayshin/miniconda3/envs/botorch_env/lib/python3.12/site-packages/sklearn/manifold/_t_sne.py:1162: FutureWarning: 'n_iter' was renamed to 'max_iter' in version 1.5 and will be removed in 1.7.\n",
      "  warnings.warn(\n",
      "/Users/djayshin/miniconda3/envs/botorch_env/lib/python3.12/site-packages/sklearn/manifold/_t_sne.py:1162: FutureWarning: 'n_iter' was renamed to 'max_iter' in version 1.5 and will be removed in 1.7.\n",
      "  warnings.warn(\n",
      "/Users/djayshin/miniconda3/envs/botorch_env/lib/python3.12/site-packages/sklearn/manifold/_t_sne.py:1162: FutureWarning: 'n_iter' was renamed to 'max_iter' in version 1.5 and will be removed in 1.7.\n",
      "  warnings.warn(\n",
      "/Users/djayshin/miniconda3/envs/botorch_env/lib/python3.12/site-packages/sklearn/manifold/_t_sne.py:1162: FutureWarning: 'n_iter' was renamed to 'max_iter' in version 1.5 and will be removed in 1.7.\n",
      "  warnings.warn(\n",
      "/Users/djayshin/miniconda3/envs/botorch_env/lib/python3.12/site-packages/sklearn/manifold/_t_sne.py:1162: FutureWarning: 'n_iter' was renamed to 'max_iter' in version 1.5 and will be removed in 1.7.\n",
      "  warnings.warn(\n",
      "/Users/djayshin/miniconda3/envs/botorch_env/lib/python3.12/site-packages/sklearn/manifold/_t_sne.py:1162: FutureWarning: 'n_iter' was renamed to 'max_iter' in version 1.5 and will be removed in 1.7.\n",
      "  warnings.warn(\n",
      "/Users/djayshin/miniconda3/envs/botorch_env/lib/python3.12/site-packages/sklearn/manifold/_t_sne.py:1162: FutureWarning: 'n_iter' was renamed to 'max_iter' in version 1.5 and will be removed in 1.7.\n",
      "  warnings.warn(\n",
      "/Users/djayshin/miniconda3/envs/botorch_env/lib/python3.12/site-packages/sklearn/manifold/_t_sne.py:1162: FutureWarning: 'n_iter' was renamed to 'max_iter' in version 1.5 and will be removed in 1.7.\n",
      "  warnings.warn(\n",
      "/Users/djayshin/miniconda3/envs/botorch_env/lib/python3.12/site-packages/sklearn/manifold/_t_sne.py:1162: FutureWarning: 'n_iter' was renamed to 'max_iter' in version 1.5 and will be removed in 1.7.\n",
      "  warnings.warn(\n",
      "/Users/djayshin/miniconda3/envs/botorch_env/lib/python3.12/site-packages/sklearn/manifold/_t_sne.py:1162: FutureWarning: 'n_iter' was renamed to 'max_iter' in version 1.5 and will be removed in 1.7.\n",
      "  warnings.warn(\n",
      "/Users/djayshin/miniconda3/envs/botorch_env/lib/python3.12/site-packages/sklearn/manifold/_t_sne.py:1162: FutureWarning: 'n_iter' was renamed to 'max_iter' in version 1.5 and will be removed in 1.7.\n",
      "  warnings.warn(\n",
      "/Users/djayshin/miniconda3/envs/botorch_env/lib/python3.12/site-packages/sklearn/manifold/_t_sne.py:1162: FutureWarning: 'n_iter' was renamed to 'max_iter' in version 1.5 and will be removed in 1.7.\n",
      "  warnings.warn(\n",
      "/Users/djayshin/miniconda3/envs/botorch_env/lib/python3.12/site-packages/sklearn/manifold/_t_sne.py:1162: FutureWarning: 'n_iter' was renamed to 'max_iter' in version 1.5 and will be removed in 1.7.\n",
      "  warnings.warn(\n",
      "/Users/djayshin/miniconda3/envs/botorch_env/lib/python3.12/site-packages/sklearn/manifold/_t_sne.py:1162: FutureWarning: 'n_iter' was renamed to 'max_iter' in version 1.5 and will be removed in 1.7.\n",
      "  warnings.warn(\n",
      "/Users/djayshin/miniconda3/envs/botorch_env/lib/python3.12/site-packages/sklearn/manifold/_t_sne.py:1162: FutureWarning: 'n_iter' was renamed to 'max_iter' in version 1.5 and will be removed in 1.7.\n",
      "  warnings.warn(\n",
      "/Users/djayshin/miniconda3/envs/botorch_env/lib/python3.12/site-packages/sklearn/manifold/_t_sne.py:1162: FutureWarning: 'n_iter' was renamed to 'max_iter' in version 1.5 and will be removed in 1.7.\n",
      "  warnings.warn(\n",
      "/Users/djayshin/miniconda3/envs/botorch_env/lib/python3.12/site-packages/sklearn/manifold/_t_sne.py:1162: FutureWarning: 'n_iter' was renamed to 'max_iter' in version 1.5 and will be removed in 1.7.\n",
      "  warnings.warn(\n",
      "/Users/djayshin/miniconda3/envs/botorch_env/lib/python3.12/site-packages/sklearn/manifold/_t_sne.py:1162: FutureWarning: 'n_iter' was renamed to 'max_iter' in version 1.5 and will be removed in 1.7.\n",
      "  warnings.warn(\n",
      "/Users/djayshin/miniconda3/envs/botorch_env/lib/python3.12/site-packages/sklearn/manifold/_t_sne.py:1162: FutureWarning: 'n_iter' was renamed to 'max_iter' in version 1.5 and will be removed in 1.7.\n",
      "  warnings.warn(\n",
      "/Users/djayshin/miniconda3/envs/botorch_env/lib/python3.12/site-packages/sklearn/manifold/_t_sne.py:1162: FutureWarning: 'n_iter' was renamed to 'max_iter' in version 1.5 and will be removed in 1.7.\n",
      "  warnings.warn(\n",
      "/Users/djayshin/miniconda3/envs/botorch_env/lib/python3.12/site-packages/sklearn/manifold/_t_sne.py:1162: FutureWarning: 'n_iter' was renamed to 'max_iter' in version 1.5 and will be removed in 1.7.\n",
      "  warnings.warn(\n",
      "/Users/djayshin/miniconda3/envs/botorch_env/lib/python3.12/site-packages/sklearn/manifold/_t_sne.py:1162: FutureWarning: 'n_iter' was renamed to 'max_iter' in version 1.5 and will be removed in 1.7.\n",
      "  warnings.warn(\n",
      "/Users/djayshin/miniconda3/envs/botorch_env/lib/python3.12/site-packages/sklearn/manifold/_t_sne.py:1162: FutureWarning: 'n_iter' was renamed to 'max_iter' in version 1.5 and will be removed in 1.7.\n",
      "  warnings.warn(\n",
      "/Users/djayshin/miniconda3/envs/botorch_env/lib/python3.12/site-packages/sklearn/manifold/_t_sne.py:1162: FutureWarning: 'n_iter' was renamed to 'max_iter' in version 1.5 and will be removed in 1.7.\n",
      "  warnings.warn(\n",
      "/Users/djayshin/miniconda3/envs/botorch_env/lib/python3.12/site-packages/sklearn/manifold/_t_sne.py:1162: FutureWarning: 'n_iter' was renamed to 'max_iter' in version 1.5 and will be removed in 1.7.\n",
      "  warnings.warn(\n",
      "/Users/djayshin/miniconda3/envs/botorch_env/lib/python3.12/site-packages/sklearn/manifold/_t_sne.py:1162: FutureWarning: 'n_iter' was renamed to 'max_iter' in version 1.5 and will be removed in 1.7.\n",
      "  warnings.warn(\n",
      "/Users/djayshin/miniconda3/envs/botorch_env/lib/python3.12/site-packages/sklearn/manifold/_t_sne.py:1162: FutureWarning: 'n_iter' was renamed to 'max_iter' in version 1.5 and will be removed in 1.7.\n",
      "  warnings.warn(\n",
      "/Users/djayshin/miniconda3/envs/botorch_env/lib/python3.12/site-packages/sklearn/manifold/_t_sne.py:1162: FutureWarning: 'n_iter' was renamed to 'max_iter' in version 1.5 and will be removed in 1.7.\n",
      "  warnings.warn(\n",
      "/Users/djayshin/miniconda3/envs/botorch_env/lib/python3.12/site-packages/sklearn/manifold/_t_sne.py:1162: FutureWarning: 'n_iter' was renamed to 'max_iter' in version 1.5 and will be removed in 1.7.\n",
      "  warnings.warn(\n",
      "/Users/djayshin/miniconda3/envs/botorch_env/lib/python3.12/site-packages/sklearn/manifold/_t_sne.py:1162: FutureWarning: 'n_iter' was renamed to 'max_iter' in version 1.5 and will be removed in 1.7.\n",
      "  warnings.warn(\n",
      "/Users/djayshin/miniconda3/envs/botorch_env/lib/python3.12/site-packages/sklearn/manifold/_t_sne.py:1162: FutureWarning: 'n_iter' was renamed to 'max_iter' in version 1.5 and will be removed in 1.7.\n",
      "  warnings.warn(\n",
      "/Users/djayshin/miniconda3/envs/botorch_env/lib/python3.12/site-packages/sklearn/manifold/_t_sne.py:1162: FutureWarning: 'n_iter' was renamed to 'max_iter' in version 1.5 and will be removed in 1.7.\n",
      "  warnings.warn(\n",
      "/Users/djayshin/miniconda3/envs/botorch_env/lib/python3.12/site-packages/sklearn/manifold/_t_sne.py:1162: FutureWarning: 'n_iter' was renamed to 'max_iter' in version 1.5 and will be removed in 1.7.\n",
      "  warnings.warn(\n",
      "/Users/djayshin/miniconda3/envs/botorch_env/lib/python3.12/site-packages/sklearn/manifold/_t_sne.py:1162: FutureWarning: 'n_iter' was renamed to 'max_iter' in version 1.5 and will be removed in 1.7.\n",
      "  warnings.warn(\n",
      "/Users/djayshin/miniconda3/envs/botorch_env/lib/python3.12/site-packages/sklearn/manifold/_t_sne.py:1162: FutureWarning: 'n_iter' was renamed to 'max_iter' in version 1.5 and will be removed in 1.7.\n",
      "  warnings.warn(\n",
      "/Users/djayshin/miniconda3/envs/botorch_env/lib/python3.12/site-packages/sklearn/manifold/_t_sne.py:1162: FutureWarning: 'n_iter' was renamed to 'max_iter' in version 1.5 and will be removed in 1.7.\n",
      "  warnings.warn(\n",
      "/Users/djayshin/miniconda3/envs/botorch_env/lib/python3.12/site-packages/sklearn/manifold/_t_sne.py:1162: FutureWarning: 'n_iter' was renamed to 'max_iter' in version 1.5 and will be removed in 1.7.\n",
      "  warnings.warn(\n",
      "/Users/djayshin/miniconda3/envs/botorch_env/lib/python3.12/site-packages/sklearn/manifold/_t_sne.py:1162: FutureWarning: 'n_iter' was renamed to 'max_iter' in version 1.5 and will be removed in 1.7.\n",
      "  warnings.warn(\n",
      "/Users/djayshin/miniconda3/envs/botorch_env/lib/python3.12/site-packages/sklearn/manifold/_t_sne.py:1162: FutureWarning: 'n_iter' was renamed to 'max_iter' in version 1.5 and will be removed in 1.7.\n",
      "  warnings.warn(\n",
      "/Users/djayshin/miniconda3/envs/botorch_env/lib/python3.12/site-packages/sklearn/manifold/_t_sne.py:1162: FutureWarning: 'n_iter' was renamed to 'max_iter' in version 1.5 and will be removed in 1.7.\n",
      "  warnings.warn(\n",
      "/Users/djayshin/miniconda3/envs/botorch_env/lib/python3.12/site-packages/sklearn/manifold/_t_sne.py:1162: FutureWarning: 'n_iter' was renamed to 'max_iter' in version 1.5 and will be removed in 1.7.\n",
      "  warnings.warn(\n",
      "/Users/djayshin/miniconda3/envs/botorch_env/lib/python3.12/site-packages/sklearn/manifold/_t_sne.py:1162: FutureWarning: 'n_iter' was renamed to 'max_iter' in version 1.5 and will be removed in 1.7.\n",
      "  warnings.warn(\n",
      "/Users/djayshin/miniconda3/envs/botorch_env/lib/python3.12/site-packages/sklearn/manifold/_t_sne.py:1162: FutureWarning: 'n_iter' was renamed to 'max_iter' in version 1.5 and will be removed in 1.7.\n",
      "  warnings.warn(\n",
      "/Users/djayshin/miniconda3/envs/botorch_env/lib/python3.12/site-packages/sklearn/manifold/_t_sne.py:1162: FutureWarning: 'n_iter' was renamed to 'max_iter' in version 1.5 and will be removed in 1.7.\n",
      "  warnings.warn(\n",
      "/Users/djayshin/miniconda3/envs/botorch_env/lib/python3.12/site-packages/sklearn/manifold/_t_sne.py:1162: FutureWarning: 'n_iter' was renamed to 'max_iter' in version 1.5 and will be removed in 1.7.\n",
      "  warnings.warn(\n",
      "/Users/djayshin/miniconda3/envs/botorch_env/lib/python3.12/site-packages/sklearn/manifold/_t_sne.py:1162: FutureWarning: 'n_iter' was renamed to 'max_iter' in version 1.5 and will be removed in 1.7.\n",
      "  warnings.warn(\n",
      "/Users/djayshin/miniconda3/envs/botorch_env/lib/python3.12/site-packages/sklearn/manifold/_t_sne.py:1162: FutureWarning: 'n_iter' was renamed to 'max_iter' in version 1.5 and will be removed in 1.7.\n",
      "  warnings.warn(\n"
     ]
    }
   ],
   "source": [
    "import matplotlib.pyplot as plt\n",
    "\n",
    "\n",
    "import seaborn as sns\n",
    "from sklearn.manifold import TSNE \n",
    "# import umap.umap_ as umap\n",
    "from umap.umap_ import UMAP\n",
    "from sklearn.decomposition import PCA\n",
    "from sklearn.model_selection import ParameterGrid\n",
    "from sklearn.manifold import trustworthiness\n",
    "\n",
    "X = df_selected.values\n",
    "\n",
    "PCA = PCA(n_components=2, \n",
    "          # random_state=0\n",
    "          )\n",
    "X_p = PCA.fit_transform(X)\n",
    "# PCA explanained variance ratio\n",
    "print(f'PCA explained variance ratio: {PCA.explained_variance_ratio_}')\n",
    "\n",
    "\n",
    "# Define hyperparameter grids\n",
    "tsne_params = {\n",
    "    'perplexity': [5, 7, 10, 12, 15, 18, 20],\n",
    "    'n_iter': [500, 750, 1000, 1500],\n",
    "    'learning_rate': [50, 100, 200, 300, 500, 800]\n",
    "}\n",
    "umap_params = {\n",
    "    'n_neighbors': [3, 5, 7, 10, 12, 15, 18, 20],\n",
    "    'min_dist': [0.0, 0.05, 0.1, 0.2, 0.3, 0.5],\n",
    "    'spread': [0.8, 1.0, 1.2, 1.5, 2.0],\n",
    "    'metric': ['euclidean', 'manhattan', 'cosine']\n",
    "}\n",
    "\n",
    "# Optimize TSNE\n",
    "best_tsne_score = float('inf')\n",
    "best_tsne = None\n",
    "best_X_t = None\n",
    "for params in ParameterGrid(tsne_params):\n",
    "    tsne = TSNE(n_components=2, **params)\n",
    "    X_t_candidate = tsne.fit_transform(X)\n",
    "    # Use KL divergence as score (lower is better)\n",
    "    score = tsne.kl_divergence_\n",
    "    if score < best_tsne_score:\n",
    "        best_tsne_score = score\n",
    "        best_tsne = tsne\n",
    "        best_X_t = X_t_candidate\n",
    "X_t = best_X_t\n",
    "\n",
    "# Optimize UMAP\n",
    "best_umap_score = float('-inf')\n",
    "best_umap = None\n",
    "best_X_u = None\n",
    "for params in ParameterGrid(umap_params):\n",
    "    umap_model = UMAP(n_components=2, **params)\n",
    "    X_u_candidate = umap_model.fit_transform(X)\n",
    "    # Use local continuity meta-criterion (LCMC) as a simple score (higher is better)\n",
    "    # Here, we use trustworthiness as a proxy\n",
    "    score = trustworthiness(X, X_u_candidate, n_neighbors=5)\n",
    "    if score > best_umap_score:\n",
    "        best_umap_score = score\n",
    "        best_umap = umap_model\n",
    "        best_X_u = X_u_candidate\n",
    "X_u = best_X_u"
   ]
  },
  {
   "cell_type": "code",
   "execution_count": 1,
   "id": "44579468",
   "metadata": {},
   "outputs": [
    {
     "ename": "NameError",
     "evalue": "name 'plt' is not defined",
     "output_type": "error",
     "traceback": [
      "\u001b[0;31m---------------------------------------------------------------------------\u001b[0m",
      "\u001b[0;31mNameError\u001b[0m                                 Traceback (most recent call last)",
      "Cell \u001b[0;32mIn[1], line 4\u001b[0m\n\u001b[1;32m      1\u001b[0m \u001b[38;5;66;03m# plot convex hull for each group\u001b[39;00m\n\u001b[1;32m      2\u001b[0m \u001b[38;5;28;01mfrom\u001b[39;00m \u001b[38;5;21;01mscipy\u001b[39;00m\u001b[38;5;21;01m.\u001b[39;00m\u001b[38;5;21;01mspatial\u001b[39;00m \u001b[38;5;28;01mimport\u001b[39;00m ConvexHull\n\u001b[0;32m----> 4\u001b[0m fig, ax \u001b[38;5;241m=\u001b[39m \u001b[43mplt\u001b[49m\u001b[38;5;241m.\u001b[39msubplots(figsize\u001b[38;5;241m=\u001b[39m(\u001b[38;5;241m6\u001b[39m, \u001b[38;5;241m5\u001b[39m), ncols\u001b[38;5;241m=\u001b[39m\u001b[38;5;241m1\u001b[39m, nrows\u001b[38;5;241m=\u001b[39m\u001b[38;5;241m1\u001b[39m)\n\u001b[1;32m      5\u001b[0m palette \u001b[38;5;241m=\u001b[39m sns\u001b[38;5;241m.\u001b[39mcolor_palette(\u001b[38;5;124m\"\u001b[39m\u001b[38;5;124mhusl\u001b[39m\u001b[38;5;124m\"\u001b[39m, n_colors\u001b[38;5;241m=\u001b[39m\u001b[38;5;28mlen\u001b[39m(df_scaled[\u001b[38;5;124m'\u001b[39m\u001b[38;5;124mGroupID\u001b[39m\u001b[38;5;124m'\u001b[39m]\u001b[38;5;241m.\u001b[39munique()))\n\u001b[1;32m      7\u001b[0m \u001b[38;5;66;03m# Plot the PCA scatter first\u001b[39;00m\n",
      "\u001b[0;31mNameError\u001b[0m: name 'plt' is not defined"
     ]
    }
   ],
   "source": [
    "# plot convex hull for each group\n",
    "from scipy.spatial import ConvexHull\n",
    "\n",
    "fig, ax = plt.subplots(figsize=(6, 5), ncols=1, nrows=1)\n",
    "palette = sns.color_palette(\"husl\", n_colors=len(df_scaled['GroupID'].unique()))\n",
    "\n",
    "# Plot the PCA scatter first\n",
    "location_markers = {'Cargnello': '^', 'SLAC': 's', 'UCSB': 'o', 'PSU': 'P'}\n",
    "scatter_pca = sns.scatterplot(\n",
    "    x=X_p[:, 0], y=X_p[:, 1], hue=df_scaled['GroupID'], style=df_scaled['location'], \n",
    "    palette=palette,\n",
    "    markers=location_markers,\n",
    "    legend=\"auto\", \n",
    "    edgecolor=\"k\", s=100,\n",
    "    ax=ax,\n",
    "    zorder=2,\n",
    ")\n",
    "\n",
    "# Overlay convex hulls for each group on the same axes\n",
    "unique_groups = df_scaled['GroupID'].unique()\n",
    "unique_groups = np.sort(unique_groups)\n",
    "for i, group in enumerate(unique_groups):\n",
    "    group_mask = df_scaled['GroupID'] == group\n",
    "    points = X_p[group_mask]\n",
    "    if len(points) >= 3:\n",
    "        hull = ConvexHull(points)\n",
    "        hull_pts = points[hull.vertices]\n",
    "        hull_pts = np.concatenate([hull_pts, hull_pts[:1]], axis=0)\n",
    "        ax.plot(hull_pts[:, 0], hull_pts[:, 1], lw=2, label=f'Group {group} hull', alpha=0.5, color=palette[i], zorder=1)\n",
    "        ax.fill(hull_pts[:, 0], hull_pts[:, 1], alpha=0.15, color=palette[i], zorder=1)\n",
    "\n",
    "ax.set_title(\"PCA\")\n",
    "ax.set_xlabel(\"PC1\")\n",
    "ax.set_ylabel(\"PC2\")\n",
    "ax.legend(\n",
    "    # title=\"GroupID\",\n",
    "    bbox_to_anchor=(1.05, 1), loc='upper left'\n",
    "    )\n",
    "\n",
    "# Set limits with a margin\n",
    "margin = 0.2\n",
    "ax.set_xlim(X_p[:, 0].min() - margin, X_p[:, 0].max() + margin)\n",
    "ax.set_ylim(X_p[:, 1].min() - margin, X_p[:, 1].max() + margin)\n",
    "plt.show()\n",
    "\n",
    "\n",
    "# Plot t-SNE and UMAP\n",
    "sns.scatterplot(x=X_t[:, 0], y=X_t[:, 1], hue=df_scaled['GroupID'], palette=\"deep\", legend=\"full\")\n",
    "plt.title(\"t-SNE\")\n",
    "plt.xlabel(\"t-SNE 1\")\n",
    "plt.ylabel(\"t-SNE 2\")\n",
    "plt.show()\n",
    "sns.scatterplot(x=X_u[:, 0], y=X_u[:, 1], hue=df_scaled['GroupID'], palette=\"deep\", legend=\"full\")\n",
    "plt.title(\"UMAP\")\n",
    "plt.xlabel(\"UMAP 1\")\n",
    "plt.ylabel(\"UMAP 2\")\n",
    "plt.show()"
   ]
  },
  {
   "cell_type": "code",
   "execution_count": 10,
   "id": "335034f8",
   "metadata": {},
   "outputs": [
    {
     "data": {
      "application/vnd.plotly.v1+json": {
       "config": {
        "plotlyServerURL": "https://plot.ly"
       },
       "data": [
        {
         "customdata": {
          "bdata": "FAWyof5vsj84yRZeAGrQPwAAAAAAAPA/dNBKl+z80D8AAAAAAADwP0A0rMyND9Y/nex+noVI1D9zMGhqhAPsP8jxjY4YkNE/8GxNOiNd2j/CsCv2Il3hP3MGxhu4l+Y/AG1jrpcI7z+yNyjsDDXXP4fF75RlSeU/e75UGJHI2j/Mm/wgLmrhP6PsZqqxi+w/yqq1D2GY5j8x2FmofmPlP5F0xRluXtA/uEyjn7YLzz8JcwFtpEDrP9jGYf4dcuQ/KIaw8Y+73z9PETF/7TfcPyrIiq8fzdk/PRo+8aqg6z9ZTAFM06rYP/WJTnB+R9U/DGio76hNoD846r47wkiQP6e51R2sn+0/YG9Ni1c72D9YCKxdvSrkP+jP23VeTJc/EjOvmc8qwT/xQSrEBcruP4Tzs7k7H+Q/3i8pBV5f7D8QYg1SAUzXP5xO9mLIqN0/eg8HM6+K7D9T32fz9HncP0oMD1/5z+Q/s6iOziFB0z/kDEj5+ne6P3PmuhQPUeo/f0pt9CdF1j9o9PdAxdK6P5bLqUn7Pro/yDW3Ap8Nlj9R6kYuV7vsP4z/Y2S21cs//ZB3MLRL3T+cCT4wEhDVP3ZAiui/DNk/PhRnEnPc7D+EmAPgHYzbP7tU7QfYKuM/Ng8aAc5wsT/IWhSOiB7KPx8cr2tYCe8/4vf3BsQ51D8wn18/RgTtP6D/G7HCO5g/KKg2cgo0lj+98Kx9xantPyWb3Xo+t9g/uC8a94M35T8AAAAAAADwP5CkCk6oDu8/AAAAAAAAAAAM//wU7rzsPwAAAAAAAAAAPrdK/Kvr1T9ggOP/WRHZP2WY4tdXjuw/1mxqlwcy2j8gh5GedxLiPxit+6Bq3ec/es0NUVBz7T92EevEffvuP6nmMwsHZeA/dBaFAbz14T/kQF19A+viP6/qmwChI+U/pngjUnmE6j9bwLuoofHSPxS3x/oLx9w/chzYAUgu0z+kkgG3VRbhPyO8kfAdhOc/AAAAAAAA8D/vuHn0tZXuP4DwCRwT/eA/V98Gk/nR5j/bhe543ALvP/+q+wbdONo/2ATeDXm15j909KXTwNHiP8I5Ix3etuU/GrXUzZBf6z8p/k4xV9jWP1plt37Bjt8/kKyMvR1YvD/mZXRFABnJP8IZqYs/iO8/wbzMmz924j99bCdbAvnoP3JhQypLluE/9mNzu0Ym5z/VAsH6DcHuP6bGt09PKNo/utoeVCLO5T/6ingiIA2wP07cWjltHcM/GdLQra7o7z/YU4nkFUziP2Pf8NUABOo/AAAAAAAAAAAAAAAAAAAAAGsrwsTusu0/KHt0EhvW3T/INRBrBdDlP7NIB55EB9U/rntUZ9Qh3D9KZbS9dTjtP3PdMDt+EeA/dwW2FDBC5j/cs2PjyRzTP6jS5e5yxtk/F+FnUaZo7T9nSm3SzOXgPypJcyh1a+Y/6A7sx6jnoT+Scv1xJCrEP896PBDese4/cWfWESSR4z+s/vNMEczsP1oXmbGzP+0/AAAAAAAA8D81rAjG7OnpPwAAAAAAAAAALBQQYFkx0j/M963FI47mP3KGxefdAO4/6XYpSASC7z9Rz6Jt7KbYP+qLOoz0buY/259WjX5h1T+qsMBHFEzcP4aIZBu7I+0/8x5NfYUl4T/JuzwkW/flP3JEgxxnxtY/TEUS1Xgl3j90AEKCvhDtP2IOVhZsfOA/cMSfxuv65T8=",
          "dtype": "f8",
          "shape": "32, 5"
         },
         "hovertemplate": "PC1=%{x}<br>PC2=%{y}<br>CO Net Production Rate (mol/molRh/s)_initial value=%{customdata[0]}<br>CO Net Production Rate (mol/molRh/s)_final value=%{customdata[1]}<br>CO Net Production Rate (mol/molRh/s)_initial slope=%{customdata[2]}<br>CO Net Production Rate (mol/molRh/s)_final slope=%{customdata[3]}<br>CO Net Production Rate (mol/molRh/s)_overall slope=%{customdata[4]}<br>GroupID=%{marker.color}<extra></extra>",
         "legendgroup": "",
         "marker": {
          "color": {
           "bdata": "AwQCBAUEAQMEBQEEAwEGBQIGBgICAwIDAQQFAwYCBQU=",
           "dtype": "i1"
          },
          "coloraxis": "coloraxis",
          "symbol": "circle"
         },
         "mode": "markers",
         "name": "",
         "orientation": "v",
         "showlegend": false,
         "type": "scatter",
         "x": {
          "bdata": "nDMfBQIK3L9PIa81oLdjv02TWFRsfNE/i4HgBrrOuj8Lgo5NwrPAv1GQBo+xccI/2Y2fJ6jn3r9bMCn9CSTgv7AfjGJ4Gpg/7JT6IaJTrb99N6T8yrjXv15bktmFGKC/2MpBZr7927/3qCgTIrTfvxnArL7t+PI/xTRDF+DNgr/dfXWYXXniP15L3FCGPdg/nEcyBnv1ob/hFsSi2WDQP/qdcsG2itc/JD1oJ2c22L9PjGRUo0nSP4GgqhCX/ty/O4eTxK//4L9STmrwm8Ghv63Smq9jvbS/TDHDbfYH37/UT2P1QrnrP7zOHimka+A/I4kywUaVmr+dl4scNf99Pw==",
          "dtype": "f8"
         },
         "xaxis": "x",
         "y": {
          "bdata": "1DhBj87+yz/E6abZqjbPv28NsCF+Rck/d9rvY1p9wT8jeTX8s2fGv19ovzdf1s+/RTOORRR0yb/bCQw3o127P7dzhj+XiqY/Oq913JQe478YLcc2rhjXv3AlFd6CbZ+/+DKsptDZvT+FiRageKvFvwqOmhjvPd2/nV0X/JAusL8TzhWC/ebPP+8dQMRCwaq/leoNnz5m1T8omAHZhejOP6eJzLFy6oE/ME2J/rcrrj+V72Q1vG3MP/GQz8/yN7A/KpWh+evEw79DcDGZWw21P4x1qvOOrrI/58RdjnIQwD8h2+/be/2qv1ejCrVnlNY/01YXkbGYtD9fGRiGFoW3Pw==",
          "dtype": "f8"
         },
         "yaxis": "y"
        }
       ],
       "layout": {
        "coloraxis": {
         "colorbar": {
          "title": {
           "text": "GroupID"
          }
         },
         "colorscale": [
          [
           0,
           "#0d0887"
          ],
          [
           0.1111111111111111,
           "#46039f"
          ],
          [
           0.2222222222222222,
           "#7201a8"
          ],
          [
           0.3333333333333333,
           "#9c179e"
          ],
          [
           0.4444444444444444,
           "#bd3786"
          ],
          [
           0.5555555555555556,
           "#d8576b"
          ],
          [
           0.6666666666666666,
           "#ed7953"
          ],
          [
           0.7777777777777778,
           "#fb9f3a"
          ],
          [
           0.8888888888888888,
           "#fdca26"
          ],
          [
           1,
           "#f0f921"
          ]
         ]
        },
        "height": 600,
        "legend": {
         "tracegroupgap": 0
        },
        "template": {
         "data": {
          "bar": [
           {
            "error_x": {
             "color": "#2a3f5f"
            },
            "error_y": {
             "color": "#2a3f5f"
            },
            "marker": {
             "line": {
              "color": "#E5ECF6",
              "width": 0.5
             },
             "pattern": {
              "fillmode": "overlay",
              "size": 10,
              "solidity": 0.2
             }
            },
            "type": "bar"
           }
          ],
          "barpolar": [
           {
            "marker": {
             "line": {
              "color": "#E5ECF6",
              "width": 0.5
             },
             "pattern": {
              "fillmode": "overlay",
              "size": 10,
              "solidity": 0.2
             }
            },
            "type": "barpolar"
           }
          ],
          "carpet": [
           {
            "aaxis": {
             "endlinecolor": "#2a3f5f",
             "gridcolor": "white",
             "linecolor": "white",
             "minorgridcolor": "white",
             "startlinecolor": "#2a3f5f"
            },
            "baxis": {
             "endlinecolor": "#2a3f5f",
             "gridcolor": "white",
             "linecolor": "white",
             "minorgridcolor": "white",
             "startlinecolor": "#2a3f5f"
            },
            "type": "carpet"
           }
          ],
          "choropleth": [
           {
            "colorbar": {
             "outlinewidth": 0,
             "ticks": ""
            },
            "type": "choropleth"
           }
          ],
          "contour": [
           {
            "colorbar": {
             "outlinewidth": 0,
             "ticks": ""
            },
            "colorscale": [
             [
              0,
              "#0d0887"
             ],
             [
              0.1111111111111111,
              "#46039f"
             ],
             [
              0.2222222222222222,
              "#7201a8"
             ],
             [
              0.3333333333333333,
              "#9c179e"
             ],
             [
              0.4444444444444444,
              "#bd3786"
             ],
             [
              0.5555555555555556,
              "#d8576b"
             ],
             [
              0.6666666666666666,
              "#ed7953"
             ],
             [
              0.7777777777777778,
              "#fb9f3a"
             ],
             [
              0.8888888888888888,
              "#fdca26"
             ],
             [
              1,
              "#f0f921"
             ]
            ],
            "type": "contour"
           }
          ],
          "contourcarpet": [
           {
            "colorbar": {
             "outlinewidth": 0,
             "ticks": ""
            },
            "type": "contourcarpet"
           }
          ],
          "heatmap": [
           {
            "colorbar": {
             "outlinewidth": 0,
             "ticks": ""
            },
            "colorscale": [
             [
              0,
              "#0d0887"
             ],
             [
              0.1111111111111111,
              "#46039f"
             ],
             [
              0.2222222222222222,
              "#7201a8"
             ],
             [
              0.3333333333333333,
              "#9c179e"
             ],
             [
              0.4444444444444444,
              "#bd3786"
             ],
             [
              0.5555555555555556,
              "#d8576b"
             ],
             [
              0.6666666666666666,
              "#ed7953"
             ],
             [
              0.7777777777777778,
              "#fb9f3a"
             ],
             [
              0.8888888888888888,
              "#fdca26"
             ],
             [
              1,
              "#f0f921"
             ]
            ],
            "type": "heatmap"
           }
          ],
          "histogram": [
           {
            "marker": {
             "pattern": {
              "fillmode": "overlay",
              "size": 10,
              "solidity": 0.2
             }
            },
            "type": "histogram"
           }
          ],
          "histogram2d": [
           {
            "colorbar": {
             "outlinewidth": 0,
             "ticks": ""
            },
            "colorscale": [
             [
              0,
              "#0d0887"
             ],
             [
              0.1111111111111111,
              "#46039f"
             ],
             [
              0.2222222222222222,
              "#7201a8"
             ],
             [
              0.3333333333333333,
              "#9c179e"
             ],
             [
              0.4444444444444444,
              "#bd3786"
             ],
             [
              0.5555555555555556,
              "#d8576b"
             ],
             [
              0.6666666666666666,
              "#ed7953"
             ],
             [
              0.7777777777777778,
              "#fb9f3a"
             ],
             [
              0.8888888888888888,
              "#fdca26"
             ],
             [
              1,
              "#f0f921"
             ]
            ],
            "type": "histogram2d"
           }
          ],
          "histogram2dcontour": [
           {
            "colorbar": {
             "outlinewidth": 0,
             "ticks": ""
            },
            "colorscale": [
             [
              0,
              "#0d0887"
             ],
             [
              0.1111111111111111,
              "#46039f"
             ],
             [
              0.2222222222222222,
              "#7201a8"
             ],
             [
              0.3333333333333333,
              "#9c179e"
             ],
             [
              0.4444444444444444,
              "#bd3786"
             ],
             [
              0.5555555555555556,
              "#d8576b"
             ],
             [
              0.6666666666666666,
              "#ed7953"
             ],
             [
              0.7777777777777778,
              "#fb9f3a"
             ],
             [
              0.8888888888888888,
              "#fdca26"
             ],
             [
              1,
              "#f0f921"
             ]
            ],
            "type": "histogram2dcontour"
           }
          ],
          "mesh3d": [
           {
            "colorbar": {
             "outlinewidth": 0,
             "ticks": ""
            },
            "type": "mesh3d"
           }
          ],
          "parcoords": [
           {
            "line": {
             "colorbar": {
              "outlinewidth": 0,
              "ticks": ""
             }
            },
            "type": "parcoords"
           }
          ],
          "pie": [
           {
            "automargin": true,
            "type": "pie"
           }
          ],
          "scatter": [
           {
            "fillpattern": {
             "fillmode": "overlay",
             "size": 10,
             "solidity": 0.2
            },
            "type": "scatter"
           }
          ],
          "scatter3d": [
           {
            "line": {
             "colorbar": {
              "outlinewidth": 0,
              "ticks": ""
             }
            },
            "marker": {
             "colorbar": {
              "outlinewidth": 0,
              "ticks": ""
             }
            },
            "type": "scatter3d"
           }
          ],
          "scattercarpet": [
           {
            "marker": {
             "colorbar": {
              "outlinewidth": 0,
              "ticks": ""
             }
            },
            "type": "scattercarpet"
           }
          ],
          "scattergeo": [
           {
            "marker": {
             "colorbar": {
              "outlinewidth": 0,
              "ticks": ""
             }
            },
            "type": "scattergeo"
           }
          ],
          "scattergl": [
           {
            "marker": {
             "colorbar": {
              "outlinewidth": 0,
              "ticks": ""
             }
            },
            "type": "scattergl"
           }
          ],
          "scattermap": [
           {
            "marker": {
             "colorbar": {
              "outlinewidth": 0,
              "ticks": ""
             }
            },
            "type": "scattermap"
           }
          ],
          "scattermapbox": [
           {
            "marker": {
             "colorbar": {
              "outlinewidth": 0,
              "ticks": ""
             }
            },
            "type": "scattermapbox"
           }
          ],
          "scatterpolar": [
           {
            "marker": {
             "colorbar": {
              "outlinewidth": 0,
              "ticks": ""
             }
            },
            "type": "scatterpolar"
           }
          ],
          "scatterpolargl": [
           {
            "marker": {
             "colorbar": {
              "outlinewidth": 0,
              "ticks": ""
             }
            },
            "type": "scatterpolargl"
           }
          ],
          "scatterternary": [
           {
            "marker": {
             "colorbar": {
              "outlinewidth": 0,
              "ticks": ""
             }
            },
            "type": "scatterternary"
           }
          ],
          "surface": [
           {
            "colorbar": {
             "outlinewidth": 0,
             "ticks": ""
            },
            "colorscale": [
             [
              0,
              "#0d0887"
             ],
             [
              0.1111111111111111,
              "#46039f"
             ],
             [
              0.2222222222222222,
              "#7201a8"
             ],
             [
              0.3333333333333333,
              "#9c179e"
             ],
             [
              0.4444444444444444,
              "#bd3786"
             ],
             [
              0.5555555555555556,
              "#d8576b"
             ],
             [
              0.6666666666666666,
              "#ed7953"
             ],
             [
              0.7777777777777778,
              "#fb9f3a"
             ],
             [
              0.8888888888888888,
              "#fdca26"
             ],
             [
              1,
              "#f0f921"
             ]
            ],
            "type": "surface"
           }
          ],
          "table": [
           {
            "cells": {
             "fill": {
              "color": "#EBF0F8"
             },
             "line": {
              "color": "white"
             }
            },
            "header": {
             "fill": {
              "color": "#C8D4E3"
             },
             "line": {
              "color": "white"
             }
            },
            "type": "table"
           }
          ]
         },
         "layout": {
          "annotationdefaults": {
           "arrowcolor": "#2a3f5f",
           "arrowhead": 0,
           "arrowwidth": 1
          },
          "autotypenumbers": "strict",
          "coloraxis": {
           "colorbar": {
            "outlinewidth": 0,
            "ticks": ""
           }
          },
          "colorscale": {
           "diverging": [
            [
             0,
             "#8e0152"
            ],
            [
             0.1,
             "#c51b7d"
            ],
            [
             0.2,
             "#de77ae"
            ],
            [
             0.3,
             "#f1b6da"
            ],
            [
             0.4,
             "#fde0ef"
            ],
            [
             0.5,
             "#f7f7f7"
            ],
            [
             0.6,
             "#e6f5d0"
            ],
            [
             0.7,
             "#b8e186"
            ],
            [
             0.8,
             "#7fbc41"
            ],
            [
             0.9,
             "#4d9221"
            ],
            [
             1,
             "#276419"
            ]
           ],
           "sequential": [
            [
             0,
             "#0d0887"
            ],
            [
             0.1111111111111111,
             "#46039f"
            ],
            [
             0.2222222222222222,
             "#7201a8"
            ],
            [
             0.3333333333333333,
             "#9c179e"
            ],
            [
             0.4444444444444444,
             "#bd3786"
            ],
            [
             0.5555555555555556,
             "#d8576b"
            ],
            [
             0.6666666666666666,
             "#ed7953"
            ],
            [
             0.7777777777777778,
             "#fb9f3a"
            ],
            [
             0.8888888888888888,
             "#fdca26"
            ],
            [
             1,
             "#f0f921"
            ]
           ],
           "sequentialminus": [
            [
             0,
             "#0d0887"
            ],
            [
             0.1111111111111111,
             "#46039f"
            ],
            [
             0.2222222222222222,
             "#7201a8"
            ],
            [
             0.3333333333333333,
             "#9c179e"
            ],
            [
             0.4444444444444444,
             "#bd3786"
            ],
            [
             0.5555555555555556,
             "#d8576b"
            ],
            [
             0.6666666666666666,
             "#ed7953"
            ],
            [
             0.7777777777777778,
             "#fb9f3a"
            ],
            [
             0.8888888888888888,
             "#fdca26"
            ],
            [
             1,
             "#f0f921"
            ]
           ]
          },
          "colorway": [
           "#636efa",
           "#EF553B",
           "#00cc96",
           "#ab63fa",
           "#FFA15A",
           "#19d3f3",
           "#FF6692",
           "#B6E880",
           "#FF97FF",
           "#FECB52"
          ],
          "font": {
           "color": "#2a3f5f"
          },
          "geo": {
           "bgcolor": "white",
           "lakecolor": "white",
           "landcolor": "#E5ECF6",
           "showlakes": true,
           "showland": true,
           "subunitcolor": "white"
          },
          "hoverlabel": {
           "align": "left"
          },
          "hovermode": "closest",
          "mapbox": {
           "style": "light"
          },
          "paper_bgcolor": "white",
          "plot_bgcolor": "#E5ECF6",
          "polar": {
           "angularaxis": {
            "gridcolor": "white",
            "linecolor": "white",
            "ticks": ""
           },
           "bgcolor": "#E5ECF6",
           "radialaxis": {
            "gridcolor": "white",
            "linecolor": "white",
            "ticks": ""
           }
          },
          "scene": {
           "xaxis": {
            "backgroundcolor": "#E5ECF6",
            "gridcolor": "white",
            "gridwidth": 2,
            "linecolor": "white",
            "showbackground": true,
            "ticks": "",
            "zerolinecolor": "white"
           },
           "yaxis": {
            "backgroundcolor": "#E5ECF6",
            "gridcolor": "white",
            "gridwidth": 2,
            "linecolor": "white",
            "showbackground": true,
            "ticks": "",
            "zerolinecolor": "white"
           },
           "zaxis": {
            "backgroundcolor": "#E5ECF6",
            "gridcolor": "white",
            "gridwidth": 2,
            "linecolor": "white",
            "showbackground": true,
            "ticks": "",
            "zerolinecolor": "white"
           }
          },
          "shapedefaults": {
           "line": {
            "color": "#2a3f5f"
           }
          },
          "ternary": {
           "aaxis": {
            "gridcolor": "white",
            "linecolor": "white",
            "ticks": ""
           },
           "baxis": {
            "gridcolor": "white",
            "linecolor": "white",
            "ticks": ""
           },
           "bgcolor": "#E5ECF6",
           "caxis": {
            "gridcolor": "white",
            "linecolor": "white",
            "ticks": ""
           }
          },
          "title": {
           "x": 0.05
          },
          "xaxis": {
           "automargin": true,
           "gridcolor": "white",
           "linecolor": "white",
           "ticks": "",
           "title": {
            "standoff": 15
           },
           "zerolinecolor": "white",
           "zerolinewidth": 2
          },
          "yaxis": {
           "automargin": true,
           "gridcolor": "white",
           "linecolor": "white",
           "ticks": "",
           "title": {
            "standoff": 15
           },
           "zerolinecolor": "white",
           "zerolinewidth": 2
          }
         }
        },
        "title": {
         "text": "PCA"
        },
        "width": 600,
        "xaxis": {
         "anchor": "y",
         "domain": [
          0,
          1
         ],
         "title": {
          "text": "PC1"
         }
        },
        "yaxis": {
         "anchor": "x",
         "domain": [
          0,
          1
         ],
         "title": {
          "text": "PC2"
         }
        }
       }
      }
     },
     "metadata": {},
     "output_type": "display_data"
    },
    {
     "data": {
      "application/vnd.plotly.v1+json": {
       "config": {
        "plotlyServerURL": "https://plot.ly"
       },
       "data": [
        {
         "customdata": {
          "bdata": "FAWyof5vsj84yRZeAGrQPwAAAAAAAPA/dNBKl+z80D8AAAAAAADwP0A0rMyND9Y/nex+noVI1D9zMGhqhAPsP8jxjY4YkNE/8GxNOiNd2j/CsCv2Il3hP3MGxhu4l+Y/AG1jrpcI7z+yNyjsDDXXP4fF75RlSeU/e75UGJHI2j/Mm/wgLmrhP6PsZqqxi+w/yqq1D2GY5j8x2FmofmPlP5F0xRluXtA/uEyjn7YLzz8JcwFtpEDrP9jGYf4dcuQ/KIaw8Y+73z9PETF/7TfcPyrIiq8fzdk/PRo+8aqg6z9ZTAFM06rYP/WJTnB+R9U/DGio76hNoD846r47wkiQP6e51R2sn+0/YG9Ni1c72D9YCKxdvSrkP+jP23VeTJc/EjOvmc8qwT/xQSrEBcruP4Tzs7k7H+Q/3i8pBV5f7D8QYg1SAUzXP5xO9mLIqN0/eg8HM6+K7D9T32fz9HncP0oMD1/5z+Q/s6iOziFB0z/kDEj5+ne6P3PmuhQPUeo/f0pt9CdF1j9o9PdAxdK6P5bLqUn7Pro/yDW3Ap8Nlj9R6kYuV7vsP4z/Y2S21cs//ZB3MLRL3T+cCT4wEhDVP3ZAiui/DNk/PhRnEnPc7D+EmAPgHYzbP7tU7QfYKuM/Ng8aAc5wsT/IWhSOiB7KPx8cr2tYCe8/4vf3BsQ51D8wn18/RgTtP6D/G7HCO5g/KKg2cgo0lj+98Kx9xantPyWb3Xo+t9g/uC8a94M35T8AAAAAAADwP5CkCk6oDu8/AAAAAAAAAAAM//wU7rzsPwAAAAAAAAAAPrdK/Kvr1T9ggOP/WRHZP2WY4tdXjuw/1mxqlwcy2j8gh5GedxLiPxit+6Bq3ec/es0NUVBz7T92EevEffvuP6nmMwsHZeA/dBaFAbz14T/kQF19A+viP6/qmwChI+U/pngjUnmE6j9bwLuoofHSPxS3x/oLx9w/chzYAUgu0z+kkgG3VRbhPyO8kfAdhOc/AAAAAAAA8D/vuHn0tZXuP4DwCRwT/eA/V98Gk/nR5j/bhe543ALvP/+q+wbdONo/2ATeDXm15j909KXTwNHiP8I5Ix3etuU/GrXUzZBf6z8p/k4xV9jWP1plt37Bjt8/kKyMvR1YvD/mZXRFABnJP8IZqYs/iO8/wbzMmz924j99bCdbAvnoP3JhQypLluE/9mNzu0Ym5z/VAsH6DcHuP6bGt09PKNo/utoeVCLO5T/6ingiIA2wP07cWjltHcM/GdLQra7o7z/YU4nkFUziP2Pf8NUABOo/AAAAAAAAAAAAAAAAAAAAAGsrwsTusu0/KHt0EhvW3T/INRBrBdDlP7NIB55EB9U/rntUZ9Qh3D9KZbS9dTjtP3PdMDt+EeA/dwW2FDBC5j/cs2PjyRzTP6jS5e5yxtk/F+FnUaZo7T9nSm3SzOXgPypJcyh1a+Y/6A7sx6jnoT+Scv1xJCrEP896PBDese4/cWfWESSR4z+s/vNMEczsP1oXmbGzP+0/AAAAAAAA8D81rAjG7OnpPwAAAAAAAAAALBQQYFkx0j/M963FI47mP3KGxefdAO4/6XYpSASC7z9Rz6Jt7KbYP+qLOoz0buY/259WjX5h1T+qsMBHFEzcP4aIZBu7I+0/8x5NfYUl4T/JuzwkW/flP3JEgxxnxtY/TEUS1Xgl3j90AEKCvhDtP2IOVhZsfOA/cMSfxuv65T8=",
          "dtype": "f8",
          "shape": "32, 5"
         },
         "hovertemplate": "TSNE1=%{x}<br>TSNE2=%{y}<br>CO Net Production Rate (mol/molRh/s)_initial value=%{customdata[0]}<br>CO Net Production Rate (mol/molRh/s)_final value=%{customdata[1]}<br>CO Net Production Rate (mol/molRh/s)_initial slope=%{customdata[2]}<br>CO Net Production Rate (mol/molRh/s)_final slope=%{customdata[3]}<br>CO Net Production Rate (mol/molRh/s)_overall slope=%{customdata[4]}<br>GroupID=%{marker.color}<extra></extra>",
         "legendgroup": "",
         "marker": {
          "color": {
           "bdata": "AwQCBAUEAQMEBQEEAwEGBQIGBgICAwIDAQQFAwYCBQU=",
           "dtype": "i1"
          },
          "coloraxis": "coloraxis",
          "symbol": "circle"
         },
         "mode": "markers",
         "name": "",
         "orientation": "v",
         "showlegend": false,
         "type": "scatter",
         "x": {
          "bdata": "h3jEwNhHT8AqM2rATWmfwKC/i8CBR0LAhD6YwFNUvsAVNIXAJLo+wI0AgcBHC4PAIJ67wL8HncAHat2/puV5wA44R8DsaTnA7ZXCwDBxesBkKUTAPAyvwIslccDRO7LAIvyhwF/ulMAhpprAG+u+wIQnF8DV7FjAo0+XwBF6kcA=",
          "dtype": "f4"
         },
         "xaxis": "x",
         "y": {
          "bdata": "4ofAv3pFWsCXSLPADmWdwEmnR8BkcnnAtDjPvzJJFcAu3ovAl6giwG9o2r+BsnXAudrKv0fHzb+iSbPArcx3wM1uyMCAd6jAJ1KUwGTmtcDIVavAUw0jwL7AtsCzIBDAXXjVv4ithMAVcnfAZUoWwIA7ycDQVMvAG3KGwH5TjsA=",
          "dtype": "f4"
         },
         "yaxis": "y"
        }
       ],
       "layout": {
        "coloraxis": {
         "colorbar": {
          "title": {
           "text": "GroupID"
          }
         },
         "colorscale": [
          [
           0,
           "#0d0887"
          ],
          [
           0.1111111111111111,
           "#46039f"
          ],
          [
           0.2222222222222222,
           "#7201a8"
          ],
          [
           0.3333333333333333,
           "#9c179e"
          ],
          [
           0.4444444444444444,
           "#bd3786"
          ],
          [
           0.5555555555555556,
           "#d8576b"
          ],
          [
           0.6666666666666666,
           "#ed7953"
          ],
          [
           0.7777777777777778,
           "#fb9f3a"
          ],
          [
           0.8888888888888888,
           "#fdca26"
          ],
          [
           1,
           "#f0f921"
          ]
         ]
        },
        "height": 600,
        "legend": {
         "tracegroupgap": 0
        },
        "template": {
         "data": {
          "bar": [
           {
            "error_x": {
             "color": "#2a3f5f"
            },
            "error_y": {
             "color": "#2a3f5f"
            },
            "marker": {
             "line": {
              "color": "#E5ECF6",
              "width": 0.5
             },
             "pattern": {
              "fillmode": "overlay",
              "size": 10,
              "solidity": 0.2
             }
            },
            "type": "bar"
           }
          ],
          "barpolar": [
           {
            "marker": {
             "line": {
              "color": "#E5ECF6",
              "width": 0.5
             },
             "pattern": {
              "fillmode": "overlay",
              "size": 10,
              "solidity": 0.2
             }
            },
            "type": "barpolar"
           }
          ],
          "carpet": [
           {
            "aaxis": {
             "endlinecolor": "#2a3f5f",
             "gridcolor": "white",
             "linecolor": "white",
             "minorgridcolor": "white",
             "startlinecolor": "#2a3f5f"
            },
            "baxis": {
             "endlinecolor": "#2a3f5f",
             "gridcolor": "white",
             "linecolor": "white",
             "minorgridcolor": "white",
             "startlinecolor": "#2a3f5f"
            },
            "type": "carpet"
           }
          ],
          "choropleth": [
           {
            "colorbar": {
             "outlinewidth": 0,
             "ticks": ""
            },
            "type": "choropleth"
           }
          ],
          "contour": [
           {
            "colorbar": {
             "outlinewidth": 0,
             "ticks": ""
            },
            "colorscale": [
             [
              0,
              "#0d0887"
             ],
             [
              0.1111111111111111,
              "#46039f"
             ],
             [
              0.2222222222222222,
              "#7201a8"
             ],
             [
              0.3333333333333333,
              "#9c179e"
             ],
             [
              0.4444444444444444,
              "#bd3786"
             ],
             [
              0.5555555555555556,
              "#d8576b"
             ],
             [
              0.6666666666666666,
              "#ed7953"
             ],
             [
              0.7777777777777778,
              "#fb9f3a"
             ],
             [
              0.8888888888888888,
              "#fdca26"
             ],
             [
              1,
              "#f0f921"
             ]
            ],
            "type": "contour"
           }
          ],
          "contourcarpet": [
           {
            "colorbar": {
             "outlinewidth": 0,
             "ticks": ""
            },
            "type": "contourcarpet"
           }
          ],
          "heatmap": [
           {
            "colorbar": {
             "outlinewidth": 0,
             "ticks": ""
            },
            "colorscale": [
             [
              0,
              "#0d0887"
             ],
             [
              0.1111111111111111,
              "#46039f"
             ],
             [
              0.2222222222222222,
              "#7201a8"
             ],
             [
              0.3333333333333333,
              "#9c179e"
             ],
             [
              0.4444444444444444,
              "#bd3786"
             ],
             [
              0.5555555555555556,
              "#d8576b"
             ],
             [
              0.6666666666666666,
              "#ed7953"
             ],
             [
              0.7777777777777778,
              "#fb9f3a"
             ],
             [
              0.8888888888888888,
              "#fdca26"
             ],
             [
              1,
              "#f0f921"
             ]
            ],
            "type": "heatmap"
           }
          ],
          "histogram": [
           {
            "marker": {
             "pattern": {
              "fillmode": "overlay",
              "size": 10,
              "solidity": 0.2
             }
            },
            "type": "histogram"
           }
          ],
          "histogram2d": [
           {
            "colorbar": {
             "outlinewidth": 0,
             "ticks": ""
            },
            "colorscale": [
             [
              0,
              "#0d0887"
             ],
             [
              0.1111111111111111,
              "#46039f"
             ],
             [
              0.2222222222222222,
              "#7201a8"
             ],
             [
              0.3333333333333333,
              "#9c179e"
             ],
             [
              0.4444444444444444,
              "#bd3786"
             ],
             [
              0.5555555555555556,
              "#d8576b"
             ],
             [
              0.6666666666666666,
              "#ed7953"
             ],
             [
              0.7777777777777778,
              "#fb9f3a"
             ],
             [
              0.8888888888888888,
              "#fdca26"
             ],
             [
              1,
              "#f0f921"
             ]
            ],
            "type": "histogram2d"
           }
          ],
          "histogram2dcontour": [
           {
            "colorbar": {
             "outlinewidth": 0,
             "ticks": ""
            },
            "colorscale": [
             [
              0,
              "#0d0887"
             ],
             [
              0.1111111111111111,
              "#46039f"
             ],
             [
              0.2222222222222222,
              "#7201a8"
             ],
             [
              0.3333333333333333,
              "#9c179e"
             ],
             [
              0.4444444444444444,
              "#bd3786"
             ],
             [
              0.5555555555555556,
              "#d8576b"
             ],
             [
              0.6666666666666666,
              "#ed7953"
             ],
             [
              0.7777777777777778,
              "#fb9f3a"
             ],
             [
              0.8888888888888888,
              "#fdca26"
             ],
             [
              1,
              "#f0f921"
             ]
            ],
            "type": "histogram2dcontour"
           }
          ],
          "mesh3d": [
           {
            "colorbar": {
             "outlinewidth": 0,
             "ticks": ""
            },
            "type": "mesh3d"
           }
          ],
          "parcoords": [
           {
            "line": {
             "colorbar": {
              "outlinewidth": 0,
              "ticks": ""
             }
            },
            "type": "parcoords"
           }
          ],
          "pie": [
           {
            "automargin": true,
            "type": "pie"
           }
          ],
          "scatter": [
           {
            "fillpattern": {
             "fillmode": "overlay",
             "size": 10,
             "solidity": 0.2
            },
            "type": "scatter"
           }
          ],
          "scatter3d": [
           {
            "line": {
             "colorbar": {
              "outlinewidth": 0,
              "ticks": ""
             }
            },
            "marker": {
             "colorbar": {
              "outlinewidth": 0,
              "ticks": ""
             }
            },
            "type": "scatter3d"
           }
          ],
          "scattercarpet": [
           {
            "marker": {
             "colorbar": {
              "outlinewidth": 0,
              "ticks": ""
             }
            },
            "type": "scattercarpet"
           }
          ],
          "scattergeo": [
           {
            "marker": {
             "colorbar": {
              "outlinewidth": 0,
              "ticks": ""
             }
            },
            "type": "scattergeo"
           }
          ],
          "scattergl": [
           {
            "marker": {
             "colorbar": {
              "outlinewidth": 0,
              "ticks": ""
             }
            },
            "type": "scattergl"
           }
          ],
          "scattermap": [
           {
            "marker": {
             "colorbar": {
              "outlinewidth": 0,
              "ticks": ""
             }
            },
            "type": "scattermap"
           }
          ],
          "scattermapbox": [
           {
            "marker": {
             "colorbar": {
              "outlinewidth": 0,
              "ticks": ""
             }
            },
            "type": "scattermapbox"
           }
          ],
          "scatterpolar": [
           {
            "marker": {
             "colorbar": {
              "outlinewidth": 0,
              "ticks": ""
             }
            },
            "type": "scatterpolar"
           }
          ],
          "scatterpolargl": [
           {
            "marker": {
             "colorbar": {
              "outlinewidth": 0,
              "ticks": ""
             }
            },
            "type": "scatterpolargl"
           }
          ],
          "scatterternary": [
           {
            "marker": {
             "colorbar": {
              "outlinewidth": 0,
              "ticks": ""
             }
            },
            "type": "scatterternary"
           }
          ],
          "surface": [
           {
            "colorbar": {
             "outlinewidth": 0,
             "ticks": ""
            },
            "colorscale": [
             [
              0,
              "#0d0887"
             ],
             [
              0.1111111111111111,
              "#46039f"
             ],
             [
              0.2222222222222222,
              "#7201a8"
             ],
             [
              0.3333333333333333,
              "#9c179e"
             ],
             [
              0.4444444444444444,
              "#bd3786"
             ],
             [
              0.5555555555555556,
              "#d8576b"
             ],
             [
              0.6666666666666666,
              "#ed7953"
             ],
             [
              0.7777777777777778,
              "#fb9f3a"
             ],
             [
              0.8888888888888888,
              "#fdca26"
             ],
             [
              1,
              "#f0f921"
             ]
            ],
            "type": "surface"
           }
          ],
          "table": [
           {
            "cells": {
             "fill": {
              "color": "#EBF0F8"
             },
             "line": {
              "color": "white"
             }
            },
            "header": {
             "fill": {
              "color": "#C8D4E3"
             },
             "line": {
              "color": "white"
             }
            },
            "type": "table"
           }
          ]
         },
         "layout": {
          "annotationdefaults": {
           "arrowcolor": "#2a3f5f",
           "arrowhead": 0,
           "arrowwidth": 1
          },
          "autotypenumbers": "strict",
          "coloraxis": {
           "colorbar": {
            "outlinewidth": 0,
            "ticks": ""
           }
          },
          "colorscale": {
           "diverging": [
            [
             0,
             "#8e0152"
            ],
            [
             0.1,
             "#c51b7d"
            ],
            [
             0.2,
             "#de77ae"
            ],
            [
             0.3,
             "#f1b6da"
            ],
            [
             0.4,
             "#fde0ef"
            ],
            [
             0.5,
             "#f7f7f7"
            ],
            [
             0.6,
             "#e6f5d0"
            ],
            [
             0.7,
             "#b8e186"
            ],
            [
             0.8,
             "#7fbc41"
            ],
            [
             0.9,
             "#4d9221"
            ],
            [
             1,
             "#276419"
            ]
           ],
           "sequential": [
            [
             0,
             "#0d0887"
            ],
            [
             0.1111111111111111,
             "#46039f"
            ],
            [
             0.2222222222222222,
             "#7201a8"
            ],
            [
             0.3333333333333333,
             "#9c179e"
            ],
            [
             0.4444444444444444,
             "#bd3786"
            ],
            [
             0.5555555555555556,
             "#d8576b"
            ],
            [
             0.6666666666666666,
             "#ed7953"
            ],
            [
             0.7777777777777778,
             "#fb9f3a"
            ],
            [
             0.8888888888888888,
             "#fdca26"
            ],
            [
             1,
             "#f0f921"
            ]
           ],
           "sequentialminus": [
            [
             0,
             "#0d0887"
            ],
            [
             0.1111111111111111,
             "#46039f"
            ],
            [
             0.2222222222222222,
             "#7201a8"
            ],
            [
             0.3333333333333333,
             "#9c179e"
            ],
            [
             0.4444444444444444,
             "#bd3786"
            ],
            [
             0.5555555555555556,
             "#d8576b"
            ],
            [
             0.6666666666666666,
             "#ed7953"
            ],
            [
             0.7777777777777778,
             "#fb9f3a"
            ],
            [
             0.8888888888888888,
             "#fdca26"
            ],
            [
             1,
             "#f0f921"
            ]
           ]
          },
          "colorway": [
           "#636efa",
           "#EF553B",
           "#00cc96",
           "#ab63fa",
           "#FFA15A",
           "#19d3f3",
           "#FF6692",
           "#B6E880",
           "#FF97FF",
           "#FECB52"
          ],
          "font": {
           "color": "#2a3f5f"
          },
          "geo": {
           "bgcolor": "white",
           "lakecolor": "white",
           "landcolor": "#E5ECF6",
           "showlakes": true,
           "showland": true,
           "subunitcolor": "white"
          },
          "hoverlabel": {
           "align": "left"
          },
          "hovermode": "closest",
          "mapbox": {
           "style": "light"
          },
          "paper_bgcolor": "white",
          "plot_bgcolor": "#E5ECF6",
          "polar": {
           "angularaxis": {
            "gridcolor": "white",
            "linecolor": "white",
            "ticks": ""
           },
           "bgcolor": "#E5ECF6",
           "radialaxis": {
            "gridcolor": "white",
            "linecolor": "white",
            "ticks": ""
           }
          },
          "scene": {
           "xaxis": {
            "backgroundcolor": "#E5ECF6",
            "gridcolor": "white",
            "gridwidth": 2,
            "linecolor": "white",
            "showbackground": true,
            "ticks": "",
            "zerolinecolor": "white"
           },
           "yaxis": {
            "backgroundcolor": "#E5ECF6",
            "gridcolor": "white",
            "gridwidth": 2,
            "linecolor": "white",
            "showbackground": true,
            "ticks": "",
            "zerolinecolor": "white"
           },
           "zaxis": {
            "backgroundcolor": "#E5ECF6",
            "gridcolor": "white",
            "gridwidth": 2,
            "linecolor": "white",
            "showbackground": true,
            "ticks": "",
            "zerolinecolor": "white"
           }
          },
          "shapedefaults": {
           "line": {
            "color": "#2a3f5f"
           }
          },
          "ternary": {
           "aaxis": {
            "gridcolor": "white",
            "linecolor": "white",
            "ticks": ""
           },
           "baxis": {
            "gridcolor": "white",
            "linecolor": "white",
            "ticks": ""
           },
           "bgcolor": "#E5ECF6",
           "caxis": {
            "gridcolor": "white",
            "linecolor": "white",
            "ticks": ""
           }
          },
          "title": {
           "x": 0.05
          },
          "xaxis": {
           "automargin": true,
           "gridcolor": "white",
           "linecolor": "white",
           "ticks": "",
           "title": {
            "standoff": 15
           },
           "zerolinecolor": "white",
           "zerolinewidth": 2
          },
          "yaxis": {
           "automargin": true,
           "gridcolor": "white",
           "linecolor": "white",
           "ticks": "",
           "title": {
            "standoff": 15
           },
           "zerolinecolor": "white",
           "zerolinewidth": 2
          }
         }
        },
        "title": {
         "text": "t-SNE"
        },
        "width": 600,
        "xaxis": {
         "anchor": "y",
         "domain": [
          0,
          1
         ],
         "title": {
          "text": "TSNE1"
         }
        },
        "yaxis": {
         "anchor": "x",
         "domain": [
          0,
          1
         ],
         "title": {
          "text": "TSNE2"
         }
        }
       }
      }
     },
     "metadata": {},
     "output_type": "display_data"
    },
    {
     "data": {
      "application/vnd.plotly.v1+json": {
       "config": {
        "plotlyServerURL": "https://plot.ly"
       },
       "data": [
        {
         "customdata": {
          "bdata": "FAWyof5vsj84yRZeAGrQPwAAAAAAAPA/dNBKl+z80D8AAAAAAADwP0A0rMyND9Y/nex+noVI1D9zMGhqhAPsP8jxjY4YkNE/8GxNOiNd2j/CsCv2Il3hP3MGxhu4l+Y/AG1jrpcI7z+yNyjsDDXXP4fF75RlSeU/e75UGJHI2j/Mm/wgLmrhP6PsZqqxi+w/yqq1D2GY5j8x2FmofmPlP5F0xRluXtA/uEyjn7YLzz8JcwFtpEDrP9jGYf4dcuQ/KIaw8Y+73z9PETF/7TfcPyrIiq8fzdk/PRo+8aqg6z9ZTAFM06rYP/WJTnB+R9U/DGio76hNoD846r47wkiQP6e51R2sn+0/YG9Ni1c72D9YCKxdvSrkP+jP23VeTJc/EjOvmc8qwT/xQSrEBcruP4Tzs7k7H+Q/3i8pBV5f7D8QYg1SAUzXP5xO9mLIqN0/eg8HM6+K7D9T32fz9HncP0oMD1/5z+Q/s6iOziFB0z/kDEj5+ne6P3PmuhQPUeo/f0pt9CdF1j9o9PdAxdK6P5bLqUn7Pro/yDW3Ap8Nlj9R6kYuV7vsP4z/Y2S21cs//ZB3MLRL3T+cCT4wEhDVP3ZAiui/DNk/PhRnEnPc7D+EmAPgHYzbP7tU7QfYKuM/Ng8aAc5wsT/IWhSOiB7KPx8cr2tYCe8/4vf3BsQ51D8wn18/RgTtP6D/G7HCO5g/KKg2cgo0lj+98Kx9xantPyWb3Xo+t9g/uC8a94M35T8AAAAAAADwP5CkCk6oDu8/AAAAAAAAAAAM//wU7rzsPwAAAAAAAAAAPrdK/Kvr1T9ggOP/WRHZP2WY4tdXjuw/1mxqlwcy2j8gh5GedxLiPxit+6Bq3ec/es0NUVBz7T92EevEffvuP6nmMwsHZeA/dBaFAbz14T/kQF19A+viP6/qmwChI+U/pngjUnmE6j9bwLuoofHSPxS3x/oLx9w/chzYAUgu0z+kkgG3VRbhPyO8kfAdhOc/AAAAAAAA8D/vuHn0tZXuP4DwCRwT/eA/V98Gk/nR5j/bhe543ALvP/+q+wbdONo/2ATeDXm15j909KXTwNHiP8I5Ix3etuU/GrXUzZBf6z8p/k4xV9jWP1plt37Bjt8/kKyMvR1YvD/mZXRFABnJP8IZqYs/iO8/wbzMmz924j99bCdbAvnoP3JhQypLluE/9mNzu0Ym5z/VAsH6DcHuP6bGt09PKNo/utoeVCLO5T/6ingiIA2wP07cWjltHcM/GdLQra7o7z/YU4nkFUziP2Pf8NUABOo/AAAAAAAAAAAAAAAAAAAAAGsrwsTusu0/KHt0EhvW3T/INRBrBdDlP7NIB55EB9U/rntUZ9Qh3D9KZbS9dTjtP3PdMDt+EeA/dwW2FDBC5j/cs2PjyRzTP6jS5e5yxtk/F+FnUaZo7T9nSm3SzOXgPypJcyh1a+Y/6A7sx6jnoT+Scv1xJCrEP896PBDese4/cWfWESSR4z+s/vNMEczsP1oXmbGzP+0/AAAAAAAA8D81rAjG7OnpPwAAAAAAAAAALBQQYFkx0j/M963FI47mP3KGxefdAO4/6XYpSASC7z9Rz6Jt7KbYP+qLOoz0buY/259WjX5h1T+qsMBHFEzcP4aIZBu7I+0/8x5NfYUl4T/JuzwkW/flP3JEgxxnxtY/TEUS1Xgl3j90AEKCvhDtP2IOVhZsfOA/cMSfxuv65T8=",
          "dtype": "f8",
          "shape": "32, 5"
         },
         "hovertemplate": "UMAP1=%{x}<br>UMAP2=%{y}<br>CO Net Production Rate (mol/molRh/s)_initial value=%{customdata[0]}<br>CO Net Production Rate (mol/molRh/s)_final value=%{customdata[1]}<br>CO Net Production Rate (mol/molRh/s)_initial slope=%{customdata[2]}<br>CO Net Production Rate (mol/molRh/s)_final slope=%{customdata[3]}<br>CO Net Production Rate (mol/molRh/s)_overall slope=%{customdata[4]}<br>GroupID=%{marker.color}<extra></extra>",
         "legendgroup": "",
         "marker": {
          "color": {
           "bdata": "AwQCBAUEAQMEBQEEAwEGBQIGBgICAwIDAQQFAwYCBQU=",
           "dtype": "i1"
          },
          "coloraxis": "coloraxis",
          "symbol": "circle"
         },
         "mode": "markers",
         "name": "",
         "orientation": "v",
         "showlegend": false,
         "type": "scatter",
         "x": {
          "bdata": "5UGGwOT1RkGG4mZBcMxiQXirUkGX20dBViqcwB/RlcBwSVpBOK1AQelCm8DR51JB8g6MwOtKlcAta19BfjRNQfS2ZEGtFFxBaGpoQYqXZ0Ecj2NBbsupwDTbbEFo9qDACF6lwF+/YUFqIllBIMOPwBWAWkGmtWFBooVbQVbdX0E=",
          "dtype": "f4"
         },
         "xaxis": "x",
         "y": {
          "bdata": "SdzvQHtgWkHd9yxBNARqQWlwZ0G2jFJB3+sIQTsH70Cw3FhBeGZXQYtdD0HV1l9BHoP3QDJfBEHvZRxBW69jQR8zIEHaAzFBV/VqQUMzKEEqtDFBmh3zQCyoK0FCOOhA4TUEQTRqXkEhymBBXv3hQJtQKkHSeCZBjQ5rQWxRZUE=",
          "dtype": "f4"
         },
         "yaxis": "y"
        }
       ],
       "layout": {
        "coloraxis": {
         "colorbar": {
          "title": {
           "text": "GroupID"
          }
         },
         "colorscale": [
          [
           0,
           "#0d0887"
          ],
          [
           0.1111111111111111,
           "#46039f"
          ],
          [
           0.2222222222222222,
           "#7201a8"
          ],
          [
           0.3333333333333333,
           "#9c179e"
          ],
          [
           0.4444444444444444,
           "#bd3786"
          ],
          [
           0.5555555555555556,
           "#d8576b"
          ],
          [
           0.6666666666666666,
           "#ed7953"
          ],
          [
           0.7777777777777778,
           "#fb9f3a"
          ],
          [
           0.8888888888888888,
           "#fdca26"
          ],
          [
           1,
           "#f0f921"
          ]
         ]
        },
        "height": 600,
        "legend": {
         "tracegroupgap": 0
        },
        "template": {
         "data": {
          "bar": [
           {
            "error_x": {
             "color": "#2a3f5f"
            },
            "error_y": {
             "color": "#2a3f5f"
            },
            "marker": {
             "line": {
              "color": "#E5ECF6",
              "width": 0.5
             },
             "pattern": {
              "fillmode": "overlay",
              "size": 10,
              "solidity": 0.2
             }
            },
            "type": "bar"
           }
          ],
          "barpolar": [
           {
            "marker": {
             "line": {
              "color": "#E5ECF6",
              "width": 0.5
             },
             "pattern": {
              "fillmode": "overlay",
              "size": 10,
              "solidity": 0.2
             }
            },
            "type": "barpolar"
           }
          ],
          "carpet": [
           {
            "aaxis": {
             "endlinecolor": "#2a3f5f",
             "gridcolor": "white",
             "linecolor": "white",
             "minorgridcolor": "white",
             "startlinecolor": "#2a3f5f"
            },
            "baxis": {
             "endlinecolor": "#2a3f5f",
             "gridcolor": "white",
             "linecolor": "white",
             "minorgridcolor": "white",
             "startlinecolor": "#2a3f5f"
            },
            "type": "carpet"
           }
          ],
          "choropleth": [
           {
            "colorbar": {
             "outlinewidth": 0,
             "ticks": ""
            },
            "type": "choropleth"
           }
          ],
          "contour": [
           {
            "colorbar": {
             "outlinewidth": 0,
             "ticks": ""
            },
            "colorscale": [
             [
              0,
              "#0d0887"
             ],
             [
              0.1111111111111111,
              "#46039f"
             ],
             [
              0.2222222222222222,
              "#7201a8"
             ],
             [
              0.3333333333333333,
              "#9c179e"
             ],
             [
              0.4444444444444444,
              "#bd3786"
             ],
             [
              0.5555555555555556,
              "#d8576b"
             ],
             [
              0.6666666666666666,
              "#ed7953"
             ],
             [
              0.7777777777777778,
              "#fb9f3a"
             ],
             [
              0.8888888888888888,
              "#fdca26"
             ],
             [
              1,
              "#f0f921"
             ]
            ],
            "type": "contour"
           }
          ],
          "contourcarpet": [
           {
            "colorbar": {
             "outlinewidth": 0,
             "ticks": ""
            },
            "type": "contourcarpet"
           }
          ],
          "heatmap": [
           {
            "colorbar": {
             "outlinewidth": 0,
             "ticks": ""
            },
            "colorscale": [
             [
              0,
              "#0d0887"
             ],
             [
              0.1111111111111111,
              "#46039f"
             ],
             [
              0.2222222222222222,
              "#7201a8"
             ],
             [
              0.3333333333333333,
              "#9c179e"
             ],
             [
              0.4444444444444444,
              "#bd3786"
             ],
             [
              0.5555555555555556,
              "#d8576b"
             ],
             [
              0.6666666666666666,
              "#ed7953"
             ],
             [
              0.7777777777777778,
              "#fb9f3a"
             ],
             [
              0.8888888888888888,
              "#fdca26"
             ],
             [
              1,
              "#f0f921"
             ]
            ],
            "type": "heatmap"
           }
          ],
          "histogram": [
           {
            "marker": {
             "pattern": {
              "fillmode": "overlay",
              "size": 10,
              "solidity": 0.2
             }
            },
            "type": "histogram"
           }
          ],
          "histogram2d": [
           {
            "colorbar": {
             "outlinewidth": 0,
             "ticks": ""
            },
            "colorscale": [
             [
              0,
              "#0d0887"
             ],
             [
              0.1111111111111111,
              "#46039f"
             ],
             [
              0.2222222222222222,
              "#7201a8"
             ],
             [
              0.3333333333333333,
              "#9c179e"
             ],
             [
              0.4444444444444444,
              "#bd3786"
             ],
             [
              0.5555555555555556,
              "#d8576b"
             ],
             [
              0.6666666666666666,
              "#ed7953"
             ],
             [
              0.7777777777777778,
              "#fb9f3a"
             ],
             [
              0.8888888888888888,
              "#fdca26"
             ],
             [
              1,
              "#f0f921"
             ]
            ],
            "type": "histogram2d"
           }
          ],
          "histogram2dcontour": [
           {
            "colorbar": {
             "outlinewidth": 0,
             "ticks": ""
            },
            "colorscale": [
             [
              0,
              "#0d0887"
             ],
             [
              0.1111111111111111,
              "#46039f"
             ],
             [
              0.2222222222222222,
              "#7201a8"
             ],
             [
              0.3333333333333333,
              "#9c179e"
             ],
             [
              0.4444444444444444,
              "#bd3786"
             ],
             [
              0.5555555555555556,
              "#d8576b"
             ],
             [
              0.6666666666666666,
              "#ed7953"
             ],
             [
              0.7777777777777778,
              "#fb9f3a"
             ],
             [
              0.8888888888888888,
              "#fdca26"
             ],
             [
              1,
              "#f0f921"
             ]
            ],
            "type": "histogram2dcontour"
           }
          ],
          "mesh3d": [
           {
            "colorbar": {
             "outlinewidth": 0,
             "ticks": ""
            },
            "type": "mesh3d"
           }
          ],
          "parcoords": [
           {
            "line": {
             "colorbar": {
              "outlinewidth": 0,
              "ticks": ""
             }
            },
            "type": "parcoords"
           }
          ],
          "pie": [
           {
            "automargin": true,
            "type": "pie"
           }
          ],
          "scatter": [
           {
            "fillpattern": {
             "fillmode": "overlay",
             "size": 10,
             "solidity": 0.2
            },
            "type": "scatter"
           }
          ],
          "scatter3d": [
           {
            "line": {
             "colorbar": {
              "outlinewidth": 0,
              "ticks": ""
             }
            },
            "marker": {
             "colorbar": {
              "outlinewidth": 0,
              "ticks": ""
             }
            },
            "type": "scatter3d"
           }
          ],
          "scattercarpet": [
           {
            "marker": {
             "colorbar": {
              "outlinewidth": 0,
              "ticks": ""
             }
            },
            "type": "scattercarpet"
           }
          ],
          "scattergeo": [
           {
            "marker": {
             "colorbar": {
              "outlinewidth": 0,
              "ticks": ""
             }
            },
            "type": "scattergeo"
           }
          ],
          "scattergl": [
           {
            "marker": {
             "colorbar": {
              "outlinewidth": 0,
              "ticks": ""
             }
            },
            "type": "scattergl"
           }
          ],
          "scattermap": [
           {
            "marker": {
             "colorbar": {
              "outlinewidth": 0,
              "ticks": ""
             }
            },
            "type": "scattermap"
           }
          ],
          "scattermapbox": [
           {
            "marker": {
             "colorbar": {
              "outlinewidth": 0,
              "ticks": ""
             }
            },
            "type": "scattermapbox"
           }
          ],
          "scatterpolar": [
           {
            "marker": {
             "colorbar": {
              "outlinewidth": 0,
              "ticks": ""
             }
            },
            "type": "scatterpolar"
           }
          ],
          "scatterpolargl": [
           {
            "marker": {
             "colorbar": {
              "outlinewidth": 0,
              "ticks": ""
             }
            },
            "type": "scatterpolargl"
           }
          ],
          "scatterternary": [
           {
            "marker": {
             "colorbar": {
              "outlinewidth": 0,
              "ticks": ""
             }
            },
            "type": "scatterternary"
           }
          ],
          "surface": [
           {
            "colorbar": {
             "outlinewidth": 0,
             "ticks": ""
            },
            "colorscale": [
             [
              0,
              "#0d0887"
             ],
             [
              0.1111111111111111,
              "#46039f"
             ],
             [
              0.2222222222222222,
              "#7201a8"
             ],
             [
              0.3333333333333333,
              "#9c179e"
             ],
             [
              0.4444444444444444,
              "#bd3786"
             ],
             [
              0.5555555555555556,
              "#d8576b"
             ],
             [
              0.6666666666666666,
              "#ed7953"
             ],
             [
              0.7777777777777778,
              "#fb9f3a"
             ],
             [
              0.8888888888888888,
              "#fdca26"
             ],
             [
              1,
              "#f0f921"
             ]
            ],
            "type": "surface"
           }
          ],
          "table": [
           {
            "cells": {
             "fill": {
              "color": "#EBF0F8"
             },
             "line": {
              "color": "white"
             }
            },
            "header": {
             "fill": {
              "color": "#C8D4E3"
             },
             "line": {
              "color": "white"
             }
            },
            "type": "table"
           }
          ]
         },
         "layout": {
          "annotationdefaults": {
           "arrowcolor": "#2a3f5f",
           "arrowhead": 0,
           "arrowwidth": 1
          },
          "autotypenumbers": "strict",
          "coloraxis": {
           "colorbar": {
            "outlinewidth": 0,
            "ticks": ""
           }
          },
          "colorscale": {
           "diverging": [
            [
             0,
             "#8e0152"
            ],
            [
             0.1,
             "#c51b7d"
            ],
            [
             0.2,
             "#de77ae"
            ],
            [
             0.3,
             "#f1b6da"
            ],
            [
             0.4,
             "#fde0ef"
            ],
            [
             0.5,
             "#f7f7f7"
            ],
            [
             0.6,
             "#e6f5d0"
            ],
            [
             0.7,
             "#b8e186"
            ],
            [
             0.8,
             "#7fbc41"
            ],
            [
             0.9,
             "#4d9221"
            ],
            [
             1,
             "#276419"
            ]
           ],
           "sequential": [
            [
             0,
             "#0d0887"
            ],
            [
             0.1111111111111111,
             "#46039f"
            ],
            [
             0.2222222222222222,
             "#7201a8"
            ],
            [
             0.3333333333333333,
             "#9c179e"
            ],
            [
             0.4444444444444444,
             "#bd3786"
            ],
            [
             0.5555555555555556,
             "#d8576b"
            ],
            [
             0.6666666666666666,
             "#ed7953"
            ],
            [
             0.7777777777777778,
             "#fb9f3a"
            ],
            [
             0.8888888888888888,
             "#fdca26"
            ],
            [
             1,
             "#f0f921"
            ]
           ],
           "sequentialminus": [
            [
             0,
             "#0d0887"
            ],
            [
             0.1111111111111111,
             "#46039f"
            ],
            [
             0.2222222222222222,
             "#7201a8"
            ],
            [
             0.3333333333333333,
             "#9c179e"
            ],
            [
             0.4444444444444444,
             "#bd3786"
            ],
            [
             0.5555555555555556,
             "#d8576b"
            ],
            [
             0.6666666666666666,
             "#ed7953"
            ],
            [
             0.7777777777777778,
             "#fb9f3a"
            ],
            [
             0.8888888888888888,
             "#fdca26"
            ],
            [
             1,
             "#f0f921"
            ]
           ]
          },
          "colorway": [
           "#636efa",
           "#EF553B",
           "#00cc96",
           "#ab63fa",
           "#FFA15A",
           "#19d3f3",
           "#FF6692",
           "#B6E880",
           "#FF97FF",
           "#FECB52"
          ],
          "font": {
           "color": "#2a3f5f"
          },
          "geo": {
           "bgcolor": "white",
           "lakecolor": "white",
           "landcolor": "#E5ECF6",
           "showlakes": true,
           "showland": true,
           "subunitcolor": "white"
          },
          "hoverlabel": {
           "align": "left"
          },
          "hovermode": "closest",
          "mapbox": {
           "style": "light"
          },
          "paper_bgcolor": "white",
          "plot_bgcolor": "#E5ECF6",
          "polar": {
           "angularaxis": {
            "gridcolor": "white",
            "linecolor": "white",
            "ticks": ""
           },
           "bgcolor": "#E5ECF6",
           "radialaxis": {
            "gridcolor": "white",
            "linecolor": "white",
            "ticks": ""
           }
          },
          "scene": {
           "xaxis": {
            "backgroundcolor": "#E5ECF6",
            "gridcolor": "white",
            "gridwidth": 2,
            "linecolor": "white",
            "showbackground": true,
            "ticks": "",
            "zerolinecolor": "white"
           },
           "yaxis": {
            "backgroundcolor": "#E5ECF6",
            "gridcolor": "white",
            "gridwidth": 2,
            "linecolor": "white",
            "showbackground": true,
            "ticks": "",
            "zerolinecolor": "white"
           },
           "zaxis": {
            "backgroundcolor": "#E5ECF6",
            "gridcolor": "white",
            "gridwidth": 2,
            "linecolor": "white",
            "showbackground": true,
            "ticks": "",
            "zerolinecolor": "white"
           }
          },
          "shapedefaults": {
           "line": {
            "color": "#2a3f5f"
           }
          },
          "ternary": {
           "aaxis": {
            "gridcolor": "white",
            "linecolor": "white",
            "ticks": ""
           },
           "baxis": {
            "gridcolor": "white",
            "linecolor": "white",
            "ticks": ""
           },
           "bgcolor": "#E5ECF6",
           "caxis": {
            "gridcolor": "white",
            "linecolor": "white",
            "ticks": ""
           }
          },
          "title": {
           "x": 0.05
          },
          "xaxis": {
           "automargin": true,
           "gridcolor": "white",
           "linecolor": "white",
           "ticks": "",
           "title": {
            "standoff": 15
           },
           "zerolinecolor": "white",
           "zerolinewidth": 2
          },
          "yaxis": {
           "automargin": true,
           "gridcolor": "white",
           "linecolor": "white",
           "ticks": "",
           "title": {
            "standoff": 15
           },
           "zerolinecolor": "white",
           "zerolinewidth": 2
          }
         }
        },
        "title": {
         "text": "UMAP"
        },
        "width": 600,
        "xaxis": {
         "anchor": "y",
         "domain": [
          0,
          1
         ],
         "title": {
          "text": "UMAP1"
         }
        },
        "yaxis": {
         "anchor": "x",
         "domain": [
          0,
          1
         ],
         "title": {
          "text": "UMAP2"
         }
        }
       }
      }
     },
     "metadata": {},
     "output_type": "display_data"
    }
   ],
   "source": [
    "import plotly.express as px\n",
    "\n",
    "import pandas as pd\n",
    "\n",
    "# Prepare DataFrames for each embedding\n",
    "df_pca = df_selected.copy()\n",
    "df_pca['PC1'] = X_p[:, 0]\n",
    "df_pca['PC2'] = X_p[:, 1]\n",
    "df_pca['GroupID'] = dataset.df_us['GroupID'].values\n",
    "\n",
    "df_tsne = df_selected.copy()\n",
    "df_tsne['TSNE1'] = X_t[:, 0]\n",
    "df_tsne['TSNE2'] = X_t[:, 1]\n",
    "df_tsne['GroupID'] = dataset.df_us['GroupID'].values\n",
    "\n",
    "df_umap = df_selected.copy()\n",
    "df_umap['UMAP1'] = X_u[:, 0]\n",
    "df_umap['UMAP2'] = X_u[:, 1]\n",
    "df_umap['GroupID'] = dataset.df_us['GroupID'].values\n",
    "\n",
    "# PCA plot\n",
    "fig_pca = px.scatter(\n",
    "    df_pca,\n",
    "    x='PC1', y='PC2',\n",
    "    color='GroupID',\n",
    "    hover_data=df_selected.columns,\n",
    "    title=\"PCA\",\n",
    "    width=600,\n",
    "    height=600\n",
    ")\n",
    "fig_pca.show()\n",
    "\n",
    "# t-SNE plot\n",
    "fig_tsne = px.scatter(\n",
    "    df_tsne,\n",
    "    x='TSNE1', y='TSNE2',\n",
    "    color='GroupID',\n",
    "    hover_data=df_selected.columns,\n",
    "    title=\"t-SNE\",\n",
    "    width=600,\n",
    "    height=600\n",
    ")\n",
    "fig_tsne.show()\n",
    "\n",
    "# UMAP plot\n",
    "fig_umap = px.scatter(\n",
    "    df_umap,\n",
    "    x='UMAP1', y='UMAP2',\n",
    "    color='GroupID',\n",
    "    hover_data=df_selected.columns,\n",
    "    title=\"UMAP\",\n",
    "    width=600,\n",
    "    height=600\n",
    ")\n",
    "fig_umap.show()"
   ]
  },
  {
   "cell_type": "markdown",
   "id": "60176117",
   "metadata": {},
   "source": [
    "# 2. Using Old data (before RR)"
   ]
  },
  {
   "cell_type": "markdown",
   "id": "5f308c3a",
   "metadata": {},
   "source": [
    "### Add root of CatNaviGATE to sys.path to import submodules of it."
   ]
  },
  {
   "cell_type": "code",
   "execution_count": 1,
   "id": "8e3c9feb",
   "metadata": {},
   "outputs": [],
   "source": [
    "import sys\n",
    "import os\n",
    "\n",
    "# Add the project root to sys.path so I can import submodules\n",
    "project_root = os.path.abspath(os.path.join(os.getcwd(), \"..\"))\n",
    "if project_root not in sys.path:\n",
    "    sys.path.insert(0, project_root)"
   ]
  },
  {
   "cell_type": "markdown",
   "id": "f13929cd",
   "metadata": {},
   "source": [
    "### Load Round Robin data"
   ]
  },
  {
   "cell_type": "code",
   "execution_count": 36,
   "id": "15b5c7cf",
   "metadata": {},
   "outputs": [
    {
     "name": "stdout",
     "output_type": "stream",
     "text": [
      "35 excel files were found:\n",
      "3 files were filtered out:\n",
      "/Users/dongjae/Google Drive/Shared drives/Accelerating Innovations Team Drive/2. Research/8. Data/02 GC Experimental Data/PercentLoading_Synthesis_MassLoading_Temperature_Date_Location v1.xlsx\n",
      "/Users/dongjae/Google Drive/Shared drives/Accelerating Innovations Team Drive/2. Research/8. Data/02 GC Experimental Data/1_RhWI_0p0005mg_300C_20241015_UCSBRR.xlsx\n",
      "/Users/dongjae/Google Drive/Shared drives/Accelerating Innovations Team Drive/2. Research/8. Data/02 GC Experimental Data/0p1_RhWI_0p005mg_300C_20241202_UCSBRL (1).xlsx\n",
      "data indexed 2 is not nominal:  0.02011772530761556 -> 0.02\n",
      "data indexed 9 is not nominal:  0.02026068695379248 -> 0.02\n",
      "data indexed 15 is not nominal:  0.005098880927531976 -> 0.005\n",
      "data indexed 17 is not nominal:  0.01977362991058778 -> 0.02\n",
      "data indexed 31 is not nominal:  0.02002987358616101 -> 0.02\n"
     ]
    }
   ],
   "source": [
    "import os\n",
    "import data.extract as ex\n",
    "import analysis.data_analysis as da\n",
    "import numpy as np\n",
    "\n",
    "# Define the home directory zand path to data\n",
    "home_dir = os.path.expanduser(\"~\")\n",
    "path = (home_dir +\n",
    "        # \"/Dropbox/0.Dongjae/04.SUNCAT@SLAC,Standford(2402~)/231128_research/Accelerate/250502_Round_Robin/250505_finalized_RR_data/alldata\")\n",
    "        \"/Google Drive/Shared drives/Accelerating Innovations Team Drive/2. Research/8. Data/02 GC Experimental Data\")\n",
    "\n",
    "# Keywords to exclude\n",
    "exclude_keywords = [\n",
    "    \"0p0005\", # data with too low Rh mass, likely to be inaccurate\n",
    "    \"(1)\",    # data mistakenly uploaded twice\n",
    "    \"PercentLoading_Synthesis_MassLoading_Temperature_Date_Location\", # example Excel file\n",
    "    # \"_SLAC\",   # data from SLAC\n",
    "    # \"PSU\",\n",
    "]\n",
    "\n",
    "# Create an instance of DataForGP\n",
    "dataset = ex.DataForGP(path=path)\n",
    "dataset.find_excel_files()\n",
    "dataset.filter_excel_files(exclude_keywords=exclude_keywords, verbose=True)\n",
    "dataset.construct_dataframe(extensive=False)\n",
    "dataset.convert_measured_to_nominal(which_column=\"Rh_total_mass\")\n",
    "# dataset.convert_measured_to_nominal(which_column=\"Rh_total_mass\", allowed_values=np.array([0.02])) # for Round Robin data\n",
    "dataset.apply_duplicate_groupid(\n",
    "    exclude_columns=['filename', 'experiment_date', 'location'],\n",
    "    verbose=False\n",
    ")"
   ]
  },
  {
   "cell_type": "markdown",
   "id": "b59a10c8",
   "metadata": {},
   "source": [
    "### Calculate and add target metrics into the DataFrame"
   ]
  },
  {
   "cell_type": "code",
   "execution_count": 37,
   "id": "e686c8a8",
   "metadata": {},
   "outputs": [
    {
     "name": "stdout",
     "output_type": "stream",
     "text": [
      "Group 1: \n",
      "mean of CO Net Production Rate (mol/molRh/s)_initial value:  4.38\n",
      "mean of CO Net Production Rate (mol/molRh/s)_final value:  3.84\n",
      "mean of CO Net Production Rate (mol/molRh/s)_initial slope: -0.03\n",
      "mean of CO Net Production Rate (mol/molRh/s)_final slope: -0.05\n",
      "mean of CO Net Production Rate (mol/molRh/s)_overall slope: -0.05\n",
      "Group 2: \n",
      "mean of CO Net Production Rate (mol/molRh/s)_initial value:  2.03\n",
      "mean of CO Net Production Rate (mol/molRh/s)_final value:  1.87\n",
      "mean of CO Net Production Rate (mol/molRh/s)_initial slope:  0.12\n",
      "mean of CO Net Production Rate (mol/molRh/s)_final slope: -0.04\n",
      "mean of CO Net Production Rate (mol/molRh/s)_overall slope: -0.02\n",
      "Group 3: \n",
      "mean of CO Net Production Rate (mol/molRh/s)_initial value:  6.59\n",
      "mean of CO Net Production Rate (mol/molRh/s)_final value:  5.32\n",
      "mean of CO Net Production Rate (mol/molRh/s)_initial slope: -0.12\n",
      "mean of CO Net Production Rate (mol/molRh/s)_final slope: -0.07\n",
      "mean of CO Net Production Rate (mol/molRh/s)_overall slope: -0.13\n",
      "Group 4: \n",
      "mean of CO Net Production Rate (mol/molRh/s)_initial value:  1.27\n",
      "mean of CO Net Production Rate (mol/molRh/s)_final value:  1.86\n",
      "mean of CO Net Production Rate (mol/molRh/s)_initial slope:  0.08\n",
      "mean of CO Net Production Rate (mol/molRh/s)_final slope:  0.01\n",
      "mean of CO Net Production Rate (mol/molRh/s)_overall slope:  0.06\n",
      "Group 5: \n",
      "mean of CO Net Production Rate (mol/molRh/s)_initial value: 13.19\n",
      "mean of CO Net Production Rate (mol/molRh/s)_final value: 10.40\n",
      "mean of CO Net Production Rate (mol/molRh/s)_initial slope: -0.77\n",
      "mean of CO Net Production Rate (mol/molRh/s)_final slope: -0.12\n",
      "mean of CO Net Production Rate (mol/molRh/s)_overall slope: -0.28\n"
     ]
    }
   ],
   "source": [
    "savgol=False\n",
    "methods=[\n",
    "            'initial value',\n",
    "            'final value',\n",
    "            'initial slope',\n",
    "            'final slope',\n",
    "            'overall slope',\n",
    "            # 'delta'\n",
    "        ]\n",
    "for column in [\n",
    "   # 'CO2 Conversion (%)',\n",
    "   # 'CH4 Net Production Rate (mol/molRh/s)',\n",
    "   'CO Net Production Rate (mol/molRh/s)',\n",
    "   # 'CO Forward Production Rate (mol/molRh/s)',\n",
    "   # 'Selectivity to CO (%)'\n",
    "    ]:\n",
    "    dataset.assign_target_values(\n",
    "        savgol=savgol, methods=methods,\n",
    "        column=column, temp_threshold=3.5, init_tos_buffer=0.5, adjacency_slope=1.0,\n",
    "        )\n",
    "\n",
    "# Construct unique DataFrame using group IDs\n",
    "dataset.construct_unique_dataframe(verbose=True)\n"
   ]
  },
  {
   "cell_type": "code",
   "execution_count": 38,
   "id": "102d22b3",
   "metadata": {},
   "outputs": [
    {
     "data": {
      "application/vnd.microsoft.datawrangler.viewer.v0+json": {
       "columns": [
        {
         "name": "index",
         "rawType": "int64",
         "type": "integer"
        },
        {
         "name": "reaction_temp",
         "rawType": "float64",
         "type": "float"
        },
        {
         "name": "Rh_weight_loading",
         "rawType": "float64",
         "type": "float"
        },
        {
         "name": "Rh_total_mass",
         "rawType": "float64",
         "type": "float"
        },
        {
         "name": "synth_method",
         "rawType": "object",
         "type": "string"
        },
        {
         "name": "filename",
         "rawType": "object",
         "type": "string"
        },
        {
         "name": "experiment_date",
         "rawType": "datetime64[ns]",
         "type": "datetime"
        },
        {
         "name": "location",
         "rawType": "object",
         "type": "string"
        },
        {
         "name": "GroupID",
         "rawType": "int64",
         "type": "integer"
        },
        {
         "name": "CO Net Production Rate (mol/molRh/s)_initial value",
         "rawType": "float64",
         "type": "float"
        },
        {
         "name": "CO Net Production Rate (mol/molRh/s)_final value",
         "rawType": "float64",
         "type": "float"
        },
        {
         "name": "CO Net Production Rate (mol/molRh/s)_initial slope",
         "rawType": "float64",
         "type": "float"
        },
        {
         "name": "CO Net Production Rate (mol/molRh/s)_final slope",
         "rawType": "float64",
         "type": "float"
        },
        {
         "name": "CO Net Production Rate (mol/molRh/s)_overall slope",
         "rawType": "float64",
         "type": "float"
        }
       ],
       "ref": "f4633529-90fe-4a4a-9a8c-6e708d12764d",
       "rows": [
        [
         "0",
         "500.0",
         "0.5",
         "0.02",
         "WI",
         "0p5_RhWI_0p02mg_500C_20240422_UCSBRL.xlsx",
         "2024-04-22 00:00:00",
         "UCSB",
         "5",
         "2.5566685497845203",
         "2.3683653989752242",
         "-0.07480765813370716",
         "0.003970678788120209",
         "-0.018716973408059688"
        ],
        [
         "1",
         "500.0",
         "0.1",
         "0.02",
         "WI",
         "0p1_RhWI_0p02mg_500C_20241008_SLAC1.xlsx",
         "2024-10-08 00:00:00",
         "SLAC",
         "1",
         "3.66163202200695",
         "3.157475996935828",
         "-0.00039949944879889805",
         "-0.040591840929649174",
         "-0.050396004061088455"
        ],
        [
         "2",
         "500.0",
         "0.5",
         "0.02",
         "NP",
         "0p5_RhNP_0p0201mg_500C_20240705_Cargnello1.xlsx",
         "2024-07-05 00:00:00",
         "Cargnello",
         "4",
         "1.43054010592269",
         "2.255859506924772",
         "0.11617940517116133",
         "-0.05796321548292646",
         "0.08250902092772824"
        ],
        [
         "3",
         "500.0",
         "0.25",
         "0.02",
         "WI",
         "0p25_RhWI_0p02mg_500C_20241001_SLAC1.xlsx",
         "2024-10-01 00:00:00",
         "SLAC",
         "3",
         "6.753629324510403",
         "5.830223029271804",
         "0.1548532842455331",
         "-0.005189374072799747",
         "-0.09214609887068846"
        ],
        [
         "4",
         "500.0",
         "5.0",
         "0.02",
         "WI",
         "5_RhWI_0p02mg_500C_20240427_UCSBRR.xlsx",
         "2024-04-27 00:00:00",
         "UCSB",
         "0",
         "0.4680902228604704",
         "0.5789471006152975",
         "0.0056685543525581885",
         "0.006935383461449337",
         "0.011027791865886231"
        ],
        [
         "5",
         "300.0",
         "1.0",
         "0.005",
         "WI",
         "1_RhWI_0p005mg_300C_20241220_UCSBRL.xlsx",
         "2024-12-20 00:00:00",
         "UCSB",
         "0",
         "0.42665431946685134",
         "0.3356884387209002",
         "-0.017036557464884056",
         "-0.007283070640566261",
         "-0.009042833455355925"
        ],
        [
         "6",
         "500.0",
         "0.25",
         "0.01",
         "NP",
         "0p25_RhNP_0p01mg_500C_20240523_UCSBRR.xlsx",
         "2024-05-23 00:00:00",
         "UCSB",
         "0",
         "2.2288567764307032",
         "2.218015052169817",
         "0.03786630040615896",
         "-0.014984422254481228",
         "-0.0010778252329466365"
        ],
        [
         "7",
         "500.0",
         "0.25",
         "0.02",
         "NP",
         "0p25_RhNP_0p02mg_500C_20240610_UCSBRL.xlsx",
         "2024-06-10 00:00:00",
         "UCSB",
         "2",
         "1.6291690241076515",
         "1.4973914111391124",
         "0.0009024551495424175",
         "-0.011535283024487811",
         "-0.013100251476334692"
        ],
        [
         "8",
         "500.0",
         "0.5",
         "0.02",
         "WI",
         "0p5_RhWI_0p02mg_500C_20240925_SLAC1.xlsx",
         "2024-09-25 00:00:00",
         "SLAC",
         "5",
         "18.23112012989425",
         "15.30660353079589",
         "-0.6106004169255724",
         "-0.26550335877966763",
         "-0.2915850044798544"
        ],
        [
         "9",
         "400.0",
         "1.0",
         "0.02",
         "NP",
         "1_RhNP_0p0203mg_400C_20241120_Cargnello1.xlsx",
         "2024-11-20 00:00:00",
         "Cargnello",
         "0",
         "0.7576044840280389",
         "0.6137334630923564",
         "-0.017423934283005132",
         "-0.010431857786336212",
         "-0.014383506217013996"
        ],
        [
         "10",
         "500.0",
         "0.25",
         "0.02",
         "WI",
         "0p25_RhWI_0p02mg_500C_20240307_UCSBRL.xlsx",
         "2024-03-07 00:00:00",
         "UCSB",
         "3",
         "6.397909361958551",
         "5.177806863328445",
         "-0.05282760309456143",
         "-0.08483759933728702",
         "-0.12146366336744994"
        ],
        [
         "11",
         "300.0",
         "0.1",
         "0.005",
         "WI",
         "0p1_RhWI_0p005mg_300C_20241202_UCSBRL.xlsx",
         "2024-12-02 00:00:00",
         "UCSB",
         "0",
         "1.0249350299265598",
         "1.1861260319465856",
         "0.09014930765473171",
         "0.02553300602649004",
         "0.01602384733502305"
        ],
        [
         "12",
         "500.0",
         "0.5",
         "0.02",
         "NP",
         "0p5_RhNP_0p02mg_500C_20240923_UCSBRR.xlsx",
         "2024-09-23 00:00:00",
         "UCSB",
         "4",
         "1.2517843972655232",
         "1.6710361952703976",
         "0.031131558354683134",
         "0.05041106931395057",
         "0.041562661042401555"
        ],
        [
         "13",
         "500.0",
         "1.0",
         "0.04",
         "WI",
         "1_RhWI_0p04mg_500C_20240406_UCSBRR.xlsx",
         "2024-04-06 00:00:00",
         "UCSB",
         "0",
         "1.3915718964387367",
         "1.9816161511646573",
         "0.10611244965793198",
         "0.037558380794457606",
         "0.05869464815946028"
        ],
        [
         "14",
         "300.0",
         "0.1",
         "0.02",
         "WI",
         "0p1_RhWI_0p02mg_300C_20250207_UCSBRL.xlsx",
         "2025-02-07 00:00:00",
         "UCSB",
         "0",
         "0.33019086041999113",
         "0.33948908548621287",
         "0.005507508558742904",
         "-0.0010798005551893794",
         "0.0009243278910153522"
        ],
        [
         "15",
         "300.0",
         "1.0",
         "0.005",
         "NP",
         "1_RhNP_0p0051mg_300C_20241121_Cargnello1.xlsx",
         "2024-11-21 00:00:00",
         "Cargnello",
         "0",
         "1.957736196026539",
         "0.5688437153510281",
         "-0.43725794950253394",
         "-0.05384534888420102",
         "-0.13885067843465254"
        ],
        [
         "16",
         "550.0",
         "1.0",
         "0.005",
         "WI",
         "1_RhWI_0p005mg_550C_20250319_UCSBRL.xlsx",
         "2025-03-19 00:00:00",
         "UCSB",
         "0",
         "8.099544176680801",
         "9.641888655481367",
         "-0.045109172309732146",
         "0.08815027223866011",
         "0.15332302764878433"
        ],
        [
         "17",
         "500.0",
         "0.25",
         "0.02",
         "NP",
         "0p25_RhNP_0p0198mg_500C_20240706_Cargnello1.xlsx",
         "2024-07-06 00:00:00",
         "Cargnello",
         "2",
         "2.432129632793441",
         "2.245160841774902",
         "0.24697620994908484",
         "-0.05885085898222669",
         "-0.018691686966585398"
        ],
        [
         "18",
         "500.0",
         "0.5",
         "0.02",
         "NP",
         "0p5_RhNP_0p02mg_500C_20240926_UCSBRR.xlsx",
         "2024-09-26 00:00:00",
         "UCSB",
         "4",
         "1.123420488452676",
         "1.6531188385575555",
         "0.07980829364372714",
         "0.04547027640120148",
         "0.05251036928220292"
        ],
        [
         "19",
         "500.0",
         "0.5",
         "0.02",
         "WI",
         "0p5_RhWI_0p02mg_500C_20240926_SLAC1.xlsx",
         "2024-09-26 00:00:00",
         "SLAC",
         "5",
         "17.84395790786582",
         "12.97730729188723",
         "-1.128328606747265",
         "-0.10697384638856099",
         "-0.484994524900978"
        ],
        [
         "20",
         "500.0",
         "0.25",
         "0.04",
         "NP",
         "0p25_RhNP_0p04mg_500C_20240314_UCSBRL.xlsx",
         "2024-03-14 00:00:00",
         "UCSB",
         "0",
         "0.4658047566782245",
         "1.0449159591986892",
         "0.06789857897782597",
         "0.03683498768096279",
         "0.057608674713876186"
        ],
        [
         "21",
         "400.0",
         "1.0",
         "0.02",
         "WI",
         "1_RhWI_0p02mg_400C_20241120_UCSBRL.xlsx",
         "2024-11-20 00:00:00",
         "UCSB",
         "0",
         "0.9376916500826116",
         "0.7620946464116034",
         "-0.026179551355129317",
         "-0.004810639470201594",
         "-0.017455934537599985"
        ],
        [
         "22",
         "500.0",
         "0.5",
         "0.01",
         "WI",
         "0p5_RhWI_0p01mg_500C_20240424_UCSBRR.xlsx",
         "2024-04-24 00:00:00",
         "UCSB",
         "0",
         "7.567639586258984",
         "7.663731895732436",
         "-0.27067760656037093",
         "0.06936846067252618",
         "0.009526141820562864"
        ],
        [
         "23",
         "500.0",
         "0.25",
         "0.02",
         "WI",
         "0p25_RhWI_0p02mg_500C_20241002_SLAC1.xlsx",
         "2024-10-02 00:00:00",
         "SLAC",
         "3",
         "7.295232450111691",
         "5.884342698469717",
         "-0.1290816565157129",
         "-0.09259271327561093",
         "-0.14097541163815558"
        ],
        [
         "24",
         "500.0",
         "0.5",
         "0.02",
         "WI",
         "0p5_RhWI_0p02mg_500C_20240930_SLAC1.xlsx",
         "2024-09-30 00:00:00",
         "SLAC",
         "5",
         "18.40038199349391",
         "15.07671929897996",
         "-0.9134792419353202",
         "-0.007881517626954939",
         "-0.33105126027862164"
        ],
        [
         "25",
         "500.0",
         "0.1",
         "0.02",
         "WI",
         "0p1_RhWI_0p02mg_500C_20241003_SLAC1.xlsx",
         "2024-10-03 00:00:00",
         "SLAC",
         "1",
         "3.40773625557773",
         "2.888317175797223",
         "-0.029116938101161862",
         "-0.07350165851142586",
         "-0.051782246052721484"
        ],
        [
         "26",
         "500.0",
         "0.5",
         "0.02",
         "WI",
         "0p5_RhWI_0p02mg_500C_20240304_UCSBRR.xlsx",
         "2024-03-04 00:00:00",
         "UCSB",
         "5",
         "4.055133331344981",
         "3.5501509238789217",
         "-0.2038643041629209",
         "-0.03243672779584885",
         "-0.05023450957489339"
        ],
        [
         "27",
         "500.0",
         "0.5",
         "0.04",
         "WI",
         "0p5_RhWI_0p04mg_500C_20240315_UCSBRL.xlsx",
         "2024-03-15 00:00:00",
         "UCSB",
         "0",
         "0.910086356421954",
         "1.0061404796377251",
         "0.014431652939993593",
         "0.007692068979602799",
         "0.00955551131726802"
        ],
        [
         "28",
         "500.0",
         "0.1",
         "0.02",
         "WI",
         "0p1_RhWI_0p02mg_500C_20240311_UCSBRR.xlsx",
         "2024-03-11 00:00:00",
         "UCSB",
         "1",
         "6.080546426469325",
         "5.483948960620475",
         "-0.05670091941549358",
         "-0.025684518472032524",
         "-0.05944179333461244"
        ],
        [
         "29",
         "500.0",
         "0.25",
         "0.02",
         "WI",
         "0p25_RhWI_0p02mg_500C_20240428_UCSBRL.xlsx",
         "2024-04-28 00:00:00",
         "UCSB",
         "3",
         "5.9164807201843255",
         "4.383393909639359",
         "-0.46283393595157823",
         "-0.07918987534825118",
         "-0.15237748530967604"
        ],
        [
         "30",
         "500.0",
         "0.5",
         "0.02",
         "WI",
         "0p5_RhWI_0p02mg_500C_20240924_SLAC1.xlsx",
         "2024-09-24 00:00:00",
         "SLAC",
         "5",
         "18.04158097473155",
         "13.09711470484656",
         "-1.660186284382112",
         "-0.29983979775426567",
         "-0.49366499075313963"
        ],
        [
         "31",
         "500.0",
         "0.1",
         "0.02",
         "NP",
         "0p1_RhNP_0p02mg_500C_20240708_Cargnello1.xlsx",
         "2024-07-08 00:00:00",
         "Cargnello",
         "0",
         "3.534242616873543",
         "2.204686518439916",
         "-0.4337523039326639",
         "-0.037988115341721425",
         "-0.1329186879855889"
        ]
       ],
       "shape": {
        "columns": 13,
        "rows": 32
       }
      },
      "text/html": [
       "<div>\n",
       "<style scoped>\n",
       "    .dataframe tbody tr th:only-of-type {\n",
       "        vertical-align: middle;\n",
       "    }\n",
       "\n",
       "    .dataframe tbody tr th {\n",
       "        vertical-align: top;\n",
       "    }\n",
       "\n",
       "    .dataframe thead th {\n",
       "        text-align: right;\n",
       "    }\n",
       "</style>\n",
       "<table border=\"1\" class=\"dataframe\">\n",
       "  <thead>\n",
       "    <tr style=\"text-align: right;\">\n",
       "      <th></th>\n",
       "      <th>reaction_temp</th>\n",
       "      <th>Rh_weight_loading</th>\n",
       "      <th>Rh_total_mass</th>\n",
       "      <th>synth_method</th>\n",
       "      <th>filename</th>\n",
       "      <th>experiment_date</th>\n",
       "      <th>location</th>\n",
       "      <th>GroupID</th>\n",
       "      <th>CO Net Production Rate (mol/molRh/s)_initial value</th>\n",
       "      <th>CO Net Production Rate (mol/molRh/s)_final value</th>\n",
       "      <th>CO Net Production Rate (mol/molRh/s)_initial slope</th>\n",
       "      <th>CO Net Production Rate (mol/molRh/s)_final slope</th>\n",
       "      <th>CO Net Production Rate (mol/molRh/s)_overall slope</th>\n",
       "    </tr>\n",
       "  </thead>\n",
       "  <tbody>\n",
       "    <tr>\n",
       "      <th>0</th>\n",
       "      <td>500.0</td>\n",
       "      <td>0.50</td>\n",
       "      <td>0.020</td>\n",
       "      <td>WI</td>\n",
       "      <td>0p5_RhWI_0p02mg_500C_20240422_UCSBRL.xlsx</td>\n",
       "      <td>2024-04-22</td>\n",
       "      <td>UCSB</td>\n",
       "      <td>5</td>\n",
       "      <td>2.556669</td>\n",
       "      <td>2.368365</td>\n",
       "      <td>-0.074808</td>\n",
       "      <td>0.003971</td>\n",
       "      <td>-0.018717</td>\n",
       "    </tr>\n",
       "    <tr>\n",
       "      <th>1</th>\n",
       "      <td>500.0</td>\n",
       "      <td>0.10</td>\n",
       "      <td>0.020</td>\n",
       "      <td>WI</td>\n",
       "      <td>0p1_RhWI_0p02mg_500C_20241008_SLAC1.xlsx</td>\n",
       "      <td>2024-10-08</td>\n",
       "      <td>SLAC</td>\n",
       "      <td>1</td>\n",
       "      <td>3.661632</td>\n",
       "      <td>3.157476</td>\n",
       "      <td>-0.000399</td>\n",
       "      <td>-0.040592</td>\n",
       "      <td>-0.050396</td>\n",
       "    </tr>\n",
       "    <tr>\n",
       "      <th>2</th>\n",
       "      <td>500.0</td>\n",
       "      <td>0.50</td>\n",
       "      <td>0.020</td>\n",
       "      <td>NP</td>\n",
       "      <td>0p5_RhNP_0p0201mg_500C_20240705_Cargnello1.xlsx</td>\n",
       "      <td>2024-07-05</td>\n",
       "      <td>Cargnello</td>\n",
       "      <td>4</td>\n",
       "      <td>1.430540</td>\n",
       "      <td>2.255860</td>\n",
       "      <td>0.116179</td>\n",
       "      <td>-0.057963</td>\n",
       "      <td>0.082509</td>\n",
       "    </tr>\n",
       "    <tr>\n",
       "      <th>3</th>\n",
       "      <td>500.0</td>\n",
       "      <td>0.25</td>\n",
       "      <td>0.020</td>\n",
       "      <td>WI</td>\n",
       "      <td>0p25_RhWI_0p02mg_500C_20241001_SLAC1.xlsx</td>\n",
       "      <td>2024-10-01</td>\n",
       "      <td>SLAC</td>\n",
       "      <td>3</td>\n",
       "      <td>6.753629</td>\n",
       "      <td>5.830223</td>\n",
       "      <td>0.154853</td>\n",
       "      <td>-0.005189</td>\n",
       "      <td>-0.092146</td>\n",
       "    </tr>\n",
       "    <tr>\n",
       "      <th>4</th>\n",
       "      <td>500.0</td>\n",
       "      <td>5.00</td>\n",
       "      <td>0.020</td>\n",
       "      <td>WI</td>\n",
       "      <td>5_RhWI_0p02mg_500C_20240427_UCSBRR.xlsx</td>\n",
       "      <td>2024-04-27</td>\n",
       "      <td>UCSB</td>\n",
       "      <td>0</td>\n",
       "      <td>0.468090</td>\n",
       "      <td>0.578947</td>\n",
       "      <td>0.005669</td>\n",
       "      <td>0.006935</td>\n",
       "      <td>0.011028</td>\n",
       "    </tr>\n",
       "    <tr>\n",
       "      <th>5</th>\n",
       "      <td>300.0</td>\n",
       "      <td>1.00</td>\n",
       "      <td>0.005</td>\n",
       "      <td>WI</td>\n",
       "      <td>1_RhWI_0p005mg_300C_20241220_UCSBRL.xlsx</td>\n",
       "      <td>2024-12-20</td>\n",
       "      <td>UCSB</td>\n",
       "      <td>0</td>\n",
       "      <td>0.426654</td>\n",
       "      <td>0.335688</td>\n",
       "      <td>-0.017037</td>\n",
       "      <td>-0.007283</td>\n",
       "      <td>-0.009043</td>\n",
       "    </tr>\n",
       "    <tr>\n",
       "      <th>6</th>\n",
       "      <td>500.0</td>\n",
       "      <td>0.25</td>\n",
       "      <td>0.010</td>\n",
       "      <td>NP</td>\n",
       "      <td>0p25_RhNP_0p01mg_500C_20240523_UCSBRR.xlsx</td>\n",
       "      <td>2024-05-23</td>\n",
       "      <td>UCSB</td>\n",
       "      <td>0</td>\n",
       "      <td>2.228857</td>\n",
       "      <td>2.218015</td>\n",
       "      <td>0.037866</td>\n",
       "      <td>-0.014984</td>\n",
       "      <td>-0.001078</td>\n",
       "    </tr>\n",
       "    <tr>\n",
       "      <th>7</th>\n",
       "      <td>500.0</td>\n",
       "      <td>0.25</td>\n",
       "      <td>0.020</td>\n",
       "      <td>NP</td>\n",
       "      <td>0p25_RhNP_0p02mg_500C_20240610_UCSBRL.xlsx</td>\n",
       "      <td>2024-06-10</td>\n",
       "      <td>UCSB</td>\n",
       "      <td>2</td>\n",
       "      <td>1.629169</td>\n",
       "      <td>1.497391</td>\n",
       "      <td>0.000902</td>\n",
       "      <td>-0.011535</td>\n",
       "      <td>-0.013100</td>\n",
       "    </tr>\n",
       "    <tr>\n",
       "      <th>8</th>\n",
       "      <td>500.0</td>\n",
       "      <td>0.50</td>\n",
       "      <td>0.020</td>\n",
       "      <td>WI</td>\n",
       "      <td>0p5_RhWI_0p02mg_500C_20240925_SLAC1.xlsx</td>\n",
       "      <td>2024-09-25</td>\n",
       "      <td>SLAC</td>\n",
       "      <td>5</td>\n",
       "      <td>18.231120</td>\n",
       "      <td>15.306604</td>\n",
       "      <td>-0.610600</td>\n",
       "      <td>-0.265503</td>\n",
       "      <td>-0.291585</td>\n",
       "    </tr>\n",
       "    <tr>\n",
       "      <th>9</th>\n",
       "      <td>400.0</td>\n",
       "      <td>1.00</td>\n",
       "      <td>0.020</td>\n",
       "      <td>NP</td>\n",
       "      <td>1_RhNP_0p0203mg_400C_20241120_Cargnello1.xlsx</td>\n",
       "      <td>2024-11-20</td>\n",
       "      <td>Cargnello</td>\n",
       "      <td>0</td>\n",
       "      <td>0.757604</td>\n",
       "      <td>0.613733</td>\n",
       "      <td>-0.017424</td>\n",
       "      <td>-0.010432</td>\n",
       "      <td>-0.014384</td>\n",
       "    </tr>\n",
       "    <tr>\n",
       "      <th>10</th>\n",
       "      <td>500.0</td>\n",
       "      <td>0.25</td>\n",
       "      <td>0.020</td>\n",
       "      <td>WI</td>\n",
       "      <td>0p25_RhWI_0p02mg_500C_20240307_UCSBRL.xlsx</td>\n",
       "      <td>2024-03-07</td>\n",
       "      <td>UCSB</td>\n",
       "      <td>3</td>\n",
       "      <td>6.397909</td>\n",
       "      <td>5.177807</td>\n",
       "      <td>-0.052828</td>\n",
       "      <td>-0.084838</td>\n",
       "      <td>-0.121464</td>\n",
       "    </tr>\n",
       "    <tr>\n",
       "      <th>11</th>\n",
       "      <td>300.0</td>\n",
       "      <td>0.10</td>\n",
       "      <td>0.005</td>\n",
       "      <td>WI</td>\n",
       "      <td>0p1_RhWI_0p005mg_300C_20241202_UCSBRL.xlsx</td>\n",
       "      <td>2024-12-02</td>\n",
       "      <td>UCSB</td>\n",
       "      <td>0</td>\n",
       "      <td>1.024935</td>\n",
       "      <td>1.186126</td>\n",
       "      <td>0.090149</td>\n",
       "      <td>0.025533</td>\n",
       "      <td>0.016024</td>\n",
       "    </tr>\n",
       "    <tr>\n",
       "      <th>12</th>\n",
       "      <td>500.0</td>\n",
       "      <td>0.50</td>\n",
       "      <td>0.020</td>\n",
       "      <td>NP</td>\n",
       "      <td>0p5_RhNP_0p02mg_500C_20240923_UCSBRR.xlsx</td>\n",
       "      <td>2024-09-23</td>\n",
       "      <td>UCSB</td>\n",
       "      <td>4</td>\n",
       "      <td>1.251784</td>\n",
       "      <td>1.671036</td>\n",
       "      <td>0.031132</td>\n",
       "      <td>0.050411</td>\n",
       "      <td>0.041563</td>\n",
       "    </tr>\n",
       "    <tr>\n",
       "      <th>13</th>\n",
       "      <td>500.0</td>\n",
       "      <td>1.00</td>\n",
       "      <td>0.040</td>\n",
       "      <td>WI</td>\n",
       "      <td>1_RhWI_0p04mg_500C_20240406_UCSBRR.xlsx</td>\n",
       "      <td>2024-04-06</td>\n",
       "      <td>UCSB</td>\n",
       "      <td>0</td>\n",
       "      <td>1.391572</td>\n",
       "      <td>1.981616</td>\n",
       "      <td>0.106112</td>\n",
       "      <td>0.037558</td>\n",
       "      <td>0.058695</td>\n",
       "    </tr>\n",
       "    <tr>\n",
       "      <th>14</th>\n",
       "      <td>300.0</td>\n",
       "      <td>0.10</td>\n",
       "      <td>0.020</td>\n",
       "      <td>WI</td>\n",
       "      <td>0p1_RhWI_0p02mg_300C_20250207_UCSBRL.xlsx</td>\n",
       "      <td>2025-02-07</td>\n",
       "      <td>UCSB</td>\n",
       "      <td>0</td>\n",
       "      <td>0.330191</td>\n",
       "      <td>0.339489</td>\n",
       "      <td>0.005508</td>\n",
       "      <td>-0.001080</td>\n",
       "      <td>0.000924</td>\n",
       "    </tr>\n",
       "    <tr>\n",
       "      <th>15</th>\n",
       "      <td>300.0</td>\n",
       "      <td>1.00</td>\n",
       "      <td>0.005</td>\n",
       "      <td>NP</td>\n",
       "      <td>1_RhNP_0p0051mg_300C_20241121_Cargnello1.xlsx</td>\n",
       "      <td>2024-11-21</td>\n",
       "      <td>Cargnello</td>\n",
       "      <td>0</td>\n",
       "      <td>1.957736</td>\n",
       "      <td>0.568844</td>\n",
       "      <td>-0.437258</td>\n",
       "      <td>-0.053845</td>\n",
       "      <td>-0.138851</td>\n",
       "    </tr>\n",
       "    <tr>\n",
       "      <th>16</th>\n",
       "      <td>550.0</td>\n",
       "      <td>1.00</td>\n",
       "      <td>0.005</td>\n",
       "      <td>WI</td>\n",
       "      <td>1_RhWI_0p005mg_550C_20250319_UCSBRL.xlsx</td>\n",
       "      <td>2025-03-19</td>\n",
       "      <td>UCSB</td>\n",
       "      <td>0</td>\n",
       "      <td>8.099544</td>\n",
       "      <td>9.641889</td>\n",
       "      <td>-0.045109</td>\n",
       "      <td>0.088150</td>\n",
       "      <td>0.153323</td>\n",
       "    </tr>\n",
       "    <tr>\n",
       "      <th>17</th>\n",
       "      <td>500.0</td>\n",
       "      <td>0.25</td>\n",
       "      <td>0.020</td>\n",
       "      <td>NP</td>\n",
       "      <td>0p25_RhNP_0p0198mg_500C_20240706_Cargnello1.xlsx</td>\n",
       "      <td>2024-07-06</td>\n",
       "      <td>Cargnello</td>\n",
       "      <td>2</td>\n",
       "      <td>2.432130</td>\n",
       "      <td>2.245161</td>\n",
       "      <td>0.246976</td>\n",
       "      <td>-0.058851</td>\n",
       "      <td>-0.018692</td>\n",
       "    </tr>\n",
       "    <tr>\n",
       "      <th>18</th>\n",
       "      <td>500.0</td>\n",
       "      <td>0.50</td>\n",
       "      <td>0.020</td>\n",
       "      <td>NP</td>\n",
       "      <td>0p5_RhNP_0p02mg_500C_20240926_UCSBRR.xlsx</td>\n",
       "      <td>2024-09-26</td>\n",
       "      <td>UCSB</td>\n",
       "      <td>4</td>\n",
       "      <td>1.123420</td>\n",
       "      <td>1.653119</td>\n",
       "      <td>0.079808</td>\n",
       "      <td>0.045470</td>\n",
       "      <td>0.052510</td>\n",
       "    </tr>\n",
       "    <tr>\n",
       "      <th>19</th>\n",
       "      <td>500.0</td>\n",
       "      <td>0.50</td>\n",
       "      <td>0.020</td>\n",
       "      <td>WI</td>\n",
       "      <td>0p5_RhWI_0p02mg_500C_20240926_SLAC1.xlsx</td>\n",
       "      <td>2024-09-26</td>\n",
       "      <td>SLAC</td>\n",
       "      <td>5</td>\n",
       "      <td>17.843958</td>\n",
       "      <td>12.977307</td>\n",
       "      <td>-1.128329</td>\n",
       "      <td>-0.106974</td>\n",
       "      <td>-0.484995</td>\n",
       "    </tr>\n",
       "    <tr>\n",
       "      <th>20</th>\n",
       "      <td>500.0</td>\n",
       "      <td>0.25</td>\n",
       "      <td>0.040</td>\n",
       "      <td>NP</td>\n",
       "      <td>0p25_RhNP_0p04mg_500C_20240314_UCSBRL.xlsx</td>\n",
       "      <td>2024-03-14</td>\n",
       "      <td>UCSB</td>\n",
       "      <td>0</td>\n",
       "      <td>0.465805</td>\n",
       "      <td>1.044916</td>\n",
       "      <td>0.067899</td>\n",
       "      <td>0.036835</td>\n",
       "      <td>0.057609</td>\n",
       "    </tr>\n",
       "    <tr>\n",
       "      <th>21</th>\n",
       "      <td>400.0</td>\n",
       "      <td>1.00</td>\n",
       "      <td>0.020</td>\n",
       "      <td>WI</td>\n",
       "      <td>1_RhWI_0p02mg_400C_20241120_UCSBRL.xlsx</td>\n",
       "      <td>2024-11-20</td>\n",
       "      <td>UCSB</td>\n",
       "      <td>0</td>\n",
       "      <td>0.937692</td>\n",
       "      <td>0.762095</td>\n",
       "      <td>-0.026180</td>\n",
       "      <td>-0.004811</td>\n",
       "      <td>-0.017456</td>\n",
       "    </tr>\n",
       "    <tr>\n",
       "      <th>22</th>\n",
       "      <td>500.0</td>\n",
       "      <td>0.50</td>\n",
       "      <td>0.010</td>\n",
       "      <td>WI</td>\n",
       "      <td>0p5_RhWI_0p01mg_500C_20240424_UCSBRR.xlsx</td>\n",
       "      <td>2024-04-24</td>\n",
       "      <td>UCSB</td>\n",
       "      <td>0</td>\n",
       "      <td>7.567640</td>\n",
       "      <td>7.663732</td>\n",
       "      <td>-0.270678</td>\n",
       "      <td>0.069368</td>\n",
       "      <td>0.009526</td>\n",
       "    </tr>\n",
       "    <tr>\n",
       "      <th>23</th>\n",
       "      <td>500.0</td>\n",
       "      <td>0.25</td>\n",
       "      <td>0.020</td>\n",
       "      <td>WI</td>\n",
       "      <td>0p25_RhWI_0p02mg_500C_20241002_SLAC1.xlsx</td>\n",
       "      <td>2024-10-02</td>\n",
       "      <td>SLAC</td>\n",
       "      <td>3</td>\n",
       "      <td>7.295232</td>\n",
       "      <td>5.884343</td>\n",
       "      <td>-0.129082</td>\n",
       "      <td>-0.092593</td>\n",
       "      <td>-0.140975</td>\n",
       "    </tr>\n",
       "    <tr>\n",
       "      <th>24</th>\n",
       "      <td>500.0</td>\n",
       "      <td>0.50</td>\n",
       "      <td>0.020</td>\n",
       "      <td>WI</td>\n",
       "      <td>0p5_RhWI_0p02mg_500C_20240930_SLAC1.xlsx</td>\n",
       "      <td>2024-09-30</td>\n",
       "      <td>SLAC</td>\n",
       "      <td>5</td>\n",
       "      <td>18.400382</td>\n",
       "      <td>15.076719</td>\n",
       "      <td>-0.913479</td>\n",
       "      <td>-0.007882</td>\n",
       "      <td>-0.331051</td>\n",
       "    </tr>\n",
       "    <tr>\n",
       "      <th>25</th>\n",
       "      <td>500.0</td>\n",
       "      <td>0.10</td>\n",
       "      <td>0.020</td>\n",
       "      <td>WI</td>\n",
       "      <td>0p1_RhWI_0p02mg_500C_20241003_SLAC1.xlsx</td>\n",
       "      <td>2024-10-03</td>\n",
       "      <td>SLAC</td>\n",
       "      <td>1</td>\n",
       "      <td>3.407736</td>\n",
       "      <td>2.888317</td>\n",
       "      <td>-0.029117</td>\n",
       "      <td>-0.073502</td>\n",
       "      <td>-0.051782</td>\n",
       "    </tr>\n",
       "    <tr>\n",
       "      <th>26</th>\n",
       "      <td>500.0</td>\n",
       "      <td>0.50</td>\n",
       "      <td>0.020</td>\n",
       "      <td>WI</td>\n",
       "      <td>0p5_RhWI_0p02mg_500C_20240304_UCSBRR.xlsx</td>\n",
       "      <td>2024-03-04</td>\n",
       "      <td>UCSB</td>\n",
       "      <td>5</td>\n",
       "      <td>4.055133</td>\n",
       "      <td>3.550151</td>\n",
       "      <td>-0.203864</td>\n",
       "      <td>-0.032437</td>\n",
       "      <td>-0.050235</td>\n",
       "    </tr>\n",
       "    <tr>\n",
       "      <th>27</th>\n",
       "      <td>500.0</td>\n",
       "      <td>0.50</td>\n",
       "      <td>0.040</td>\n",
       "      <td>WI</td>\n",
       "      <td>0p5_RhWI_0p04mg_500C_20240315_UCSBRL.xlsx</td>\n",
       "      <td>2024-03-15</td>\n",
       "      <td>UCSB</td>\n",
       "      <td>0</td>\n",
       "      <td>0.910086</td>\n",
       "      <td>1.006140</td>\n",
       "      <td>0.014432</td>\n",
       "      <td>0.007692</td>\n",
       "      <td>0.009556</td>\n",
       "    </tr>\n",
       "    <tr>\n",
       "      <th>28</th>\n",
       "      <td>500.0</td>\n",
       "      <td>0.10</td>\n",
       "      <td>0.020</td>\n",
       "      <td>WI</td>\n",
       "      <td>0p1_RhWI_0p02mg_500C_20240311_UCSBRR.xlsx</td>\n",
       "      <td>2024-03-11</td>\n",
       "      <td>UCSB</td>\n",
       "      <td>1</td>\n",
       "      <td>6.080546</td>\n",
       "      <td>5.483949</td>\n",
       "      <td>-0.056701</td>\n",
       "      <td>-0.025685</td>\n",
       "      <td>-0.059442</td>\n",
       "    </tr>\n",
       "    <tr>\n",
       "      <th>29</th>\n",
       "      <td>500.0</td>\n",
       "      <td>0.25</td>\n",
       "      <td>0.020</td>\n",
       "      <td>WI</td>\n",
       "      <td>0p25_RhWI_0p02mg_500C_20240428_UCSBRL.xlsx</td>\n",
       "      <td>2024-04-28</td>\n",
       "      <td>UCSB</td>\n",
       "      <td>3</td>\n",
       "      <td>5.916481</td>\n",
       "      <td>4.383394</td>\n",
       "      <td>-0.462834</td>\n",
       "      <td>-0.079190</td>\n",
       "      <td>-0.152377</td>\n",
       "    </tr>\n",
       "    <tr>\n",
       "      <th>30</th>\n",
       "      <td>500.0</td>\n",
       "      <td>0.50</td>\n",
       "      <td>0.020</td>\n",
       "      <td>WI</td>\n",
       "      <td>0p5_RhWI_0p02mg_500C_20240924_SLAC1.xlsx</td>\n",
       "      <td>2024-09-24</td>\n",
       "      <td>SLAC</td>\n",
       "      <td>5</td>\n",
       "      <td>18.041581</td>\n",
       "      <td>13.097115</td>\n",
       "      <td>-1.660186</td>\n",
       "      <td>-0.299840</td>\n",
       "      <td>-0.493665</td>\n",
       "    </tr>\n",
       "    <tr>\n",
       "      <th>31</th>\n",
       "      <td>500.0</td>\n",
       "      <td>0.10</td>\n",
       "      <td>0.020</td>\n",
       "      <td>NP</td>\n",
       "      <td>0p1_RhNP_0p02mg_500C_20240708_Cargnello1.xlsx</td>\n",
       "      <td>2024-07-08</td>\n",
       "      <td>Cargnello</td>\n",
       "      <td>0</td>\n",
       "      <td>3.534243</td>\n",
       "      <td>2.204687</td>\n",
       "      <td>-0.433752</td>\n",
       "      <td>-0.037988</td>\n",
       "      <td>-0.132919</td>\n",
       "    </tr>\n",
       "  </tbody>\n",
       "</table>\n",
       "</div>"
      ],
      "text/plain": [
       "    reaction_temp  Rh_weight_loading  Rh_total_mass synth_method  \\\n",
       "0           500.0               0.50          0.020           WI   \n",
       "1           500.0               0.10          0.020           WI   \n",
       "2           500.0               0.50          0.020           NP   \n",
       "3           500.0               0.25          0.020           WI   \n",
       "4           500.0               5.00          0.020           WI   \n",
       "5           300.0               1.00          0.005           WI   \n",
       "6           500.0               0.25          0.010           NP   \n",
       "7           500.0               0.25          0.020           NP   \n",
       "8           500.0               0.50          0.020           WI   \n",
       "9           400.0               1.00          0.020           NP   \n",
       "10          500.0               0.25          0.020           WI   \n",
       "11          300.0               0.10          0.005           WI   \n",
       "12          500.0               0.50          0.020           NP   \n",
       "13          500.0               1.00          0.040           WI   \n",
       "14          300.0               0.10          0.020           WI   \n",
       "15          300.0               1.00          0.005           NP   \n",
       "16          550.0               1.00          0.005           WI   \n",
       "17          500.0               0.25          0.020           NP   \n",
       "18          500.0               0.50          0.020           NP   \n",
       "19          500.0               0.50          0.020           WI   \n",
       "20          500.0               0.25          0.040           NP   \n",
       "21          400.0               1.00          0.020           WI   \n",
       "22          500.0               0.50          0.010           WI   \n",
       "23          500.0               0.25          0.020           WI   \n",
       "24          500.0               0.50          0.020           WI   \n",
       "25          500.0               0.10          0.020           WI   \n",
       "26          500.0               0.50          0.020           WI   \n",
       "27          500.0               0.50          0.040           WI   \n",
       "28          500.0               0.10          0.020           WI   \n",
       "29          500.0               0.25          0.020           WI   \n",
       "30          500.0               0.50          0.020           WI   \n",
       "31          500.0               0.10          0.020           NP   \n",
       "\n",
       "                                            filename experiment_date  \\\n",
       "0          0p5_RhWI_0p02mg_500C_20240422_UCSBRL.xlsx      2024-04-22   \n",
       "1           0p1_RhWI_0p02mg_500C_20241008_SLAC1.xlsx      2024-10-08   \n",
       "2    0p5_RhNP_0p0201mg_500C_20240705_Cargnello1.xlsx      2024-07-05   \n",
       "3          0p25_RhWI_0p02mg_500C_20241001_SLAC1.xlsx      2024-10-01   \n",
       "4            5_RhWI_0p02mg_500C_20240427_UCSBRR.xlsx      2024-04-27   \n",
       "5           1_RhWI_0p005mg_300C_20241220_UCSBRL.xlsx      2024-12-20   \n",
       "6         0p25_RhNP_0p01mg_500C_20240523_UCSBRR.xlsx      2024-05-23   \n",
       "7         0p25_RhNP_0p02mg_500C_20240610_UCSBRL.xlsx      2024-06-10   \n",
       "8           0p5_RhWI_0p02mg_500C_20240925_SLAC1.xlsx      2024-09-25   \n",
       "9      1_RhNP_0p0203mg_400C_20241120_Cargnello1.xlsx      2024-11-20   \n",
       "10        0p25_RhWI_0p02mg_500C_20240307_UCSBRL.xlsx      2024-03-07   \n",
       "11        0p1_RhWI_0p005mg_300C_20241202_UCSBRL.xlsx      2024-12-02   \n",
       "12         0p5_RhNP_0p02mg_500C_20240923_UCSBRR.xlsx      2024-09-23   \n",
       "13           1_RhWI_0p04mg_500C_20240406_UCSBRR.xlsx      2024-04-06   \n",
       "14         0p1_RhWI_0p02mg_300C_20250207_UCSBRL.xlsx      2025-02-07   \n",
       "15     1_RhNP_0p0051mg_300C_20241121_Cargnello1.xlsx      2024-11-21   \n",
       "16          1_RhWI_0p005mg_550C_20250319_UCSBRL.xlsx      2025-03-19   \n",
       "17  0p25_RhNP_0p0198mg_500C_20240706_Cargnello1.xlsx      2024-07-06   \n",
       "18         0p5_RhNP_0p02mg_500C_20240926_UCSBRR.xlsx      2024-09-26   \n",
       "19          0p5_RhWI_0p02mg_500C_20240926_SLAC1.xlsx      2024-09-26   \n",
       "20        0p25_RhNP_0p04mg_500C_20240314_UCSBRL.xlsx      2024-03-14   \n",
       "21           1_RhWI_0p02mg_400C_20241120_UCSBRL.xlsx      2024-11-20   \n",
       "22         0p5_RhWI_0p01mg_500C_20240424_UCSBRR.xlsx      2024-04-24   \n",
       "23         0p25_RhWI_0p02mg_500C_20241002_SLAC1.xlsx      2024-10-02   \n",
       "24          0p5_RhWI_0p02mg_500C_20240930_SLAC1.xlsx      2024-09-30   \n",
       "25          0p1_RhWI_0p02mg_500C_20241003_SLAC1.xlsx      2024-10-03   \n",
       "26         0p5_RhWI_0p02mg_500C_20240304_UCSBRR.xlsx      2024-03-04   \n",
       "27         0p5_RhWI_0p04mg_500C_20240315_UCSBRL.xlsx      2024-03-15   \n",
       "28         0p1_RhWI_0p02mg_500C_20240311_UCSBRR.xlsx      2024-03-11   \n",
       "29        0p25_RhWI_0p02mg_500C_20240428_UCSBRL.xlsx      2024-04-28   \n",
       "30          0p5_RhWI_0p02mg_500C_20240924_SLAC1.xlsx      2024-09-24   \n",
       "31     0p1_RhNP_0p02mg_500C_20240708_Cargnello1.xlsx      2024-07-08   \n",
       "\n",
       "     location  GroupID  CO Net Production Rate (mol/molRh/s)_initial value  \\\n",
       "0        UCSB        5                                           2.556669    \n",
       "1        SLAC        1                                           3.661632    \n",
       "2   Cargnello        4                                           1.430540    \n",
       "3        SLAC        3                                           6.753629    \n",
       "4        UCSB        0                                           0.468090    \n",
       "5        UCSB        0                                           0.426654    \n",
       "6        UCSB        0                                           2.228857    \n",
       "7        UCSB        2                                           1.629169    \n",
       "8        SLAC        5                                          18.231120    \n",
       "9   Cargnello        0                                           0.757604    \n",
       "10       UCSB        3                                           6.397909    \n",
       "11       UCSB        0                                           1.024935    \n",
       "12       UCSB        4                                           1.251784    \n",
       "13       UCSB        0                                           1.391572    \n",
       "14       UCSB        0                                           0.330191    \n",
       "15  Cargnello        0                                           1.957736    \n",
       "16       UCSB        0                                           8.099544    \n",
       "17  Cargnello        2                                           2.432130    \n",
       "18       UCSB        4                                           1.123420    \n",
       "19       SLAC        5                                          17.843958    \n",
       "20       UCSB        0                                           0.465805    \n",
       "21       UCSB        0                                           0.937692    \n",
       "22       UCSB        0                                           7.567640    \n",
       "23       SLAC        3                                           7.295232    \n",
       "24       SLAC        5                                          18.400382    \n",
       "25       SLAC        1                                           3.407736    \n",
       "26       UCSB        5                                           4.055133    \n",
       "27       UCSB        0                                           0.910086    \n",
       "28       UCSB        1                                           6.080546    \n",
       "29       UCSB        3                                           5.916481    \n",
       "30       SLAC        5                                          18.041581    \n",
       "31  Cargnello        0                                           3.534243    \n",
       "\n",
       "    CO Net Production Rate (mol/molRh/s)_final value  \\\n",
       "0                                           2.368365   \n",
       "1                                           3.157476   \n",
       "2                                           2.255860   \n",
       "3                                           5.830223   \n",
       "4                                           0.578947   \n",
       "5                                           0.335688   \n",
       "6                                           2.218015   \n",
       "7                                           1.497391   \n",
       "8                                          15.306604   \n",
       "9                                           0.613733   \n",
       "10                                          5.177807   \n",
       "11                                          1.186126   \n",
       "12                                          1.671036   \n",
       "13                                          1.981616   \n",
       "14                                          0.339489   \n",
       "15                                          0.568844   \n",
       "16                                          9.641889   \n",
       "17                                          2.245161   \n",
       "18                                          1.653119   \n",
       "19                                         12.977307   \n",
       "20                                          1.044916   \n",
       "21                                          0.762095   \n",
       "22                                          7.663732   \n",
       "23                                          5.884343   \n",
       "24                                         15.076719   \n",
       "25                                          2.888317   \n",
       "26                                          3.550151   \n",
       "27                                          1.006140   \n",
       "28                                          5.483949   \n",
       "29                                          4.383394   \n",
       "30                                         13.097115   \n",
       "31                                          2.204687   \n",
       "\n",
       "    CO Net Production Rate (mol/molRh/s)_initial slope  \\\n",
       "0                                           -0.074808    \n",
       "1                                           -0.000399    \n",
       "2                                            0.116179    \n",
       "3                                            0.154853    \n",
       "4                                            0.005669    \n",
       "5                                           -0.017037    \n",
       "6                                            0.037866    \n",
       "7                                            0.000902    \n",
       "8                                           -0.610600    \n",
       "9                                           -0.017424    \n",
       "10                                          -0.052828    \n",
       "11                                           0.090149    \n",
       "12                                           0.031132    \n",
       "13                                           0.106112    \n",
       "14                                           0.005508    \n",
       "15                                          -0.437258    \n",
       "16                                          -0.045109    \n",
       "17                                           0.246976    \n",
       "18                                           0.079808    \n",
       "19                                          -1.128329    \n",
       "20                                           0.067899    \n",
       "21                                          -0.026180    \n",
       "22                                          -0.270678    \n",
       "23                                          -0.129082    \n",
       "24                                          -0.913479    \n",
       "25                                          -0.029117    \n",
       "26                                          -0.203864    \n",
       "27                                           0.014432    \n",
       "28                                          -0.056701    \n",
       "29                                          -0.462834    \n",
       "30                                          -1.660186    \n",
       "31                                          -0.433752    \n",
       "\n",
       "    CO Net Production Rate (mol/molRh/s)_final slope  \\\n",
       "0                                           0.003971   \n",
       "1                                          -0.040592   \n",
       "2                                          -0.057963   \n",
       "3                                          -0.005189   \n",
       "4                                           0.006935   \n",
       "5                                          -0.007283   \n",
       "6                                          -0.014984   \n",
       "7                                          -0.011535   \n",
       "8                                          -0.265503   \n",
       "9                                          -0.010432   \n",
       "10                                         -0.084838   \n",
       "11                                          0.025533   \n",
       "12                                          0.050411   \n",
       "13                                          0.037558   \n",
       "14                                         -0.001080   \n",
       "15                                         -0.053845   \n",
       "16                                          0.088150   \n",
       "17                                         -0.058851   \n",
       "18                                          0.045470   \n",
       "19                                         -0.106974   \n",
       "20                                          0.036835   \n",
       "21                                         -0.004811   \n",
       "22                                          0.069368   \n",
       "23                                         -0.092593   \n",
       "24                                         -0.007882   \n",
       "25                                         -0.073502   \n",
       "26                                         -0.032437   \n",
       "27                                          0.007692   \n",
       "28                                         -0.025685   \n",
       "29                                         -0.079190   \n",
       "30                                         -0.299840   \n",
       "31                                         -0.037988   \n",
       "\n",
       "    CO Net Production Rate (mol/molRh/s)_overall slope  \n",
       "0                                           -0.018717   \n",
       "1                                           -0.050396   \n",
       "2                                            0.082509   \n",
       "3                                           -0.092146   \n",
       "4                                            0.011028   \n",
       "5                                           -0.009043   \n",
       "6                                           -0.001078   \n",
       "7                                           -0.013100   \n",
       "8                                           -0.291585   \n",
       "9                                           -0.014384   \n",
       "10                                          -0.121464   \n",
       "11                                           0.016024   \n",
       "12                                           0.041563   \n",
       "13                                           0.058695   \n",
       "14                                           0.000924   \n",
       "15                                          -0.138851   \n",
       "16                                           0.153323   \n",
       "17                                          -0.018692   \n",
       "18                                           0.052510   \n",
       "19                                          -0.484995   \n",
       "20                                           0.057609   \n",
       "21                                          -0.017456   \n",
       "22                                           0.009526   \n",
       "23                                          -0.140975   \n",
       "24                                          -0.331051   \n",
       "25                                          -0.051782   \n",
       "26                                          -0.050235   \n",
       "27                                           0.009556   \n",
       "28                                          -0.059442   \n",
       "29                                          -0.152377   \n",
       "30                                          -0.493665   \n",
       "31                                          -0.132919   "
      ]
     },
     "execution_count": 38,
     "metadata": {},
     "output_type": "execute_result"
    }
   ],
   "source": [
    "dataset.df_us"
   ]
  },
  {
   "cell_type": "markdown",
   "id": "4109bba9",
   "metadata": {},
   "source": [
    "## 1. Intra-/Interlab variability analysis using dispersion"
   ]
  },
  {
   "cell_type": "markdown",
   "id": "8504d430",
   "metadata": {},
   "source": [
    "### Min-max normalization to avoid implicit weight on some specific metrics"
   ]
  },
  {
   "cell_type": "code",
   "execution_count": 39,
   "id": "a4ff845f",
   "metadata": {},
   "outputs": [
    {
     "data": {
      "text/plain": [
       "(array([8.50477905, 6.53796915, 0.17283812, 0.13204413, 0.07772102]),\n",
       " array([ 0.94612634,  0.79502338, -3.00762793, -0.11494085, -0.2135349 ]))"
      ]
     },
     "execution_count": 39,
     "metadata": {},
     "output_type": "execute_result"
    }
   ],
   "source": [
    "scaler.data_max_, scaler.data_min_"
   ]
  },
  {
   "cell_type": "code",
   "execution_count": 40,
   "id": "7445624a",
   "metadata": {},
   "outputs": [],
   "source": [
    "from sklearn.preprocessing import MinMaxScaler\n",
    "\n",
    "metric_columns = dataset.df_us.columns[-5:]\n",
    "\n",
    "# Min-max scale only the columns in 'metric_columns' of dataset.df_us (to avoid implicit weight on the metric with larger range)\n",
    "# scaler2 = MinMaxScaler()\n",
    "df_scaled = dataset.df_us.copy()\n",
    "# Normalize the data using MinMaxScaler that was fitted on the RR data\n",
    "df_scaled[metric_columns] = scaler.transform(df_scaled[metric_columns])"
   ]
  },
  {
   "cell_type": "code",
   "execution_count": 41,
   "id": "0e1d33bf",
   "metadata": {},
   "outputs": [
    {
     "data": {
      "application/vnd.microsoft.datawrangler.viewer.v0+json": {
       "columns": [
        {
         "name": "index",
         "rawType": "int64",
         "type": "integer"
        },
        {
         "name": "reaction_temp",
         "rawType": "float64",
         "type": "float"
        },
        {
         "name": "Rh_weight_loading",
         "rawType": "float64",
         "type": "float"
        },
        {
         "name": "Rh_total_mass",
         "rawType": "float64",
         "type": "float"
        },
        {
         "name": "synth_method",
         "rawType": "object",
         "type": "string"
        },
        {
         "name": "filename",
         "rawType": "object",
         "type": "string"
        },
        {
         "name": "experiment_date",
         "rawType": "datetime64[ns]",
         "type": "datetime"
        },
        {
         "name": "location",
         "rawType": "object",
         "type": "string"
        },
        {
         "name": "GroupID",
         "rawType": "int64",
         "type": "integer"
        },
        {
         "name": "CO Net Production Rate (mol/molRh/s)_initial value",
         "rawType": "float64",
         "type": "float"
        },
        {
         "name": "CO Net Production Rate (mol/molRh/s)_final value",
         "rawType": "float64",
         "type": "float"
        },
        {
         "name": "CO Net Production Rate (mol/molRh/s)_initial slope",
         "rawType": "float64",
         "type": "float"
        },
        {
         "name": "CO Net Production Rate (mol/molRh/s)_final slope",
         "rawType": "float64",
         "type": "float"
        },
        {
         "name": "CO Net Production Rate (mol/molRh/s)_overall slope",
         "rawType": "float64",
         "type": "float"
        }
       ],
       "ref": "f7c013f5-6dee-4a4d-b7ac-fd7ac03aa52b",
       "rows": [
        [
         "0",
         "500.0",
         "0.5",
         "0.02",
         "WI",
         "0p5_RhWI_0p02mg_500C_20240422_UCSBRL.xlsx",
         "2024-04-22 00:00:00",
         "UCSB",
         "5",
         "0.21307265618166737",
         "0.27396080012956786",
         "0.922135380712689",
         "0.48145246747126647",
         "0.6688891542229906"
        ],
        [
         "1",
         "500.0",
         "0.1",
         "0.02",
         "WI",
         "0p1_RhWI_0p02mg_500C_20241008_SLAC1.xlsx",
         "2024-10-08 00:00:00",
         "SLAC",
         "1",
         "0.35925789782637324",
         "0.4113659976666244",
         "0.9455307440210172",
         "0.30102644095444897",
         "0.5601221604913963"
        ],
        [
         "2",
         "500.0",
         "0.5",
         "0.02",
         "NP",
         "0p5_RhNP_0p0201mg_500C_20240705_Cargnello1.xlsx",
         "2024-07-05 00:00:00",
         "Cargnello",
         "4",
         "0.06408731609815421",
         "0.2543705242401963",
         "0.9821854049597524",
         "0.23069271418959122",
         "1.016439153842136"
        ],
        [
         "3",
         "500.0",
         "0.25",
         "0.02",
         "WI",
         "0p25_RhWI_0p02mg_500C_20241001_SLAC1.xlsx",
         "2024-10-01 00:00:00",
         "SLAC",
         "3",
         "0.7683251513547842",
         "0.8767625274988615",
         "0.9943452200590447",
         "0.44436497890807436",
         "0.41677710835940907"
        ],
        [
         "4",
         "500.0",
         "5.0",
         "0.02",
         "WI",
         "5_RhWI_0p02mg_500C_20240427_UCSBRR.xlsx",
         "2024-04-27 00:00:00",
         "UCSB",
         "0",
         "-0.06324356158541804",
         "-0.03762464226344475",
         "0.9474386574241481",
         "0.4934560500198385",
         "0.7710150283866845"
        ],
        [
         "5",
         "300.0",
         "1.0",
         "0.005",
         "WI",
         "1_RhWI_0p005mg_300C_20241220_UCSBRL.xlsx",
         "2024-12-20 00:00:00",
         "UCSB",
         "0",
         "-0.06872547813979944",
         "-0.07998246203748416",
         "0.9402997314069799",
         "0.4358879593219629",
         "0.7021044104320278"
        ],
        [
         "6",
         "500.0",
         "0.25",
         "0.01",
         "NP",
         "0p25_RhNP_0p01mg_500C_20240523_UCSBRR.xlsx",
         "2024-05-23 00:00:00",
         "UCSB",
         "0",
         "0.169703581541288",
         "0.24778079550670085",
         "0.9575622511260585",
         "0.40470650281304194",
         "0.729451522434524"
        ],
        [
         "7",
         "500.0",
         "0.25",
         "0.02",
         "NP",
         "0p25_RhNP_0p02mg_500C_20240610_UCSBRL.xlsx",
         "2024-06-10 00:00:00",
         "UCSB",
         "2",
         "0.0903656656838589",
         "0.12230100344510653",
         "0.9459401037119098",
         "0.4186714780907491",
         "0.6881736445166237"
        ],
        [
         "8",
         "500.0",
         "0.5",
         "0.02",
         "WI",
         "0p5_RhWI_0p02mg_500C_20240925_SLAC1.xlsx",
         "2024-09-25 00:00:00",
         "SLAC",
         "5",
         "2.2867823755427144",
         "2.5268530700836616",
         "0.7536717811363486",
         "-0.6096018570087787",
         "-0.2679777515294054"
        ],
        [
         "9",
         "400.0",
         "1.0",
         "0.02",
         "NP",
         "1_RhNP_0p0203mg_400C_20241120_Cargnello1.xlsx",
         "2024-11-20 00:00:00",
         "Cargnello",
         "0",
         "-0.024941198392139638",
         "-0.031567408942654196",
         "0.9401779326478472",
         "0.42313905830252696",
         "0.6837677091878493"
        ],
        [
         "10",
         "500.0",
         "0.25",
         "0.02",
         "WI",
         "0p25_RhWI_0p02mg_500C_20240307_UCSBRL.xlsx",
         "2024-03-07 00:00:00",
         "UCSB",
         "3",
         "0.7212638592933391",
         "0.7631594756712748",
         "0.9290463348643089",
         "0.12188292684723617",
         "0.3161179881744928"
        ],
        [
         "11",
         "300.0",
         "0.1",
         "0.005",
         "WI",
         "0p1_RhWI_0p005mg_300C_20241202_UCSBRL.xlsx",
         "2024-12-02 00:00:00",
         "UCSB",
         "0",
         "0.010426287894610337",
         "0.06810140072157136",
         "0.9740010391709562",
         "0.5687546454161798",
         "0.7881685183354796"
        ],
        [
         "12",
         "500.0",
         "0.5",
         "0.02",
         "NP",
         "0p5_RhNP_0p02mg_500C_20240923_UCSBRR.xlsx",
         "2024-09-23 00:00:00",
         "UCSB",
         "4",
         "0.04043816649064727",
         "0.1525371907761376",
         "0.9554447180508299",
         "0.6694816719581858",
         "0.8758536505242454"
        ],
        [
         "13",
         "500.0",
         "1.0",
         "0.04",
         "WI",
         "1_RhWI_0p04mg_500C_20240406_UCSBRR.xlsx",
         "2024-04-06 00:00:00",
         "UCSB",
         "0",
         "0.05893187226396518",
         "0.20661744302593904",
         "0.9790201595645784",
         "0.6174433326919762",
         "0.9346747285988904"
        ],
        [
         "14",
         "300.0",
         "0.1",
         "0.02",
         "WI",
         "0p1_RhWI_0p02mg_300C_20250207_UCSBRL.xlsx",
         "2025-02-07 00:00:00",
         "UCSB",
         "0",
         "-0.08148746930525111",
         "-0.07932066808755367",
         "0.9473880215137563",
         "0.46100393974685105",
         "0.7363257282354785"
        ],
        [
         "15",
         "300.0",
         "1.0",
         "0.005",
         "NP",
         "1_RhNP_0p0051mg_300C_20241121_Cargnello1.xlsx",
         "2024-11-21 00:00:00",
         "Cargnello",
         "0",
         "0.1338346785797091",
         "-0.0393839110549396",
         "0.8081740033899222",
         "0.24736525229649933",
         "0.25642129544615166"
        ],
        [
         "16",
         "550.0",
         "1.0",
         "0.005",
         "WI",
         "1_RhWI_0p005mg_550C_20250319_UCSBRL.xlsx",
         "2025-03-19 00:00:00",
         "UCSB",
         "0",
         "0.9463879496679233",
         "1.5404751549405744",
         "0.931473158690792",
         "0.8222812548978831",
         "1.259572433692092"
        ],
        [
         "17",
         "500.0",
         "0.25",
         "0.02",
         "NP",
         "0p25_RhNP_0p0198mg_500C_20240706_Cargnello1.xlsx",
         "2024-07-06 00:00:00",
         "Cargnello",
         "2",
         "0.1965963181558561",
         "0.2525076013468783",
         "1.0233104485225983",
         "0.2270987973609079",
         "0.6689759728586822"
        ],
        [
         "18",
         "500.0",
         "0.5",
         "0.02",
         "NP",
         "0p5_RhNP_0p02mg_500C_20240926_UCSBRR.xlsx",
         "2024-09-26 00:00:00",
         "UCSB",
         "4",
         "0.02345578698218903",
         "0.1494173011879954",
         "0.9707496244868694",
         "0.6494772458454876",
         "0.9134415845281526"
        ],
        [
         "19",
         "500.0",
         "0.5",
         "0.02",
         "WI",
         "0p5_RhWI_0p02mg_500C_20240926_SLAC1.xlsx",
         "2024-09-26 00:00:00",
         "SLAC",
         "5",
         "2.2355613131223504",
         "2.121260481849856",
         "0.5908880312100341",
         "0.03225704566387516",
         "-0.9320312803662715"
        ],
        [
         "20",
         "500.0",
         "0.25",
         "0.04",
         "NP",
         "0p25_RhNP_0p04mg_500C_20240314_UCSBRL.xlsx",
         "2024-03-14 00:00:00",
         "UCSB",
         "0",
         "-0.06354592581240052",
         "0.04351296154676823",
         "0.9670049799958373",
         "0.6145144376047118",
         "0.9309461401757713"
        ],
        [
         "21",
         "400.0",
         "1.0",
         "0.02",
         "WI",
         "1_RhWI_0p02mg_400C_20241120_UCSBRL.xlsx",
         "2024-11-20 00:00:00",
         "UCSB",
         "0",
         "-0.001115898688930514",
         "-0.005733770725783682",
         "0.9374249974051089",
         "0.44589841058752144",
         "0.673218813435763"
        ],
        [
         "22",
         "500.0",
         "0.5",
         "0.01",
         "WI",
         "0p5_RhWI_0p01mg_500C_20240424_UCSBRR.xlsx",
         "2024-04-24 00:00:00",
         "UCSB",
         "0",
         "0.8760176586696617",
         "1.1960253135177938",
         "0.8605500830031954",
         "0.7462369097143702",
         "0.7658592531719804"
        ],
        [
         "23",
         "500.0",
         "0.25",
         "0.02",
         "WI",
         "0p25_RhWI_0p02mg_500C_20241002_SLAC1.xlsx",
         "2024-10-02 00:00:00",
         "SLAC",
         "3",
         "0.8399785460433051",
         "0.886186205061928",
         "0.9050705865720408",
         "0.09048379587486821",
         "0.24912622238795412"
        ],
        [
         "24",
         "500.0",
         "0.5",
         "0.02",
         "WI",
         "0p5_RhWI_0p02mg_500C_20240930_SLAC1.xlsx",
         "2024-09-30 00:00:00",
         "SLAC",
         "5",
         "2.3091755016989866",
         "2.486824095228987",
         "0.6584408242797342",
         "0.4334649497498175",
         "-0.40348145567016325"
        ],
        [
         "25",
         "500.0",
         "0.1",
         "0.02",
         "WI",
         "0p1_RhWI_0p02mg_500C_20241003_SLAC1.xlsx",
         "2024-10-03 00:00:00",
         "SLAC",
         "1",
         "0.32566781552856505",
         "0.3644982695142296",
         "0.936501426236099",
         "0.16778021391703202",
         "0.5553626280528616"
        ],
        [
         "26",
         "500.0",
         "0.5",
         "0.02",
         "WI",
         "0p5_RhWI_0p02mg_500C_20240304_UCSBRR.xlsx",
         "2024-03-04 00:00:00",
         "UCSB",
         "5",
         "0.4113176133184964",
         "0.47974117352145285",
         "0.8815574766955564",
         "0.3340451003086682",
         "0.5606766367302702"
        ],
        [
         "27",
         "500.0",
         "0.5",
         "0.04",
         "WI",
         "0p5_RhWI_0p04mg_500C_20240315_UCSBRL.xlsx",
         "2024-03-15 00:00:00",
         "UCSB",
         "0",
         "-0.004768043421226206",
         "0.03676111656782857",
         "0.9501939449999087",
         "0.49651974036382973",
         "0.7659600905965537"
        ],
        [
         "28",
         "500.0",
         "0.1",
         "0.02",
         "WI",
         "0p1_RhWI_0p02mg_500C_20240311_UCSBRR.xlsx",
         "2024-03-11 00:00:00",
         "UCSB",
         "1",
         "0.679277152420348",
         "0.8164669783984406",
         "0.927828489346588",
         "0.36138364189522476",
         "0.5290642876673539"
        ],
        [
         "29",
         "500.0",
         "0.25",
         "0.02",
         "WI",
         "0p25_RhWI_0p02mg_500C_20240428_UCSBRL.xlsx",
         "2024-04-28 00:00:00",
         "UCSB",
         "3",
         "0.6575714711722225",
         "0.6248309966092119",
         "0.8001324188981178",
         "0.1447495960719371",
         "0.20997826710041212"
        ],
        [
         "30",
         "500.0",
         "0.5",
         "0.02",
         "WI",
         "0p5_RhWI_0p02mg_500C_20240924_SLAC1.xlsx",
         "2024-09-24 00:00:00",
         "SLAC",
         "5",
         "2.2617065898763666",
         "2.142122147231902",
         "0.42366169720971814",
         "-0.7486242302533861",
         "-0.9618005152687258"
        ],
        [
         "31",
         "500.0",
         "0.1",
         "0.02",
         "NP",
         "0p1_RhNP_0p02mg_500C_20240708_Cargnello1.xlsx",
         "2024-07-08 00:00:00",
         "Cargnello",
         "0",
         "0.3424044438973064",
         "0.24545994236549412",
         "0.8092762461168878",
         "0.3115684808782516",
         "0.27678823075600767"
        ]
       ],
       "shape": {
        "columns": 13,
        "rows": 32
       }
      },
      "text/html": [
       "<div>\n",
       "<style scoped>\n",
       "    .dataframe tbody tr th:only-of-type {\n",
       "        vertical-align: middle;\n",
       "    }\n",
       "\n",
       "    .dataframe tbody tr th {\n",
       "        vertical-align: top;\n",
       "    }\n",
       "\n",
       "    .dataframe thead th {\n",
       "        text-align: right;\n",
       "    }\n",
       "</style>\n",
       "<table border=\"1\" class=\"dataframe\">\n",
       "  <thead>\n",
       "    <tr style=\"text-align: right;\">\n",
       "      <th></th>\n",
       "      <th>reaction_temp</th>\n",
       "      <th>Rh_weight_loading</th>\n",
       "      <th>Rh_total_mass</th>\n",
       "      <th>synth_method</th>\n",
       "      <th>filename</th>\n",
       "      <th>experiment_date</th>\n",
       "      <th>location</th>\n",
       "      <th>GroupID</th>\n",
       "      <th>CO Net Production Rate (mol/molRh/s)_initial value</th>\n",
       "      <th>CO Net Production Rate (mol/molRh/s)_final value</th>\n",
       "      <th>CO Net Production Rate (mol/molRh/s)_initial slope</th>\n",
       "      <th>CO Net Production Rate (mol/molRh/s)_final slope</th>\n",
       "      <th>CO Net Production Rate (mol/molRh/s)_overall slope</th>\n",
       "    </tr>\n",
       "  </thead>\n",
       "  <tbody>\n",
       "    <tr>\n",
       "      <th>0</th>\n",
       "      <td>500.0</td>\n",
       "      <td>0.50</td>\n",
       "      <td>0.020</td>\n",
       "      <td>WI</td>\n",
       "      <td>0p5_RhWI_0p02mg_500C_20240422_UCSBRL.xlsx</td>\n",
       "      <td>2024-04-22</td>\n",
       "      <td>UCSB</td>\n",
       "      <td>5</td>\n",
       "      <td>0.213073</td>\n",
       "      <td>0.273961</td>\n",
       "      <td>0.922135</td>\n",
       "      <td>0.481452</td>\n",
       "      <td>0.668889</td>\n",
       "    </tr>\n",
       "    <tr>\n",
       "      <th>1</th>\n",
       "      <td>500.0</td>\n",
       "      <td>0.10</td>\n",
       "      <td>0.020</td>\n",
       "      <td>WI</td>\n",
       "      <td>0p1_RhWI_0p02mg_500C_20241008_SLAC1.xlsx</td>\n",
       "      <td>2024-10-08</td>\n",
       "      <td>SLAC</td>\n",
       "      <td>1</td>\n",
       "      <td>0.359258</td>\n",
       "      <td>0.411366</td>\n",
       "      <td>0.945531</td>\n",
       "      <td>0.301026</td>\n",
       "      <td>0.560122</td>\n",
       "    </tr>\n",
       "    <tr>\n",
       "      <th>2</th>\n",
       "      <td>500.0</td>\n",
       "      <td>0.50</td>\n",
       "      <td>0.020</td>\n",
       "      <td>NP</td>\n",
       "      <td>0p5_RhNP_0p0201mg_500C_20240705_Cargnello1.xlsx</td>\n",
       "      <td>2024-07-05</td>\n",
       "      <td>Cargnello</td>\n",
       "      <td>4</td>\n",
       "      <td>0.064087</td>\n",
       "      <td>0.254371</td>\n",
       "      <td>0.982185</td>\n",
       "      <td>0.230693</td>\n",
       "      <td>1.016439</td>\n",
       "    </tr>\n",
       "    <tr>\n",
       "      <th>3</th>\n",
       "      <td>500.0</td>\n",
       "      <td>0.25</td>\n",
       "      <td>0.020</td>\n",
       "      <td>WI</td>\n",
       "      <td>0p25_RhWI_0p02mg_500C_20241001_SLAC1.xlsx</td>\n",
       "      <td>2024-10-01</td>\n",
       "      <td>SLAC</td>\n",
       "      <td>3</td>\n",
       "      <td>0.768325</td>\n",
       "      <td>0.876763</td>\n",
       "      <td>0.994345</td>\n",
       "      <td>0.444365</td>\n",
       "      <td>0.416777</td>\n",
       "    </tr>\n",
       "    <tr>\n",
       "      <th>4</th>\n",
       "      <td>500.0</td>\n",
       "      <td>5.00</td>\n",
       "      <td>0.020</td>\n",
       "      <td>WI</td>\n",
       "      <td>5_RhWI_0p02mg_500C_20240427_UCSBRR.xlsx</td>\n",
       "      <td>2024-04-27</td>\n",
       "      <td>UCSB</td>\n",
       "      <td>0</td>\n",
       "      <td>-0.063244</td>\n",
       "      <td>-0.037625</td>\n",
       "      <td>0.947439</td>\n",
       "      <td>0.493456</td>\n",
       "      <td>0.771015</td>\n",
       "    </tr>\n",
       "    <tr>\n",
       "      <th>5</th>\n",
       "      <td>300.0</td>\n",
       "      <td>1.00</td>\n",
       "      <td>0.005</td>\n",
       "      <td>WI</td>\n",
       "      <td>1_RhWI_0p005mg_300C_20241220_UCSBRL.xlsx</td>\n",
       "      <td>2024-12-20</td>\n",
       "      <td>UCSB</td>\n",
       "      <td>0</td>\n",
       "      <td>-0.068725</td>\n",
       "      <td>-0.079982</td>\n",
       "      <td>0.940300</td>\n",
       "      <td>0.435888</td>\n",
       "      <td>0.702104</td>\n",
       "    </tr>\n",
       "    <tr>\n",
       "      <th>6</th>\n",
       "      <td>500.0</td>\n",
       "      <td>0.25</td>\n",
       "      <td>0.010</td>\n",
       "      <td>NP</td>\n",
       "      <td>0p25_RhNP_0p01mg_500C_20240523_UCSBRR.xlsx</td>\n",
       "      <td>2024-05-23</td>\n",
       "      <td>UCSB</td>\n",
       "      <td>0</td>\n",
       "      <td>0.169704</td>\n",
       "      <td>0.247781</td>\n",
       "      <td>0.957562</td>\n",
       "      <td>0.404707</td>\n",
       "      <td>0.729452</td>\n",
       "    </tr>\n",
       "    <tr>\n",
       "      <th>7</th>\n",
       "      <td>500.0</td>\n",
       "      <td>0.25</td>\n",
       "      <td>0.020</td>\n",
       "      <td>NP</td>\n",
       "      <td>0p25_RhNP_0p02mg_500C_20240610_UCSBRL.xlsx</td>\n",
       "      <td>2024-06-10</td>\n",
       "      <td>UCSB</td>\n",
       "      <td>2</td>\n",
       "      <td>0.090366</td>\n",
       "      <td>0.122301</td>\n",
       "      <td>0.945940</td>\n",
       "      <td>0.418671</td>\n",
       "      <td>0.688174</td>\n",
       "    </tr>\n",
       "    <tr>\n",
       "      <th>8</th>\n",
       "      <td>500.0</td>\n",
       "      <td>0.50</td>\n",
       "      <td>0.020</td>\n",
       "      <td>WI</td>\n",
       "      <td>0p5_RhWI_0p02mg_500C_20240925_SLAC1.xlsx</td>\n",
       "      <td>2024-09-25</td>\n",
       "      <td>SLAC</td>\n",
       "      <td>5</td>\n",
       "      <td>2.286782</td>\n",
       "      <td>2.526853</td>\n",
       "      <td>0.753672</td>\n",
       "      <td>-0.609602</td>\n",
       "      <td>-0.267978</td>\n",
       "    </tr>\n",
       "    <tr>\n",
       "      <th>9</th>\n",
       "      <td>400.0</td>\n",
       "      <td>1.00</td>\n",
       "      <td>0.020</td>\n",
       "      <td>NP</td>\n",
       "      <td>1_RhNP_0p0203mg_400C_20241120_Cargnello1.xlsx</td>\n",
       "      <td>2024-11-20</td>\n",
       "      <td>Cargnello</td>\n",
       "      <td>0</td>\n",
       "      <td>-0.024941</td>\n",
       "      <td>-0.031567</td>\n",
       "      <td>0.940178</td>\n",
       "      <td>0.423139</td>\n",
       "      <td>0.683768</td>\n",
       "    </tr>\n",
       "    <tr>\n",
       "      <th>10</th>\n",
       "      <td>500.0</td>\n",
       "      <td>0.25</td>\n",
       "      <td>0.020</td>\n",
       "      <td>WI</td>\n",
       "      <td>0p25_RhWI_0p02mg_500C_20240307_UCSBRL.xlsx</td>\n",
       "      <td>2024-03-07</td>\n",
       "      <td>UCSB</td>\n",
       "      <td>3</td>\n",
       "      <td>0.721264</td>\n",
       "      <td>0.763159</td>\n",
       "      <td>0.929046</td>\n",
       "      <td>0.121883</td>\n",
       "      <td>0.316118</td>\n",
       "    </tr>\n",
       "    <tr>\n",
       "      <th>11</th>\n",
       "      <td>300.0</td>\n",
       "      <td>0.10</td>\n",
       "      <td>0.005</td>\n",
       "      <td>WI</td>\n",
       "      <td>0p1_RhWI_0p005mg_300C_20241202_UCSBRL.xlsx</td>\n",
       "      <td>2024-12-02</td>\n",
       "      <td>UCSB</td>\n",
       "      <td>0</td>\n",
       "      <td>0.010426</td>\n",
       "      <td>0.068101</td>\n",
       "      <td>0.974001</td>\n",
       "      <td>0.568755</td>\n",
       "      <td>0.788169</td>\n",
       "    </tr>\n",
       "    <tr>\n",
       "      <th>12</th>\n",
       "      <td>500.0</td>\n",
       "      <td>0.50</td>\n",
       "      <td>0.020</td>\n",
       "      <td>NP</td>\n",
       "      <td>0p5_RhNP_0p02mg_500C_20240923_UCSBRR.xlsx</td>\n",
       "      <td>2024-09-23</td>\n",
       "      <td>UCSB</td>\n",
       "      <td>4</td>\n",
       "      <td>0.040438</td>\n",
       "      <td>0.152537</td>\n",
       "      <td>0.955445</td>\n",
       "      <td>0.669482</td>\n",
       "      <td>0.875854</td>\n",
       "    </tr>\n",
       "    <tr>\n",
       "      <th>13</th>\n",
       "      <td>500.0</td>\n",
       "      <td>1.00</td>\n",
       "      <td>0.040</td>\n",
       "      <td>WI</td>\n",
       "      <td>1_RhWI_0p04mg_500C_20240406_UCSBRR.xlsx</td>\n",
       "      <td>2024-04-06</td>\n",
       "      <td>UCSB</td>\n",
       "      <td>0</td>\n",
       "      <td>0.058932</td>\n",
       "      <td>0.206617</td>\n",
       "      <td>0.979020</td>\n",
       "      <td>0.617443</td>\n",
       "      <td>0.934675</td>\n",
       "    </tr>\n",
       "    <tr>\n",
       "      <th>14</th>\n",
       "      <td>300.0</td>\n",
       "      <td>0.10</td>\n",
       "      <td>0.020</td>\n",
       "      <td>WI</td>\n",
       "      <td>0p1_RhWI_0p02mg_300C_20250207_UCSBRL.xlsx</td>\n",
       "      <td>2025-02-07</td>\n",
       "      <td>UCSB</td>\n",
       "      <td>0</td>\n",
       "      <td>-0.081487</td>\n",
       "      <td>-0.079321</td>\n",
       "      <td>0.947388</td>\n",
       "      <td>0.461004</td>\n",
       "      <td>0.736326</td>\n",
       "    </tr>\n",
       "    <tr>\n",
       "      <th>15</th>\n",
       "      <td>300.0</td>\n",
       "      <td>1.00</td>\n",
       "      <td>0.005</td>\n",
       "      <td>NP</td>\n",
       "      <td>1_RhNP_0p0051mg_300C_20241121_Cargnello1.xlsx</td>\n",
       "      <td>2024-11-21</td>\n",
       "      <td>Cargnello</td>\n",
       "      <td>0</td>\n",
       "      <td>0.133835</td>\n",
       "      <td>-0.039384</td>\n",
       "      <td>0.808174</td>\n",
       "      <td>0.247365</td>\n",
       "      <td>0.256421</td>\n",
       "    </tr>\n",
       "    <tr>\n",
       "      <th>16</th>\n",
       "      <td>550.0</td>\n",
       "      <td>1.00</td>\n",
       "      <td>0.005</td>\n",
       "      <td>WI</td>\n",
       "      <td>1_RhWI_0p005mg_550C_20250319_UCSBRL.xlsx</td>\n",
       "      <td>2025-03-19</td>\n",
       "      <td>UCSB</td>\n",
       "      <td>0</td>\n",
       "      <td>0.946388</td>\n",
       "      <td>1.540475</td>\n",
       "      <td>0.931473</td>\n",
       "      <td>0.822281</td>\n",
       "      <td>1.259572</td>\n",
       "    </tr>\n",
       "    <tr>\n",
       "      <th>17</th>\n",
       "      <td>500.0</td>\n",
       "      <td>0.25</td>\n",
       "      <td>0.020</td>\n",
       "      <td>NP</td>\n",
       "      <td>0p25_RhNP_0p0198mg_500C_20240706_Cargnello1.xlsx</td>\n",
       "      <td>2024-07-06</td>\n",
       "      <td>Cargnello</td>\n",
       "      <td>2</td>\n",
       "      <td>0.196596</td>\n",
       "      <td>0.252508</td>\n",
       "      <td>1.023310</td>\n",
       "      <td>0.227099</td>\n",
       "      <td>0.668976</td>\n",
       "    </tr>\n",
       "    <tr>\n",
       "      <th>18</th>\n",
       "      <td>500.0</td>\n",
       "      <td>0.50</td>\n",
       "      <td>0.020</td>\n",
       "      <td>NP</td>\n",
       "      <td>0p5_RhNP_0p02mg_500C_20240926_UCSBRR.xlsx</td>\n",
       "      <td>2024-09-26</td>\n",
       "      <td>UCSB</td>\n",
       "      <td>4</td>\n",
       "      <td>0.023456</td>\n",
       "      <td>0.149417</td>\n",
       "      <td>0.970750</td>\n",
       "      <td>0.649477</td>\n",
       "      <td>0.913442</td>\n",
       "    </tr>\n",
       "    <tr>\n",
       "      <th>19</th>\n",
       "      <td>500.0</td>\n",
       "      <td>0.50</td>\n",
       "      <td>0.020</td>\n",
       "      <td>WI</td>\n",
       "      <td>0p5_RhWI_0p02mg_500C_20240926_SLAC1.xlsx</td>\n",
       "      <td>2024-09-26</td>\n",
       "      <td>SLAC</td>\n",
       "      <td>5</td>\n",
       "      <td>2.235561</td>\n",
       "      <td>2.121260</td>\n",
       "      <td>0.590888</td>\n",
       "      <td>0.032257</td>\n",
       "      <td>-0.932031</td>\n",
       "    </tr>\n",
       "    <tr>\n",
       "      <th>20</th>\n",
       "      <td>500.0</td>\n",
       "      <td>0.25</td>\n",
       "      <td>0.040</td>\n",
       "      <td>NP</td>\n",
       "      <td>0p25_RhNP_0p04mg_500C_20240314_UCSBRL.xlsx</td>\n",
       "      <td>2024-03-14</td>\n",
       "      <td>UCSB</td>\n",
       "      <td>0</td>\n",
       "      <td>-0.063546</td>\n",
       "      <td>0.043513</td>\n",
       "      <td>0.967005</td>\n",
       "      <td>0.614514</td>\n",
       "      <td>0.930946</td>\n",
       "    </tr>\n",
       "    <tr>\n",
       "      <th>21</th>\n",
       "      <td>400.0</td>\n",
       "      <td>1.00</td>\n",
       "      <td>0.020</td>\n",
       "      <td>WI</td>\n",
       "      <td>1_RhWI_0p02mg_400C_20241120_UCSBRL.xlsx</td>\n",
       "      <td>2024-11-20</td>\n",
       "      <td>UCSB</td>\n",
       "      <td>0</td>\n",
       "      <td>-0.001116</td>\n",
       "      <td>-0.005734</td>\n",
       "      <td>0.937425</td>\n",
       "      <td>0.445898</td>\n",
       "      <td>0.673219</td>\n",
       "    </tr>\n",
       "    <tr>\n",
       "      <th>22</th>\n",
       "      <td>500.0</td>\n",
       "      <td>0.50</td>\n",
       "      <td>0.010</td>\n",
       "      <td>WI</td>\n",
       "      <td>0p5_RhWI_0p01mg_500C_20240424_UCSBRR.xlsx</td>\n",
       "      <td>2024-04-24</td>\n",
       "      <td>UCSB</td>\n",
       "      <td>0</td>\n",
       "      <td>0.876018</td>\n",
       "      <td>1.196025</td>\n",
       "      <td>0.860550</td>\n",
       "      <td>0.746237</td>\n",
       "      <td>0.765859</td>\n",
       "    </tr>\n",
       "    <tr>\n",
       "      <th>23</th>\n",
       "      <td>500.0</td>\n",
       "      <td>0.25</td>\n",
       "      <td>0.020</td>\n",
       "      <td>WI</td>\n",
       "      <td>0p25_RhWI_0p02mg_500C_20241002_SLAC1.xlsx</td>\n",
       "      <td>2024-10-02</td>\n",
       "      <td>SLAC</td>\n",
       "      <td>3</td>\n",
       "      <td>0.839979</td>\n",
       "      <td>0.886186</td>\n",
       "      <td>0.905071</td>\n",
       "      <td>0.090484</td>\n",
       "      <td>0.249126</td>\n",
       "    </tr>\n",
       "    <tr>\n",
       "      <th>24</th>\n",
       "      <td>500.0</td>\n",
       "      <td>0.50</td>\n",
       "      <td>0.020</td>\n",
       "      <td>WI</td>\n",
       "      <td>0p5_RhWI_0p02mg_500C_20240930_SLAC1.xlsx</td>\n",
       "      <td>2024-09-30</td>\n",
       "      <td>SLAC</td>\n",
       "      <td>5</td>\n",
       "      <td>2.309176</td>\n",
       "      <td>2.486824</td>\n",
       "      <td>0.658441</td>\n",
       "      <td>0.433465</td>\n",
       "      <td>-0.403481</td>\n",
       "    </tr>\n",
       "    <tr>\n",
       "      <th>25</th>\n",
       "      <td>500.0</td>\n",
       "      <td>0.10</td>\n",
       "      <td>0.020</td>\n",
       "      <td>WI</td>\n",
       "      <td>0p1_RhWI_0p02mg_500C_20241003_SLAC1.xlsx</td>\n",
       "      <td>2024-10-03</td>\n",
       "      <td>SLAC</td>\n",
       "      <td>1</td>\n",
       "      <td>0.325668</td>\n",
       "      <td>0.364498</td>\n",
       "      <td>0.936501</td>\n",
       "      <td>0.167780</td>\n",
       "      <td>0.555363</td>\n",
       "    </tr>\n",
       "    <tr>\n",
       "      <th>26</th>\n",
       "      <td>500.0</td>\n",
       "      <td>0.50</td>\n",
       "      <td>0.020</td>\n",
       "      <td>WI</td>\n",
       "      <td>0p5_RhWI_0p02mg_500C_20240304_UCSBRR.xlsx</td>\n",
       "      <td>2024-03-04</td>\n",
       "      <td>UCSB</td>\n",
       "      <td>5</td>\n",
       "      <td>0.411318</td>\n",
       "      <td>0.479741</td>\n",
       "      <td>0.881557</td>\n",
       "      <td>0.334045</td>\n",
       "      <td>0.560677</td>\n",
       "    </tr>\n",
       "    <tr>\n",
       "      <th>27</th>\n",
       "      <td>500.0</td>\n",
       "      <td>0.50</td>\n",
       "      <td>0.040</td>\n",
       "      <td>WI</td>\n",
       "      <td>0p5_RhWI_0p04mg_500C_20240315_UCSBRL.xlsx</td>\n",
       "      <td>2024-03-15</td>\n",
       "      <td>UCSB</td>\n",
       "      <td>0</td>\n",
       "      <td>-0.004768</td>\n",
       "      <td>0.036761</td>\n",
       "      <td>0.950194</td>\n",
       "      <td>0.496520</td>\n",
       "      <td>0.765960</td>\n",
       "    </tr>\n",
       "    <tr>\n",
       "      <th>28</th>\n",
       "      <td>500.0</td>\n",
       "      <td>0.10</td>\n",
       "      <td>0.020</td>\n",
       "      <td>WI</td>\n",
       "      <td>0p1_RhWI_0p02mg_500C_20240311_UCSBRR.xlsx</td>\n",
       "      <td>2024-03-11</td>\n",
       "      <td>UCSB</td>\n",
       "      <td>1</td>\n",
       "      <td>0.679277</td>\n",
       "      <td>0.816467</td>\n",
       "      <td>0.927828</td>\n",
       "      <td>0.361384</td>\n",
       "      <td>0.529064</td>\n",
       "    </tr>\n",
       "    <tr>\n",
       "      <th>29</th>\n",
       "      <td>500.0</td>\n",
       "      <td>0.25</td>\n",
       "      <td>0.020</td>\n",
       "      <td>WI</td>\n",
       "      <td>0p25_RhWI_0p02mg_500C_20240428_UCSBRL.xlsx</td>\n",
       "      <td>2024-04-28</td>\n",
       "      <td>UCSB</td>\n",
       "      <td>3</td>\n",
       "      <td>0.657571</td>\n",
       "      <td>0.624831</td>\n",
       "      <td>0.800132</td>\n",
       "      <td>0.144750</td>\n",
       "      <td>0.209978</td>\n",
       "    </tr>\n",
       "    <tr>\n",
       "      <th>30</th>\n",
       "      <td>500.0</td>\n",
       "      <td>0.50</td>\n",
       "      <td>0.020</td>\n",
       "      <td>WI</td>\n",
       "      <td>0p5_RhWI_0p02mg_500C_20240924_SLAC1.xlsx</td>\n",
       "      <td>2024-09-24</td>\n",
       "      <td>SLAC</td>\n",
       "      <td>5</td>\n",
       "      <td>2.261707</td>\n",
       "      <td>2.142122</td>\n",
       "      <td>0.423662</td>\n",
       "      <td>-0.748624</td>\n",
       "      <td>-0.961801</td>\n",
       "    </tr>\n",
       "    <tr>\n",
       "      <th>31</th>\n",
       "      <td>500.0</td>\n",
       "      <td>0.10</td>\n",
       "      <td>0.020</td>\n",
       "      <td>NP</td>\n",
       "      <td>0p1_RhNP_0p02mg_500C_20240708_Cargnello1.xlsx</td>\n",
       "      <td>2024-07-08</td>\n",
       "      <td>Cargnello</td>\n",
       "      <td>0</td>\n",
       "      <td>0.342404</td>\n",
       "      <td>0.245460</td>\n",
       "      <td>0.809276</td>\n",
       "      <td>0.311568</td>\n",
       "      <td>0.276788</td>\n",
       "    </tr>\n",
       "  </tbody>\n",
       "</table>\n",
       "</div>"
      ],
      "text/plain": [
       "    reaction_temp  Rh_weight_loading  Rh_total_mass synth_method  \\\n",
       "0           500.0               0.50          0.020           WI   \n",
       "1           500.0               0.10          0.020           WI   \n",
       "2           500.0               0.50          0.020           NP   \n",
       "3           500.0               0.25          0.020           WI   \n",
       "4           500.0               5.00          0.020           WI   \n",
       "5           300.0               1.00          0.005           WI   \n",
       "6           500.0               0.25          0.010           NP   \n",
       "7           500.0               0.25          0.020           NP   \n",
       "8           500.0               0.50          0.020           WI   \n",
       "9           400.0               1.00          0.020           NP   \n",
       "10          500.0               0.25          0.020           WI   \n",
       "11          300.0               0.10          0.005           WI   \n",
       "12          500.0               0.50          0.020           NP   \n",
       "13          500.0               1.00          0.040           WI   \n",
       "14          300.0               0.10          0.020           WI   \n",
       "15          300.0               1.00          0.005           NP   \n",
       "16          550.0               1.00          0.005           WI   \n",
       "17          500.0               0.25          0.020           NP   \n",
       "18          500.0               0.50          0.020           NP   \n",
       "19          500.0               0.50          0.020           WI   \n",
       "20          500.0               0.25          0.040           NP   \n",
       "21          400.0               1.00          0.020           WI   \n",
       "22          500.0               0.50          0.010           WI   \n",
       "23          500.0               0.25          0.020           WI   \n",
       "24          500.0               0.50          0.020           WI   \n",
       "25          500.0               0.10          0.020           WI   \n",
       "26          500.0               0.50          0.020           WI   \n",
       "27          500.0               0.50          0.040           WI   \n",
       "28          500.0               0.10          0.020           WI   \n",
       "29          500.0               0.25          0.020           WI   \n",
       "30          500.0               0.50          0.020           WI   \n",
       "31          500.0               0.10          0.020           NP   \n",
       "\n",
       "                                            filename experiment_date  \\\n",
       "0          0p5_RhWI_0p02mg_500C_20240422_UCSBRL.xlsx      2024-04-22   \n",
       "1           0p1_RhWI_0p02mg_500C_20241008_SLAC1.xlsx      2024-10-08   \n",
       "2    0p5_RhNP_0p0201mg_500C_20240705_Cargnello1.xlsx      2024-07-05   \n",
       "3          0p25_RhWI_0p02mg_500C_20241001_SLAC1.xlsx      2024-10-01   \n",
       "4            5_RhWI_0p02mg_500C_20240427_UCSBRR.xlsx      2024-04-27   \n",
       "5           1_RhWI_0p005mg_300C_20241220_UCSBRL.xlsx      2024-12-20   \n",
       "6         0p25_RhNP_0p01mg_500C_20240523_UCSBRR.xlsx      2024-05-23   \n",
       "7         0p25_RhNP_0p02mg_500C_20240610_UCSBRL.xlsx      2024-06-10   \n",
       "8           0p5_RhWI_0p02mg_500C_20240925_SLAC1.xlsx      2024-09-25   \n",
       "9      1_RhNP_0p0203mg_400C_20241120_Cargnello1.xlsx      2024-11-20   \n",
       "10        0p25_RhWI_0p02mg_500C_20240307_UCSBRL.xlsx      2024-03-07   \n",
       "11        0p1_RhWI_0p005mg_300C_20241202_UCSBRL.xlsx      2024-12-02   \n",
       "12         0p5_RhNP_0p02mg_500C_20240923_UCSBRR.xlsx      2024-09-23   \n",
       "13           1_RhWI_0p04mg_500C_20240406_UCSBRR.xlsx      2024-04-06   \n",
       "14         0p1_RhWI_0p02mg_300C_20250207_UCSBRL.xlsx      2025-02-07   \n",
       "15     1_RhNP_0p0051mg_300C_20241121_Cargnello1.xlsx      2024-11-21   \n",
       "16          1_RhWI_0p005mg_550C_20250319_UCSBRL.xlsx      2025-03-19   \n",
       "17  0p25_RhNP_0p0198mg_500C_20240706_Cargnello1.xlsx      2024-07-06   \n",
       "18         0p5_RhNP_0p02mg_500C_20240926_UCSBRR.xlsx      2024-09-26   \n",
       "19          0p5_RhWI_0p02mg_500C_20240926_SLAC1.xlsx      2024-09-26   \n",
       "20        0p25_RhNP_0p04mg_500C_20240314_UCSBRL.xlsx      2024-03-14   \n",
       "21           1_RhWI_0p02mg_400C_20241120_UCSBRL.xlsx      2024-11-20   \n",
       "22         0p5_RhWI_0p01mg_500C_20240424_UCSBRR.xlsx      2024-04-24   \n",
       "23         0p25_RhWI_0p02mg_500C_20241002_SLAC1.xlsx      2024-10-02   \n",
       "24          0p5_RhWI_0p02mg_500C_20240930_SLAC1.xlsx      2024-09-30   \n",
       "25          0p1_RhWI_0p02mg_500C_20241003_SLAC1.xlsx      2024-10-03   \n",
       "26         0p5_RhWI_0p02mg_500C_20240304_UCSBRR.xlsx      2024-03-04   \n",
       "27         0p5_RhWI_0p04mg_500C_20240315_UCSBRL.xlsx      2024-03-15   \n",
       "28         0p1_RhWI_0p02mg_500C_20240311_UCSBRR.xlsx      2024-03-11   \n",
       "29        0p25_RhWI_0p02mg_500C_20240428_UCSBRL.xlsx      2024-04-28   \n",
       "30          0p5_RhWI_0p02mg_500C_20240924_SLAC1.xlsx      2024-09-24   \n",
       "31     0p1_RhNP_0p02mg_500C_20240708_Cargnello1.xlsx      2024-07-08   \n",
       "\n",
       "     location  GroupID  CO Net Production Rate (mol/molRh/s)_initial value  \\\n",
       "0        UCSB        5                                           0.213073    \n",
       "1        SLAC        1                                           0.359258    \n",
       "2   Cargnello        4                                           0.064087    \n",
       "3        SLAC        3                                           0.768325    \n",
       "4        UCSB        0                                          -0.063244    \n",
       "5        UCSB        0                                          -0.068725    \n",
       "6        UCSB        0                                           0.169704    \n",
       "7        UCSB        2                                           0.090366    \n",
       "8        SLAC        5                                           2.286782    \n",
       "9   Cargnello        0                                          -0.024941    \n",
       "10       UCSB        3                                           0.721264    \n",
       "11       UCSB        0                                           0.010426    \n",
       "12       UCSB        4                                           0.040438    \n",
       "13       UCSB        0                                           0.058932    \n",
       "14       UCSB        0                                          -0.081487    \n",
       "15  Cargnello        0                                           0.133835    \n",
       "16       UCSB        0                                           0.946388    \n",
       "17  Cargnello        2                                           0.196596    \n",
       "18       UCSB        4                                           0.023456    \n",
       "19       SLAC        5                                           2.235561    \n",
       "20       UCSB        0                                          -0.063546    \n",
       "21       UCSB        0                                          -0.001116    \n",
       "22       UCSB        0                                           0.876018    \n",
       "23       SLAC        3                                           0.839979    \n",
       "24       SLAC        5                                           2.309176    \n",
       "25       SLAC        1                                           0.325668    \n",
       "26       UCSB        5                                           0.411318    \n",
       "27       UCSB        0                                          -0.004768    \n",
       "28       UCSB        1                                           0.679277    \n",
       "29       UCSB        3                                           0.657571    \n",
       "30       SLAC        5                                           2.261707    \n",
       "31  Cargnello        0                                           0.342404    \n",
       "\n",
       "    CO Net Production Rate (mol/molRh/s)_final value  \\\n",
       "0                                           0.273961   \n",
       "1                                           0.411366   \n",
       "2                                           0.254371   \n",
       "3                                           0.876763   \n",
       "4                                          -0.037625   \n",
       "5                                          -0.079982   \n",
       "6                                           0.247781   \n",
       "7                                           0.122301   \n",
       "8                                           2.526853   \n",
       "9                                          -0.031567   \n",
       "10                                          0.763159   \n",
       "11                                          0.068101   \n",
       "12                                          0.152537   \n",
       "13                                          0.206617   \n",
       "14                                         -0.079321   \n",
       "15                                         -0.039384   \n",
       "16                                          1.540475   \n",
       "17                                          0.252508   \n",
       "18                                          0.149417   \n",
       "19                                          2.121260   \n",
       "20                                          0.043513   \n",
       "21                                         -0.005734   \n",
       "22                                          1.196025   \n",
       "23                                          0.886186   \n",
       "24                                          2.486824   \n",
       "25                                          0.364498   \n",
       "26                                          0.479741   \n",
       "27                                          0.036761   \n",
       "28                                          0.816467   \n",
       "29                                          0.624831   \n",
       "30                                          2.142122   \n",
       "31                                          0.245460   \n",
       "\n",
       "    CO Net Production Rate (mol/molRh/s)_initial slope  \\\n",
       "0                                            0.922135    \n",
       "1                                            0.945531    \n",
       "2                                            0.982185    \n",
       "3                                            0.994345    \n",
       "4                                            0.947439    \n",
       "5                                            0.940300    \n",
       "6                                            0.957562    \n",
       "7                                            0.945940    \n",
       "8                                            0.753672    \n",
       "9                                            0.940178    \n",
       "10                                           0.929046    \n",
       "11                                           0.974001    \n",
       "12                                           0.955445    \n",
       "13                                           0.979020    \n",
       "14                                           0.947388    \n",
       "15                                           0.808174    \n",
       "16                                           0.931473    \n",
       "17                                           1.023310    \n",
       "18                                           0.970750    \n",
       "19                                           0.590888    \n",
       "20                                           0.967005    \n",
       "21                                           0.937425    \n",
       "22                                           0.860550    \n",
       "23                                           0.905071    \n",
       "24                                           0.658441    \n",
       "25                                           0.936501    \n",
       "26                                           0.881557    \n",
       "27                                           0.950194    \n",
       "28                                           0.927828    \n",
       "29                                           0.800132    \n",
       "30                                           0.423662    \n",
       "31                                           0.809276    \n",
       "\n",
       "    CO Net Production Rate (mol/molRh/s)_final slope  \\\n",
       "0                                           0.481452   \n",
       "1                                           0.301026   \n",
       "2                                           0.230693   \n",
       "3                                           0.444365   \n",
       "4                                           0.493456   \n",
       "5                                           0.435888   \n",
       "6                                           0.404707   \n",
       "7                                           0.418671   \n",
       "8                                          -0.609602   \n",
       "9                                           0.423139   \n",
       "10                                          0.121883   \n",
       "11                                          0.568755   \n",
       "12                                          0.669482   \n",
       "13                                          0.617443   \n",
       "14                                          0.461004   \n",
       "15                                          0.247365   \n",
       "16                                          0.822281   \n",
       "17                                          0.227099   \n",
       "18                                          0.649477   \n",
       "19                                          0.032257   \n",
       "20                                          0.614514   \n",
       "21                                          0.445898   \n",
       "22                                          0.746237   \n",
       "23                                          0.090484   \n",
       "24                                          0.433465   \n",
       "25                                          0.167780   \n",
       "26                                          0.334045   \n",
       "27                                          0.496520   \n",
       "28                                          0.361384   \n",
       "29                                          0.144750   \n",
       "30                                         -0.748624   \n",
       "31                                          0.311568   \n",
       "\n",
       "    CO Net Production Rate (mol/molRh/s)_overall slope  \n",
       "0                                            0.668889   \n",
       "1                                            0.560122   \n",
       "2                                            1.016439   \n",
       "3                                            0.416777   \n",
       "4                                            0.771015   \n",
       "5                                            0.702104   \n",
       "6                                            0.729452   \n",
       "7                                            0.688174   \n",
       "8                                           -0.267978   \n",
       "9                                            0.683768   \n",
       "10                                           0.316118   \n",
       "11                                           0.788169   \n",
       "12                                           0.875854   \n",
       "13                                           0.934675   \n",
       "14                                           0.736326   \n",
       "15                                           0.256421   \n",
       "16                                           1.259572   \n",
       "17                                           0.668976   \n",
       "18                                           0.913442   \n",
       "19                                          -0.932031   \n",
       "20                                           0.930946   \n",
       "21                                           0.673219   \n",
       "22                                           0.765859   \n",
       "23                                           0.249126   \n",
       "24                                          -0.403481   \n",
       "25                                           0.555363   \n",
       "26                                           0.560677   \n",
       "27                                           0.765960   \n",
       "28                                           0.529064   \n",
       "29                                           0.209978   \n",
       "30                                          -0.961801   \n",
       "31                                           0.276788   "
      ]
     },
     "execution_count": 41,
     "metadata": {},
     "output_type": "execute_result"
    }
   ],
   "source": [
    "df_scaled"
   ]
  },
  {
   "cell_type": "markdown",
   "id": "9d6e8fc2",
   "metadata": {},
   "source": [
    "### Function to calculate the dispersion (D)"
   ]
  },
  {
   "cell_type": "code",
   "execution_count": 42,
   "id": "4ec92f6f",
   "metadata": {},
   "outputs": [],
   "source": [
    "def get_dispersion(df, metric_columns):\n",
    "    \"\"\"\n",
    "    Calculate the dispersion of metric columns in a DataFrame.\n",
    "    \"\"\"\n",
    "\n",
    "    # Calculate the centroid of the metric columns\n",
    "    centroid = df[metric_columns].mean(axis=0)\n",
    "\n",
    "    # Compute Euclidean distances from each point to the centroid\n",
    "    distances = np.linalg.norm(df[metric_columns] - centroid, axis=1)\n",
    "\n",
    "    # Compute average distance\n",
    "    dispersion = np.mean(distances)\n",
    "\n",
    "    return dispersion, centroid"
   ]
  },
  {
   "cell_type": "markdown",
   "id": "6c40d426",
   "metadata": {},
   "source": [
    "### (1) Group dispersion"
   ]
  },
  {
   "cell_type": "code",
   "execution_count": 43,
   "id": "8387d733",
   "metadata": {},
   "outputs": [
    {
     "name": "stdout",
     "output_type": "stream",
     "text": [
      "Dispersion for GroupID 1: 0.2554\n",
      "Dispersion for GroupID 2: 0.1335\n",
      "Dispersion for GroupID 3: 0.2024\n",
      "Dispersion for GroupID 4: 0.2049\n",
      "Dispersion for GroupID 5: 1.4920\n"
     ]
    }
   ],
   "source": [
    "dfs_group = [df_scaled[df_scaled['GroupID'] == i] for i in range(1, 6)]\n",
    "dispersion_overall_old = []\n",
    "for df_group in dfs_group:\n",
    "    dispersion, _ = get_dispersion(df_group, metric_columns)\n",
    "    dispersion_overall_old.append(dispersion)\n",
    "    print(f\"Dispersion for GroupID {df_group['GroupID'].iloc[0]}: {dispersion:.4f}\")"
   ]
  },
  {
   "cell_type": "markdown",
   "id": "466607f5",
   "metadata": {},
   "source": [
    "### (2) Intralab dispersion"
   ]
  },
  {
   "cell_type": "markdown",
   "id": "7c671248",
   "metadata": {},
   "source": [
    "SLAC-g1, UCSB-g3, SLAC-g3, UCSB-g4, SLAC-g5, UCSB-g5"
   ]
  },
  {
   "cell_type": "code",
   "execution_count": 44,
   "id": "0a367cef",
   "metadata": {},
   "outputs": [
    {
     "name": "stdout",
     "output_type": "stream",
     "text": [
      "Dispersion for SLAC GroupID 1: 0.0728\n",
      "Dispersion for SLAC GroupID 3: 0.2040\n",
      "Dispersion for SLAC GroupID 5: 0.6046\n",
      "Dispersion for UCSB GroupID 3: 0.1136\n",
      "Dispersion for UCSB GroupID 4: 0.0242\n",
      "Dispersion for UCSB GroupID 5: 0.1708\n"
     ]
    },
    {
     "name": "stderr",
     "output_type": "stream",
     "text": [
      "/var/folders/26/fw595kz14qg6n4glslpg2nd80000gn/T/ipykernel_42818/2308843391.py:1: UserWarning: Boolean Series key will be reindexed to match DataFrame index.\n",
      "  df_intra_slac_g1 = df_scaled[df_scaled['location'] == 'SLAC'][df_scaled['GroupID'] == 1]\n",
      "/var/folders/26/fw595kz14qg6n4glslpg2nd80000gn/T/ipykernel_42818/2308843391.py:2: UserWarning: Boolean Series key will be reindexed to match DataFrame index.\n",
      "  df_intra_slac_g3 = df_scaled[df_scaled['location'] == 'SLAC'][df_scaled['GroupID'] == 3]\n",
      "/var/folders/26/fw595kz14qg6n4glslpg2nd80000gn/T/ipykernel_42818/2308843391.py:3: UserWarning: Boolean Series key will be reindexed to match DataFrame index.\n",
      "  df_intra_slac_g5 = df_scaled[df_scaled['location'] == 'SLAC'][df_scaled['GroupID'] == 5]\n",
      "/var/folders/26/fw595kz14qg6n4glslpg2nd80000gn/T/ipykernel_42818/2308843391.py:5: UserWarning: Boolean Series key will be reindexed to match DataFrame index.\n",
      "  df_intra_ucsb_g3 = df_scaled[df_scaled['location'] == 'UCSB'][df_scaled['GroupID'] == 3]\n",
      "/var/folders/26/fw595kz14qg6n4glslpg2nd80000gn/T/ipykernel_42818/2308843391.py:6: UserWarning: Boolean Series key will be reindexed to match DataFrame index.\n",
      "  df_intra_ucsb_g4 = df_scaled[df_scaled['location'] == 'UCSB'][df_scaled['GroupID'] == 4]\n",
      "/var/folders/26/fw595kz14qg6n4glslpg2nd80000gn/T/ipykernel_42818/2308843391.py:7: UserWarning: Boolean Series key will be reindexed to match DataFrame index.\n",
      "  df_intra_ucsb_g5 = df_scaled[df_scaled['location'] == 'UCSB'][df_scaled['GroupID'] == 5]\n"
     ]
    }
   ],
   "source": [
    "df_intra_slac_g1 = df_scaled[df_scaled['location'] == 'SLAC'][df_scaled['GroupID'] == 1]\n",
    "df_intra_slac_g3 = df_scaled[df_scaled['location'] == 'SLAC'][df_scaled['GroupID'] == 3]\n",
    "df_intra_slac_g5 = df_scaled[df_scaled['location'] == 'SLAC'][df_scaled['GroupID'] == 5]\n",
    "\n",
    "df_intra_ucsb_g3 = df_scaled[df_scaled['location'] == 'UCSB'][df_scaled['GroupID'] == 3]\n",
    "df_intra_ucsb_g4 = df_scaled[df_scaled['location'] == 'UCSB'][df_scaled['GroupID'] == 4]\n",
    "df_intra_ucsb_g5 = df_scaled[df_scaled['location'] == 'UCSB'][df_scaled['GroupID'] == 5]\n",
    "\n",
    "# df_intra_cargnello = df_scaled[df_scaled['location'] == 'Cargnello'][df_scaled['GroupID'] == 3]\n",
    "# df_intra_psu = df_scaled[df_scaled['location'] == 'PSU'][df_scaled['GroupID'] == 5]\n",
    "\n",
    "dispersion_intra_old = []\n",
    "for df_intra in [df_intra_slac_g1, df_intra_slac_g3, df_intra_slac_g5, df_intra_ucsb_g3, df_intra_ucsb_g4, df_intra_ucsb_g5]:\n",
    "    dispersion, _ = get_dispersion(df_intra, metric_columns)\n",
    "    dispersion_intra_old.append(dispersion)\n",
    "    print(f\"Dispersion for {df_intra['location'].iloc[0]} GroupID {df_intra['GroupID'].iloc[0]}: {dispersion:.4f}\")"
   ]
  },
  {
   "cell_type": "markdown",
   "id": "ce8dbd5b",
   "metadata": {},
   "source": [
    "### (3) Interlab dispersion"
   ]
  },
  {
   "cell_type": "code",
   "execution_count": 45,
   "id": "333fe5cf",
   "metadata": {},
   "outputs": [
    {
     "data": {
      "application/vnd.microsoft.datawrangler.viewer.v0+json": {
       "columns": [
        {
         "name": "index",
         "rawType": "object",
         "type": "string"
        },
        {
         "name": "0",
         "rawType": "float64",
         "type": "float"
        }
       ],
       "ref": "6d41a49c-7626-4b21-9a22-77cbb65c4ed9",
       "rows": [
        [
         "CO Net Production Rate (mol/molRh/s)_initial value",
         "0.3424628566774691"
        ],
        [
         "CO Net Production Rate (mol/molRh/s)_final value",
         "0.387932133590427"
        ],
        [
         "CO Net Production Rate (mol/molRh/s)_initial slope",
         "0.941016085128558"
        ],
        [
         "CO Net Production Rate (mol/molRh/s)_final slope",
         "0.2344033274357405"
        ],
        [
         "CO Net Production Rate (mol/molRh/s)_overall slope",
         "0.5577423942721289"
        ]
       ],
       "shape": {
        "columns": 1,
        "rows": 5
       }
      },
      "text/plain": [
       "CO Net Production Rate (mol/molRh/s)_initial value    0.342463\n",
       "CO Net Production Rate (mol/molRh/s)_final value      0.387932\n",
       "CO Net Production Rate (mol/molRh/s)_initial slope    0.941016\n",
       "CO Net Production Rate (mol/molRh/s)_final slope      0.234403\n",
       "CO Net Production Rate (mol/molRh/s)_overall slope    0.557742\n",
       "dtype: float64"
      ]
     },
     "metadata": {},
     "output_type": "display_data"
    },
    {
     "name": "stderr",
     "output_type": "stream",
     "text": [
      "/var/folders/26/fw595kz14qg6n4glslpg2nd80000gn/T/ipykernel_42818/653853074.py:8: FutureWarning: Series.__getitem__ treating keys as positions is deprecated. In a future version, integer keys will always be treated as labels (consistent with DataFrame behavior). To access a value by position, use `ser.iloc[pos]`\n",
      "  df_dupl[metric_columns] = centroid\n"
     ]
    },
    {
     "data": {
      "application/vnd.microsoft.datawrangler.viewer.v0+json": {
       "columns": [
        {
         "name": "index",
         "rawType": "int64",
         "type": "integer"
        },
        {
         "name": "reaction_temp",
         "rawType": "float64",
         "type": "float"
        },
        {
         "name": "Rh_weight_loading",
         "rawType": "float64",
         "type": "float"
        },
        {
         "name": "Rh_total_mass",
         "rawType": "float64",
         "type": "float"
        },
        {
         "name": "synth_method",
         "rawType": "object",
         "type": "string"
        },
        {
         "name": "filename",
         "rawType": "object",
         "type": "string"
        },
        {
         "name": "experiment_date",
         "rawType": "datetime64[ns]",
         "type": "datetime"
        },
        {
         "name": "location",
         "rawType": "object",
         "type": "string"
        },
        {
         "name": "GroupID",
         "rawType": "int64",
         "type": "integer"
        },
        {
         "name": "CO Net Production Rate (mol/molRh/s)_initial value",
         "rawType": "float64",
         "type": "float"
        },
        {
         "name": "CO Net Production Rate (mol/molRh/s)_final value",
         "rawType": "float64",
         "type": "float"
        },
        {
         "name": "CO Net Production Rate (mol/molRh/s)_initial slope",
         "rawType": "float64",
         "type": "float"
        },
        {
         "name": "CO Net Production Rate (mol/molRh/s)_final slope",
         "rawType": "float64",
         "type": "float"
        },
        {
         "name": "CO Net Production Rate (mol/molRh/s)_overall slope",
         "rawType": "float64",
         "type": "float"
        }
       ],
       "ref": "b2fa059b-1003-49a4-9911-c3752dcc3559",
       "rows": [
        [
         "28",
         "500.0",
         "0.1",
         "0.02",
         "WI",
         "0p1_RhWI_0p02mg_500C_20240311_UCSBRR.xlsx",
         "2024-03-11 00:00:00",
         "UCSB",
         "1",
         "0.679277152420348",
         "0.8164669783984406",
         "0.927828489346588",
         "0.36138364189522476",
         "0.5290642876673539"
        ],
        [
         "1",
         "500.0",
         "0.1",
         "0.02",
         "WI",
         "0p1_RhWI_0p02mg_500C_20241008_SLAC1.xlsx",
         "2024-10-08 00:00:00",
         "SLAC",
         "1",
         "0.3424628566774691",
         "0.387932133590427",
         "0.941016085128558",
         "0.2344033274357405",
         "0.5577423942721289"
        ]
       ],
       "shape": {
        "columns": 13,
        "rows": 2
       }
      },
      "text/html": [
       "<div>\n",
       "<style scoped>\n",
       "    .dataframe tbody tr th:only-of-type {\n",
       "        vertical-align: middle;\n",
       "    }\n",
       "\n",
       "    .dataframe tbody tr th {\n",
       "        vertical-align: top;\n",
       "    }\n",
       "\n",
       "    .dataframe thead th {\n",
       "        text-align: right;\n",
       "    }\n",
       "</style>\n",
       "<table border=\"1\" class=\"dataframe\">\n",
       "  <thead>\n",
       "    <tr style=\"text-align: right;\">\n",
       "      <th></th>\n",
       "      <th>reaction_temp</th>\n",
       "      <th>Rh_weight_loading</th>\n",
       "      <th>Rh_total_mass</th>\n",
       "      <th>synth_method</th>\n",
       "      <th>filename</th>\n",
       "      <th>experiment_date</th>\n",
       "      <th>location</th>\n",
       "      <th>GroupID</th>\n",
       "      <th>CO Net Production Rate (mol/molRh/s)_initial value</th>\n",
       "      <th>CO Net Production Rate (mol/molRh/s)_final value</th>\n",
       "      <th>CO Net Production Rate (mol/molRh/s)_initial slope</th>\n",
       "      <th>CO Net Production Rate (mol/molRh/s)_final slope</th>\n",
       "      <th>CO Net Production Rate (mol/molRh/s)_overall slope</th>\n",
       "    </tr>\n",
       "  </thead>\n",
       "  <tbody>\n",
       "    <tr>\n",
       "      <th>28</th>\n",
       "      <td>500.0</td>\n",
       "      <td>0.1</td>\n",
       "      <td>0.02</td>\n",
       "      <td>WI</td>\n",
       "      <td>0p1_RhWI_0p02mg_500C_20240311_UCSBRR.xlsx</td>\n",
       "      <td>2024-03-11</td>\n",
       "      <td>UCSB</td>\n",
       "      <td>1</td>\n",
       "      <td>0.679277</td>\n",
       "      <td>0.816467</td>\n",
       "      <td>0.927828</td>\n",
       "      <td>0.361384</td>\n",
       "      <td>0.529064</td>\n",
       "    </tr>\n",
       "    <tr>\n",
       "      <th>1</th>\n",
       "      <td>500.0</td>\n",
       "      <td>0.1</td>\n",
       "      <td>0.02</td>\n",
       "      <td>WI</td>\n",
       "      <td>0p1_RhWI_0p02mg_500C_20241008_SLAC1.xlsx</td>\n",
       "      <td>2024-10-08</td>\n",
       "      <td>SLAC</td>\n",
       "      <td>1</td>\n",
       "      <td>0.342463</td>\n",
       "      <td>0.387932</td>\n",
       "      <td>0.941016</td>\n",
       "      <td>0.234403</td>\n",
       "      <td>0.557742</td>\n",
       "    </tr>\n",
       "  </tbody>\n",
       "</table>\n",
       "</div>"
      ],
      "text/plain": [
       "    reaction_temp  Rh_weight_loading  Rh_total_mass synth_method  \\\n",
       "28          500.0                0.1           0.02           WI   \n",
       "1           500.0                0.1           0.02           WI   \n",
       "\n",
       "                                     filename experiment_date location  \\\n",
       "28  0p1_RhWI_0p02mg_500C_20240311_UCSBRR.xlsx      2024-03-11     UCSB   \n",
       "1    0p1_RhWI_0p02mg_500C_20241008_SLAC1.xlsx      2024-10-08     SLAC   \n",
       "\n",
       "    GroupID  CO Net Production Rate (mol/molRh/s)_initial value  \\\n",
       "28        1                                           0.679277    \n",
       "1         1                                           0.342463    \n",
       "\n",
       "    CO Net Production Rate (mol/molRh/s)_final value  \\\n",
       "28                                          0.816467   \n",
       "1                                           0.387932   \n",
       "\n",
       "    CO Net Production Rate (mol/molRh/s)_initial slope  \\\n",
       "28                                           0.927828    \n",
       "1                                            0.941016    \n",
       "\n",
       "    CO Net Production Rate (mol/molRh/s)_final slope  \\\n",
       "28                                          0.361384   \n",
       "1                                           0.234403   \n",
       "\n",
       "    CO Net Production Rate (mol/molRh/s)_overall slope  \n",
       "28                                           0.529064   \n",
       "1                                            0.557742   "
      ]
     },
     "metadata": {},
     "output_type": "display_data"
    },
    {
     "data": {
      "application/vnd.microsoft.datawrangler.viewer.v0+json": {
       "columns": [
        {
         "name": "index",
         "rawType": "object",
         "type": "string"
        },
        {
         "name": "0",
         "rawType": "float64",
         "type": "float"
        }
       ],
       "ref": "e3fa9e64-4508-4889-9371-09daa63407fc",
       "rows": [
        [
         "CO Net Production Rate (mol/molRh/s)_initial value",
         "0.8041518486990447"
        ],
        [
         "CO Net Production Rate (mol/molRh/s)_final value",
         "0.8814743662803948"
        ],
        [
         "CO Net Production Rate (mol/molRh/s)_initial slope",
         "0.9497079033155427"
        ],
        [
         "CO Net Production Rate (mol/molRh/s)_final slope",
         "0.2674243873914713"
        ],
        [
         "CO Net Production Rate (mol/molRh/s)_overall slope",
         "0.3329516653736816"
        ]
       ],
       "shape": {
        "columns": 1,
        "rows": 5
       }
      },
      "text/plain": [
       "CO Net Production Rate (mol/molRh/s)_initial value    0.804152\n",
       "CO Net Production Rate (mol/molRh/s)_final value      0.881474\n",
       "CO Net Production Rate (mol/molRh/s)_initial slope    0.949708\n",
       "CO Net Production Rate (mol/molRh/s)_final slope      0.267424\n",
       "CO Net Production Rate (mol/molRh/s)_overall slope    0.332952\n",
       "dtype: float64"
      ]
     },
     "metadata": {},
     "output_type": "display_data"
    },
    {
     "data": {
      "application/vnd.microsoft.datawrangler.viewer.v0+json": {
       "columns": [
        {
         "name": "index",
         "rawType": "object",
         "type": "string"
        },
        {
         "name": "0",
         "rawType": "float64",
         "type": "float"
        }
       ],
       "ref": "40e24578-96c1-459a-a10a-8762ff1facb6",
       "rows": [
        [
         "CO Net Production Rate (mol/molRh/s)_initial value",
         "0.6894176652327808"
        ],
        [
         "CO Net Production Rate (mol/molRh/s)_final value",
         "0.6939952361402434"
        ],
        [
         "CO Net Production Rate (mol/molRh/s)_initial slope",
         "0.8645893768812134"
        ],
        [
         "CO Net Production Rate (mol/molRh/s)_final slope",
         "0.13331626145958664"
        ],
        [
         "CO Net Production Rate (mol/molRh/s)_overall slope",
         "0.26304812763745244"
        ]
       ],
       "shape": {
        "columns": 1,
        "rows": 5
       }
      },
      "text/plain": [
       "CO Net Production Rate (mol/molRh/s)_initial value    0.689418\n",
       "CO Net Production Rate (mol/molRh/s)_final value      0.693995\n",
       "CO Net Production Rate (mol/molRh/s)_initial slope    0.864589\n",
       "CO Net Production Rate (mol/molRh/s)_final slope      0.133316\n",
       "CO Net Production Rate (mol/molRh/s)_overall slope    0.263048\n",
       "dtype: float64"
      ]
     },
     "metadata": {},
     "output_type": "display_data"
    },
    {
     "name": "stderr",
     "output_type": "stream",
     "text": [
      "/var/folders/26/fw595kz14qg6n4glslpg2nd80000gn/T/ipykernel_42818/653853074.py:22: FutureWarning: Series.__getitem__ treating keys as positions is deprecated. In a future version, integer keys will always be treated as labels (consistent with DataFrame behavior). To access a value by position, use `ser.iloc[pos]`\n",
      "  df_dupl1[metric_columns] = centroid1\n",
      "/var/folders/26/fw595kz14qg6n4glslpg2nd80000gn/T/ipykernel_42818/653853074.py:24: FutureWarning: Series.__getitem__ treating keys as positions is deprecated. In a future version, integer keys will always be treated as labels (consistent with DataFrame behavior). To access a value by position, use `ser.iloc[pos]`\n",
      "  df_dupl2[metric_columns] = centroid2\n"
     ]
    },
    {
     "data": {
      "application/vnd.microsoft.datawrangler.viewer.v0+json": {
       "columns": [
        {
         "name": "index",
         "rawType": "int64",
         "type": "integer"
        },
        {
         "name": "reaction_temp",
         "rawType": "float64",
         "type": "float"
        },
        {
         "name": "Rh_weight_loading",
         "rawType": "float64",
         "type": "float"
        },
        {
         "name": "Rh_total_mass",
         "rawType": "float64",
         "type": "float"
        },
        {
         "name": "synth_method",
         "rawType": "object",
         "type": "string"
        },
        {
         "name": "filename",
         "rawType": "object",
         "type": "string"
        },
        {
         "name": "experiment_date",
         "rawType": "datetime64[ns]",
         "type": "datetime"
        },
        {
         "name": "location",
         "rawType": "object",
         "type": "string"
        },
        {
         "name": "GroupID",
         "rawType": "int64",
         "type": "integer"
        },
        {
         "name": "CO Net Production Rate (mol/molRh/s)_initial value",
         "rawType": "float64",
         "type": "float"
        },
        {
         "name": "CO Net Production Rate (mol/molRh/s)_final value",
         "rawType": "float64",
         "type": "float"
        },
        {
         "name": "CO Net Production Rate (mol/molRh/s)_initial slope",
         "rawType": "float64",
         "type": "float"
        },
        {
         "name": "CO Net Production Rate (mol/molRh/s)_final slope",
         "rawType": "float64",
         "type": "float"
        },
        {
         "name": "CO Net Production Rate (mol/molRh/s)_overall slope",
         "rawType": "float64",
         "type": "float"
        }
       ],
       "ref": "6d3d3214-2a7c-4072-9ed4-1f0cc33a702f",
       "rows": [
        [
         "3",
         "500.0",
         "0.25",
         "0.02",
         "WI",
         "0p25_RhWI_0p02mg_500C_20241001_SLAC1.xlsx",
         "2024-10-01 00:00:00",
         "SLAC",
         "3",
         "0.8041518486990447",
         "0.8814743662803948",
         "0.9497079033155427",
         "0.2674243873914713",
         "0.3329516653736816"
        ],
        [
         "10",
         "500.0",
         "0.25",
         "0.02",
         "WI",
         "0p25_RhWI_0p02mg_500C_20240307_UCSBRL.xlsx",
         "2024-03-07 00:00:00",
         "UCSB",
         "3",
         "0.6894176652327808",
         "0.6939952361402434",
         "0.8645893768812134",
         "0.13331626145958664",
         "0.26304812763745244"
        ]
       ],
       "shape": {
        "columns": 13,
        "rows": 2
       }
      },
      "text/html": [
       "<div>\n",
       "<style scoped>\n",
       "    .dataframe tbody tr th:only-of-type {\n",
       "        vertical-align: middle;\n",
       "    }\n",
       "\n",
       "    .dataframe tbody tr th {\n",
       "        vertical-align: top;\n",
       "    }\n",
       "\n",
       "    .dataframe thead th {\n",
       "        text-align: right;\n",
       "    }\n",
       "</style>\n",
       "<table border=\"1\" class=\"dataframe\">\n",
       "  <thead>\n",
       "    <tr style=\"text-align: right;\">\n",
       "      <th></th>\n",
       "      <th>reaction_temp</th>\n",
       "      <th>Rh_weight_loading</th>\n",
       "      <th>Rh_total_mass</th>\n",
       "      <th>synth_method</th>\n",
       "      <th>filename</th>\n",
       "      <th>experiment_date</th>\n",
       "      <th>location</th>\n",
       "      <th>GroupID</th>\n",
       "      <th>CO Net Production Rate (mol/molRh/s)_initial value</th>\n",
       "      <th>CO Net Production Rate (mol/molRh/s)_final value</th>\n",
       "      <th>CO Net Production Rate (mol/molRh/s)_initial slope</th>\n",
       "      <th>CO Net Production Rate (mol/molRh/s)_final slope</th>\n",
       "      <th>CO Net Production Rate (mol/molRh/s)_overall slope</th>\n",
       "    </tr>\n",
       "  </thead>\n",
       "  <tbody>\n",
       "    <tr>\n",
       "      <th>3</th>\n",
       "      <td>500.0</td>\n",
       "      <td>0.25</td>\n",
       "      <td>0.02</td>\n",
       "      <td>WI</td>\n",
       "      <td>0p25_RhWI_0p02mg_500C_20241001_SLAC1.xlsx</td>\n",
       "      <td>2024-10-01</td>\n",
       "      <td>SLAC</td>\n",
       "      <td>3</td>\n",
       "      <td>0.804152</td>\n",
       "      <td>0.881474</td>\n",
       "      <td>0.949708</td>\n",
       "      <td>0.267424</td>\n",
       "      <td>0.332952</td>\n",
       "    </tr>\n",
       "    <tr>\n",
       "      <th>10</th>\n",
       "      <td>500.0</td>\n",
       "      <td>0.25</td>\n",
       "      <td>0.02</td>\n",
       "      <td>WI</td>\n",
       "      <td>0p25_RhWI_0p02mg_500C_20240307_UCSBRL.xlsx</td>\n",
       "      <td>2024-03-07</td>\n",
       "      <td>UCSB</td>\n",
       "      <td>3</td>\n",
       "      <td>0.689418</td>\n",
       "      <td>0.693995</td>\n",
       "      <td>0.864589</td>\n",
       "      <td>0.133316</td>\n",
       "      <td>0.263048</td>\n",
       "    </tr>\n",
       "  </tbody>\n",
       "</table>\n",
       "</div>"
      ],
      "text/plain": [
       "    reaction_temp  Rh_weight_loading  Rh_total_mass synth_method  \\\n",
       "3           500.0               0.25           0.02           WI   \n",
       "10          500.0               0.25           0.02           WI   \n",
       "\n",
       "                                      filename experiment_date location  \\\n",
       "3    0p25_RhWI_0p02mg_500C_20241001_SLAC1.xlsx      2024-10-01     SLAC   \n",
       "10  0p25_RhWI_0p02mg_500C_20240307_UCSBRL.xlsx      2024-03-07     UCSB   \n",
       "\n",
       "    GroupID  CO Net Production Rate (mol/molRh/s)_initial value  \\\n",
       "3         3                                           0.804152    \n",
       "10        3                                           0.689418    \n",
       "\n",
       "    CO Net Production Rate (mol/molRh/s)_final value  \\\n",
       "3                                           0.881474   \n",
       "10                                          0.693995   \n",
       "\n",
       "    CO Net Production Rate (mol/molRh/s)_initial slope  \\\n",
       "3                                            0.949708    \n",
       "10                                           0.864589    \n",
       "\n",
       "    CO Net Production Rate (mol/molRh/s)_final slope  \\\n",
       "3                                           0.267424   \n",
       "10                                          0.133316   \n",
       "\n",
       "    CO Net Production Rate (mol/molRh/s)_overall slope  \n",
       "3                                            0.332952   \n",
       "10                                           0.263048   "
      ]
     },
     "metadata": {},
     "output_type": "display_data"
    },
    {
     "data": {
      "application/vnd.microsoft.datawrangler.viewer.v0+json": {
       "columns": [
        {
         "name": "index",
         "rawType": "object",
         "type": "string"
        },
        {
         "name": "0",
         "rawType": "float64",
         "type": "float"
        }
       ],
       "ref": "eb0b2e57-7320-4ecc-b679-3e4671f6a898",
       "rows": [
        [
         "CO Net Production Rate (mol/molRh/s)_initial value",
         "0.03194697673641815"
        ],
        [
         "CO Net Production Rate (mol/molRh/s)_final value",
         "0.1509772459820665"
        ],
        [
         "CO Net Production Rate (mol/molRh/s)_initial slope",
         "0.9630971712688496"
        ],
        [
         "CO Net Production Rate (mol/molRh/s)_final slope",
         "0.6594794589018367"
        ],
        [
         "CO Net Production Rate (mol/molRh/s)_overall slope",
         "0.894647617526199"
        ]
       ],
       "shape": {
        "columns": 1,
        "rows": 5
       }
      },
      "text/plain": [
       "CO Net Production Rate (mol/molRh/s)_initial value    0.031947\n",
       "CO Net Production Rate (mol/molRh/s)_final value      0.150977\n",
       "CO Net Production Rate (mol/molRh/s)_initial slope    0.963097\n",
       "CO Net Production Rate (mol/molRh/s)_final slope      0.659479\n",
       "CO Net Production Rate (mol/molRh/s)_overall slope    0.894648\n",
       "dtype: float64"
      ]
     },
     "metadata": {},
     "output_type": "display_data"
    },
    {
     "name": "stderr",
     "output_type": "stream",
     "text": [
      "/var/folders/26/fw595kz14qg6n4glslpg2nd80000gn/T/ipykernel_42818/653853074.py:34: FutureWarning: Series.__getitem__ treating keys as positions is deprecated. In a future version, integer keys will always be treated as labels (consistent with DataFrame behavior). To access a value by position, use `ser.iloc[pos]`\n",
      "  df_dupl[metric_columns] = centroid\n"
     ]
    },
    {
     "data": {
      "application/vnd.microsoft.datawrangler.viewer.v0+json": {
       "columns": [
        {
         "name": "index",
         "rawType": "int64",
         "type": "integer"
        },
        {
         "name": "reaction_temp",
         "rawType": "float64",
         "type": "float"
        },
        {
         "name": "Rh_weight_loading",
         "rawType": "float64",
         "type": "float"
        },
        {
         "name": "Rh_total_mass",
         "rawType": "float64",
         "type": "float"
        },
        {
         "name": "synth_method",
         "rawType": "object",
         "type": "string"
        },
        {
         "name": "filename",
         "rawType": "object",
         "type": "string"
        },
        {
         "name": "experiment_date",
         "rawType": "datetime64[ns]",
         "type": "datetime"
        },
        {
         "name": "location",
         "rawType": "object",
         "type": "string"
        },
        {
         "name": "GroupID",
         "rawType": "int64",
         "type": "integer"
        },
        {
         "name": "CO Net Production Rate (mol/molRh/s)_initial value",
         "rawType": "float64",
         "type": "float"
        },
        {
         "name": "CO Net Production Rate (mol/molRh/s)_final value",
         "rawType": "float64",
         "type": "float"
        },
        {
         "name": "CO Net Production Rate (mol/molRh/s)_initial slope",
         "rawType": "float64",
         "type": "float"
        },
        {
         "name": "CO Net Production Rate (mol/molRh/s)_final slope",
         "rawType": "float64",
         "type": "float"
        },
        {
         "name": "CO Net Production Rate (mol/molRh/s)_overall slope",
         "rawType": "float64",
         "type": "float"
        }
       ],
       "ref": "80788836-c1f2-476c-b894-bc608d47c60e",
       "rows": [
        [
         "2",
         "500.0",
         "0.5",
         "0.02",
         "NP",
         "0p5_RhNP_0p0201mg_500C_20240705_Cargnello1.xlsx",
         "2024-07-05 00:00:00",
         "Cargnello",
         "4",
         "0.06408731609815421",
         "0.2543705242401963",
         "0.9821854049597524",
         "0.23069271418959122",
         "1.016439153842136"
        ],
        [
         "12",
         "500.0",
         "0.5",
         "0.02",
         "NP",
         "0p5_RhNP_0p02mg_500C_20240923_UCSBRR.xlsx",
         "2024-09-23 00:00:00",
         "UCSB",
         "4",
         "0.03194697673641815",
         "0.1509772459820665",
         "0.9630971712688496",
         "0.6594794589018367",
         "0.894647617526199"
        ]
       ],
       "shape": {
        "columns": 13,
        "rows": 2
       }
      },
      "text/html": [
       "<div>\n",
       "<style scoped>\n",
       "    .dataframe tbody tr th:only-of-type {\n",
       "        vertical-align: middle;\n",
       "    }\n",
       "\n",
       "    .dataframe tbody tr th {\n",
       "        vertical-align: top;\n",
       "    }\n",
       "\n",
       "    .dataframe thead th {\n",
       "        text-align: right;\n",
       "    }\n",
       "</style>\n",
       "<table border=\"1\" class=\"dataframe\">\n",
       "  <thead>\n",
       "    <tr style=\"text-align: right;\">\n",
       "      <th></th>\n",
       "      <th>reaction_temp</th>\n",
       "      <th>Rh_weight_loading</th>\n",
       "      <th>Rh_total_mass</th>\n",
       "      <th>synth_method</th>\n",
       "      <th>filename</th>\n",
       "      <th>experiment_date</th>\n",
       "      <th>location</th>\n",
       "      <th>GroupID</th>\n",
       "      <th>CO Net Production Rate (mol/molRh/s)_initial value</th>\n",
       "      <th>CO Net Production Rate (mol/molRh/s)_final value</th>\n",
       "      <th>CO Net Production Rate (mol/molRh/s)_initial slope</th>\n",
       "      <th>CO Net Production Rate (mol/molRh/s)_final slope</th>\n",
       "      <th>CO Net Production Rate (mol/molRh/s)_overall slope</th>\n",
       "    </tr>\n",
       "  </thead>\n",
       "  <tbody>\n",
       "    <tr>\n",
       "      <th>2</th>\n",
       "      <td>500.0</td>\n",
       "      <td>0.5</td>\n",
       "      <td>0.02</td>\n",
       "      <td>NP</td>\n",
       "      <td>0p5_RhNP_0p0201mg_500C_20240705_Cargnello1.xlsx</td>\n",
       "      <td>2024-07-05</td>\n",
       "      <td>Cargnello</td>\n",
       "      <td>4</td>\n",
       "      <td>0.064087</td>\n",
       "      <td>0.254371</td>\n",
       "      <td>0.982185</td>\n",
       "      <td>0.230693</td>\n",
       "      <td>1.016439</td>\n",
       "    </tr>\n",
       "    <tr>\n",
       "      <th>12</th>\n",
       "      <td>500.0</td>\n",
       "      <td>0.5</td>\n",
       "      <td>0.02</td>\n",
       "      <td>NP</td>\n",
       "      <td>0p5_RhNP_0p02mg_500C_20240923_UCSBRR.xlsx</td>\n",
       "      <td>2024-09-23</td>\n",
       "      <td>UCSB</td>\n",
       "      <td>4</td>\n",
       "      <td>0.031947</td>\n",
       "      <td>0.150977</td>\n",
       "      <td>0.963097</td>\n",
       "      <td>0.659479</td>\n",
       "      <td>0.894648</td>\n",
       "    </tr>\n",
       "  </tbody>\n",
       "</table>\n",
       "</div>"
      ],
      "text/plain": [
       "    reaction_temp  Rh_weight_loading  Rh_total_mass synth_method  \\\n",
       "2           500.0                0.5           0.02           NP   \n",
       "12          500.0                0.5           0.02           NP   \n",
       "\n",
       "                                           filename experiment_date  \\\n",
       "2   0p5_RhNP_0p0201mg_500C_20240705_Cargnello1.xlsx      2024-07-05   \n",
       "12        0p5_RhNP_0p02mg_500C_20240923_UCSBRR.xlsx      2024-09-23   \n",
       "\n",
       "     location  GroupID  CO Net Production Rate (mol/molRh/s)_initial value  \\\n",
       "2   Cargnello        4                                           0.064087    \n",
       "12       UCSB        4                                           0.031947    \n",
       "\n",
       "    CO Net Production Rate (mol/molRh/s)_final value  \\\n",
       "2                                           0.254371   \n",
       "12                                          0.150977   \n",
       "\n",
       "    CO Net Production Rate (mol/molRh/s)_initial slope  \\\n",
       "2                                            0.982185    \n",
       "12                                           0.963097    \n",
       "\n",
       "    CO Net Production Rate (mol/molRh/s)_final slope  \\\n",
       "2                                           0.230693   \n",
       "12                                          0.659479   \n",
       "\n",
       "    CO Net Production Rate (mol/molRh/s)_overall slope  \n",
       "2                                            1.016439   \n",
       "12                                           0.894648   "
      ]
     },
     "metadata": {},
     "output_type": "display_data"
    },
    {
     "data": {
      "application/vnd.microsoft.datawrangler.viewer.v0+json": {
       "columns": [
        {
         "name": "index",
         "rawType": "object",
         "type": "string"
        },
        {
         "name": "0",
         "rawType": "float64",
         "type": "float"
        }
       ],
       "ref": "1bc008a8-41fa-457b-88e3-0a372f5e6ee1",
       "rows": [
        [
         "CO Net Production Rate (mol/molRh/s)_initial value",
         "2.2733064450601046"
        ],
        [
         "CO Net Production Rate (mol/molRh/s)_final value",
         "2.319264948598602"
        ],
        [
         "CO Net Production Rate (mol/molRh/s)_initial slope",
         "0.6066655834589587"
        ],
        [
         "CO Net Production Rate (mol/molRh/s)_final slope",
         "-0.22312602296211803"
        ],
        [
         "CO Net Production Rate (mol/molRh/s)_overall slope",
         "-0.6413227507086414"
        ]
       ],
       "shape": {
        "columns": 1,
        "rows": 5
       }
      },
      "text/plain": [
       "CO Net Production Rate (mol/molRh/s)_initial value    2.273306\n",
       "CO Net Production Rate (mol/molRh/s)_final value      2.319265\n",
       "CO Net Production Rate (mol/molRh/s)_initial slope    0.606666\n",
       "CO Net Production Rate (mol/molRh/s)_final slope     -0.223126\n",
       "CO Net Production Rate (mol/molRh/s)_overall slope   -0.641323\n",
       "dtype: float64"
      ]
     },
     "metadata": {},
     "output_type": "display_data"
    },
    {
     "data": {
      "application/vnd.microsoft.datawrangler.viewer.v0+json": {
       "columns": [
        {
         "name": "index",
         "rawType": "object",
         "type": "string"
        },
        {
         "name": "0",
         "rawType": "float64",
         "type": "float"
        }
       ],
       "ref": "82a0192d-76d5-4360-ae57-133f0e994d5a",
       "rows": [
        [
         "CO Net Production Rate (mol/molRh/s)_initial value",
         "0.31219513475008187"
        ],
        [
         "CO Net Production Rate (mol/molRh/s)_final value",
         "0.3768509868255103"
        ],
        [
         "CO Net Production Rate (mol/molRh/s)_initial slope",
         "0.9018464287041227"
        ],
        [
         "CO Net Production Rate (mol/molRh/s)_final slope",
         "0.4077487838899673"
        ],
        [
         "CO Net Production Rate (mol/molRh/s)_overall slope",
         "0.6147828954766303"
        ]
       ],
       "shape": {
        "columns": 1,
        "rows": 5
       }
      },
      "text/plain": [
       "CO Net Production Rate (mol/molRh/s)_initial value    0.312195\n",
       "CO Net Production Rate (mol/molRh/s)_final value      0.376851\n",
       "CO Net Production Rate (mol/molRh/s)_initial slope    0.901846\n",
       "CO Net Production Rate (mol/molRh/s)_final slope      0.407749\n",
       "CO Net Production Rate (mol/molRh/s)_overall slope    0.614783\n",
       "dtype: float64"
      ]
     },
     "metadata": {},
     "output_type": "display_data"
    },
    {
     "name": "stderr",
     "output_type": "stream",
     "text": [
      "/var/folders/26/fw595kz14qg6n4glslpg2nd80000gn/T/ipykernel_42818/653853074.py:46: FutureWarning: Series.__getitem__ treating keys as positions is deprecated. In a future version, integer keys will always be treated as labels (consistent with DataFrame behavior). To access a value by position, use `ser.iloc[pos]`\n",
      "  df_dupl1[metric_columns] = centroid1\n",
      "/var/folders/26/fw595kz14qg6n4glslpg2nd80000gn/T/ipykernel_42818/653853074.py:48: FutureWarning: Series.__getitem__ treating keys as positions is deprecated. In a future version, integer keys will always be treated as labels (consistent with DataFrame behavior). To access a value by position, use `ser.iloc[pos]`\n",
      "  df_dupl2[metric_columns] = centroid2\n"
     ]
    },
    {
     "data": {
      "application/vnd.microsoft.datawrangler.viewer.v0+json": {
       "columns": [
        {
         "name": "index",
         "rawType": "int64",
         "type": "integer"
        },
        {
         "name": "reaction_temp",
         "rawType": "float64",
         "type": "float"
        },
        {
         "name": "Rh_weight_loading",
         "rawType": "float64",
         "type": "float"
        },
        {
         "name": "Rh_total_mass",
         "rawType": "float64",
         "type": "float"
        },
        {
         "name": "synth_method",
         "rawType": "object",
         "type": "string"
        },
        {
         "name": "filename",
         "rawType": "object",
         "type": "string"
        },
        {
         "name": "experiment_date",
         "rawType": "datetime64[ns]",
         "type": "datetime"
        },
        {
         "name": "location",
         "rawType": "object",
         "type": "string"
        },
        {
         "name": "GroupID",
         "rawType": "int64",
         "type": "integer"
        },
        {
         "name": "CO Net Production Rate (mol/molRh/s)_initial value",
         "rawType": "float64",
         "type": "float"
        },
        {
         "name": "CO Net Production Rate (mol/molRh/s)_final value",
         "rawType": "float64",
         "type": "float"
        },
        {
         "name": "CO Net Production Rate (mol/molRh/s)_initial slope",
         "rawType": "float64",
         "type": "float"
        },
        {
         "name": "CO Net Production Rate (mol/molRh/s)_final slope",
         "rawType": "float64",
         "type": "float"
        },
        {
         "name": "CO Net Production Rate (mol/molRh/s)_overall slope",
         "rawType": "float64",
         "type": "float"
        }
       ],
       "ref": "bf9d9414-0d1e-4548-b83e-0b761a427d6b",
       "rows": [
        [
         "8",
         "500.0",
         "0.5",
         "0.02",
         "WI",
         "0p5_RhWI_0p02mg_500C_20240925_SLAC1.xlsx",
         "2024-09-25 00:00:00",
         "SLAC",
         "5",
         "2.2733064450601046",
         "2.319264948598602",
         "0.6066655834589587",
         "-0.22312602296211803",
         "-0.6413227507086414"
        ],
        [
         "0",
         "500.0",
         "0.5",
         "0.02",
         "WI",
         "0p5_RhWI_0p02mg_500C_20240422_UCSBRL.xlsx",
         "2024-04-22 00:00:00",
         "UCSB",
         "5",
         "0.31219513475008187",
         "0.3768509868255103",
         "0.9018464287041227",
         "0.4077487838899673",
         "0.6147828954766303"
        ]
       ],
       "shape": {
        "columns": 13,
        "rows": 2
       }
      },
      "text/html": [
       "<div>\n",
       "<style scoped>\n",
       "    .dataframe tbody tr th:only-of-type {\n",
       "        vertical-align: middle;\n",
       "    }\n",
       "\n",
       "    .dataframe tbody tr th {\n",
       "        vertical-align: top;\n",
       "    }\n",
       "\n",
       "    .dataframe thead th {\n",
       "        text-align: right;\n",
       "    }\n",
       "</style>\n",
       "<table border=\"1\" class=\"dataframe\">\n",
       "  <thead>\n",
       "    <tr style=\"text-align: right;\">\n",
       "      <th></th>\n",
       "      <th>reaction_temp</th>\n",
       "      <th>Rh_weight_loading</th>\n",
       "      <th>Rh_total_mass</th>\n",
       "      <th>synth_method</th>\n",
       "      <th>filename</th>\n",
       "      <th>experiment_date</th>\n",
       "      <th>location</th>\n",
       "      <th>GroupID</th>\n",
       "      <th>CO Net Production Rate (mol/molRh/s)_initial value</th>\n",
       "      <th>CO Net Production Rate (mol/molRh/s)_final value</th>\n",
       "      <th>CO Net Production Rate (mol/molRh/s)_initial slope</th>\n",
       "      <th>CO Net Production Rate (mol/molRh/s)_final slope</th>\n",
       "      <th>CO Net Production Rate (mol/molRh/s)_overall slope</th>\n",
       "    </tr>\n",
       "  </thead>\n",
       "  <tbody>\n",
       "    <tr>\n",
       "      <th>8</th>\n",
       "      <td>500.0</td>\n",
       "      <td>0.5</td>\n",
       "      <td>0.02</td>\n",
       "      <td>WI</td>\n",
       "      <td>0p5_RhWI_0p02mg_500C_20240925_SLAC1.xlsx</td>\n",
       "      <td>2024-09-25</td>\n",
       "      <td>SLAC</td>\n",
       "      <td>5</td>\n",
       "      <td>2.273306</td>\n",
       "      <td>2.319265</td>\n",
       "      <td>0.606666</td>\n",
       "      <td>-0.223126</td>\n",
       "      <td>-0.641323</td>\n",
       "    </tr>\n",
       "    <tr>\n",
       "      <th>0</th>\n",
       "      <td>500.0</td>\n",
       "      <td>0.5</td>\n",
       "      <td>0.02</td>\n",
       "      <td>WI</td>\n",
       "      <td>0p5_RhWI_0p02mg_500C_20240422_UCSBRL.xlsx</td>\n",
       "      <td>2024-04-22</td>\n",
       "      <td>UCSB</td>\n",
       "      <td>5</td>\n",
       "      <td>0.312195</td>\n",
       "      <td>0.376851</td>\n",
       "      <td>0.901846</td>\n",
       "      <td>0.407749</td>\n",
       "      <td>0.614783</td>\n",
       "    </tr>\n",
       "  </tbody>\n",
       "</table>\n",
       "</div>"
      ],
      "text/plain": [
       "   reaction_temp  Rh_weight_loading  Rh_total_mass synth_method  \\\n",
       "8          500.0                0.5           0.02           WI   \n",
       "0          500.0                0.5           0.02           WI   \n",
       "\n",
       "                                    filename experiment_date location  \\\n",
       "8   0p5_RhWI_0p02mg_500C_20240925_SLAC1.xlsx      2024-09-25     SLAC   \n",
       "0  0p5_RhWI_0p02mg_500C_20240422_UCSBRL.xlsx      2024-04-22     UCSB   \n",
       "\n",
       "   GroupID  CO Net Production Rate (mol/molRh/s)_initial value  \\\n",
       "8        5                                           2.273306    \n",
       "0        5                                           0.312195    \n",
       "\n",
       "   CO Net Production Rate (mol/molRh/s)_final value  \\\n",
       "8                                          2.319265   \n",
       "0                                          0.376851   \n",
       "\n",
       "   CO Net Production Rate (mol/molRh/s)_initial slope  \\\n",
       "8                                           0.606666    \n",
       "0                                           0.901846    \n",
       "\n",
       "   CO Net Production Rate (mol/molRh/s)_final slope  \\\n",
       "8                                         -0.223126   \n",
       "0                                          0.407749   \n",
       "\n",
       "   CO Net Production Rate (mol/molRh/s)_overall slope  \n",
       "8                                          -0.641323   \n",
       "0                                           0.614783   "
      ]
     },
     "metadata": {},
     "output_type": "display_data"
    },
    {
     "name": "stdout",
     "output_type": "stream",
     "text": [
      "Dispersion for GroupID 1: 0.2803\n",
      "Dispersion for GroupID 2: 0.1335\n",
      "Dispersion for GroupID 3: 0.1400\n",
      "Dispersion for GroupID 4: 0.2296\n",
      "Dispersion for GroupID 5: 1.5558\n"
     ]
    }
   ],
   "source": [
    "import pandas as pd\n",
    "df_inter_g1 = df_scaled[df_scaled['GroupID'] == 1]\n",
    "df_rest = df_inter_g1[df_inter_g1['location'] != 'SLAC']\n",
    "df_dupl = df_inter_g1[df_inter_g1['location'] == 'SLAC']\n",
    "_, centroid = get_dispersion(df_dupl, metric_columns)\n",
    "display(centroid)\n",
    "df_dupl = df_dupl.iloc[:1] # first row as a dummy\n",
    "df_dupl[metric_columns] = centroid\n",
    "df_inter_g1 = pd.concat([df_rest, df_dupl], axis=0)\n",
    "display(df_inter_g1)\n",
    "\n",
    "df_inter_g2 = df_scaled[df_scaled['GroupID'] == 2]\n",
    "\n",
    "df_inter_g3 = df_scaled[df_scaled['GroupID'] == 3]\n",
    "df_dupl1 = df_inter_g3[df_inter_g3['location'] == 'SLAC']\n",
    "df_dupl2 = df_inter_g3[df_inter_g3['location'] == 'UCSB']\n",
    "_, centroid1 = get_dispersion(df_dupl1, metric_columns)\n",
    "_, centroid2 = get_dispersion(df_dupl2, metric_columns)\n",
    "display(centroid1)\n",
    "display(centroid2)\n",
    "df_dupl1 = df_dupl1.iloc[:1]\n",
    "df_dupl1[metric_columns] = centroid1\n",
    "df_dupl2 = df_dupl2.iloc[:1]\n",
    "df_dupl2[metric_columns] = centroid2\n",
    "df_inter_g3 = pd.concat([df_dupl1, df_dupl2], axis=0)\n",
    "display(df_inter_g3)\n",
    "\n",
    "df_inter_g4 = df_scaled[df_scaled['GroupID'] == 4]\n",
    "df_rest = df_inter_g4[df_inter_g4['location'] != 'UCSB']\n",
    "df_dupl = df_inter_g4[df_inter_g4['location'] == 'UCSB']\n",
    "_, centroid = get_dispersion(df_dupl, metric_columns)\n",
    "display(centroid)\n",
    "df_dupl = df_dupl.iloc[:1]\n",
    "df_dupl[metric_columns] = centroid\n",
    "df_inter_g4 = pd.concat([df_rest, df_dupl], axis=0)\n",
    "display(df_inter_g4)\n",
    "\n",
    "df_inter_g5 = df_scaled[df_scaled['GroupID'] == 5]\n",
    "df_dupl1 = df_inter_g5[df_inter_g5['location'] == 'SLAC']\n",
    "df_dupl2 = df_inter_g5[df_inter_g5['location'] == 'UCSB']\n",
    "_, centroid1 = get_dispersion(df_dupl1, metric_columns)\n",
    "_, centroid2 = get_dispersion(df_dupl2, metric_columns)\n",
    "display(centroid1)\n",
    "display(centroid2)\n",
    "df_dupl1 = df_dupl1.iloc[:1]\n",
    "df_dupl1[metric_columns] = centroid1\n",
    "df_dupl2 = df_dupl2.iloc[:1]\n",
    "df_dupl2[metric_columns] = centroid2\n",
    "df_inter_g5 = pd.concat([df_dupl1, df_dupl2], axis=0)\n",
    "display(df_inter_g5)\n",
    "\n",
    "# df_inter_g6 = df_scaled[df_scaled['GroupID'] == 6]\n",
    "\n",
    "dispersion_inter_old = []\n",
    "for df_inter in [df_inter_g1, df_inter_g2, df_inter_g3, df_inter_g4, df_inter_g5]:\n",
    "    dispersion, _ = get_dispersion(df_inter, metric_columns)\n",
    "    dispersion_inter_old.append(dispersion)\n",
    "    print(f\"Dispersion for GroupID {df_inter['GroupID'].iloc[0]}: {dispersion:.4f}\")"
   ]
  },
  {
   "cell_type": "markdown",
   "id": "3f15f8ed",
   "metadata": {},
   "source": [
    "## 1-1. Comparison: RR vs. Old"
   ]
  },
  {
   "cell_type": "code",
   "execution_count": 46,
   "id": "3d71077b",
   "metadata": {},
   "outputs": [
    {
     "data": {
      "text/plain": [
       "[0.14943208186853432,\n",
       " 0.029928847836826682,\n",
       " 0.24292731208031074,\n",
       " 0.034884218377178915]"
      ]
     },
     "execution_count": 46,
     "metadata": {},
     "output_type": "execute_result"
    }
   ],
   "source": [
    "dispersion_intra_RR"
   ]
  },
  {
   "cell_type": "code",
   "execution_count": 49,
   "id": "4af99c1c",
   "metadata": {},
   "outputs": [],
   "source": [
    "# DataFrame for overall dispersion\n",
    "df_dispersion_overall = pd.DataFrame({\n",
    "    'data source': ['Old']*len(dispersion_overall_old)+['Round Robin']*len(dispersion_overall_RR),\n",
    "    'Dispersion': dispersion_overall_old + dispersion_overall_RR,\n",
    "})\n",
    "\n",
    "df_dispersion_inter = pd.DataFrame({\n",
    "    'data source': ['Old']*len(dispersion_inter_old)+['Round Robin']*len(dispersion_inter_RR),\n",
    "    'Dispersion': dispersion_inter_old + dispersion_inter_RR,\n",
    "})\n",
    "\n",
    "df_dispersion_intra = pd.DataFrame({\n",
    "    'data source': ['Old']*len(dispersion_intra_old)+['Round Robin']*len(dispersion_intra_RR),\n",
    "    'Dispersion': dispersion_intra_old + dispersion_intra_RR,\n",
    "    'location': ['SLAC']*3+['UCSB']*3+['Cargnello']*1+['UCSB']*1+['SLAC']*1+['PSU']*1,\n",
    "})"
   ]
  },
  {
   "cell_type": "code",
   "execution_count": 50,
   "id": "9d91d0d0",
   "metadata": {},
   "outputs": [
    {
     "data": {
      "image/png": "[encoded data removed]",
      "text/plain": [
       "<Figure size 1000x600 with 1 Axes>"
      ]
     },
     "metadata": {},
     "output_type": "display_data"
    },
    {
     "data": {
      "image/png": "[encoded data removed]",
      "text/plain": [
       "<Figure size 1000x600 with 1 Axes>"
      ]
     },
     "metadata": {},
     "output_type": "display_data"
    },
    {
     "data": {
      "image/png": "[encoded data removed]",
      "text/plain": [
       "<Figure size 1000x600 with 1 Axes>"
      ]
     },
     "metadata": {},
     "output_type": "display_data"
    }
   ],
   "source": [
    "# histogram of dispersions\n",
    "import matplotlib.pyplot as plt\n",
    "import seaborn as sns\n",
    "\n",
    "# Increase the font size\n",
    "plt.rcParams.update({'font.size': 18})\n",
    "\n",
    "# Overall variability\n",
    "plt.figure(figsize=(10, 6))\n",
    "sns.histplot(\n",
    "    df_dispersion_overall, \n",
    "    bins=10, \n",
    "    hue='data source', legend=True,\n",
    "    x='Dispersion',\n",
    "    multiple='dodge',\n",
    "    shrink=0.8,\n",
    "    # kde=True,\n",
    "    )\n",
    "plt.xlabel('Dispersion')\n",
    "plt.ylabel('Count')\n",
    "plt.title('Overall Variability: Round Robin vs Old')\n",
    "# save image\n",
    "plt.savefig(\"../../250521_NAM_presentation/dispersion_overall.png\", bbox_inches='tight', dpi=200)\n",
    "plt.show()\n",
    "\n",
    "# Interlab variability\n",
    "plt.figure(figsize=(10, 6))\n",
    "sns.histplot(\n",
    "    df_dispersion_inter,\n",
    "    bins=10,\n",
    "    hue='data source', legend=True,\n",
    "    x='Dispersion',\n",
    "    multiple='dodge',\n",
    "    shrink=0.8,\n",
    "    # kde=True,\n",
    ")\n",
    "plt.xlabel('Dispersion')\n",
    "plt.ylabel('Count')\n",
    "plt.title('Interlab Variability: Round Robin vs Old')\n",
    "plt.savefig(\"../../250521_NAM_presentation/dispersion_interlab.png\", bbox_inches='tight', dpi=200)\n",
    "plt.show()\n",
    "\n",
    "# Intralab variability\n",
    "plt.figure(figsize=(10, 6))\n",
    "sns.histplot(\n",
    "    df_dispersion_intra,\n",
    "    bins=10,\n",
    "    hue='data source', legend=True,\n",
    "    x='location',\n",
    "    y='Dispersion',\n",
    "    multiple='dodge',\n",
    "    # kde=True,\n",
    ")\n",
    "plt.xlabel('Location')\n",
    "plt.ylabel('Dispersion')\n",
    "plt.title('Intralab Variability: RR vs Old')\n",
    "plt.savefig(\"../../250521_NAM_presentation/dispersion_intralab.png\", bbox_inches='tight', dpi=200)\n",
    "plt.show()"
   ]
  },
  {
   "cell_type": "markdown",
   "id": "ee564af0",
   "metadata": {},
   "source": [
    "## 2. Visualization of data in metric space"
   ]
  },
  {
   "cell_type": "code",
   "execution_count": null,
   "id": "6bd7684d",
   "metadata": {},
   "outputs": [
    {
     "data": {
      "application/vnd.microsoft.datawrangler.viewer.v0+json": {
       "columns": [
        {
         "name": "index",
         "rawType": "int64",
         "type": "integer"
        },
        {
         "name": "CO Net Production Rate (mol/molRh/s)_initial value",
         "rawType": "float64",
         "type": "float"
        },
        {
         "name": "CO Net Production Rate (mol/molRh/s)_final value",
         "rawType": "float64",
         "type": "float"
        },
        {
         "name": "CO Net Production Rate (mol/molRh/s)_initial slope",
         "rawType": "float64",
         "type": "float"
        },
        {
         "name": "CO Net Production Rate (mol/molRh/s)_final slope",
         "rawType": "float64",
         "type": "float"
        },
        {
         "name": "CO Net Production Rate (mol/molRh/s)_overall slope",
         "rawType": "float64",
         "type": "float"
        }
       ],
       "conversionMethod": "pd.DataFrame",
       "ref": "9dca24b1-3ad9-4e92-9b82-d39ba760f8a2",
       "rows": [
        [
         "0",
         "0.07202140281335218",
         "0.25646981418971704",
         "1.0",
         "0.26543726706154946",
         "1.0"
        ],
        [
         "1",
         "0.3446993349796834",
         "0.3169263885317351",
         "0.8754293516408452",
         "0.27441991731009496",
         "0.41193466847990035"
        ],
        [
         "2",
         "0.5426192100544756",
         "0.7060204069568513",
         "0.9697988897345624",
         "0.36261294424263746",
         "0.6652095707815285"
        ],
        [
         "3",
         "0.4184916246040086",
         "0.5442114490768915",
         "0.8920524910130506",
         "0.7061009699658254",
         "0.6683953559975234"
        ],
        [
         "4",
         "0.25576355473260387",
         "0.24254496378725832",
         "0.851640904332812",
         "0.6389303177258752",
         "0.49582289316649275"
        ],
        [
         "5",
         "0.440913557253471",
         "0.4031447614935383",
         "0.8633627616662306",
         "0.38542635366792904",
         "0.332488641428568"
        ],
        [
         "6",
         "0.03184249806891168",
         "0.015902552506057627",
         "0.9257412512504758",
         "0.3786219463706768",
         "0.6302172498256011"
        ],
        [
         "7",
         "0.02275226206161554",
         "0.13411898616905",
         "0.9621609526967047",
         "0.6288126589785041",
         "0.8866415119932716"
        ],
        [
         "8",
         "0.3640139867107175",
         "0.4634266821314925",
         "0.8919292446739597",
         "0.44494365472882186",
         "0.6503874642006704"
        ],
        [
         "9",
         "0.3008503453408011",
         "0.10339325509999103",
         "0.8223948864826539",
         "0.3479709517461415",
         "0.10477860294482044"
        ],
        [
         "10",
         "0.1025235228387785",
         "0.02153633550715542",
         "0.8978687194679172",
         "0.2174594869793477",
         "0.45774559720145175"
        ],
        [
         "11",
         "0.32910589896359865",
         "0.39140317639340283",
         "0.901910339300805",
         "0.430427044643132",
         "0.5989799647164981"
        ],
        [
         "12",
         "0.06812751318835528",
         "0.20405680596805653",
         "0.9698907950595447",
         "0.31602574043779275",
         "0.906771777893459"
        ],
        [
         "13",
         "0.023665468273065593",
         "0.021682894917525314",
         "0.9269740538216166",
         "0.38618432997320645",
         "0.6630267931191076"
        ],
        [
         "14",
         "1.0",
         "0.9705392383813365",
         "0.0",
         "0.8980627450873455",
         "0.0"
        ],
        [
         "15",
         "0.34250926626087963",
         "0.3916840552246921",
         "0.8923758713251685",
         "0.4093035677594349",
         "0.5647543046036141"
        ],
        [
         "16",
         "0.7457783836556784",
         "0.9203263838848408",
         "0.968199619871071",
         "0.5123324602893337",
         "0.5612468747792279"
        ],
        [
         "17",
         "0.5911881874581266",
         "0.6605992328544142",
         "0.8286711315411324",
         "0.29599801519271346",
         "0.44964885225532325"
        ],
        [
         "18",
         "0.29969978504272554",
         "0.5339764189089533",
         "0.7348775576227847",
         "1.0",
         "0.9557752394591982"
        ],
        [
         "19",
         "0.5308929011948891",
         "0.713131701623733",
         "0.9690992700527049",
         "0.4097206657594796",
         "0.7096524496884298"
        ],
        [
         "20",
         "0.5881046422724823",
         "0.6785727089971305",
         "0.8554157276281871",
         "0.35695438208856217",
         "0.4930881249871014"
        ],
        [
         "21",
         "0.11071954610513246",
         "0.19607547179548063",
         "0.9853818633790115",
         "0.576934627815625",
         "0.7803966312743708"
        ],
        [
         "22",
         "0.5495963883832202",
         "0.7234223996302933",
         "0.9610662362611843",
         "0.4087103155608055",
         "0.6814128535250668"
        ],
        [
         "23",
         "0.0627002796323203",
         "0.14933553028615382",
         "0.9971536059225087",
         "0.5717877830126055",
         "0.8129886797459956"
        ],
        [
         "24",
         "0.0",
         "0.0",
         "0.9280923693598714",
         "0.4661929779266978",
         "0.6816432086067659"
        ],
        [
         "25",
         "0.32856860573259467",
         "0.43956480112859253",
         "0.9131420807999941",
         "0.5021353870460373",
         "0.6955795673858763"
        ],
        [
         "26",
         "0.2986321182823397",
         "0.4027373631463811",
         "0.9190246190983399",
         "0.5280517682934488",
         "0.7006173887296303"
        ],
        [
         "27",
         "0.03497054520087578",
         "0.15753608289641768",
         "0.9592123334039914",
         "0.6114673946751578",
         "0.8999105933180167"
        ],
        [
         "28",
         "0.914026114340895",
         "1.0",
         "0.8098052852486776",
         "0.0",
         "0.2842620313752515"
        ],
        [
         "29",
         "0.704851041882415",
         "0.9376058127201772",
         "0.9846211823857774",
         "0.3851882048286273",
         "0.7010443438379046"
        ],
        [
         "30",
         "0.3340755825288377",
         "0.4421435070714873",
         "0.910611680508979",
         "0.535830254296313",
         "0.6864448268660165"
        ],
        [
         "31",
         "0.35585954460572744",
         "0.47103710944891897",
         "0.9082939666841541",
         "0.5151882587674204",
         "0.6868800048233776"
        ]
       ],
       "shape": {
        "columns": 5,
        "rows": 32
       }
      },
      "text/html": [
       "<div>\n",
       "<style scoped>\n",
       "    .dataframe tbody tr th:only-of-type {\n",
       "        vertical-align: middle;\n",
       "    }\n",
       "\n",
       "    .dataframe tbody tr th {\n",
       "        vertical-align: top;\n",
       "    }\n",
       "\n",
       "    .dataframe thead th {\n",
       "        text-align: right;\n",
       "    }\n",
       "</style>\n",
       "<table border=\"1\" class=\"dataframe\">\n",
       "  <thead>\n",
       "    <tr style=\"text-align: right;\">\n",
       "      <th></th>\n",
       "      <th>CO Net Production Rate (mol/molRh/s)_initial value</th>\n",
       "      <th>CO Net Production Rate (mol/molRh/s)_final value</th>\n",
       "      <th>CO Net Production Rate (mol/molRh/s)_initial slope</th>\n",
       "      <th>CO Net Production Rate (mol/molRh/s)_final slope</th>\n",
       "      <th>CO Net Production Rate (mol/molRh/s)_overall slope</th>\n",
       "    </tr>\n",
       "  </thead>\n",
       "  <tbody>\n",
       "    <tr>\n",
       "      <th>0</th>\n",
       "      <td>0.072021</td>\n",
       "      <td>0.256470</td>\n",
       "      <td>1.000000</td>\n",
       "      <td>0.265437</td>\n",
       "      <td>1.000000</td>\n",
       "    </tr>\n",
       "    <tr>\n",
       "      <th>1</th>\n",
       "      <td>0.344699</td>\n",
       "      <td>0.316926</td>\n",
       "      <td>0.875429</td>\n",
       "      <td>0.274420</td>\n",
       "      <td>0.411935</td>\n",
       "    </tr>\n",
       "    <tr>\n",
       "      <th>2</th>\n",
       "      <td>0.542619</td>\n",
       "      <td>0.706020</td>\n",
       "      <td>0.969799</td>\n",
       "      <td>0.362613</td>\n",
       "      <td>0.665210</td>\n",
       "    </tr>\n",
       "    <tr>\n",
       "      <th>3</th>\n",
       "      <td>0.418492</td>\n",
       "      <td>0.544211</td>\n",
       "      <td>0.892052</td>\n",
       "      <td>0.706101</td>\n",
       "      <td>0.668395</td>\n",
       "    </tr>\n",
       "    <tr>\n",
       "      <th>4</th>\n",
       "      <td>0.255764</td>\n",
       "      <td>0.242545</td>\n",
       "      <td>0.851641</td>\n",
       "      <td>0.638930</td>\n",
       "      <td>0.495823</td>\n",
       "    </tr>\n",
       "    <tr>\n",
       "      <th>5</th>\n",
       "      <td>0.440914</td>\n",
       "      <td>0.403145</td>\n",
       "      <td>0.863363</td>\n",
       "      <td>0.385426</td>\n",
       "      <td>0.332489</td>\n",
       "    </tr>\n",
       "    <tr>\n",
       "      <th>6</th>\n",
       "      <td>0.031842</td>\n",
       "      <td>0.015903</td>\n",
       "      <td>0.925741</td>\n",
       "      <td>0.378622</td>\n",
       "      <td>0.630217</td>\n",
       "    </tr>\n",
       "    <tr>\n",
       "      <th>7</th>\n",
       "      <td>0.022752</td>\n",
       "      <td>0.134119</td>\n",
       "      <td>0.962161</td>\n",
       "      <td>0.628813</td>\n",
       "      <td>0.886642</td>\n",
       "    </tr>\n",
       "    <tr>\n",
       "      <th>8</th>\n",
       "      <td>0.364014</td>\n",
       "      <td>0.463427</td>\n",
       "      <td>0.891929</td>\n",
       "      <td>0.444944</td>\n",
       "      <td>0.650387</td>\n",
       "    </tr>\n",
       "    <tr>\n",
       "      <th>9</th>\n",
       "      <td>0.300850</td>\n",
       "      <td>0.103393</td>\n",
       "      <td>0.822395</td>\n",
       "      <td>0.347971</td>\n",
       "      <td>0.104779</td>\n",
       "    </tr>\n",
       "    <tr>\n",
       "      <th>10</th>\n",
       "      <td>0.102524</td>\n",
       "      <td>0.021536</td>\n",
       "      <td>0.897869</td>\n",
       "      <td>0.217459</td>\n",
       "      <td>0.457746</td>\n",
       "    </tr>\n",
       "    <tr>\n",
       "      <th>11</th>\n",
       "      <td>0.329106</td>\n",
       "      <td>0.391403</td>\n",
       "      <td>0.901910</td>\n",
       "      <td>0.430427</td>\n",
       "      <td>0.598980</td>\n",
       "    </tr>\n",
       "    <tr>\n",
       "      <th>12</th>\n",
       "      <td>0.068128</td>\n",
       "      <td>0.204057</td>\n",
       "      <td>0.969891</td>\n",
       "      <td>0.316026</td>\n",
       "      <td>0.906772</td>\n",
       "    </tr>\n",
       "    <tr>\n",
       "      <th>13</th>\n",
       "      <td>0.023665</td>\n",
       "      <td>0.021683</td>\n",
       "      <td>0.926974</td>\n",
       "      <td>0.386184</td>\n",
       "      <td>0.663027</td>\n",
       "    </tr>\n",
       "    <tr>\n",
       "      <th>14</th>\n",
       "      <td>1.000000</td>\n",
       "      <td>0.970539</td>\n",
       "      <td>0.000000</td>\n",
       "      <td>0.898063</td>\n",
       "      <td>0.000000</td>\n",
       "    </tr>\n",
       "    <tr>\n",
       "      <th>15</th>\n",
       "      <td>0.342509</td>\n",
       "      <td>0.391684</td>\n",
       "      <td>0.892376</td>\n",
       "      <td>0.409304</td>\n",
       "      <td>0.564754</td>\n",
       "    </tr>\n",
       "    <tr>\n",
       "      <th>16</th>\n",
       "      <td>0.745778</td>\n",
       "      <td>0.920326</td>\n",
       "      <td>0.968200</td>\n",
       "      <td>0.512332</td>\n",
       "      <td>0.561247</td>\n",
       "    </tr>\n",
       "    <tr>\n",
       "      <th>17</th>\n",
       "      <td>0.591188</td>\n",
       "      <td>0.660599</td>\n",
       "      <td>0.828671</td>\n",
       "      <td>0.295998</td>\n",
       "      <td>0.449649</td>\n",
       "    </tr>\n",
       "    <tr>\n",
       "      <th>18</th>\n",
       "      <td>0.299700</td>\n",
       "      <td>0.533976</td>\n",
       "      <td>0.734878</td>\n",
       "      <td>1.000000</td>\n",
       "      <td>0.955775</td>\n",
       "    </tr>\n",
       "    <tr>\n",
       "      <th>19</th>\n",
       "      <td>0.530893</td>\n",
       "      <td>0.713132</td>\n",
       "      <td>0.969099</td>\n",
       "      <td>0.409721</td>\n",
       "      <td>0.709652</td>\n",
       "    </tr>\n",
       "    <tr>\n",
       "      <th>20</th>\n",
       "      <td>0.588105</td>\n",
       "      <td>0.678573</td>\n",
       "      <td>0.855416</td>\n",
       "      <td>0.356954</td>\n",
       "      <td>0.493088</td>\n",
       "    </tr>\n",
       "    <tr>\n",
       "      <th>21</th>\n",
       "      <td>0.110720</td>\n",
       "      <td>0.196075</td>\n",
       "      <td>0.985382</td>\n",
       "      <td>0.576935</td>\n",
       "      <td>0.780397</td>\n",
       "    </tr>\n",
       "    <tr>\n",
       "      <th>22</th>\n",
       "      <td>0.549596</td>\n",
       "      <td>0.723422</td>\n",
       "      <td>0.961066</td>\n",
       "      <td>0.408710</td>\n",
       "      <td>0.681413</td>\n",
       "    </tr>\n",
       "    <tr>\n",
       "      <th>23</th>\n",
       "      <td>0.062700</td>\n",
       "      <td>0.149336</td>\n",
       "      <td>0.997154</td>\n",
       "      <td>0.571788</td>\n",
       "      <td>0.812989</td>\n",
       "    </tr>\n",
       "    <tr>\n",
       "      <th>24</th>\n",
       "      <td>0.000000</td>\n",
       "      <td>0.000000</td>\n",
       "      <td>0.928092</td>\n",
       "      <td>0.466193</td>\n",
       "      <td>0.681643</td>\n",
       "    </tr>\n",
       "    <tr>\n",
       "      <th>25</th>\n",
       "      <td>0.328569</td>\n",
       "      <td>0.439565</td>\n",
       "      <td>0.913142</td>\n",
       "      <td>0.502135</td>\n",
       "      <td>0.695580</td>\n",
       "    </tr>\n",
       "    <tr>\n",
       "      <th>26</th>\n",
       "      <td>0.298632</td>\n",
       "      <td>0.402737</td>\n",
       "      <td>0.919025</td>\n",
       "      <td>0.528052</td>\n",
       "      <td>0.700617</td>\n",
       "    </tr>\n",
       "    <tr>\n",
       "      <th>27</th>\n",
       "      <td>0.034971</td>\n",
       "      <td>0.157536</td>\n",
       "      <td>0.959212</td>\n",
       "      <td>0.611467</td>\n",
       "      <td>0.899911</td>\n",
       "    </tr>\n",
       "    <tr>\n",
       "      <th>28</th>\n",
       "      <td>0.914026</td>\n",
       "      <td>1.000000</td>\n",
       "      <td>0.809805</td>\n",
       "      <td>0.000000</td>\n",
       "      <td>0.284262</td>\n",
       "    </tr>\n",
       "    <tr>\n",
       "      <th>29</th>\n",
       "      <td>0.704851</td>\n",
       "      <td>0.937606</td>\n",
       "      <td>0.984621</td>\n",
       "      <td>0.385188</td>\n",
       "      <td>0.701044</td>\n",
       "    </tr>\n",
       "    <tr>\n",
       "      <th>30</th>\n",
       "      <td>0.334076</td>\n",
       "      <td>0.442144</td>\n",
       "      <td>0.910612</td>\n",
       "      <td>0.535830</td>\n",
       "      <td>0.686445</td>\n",
       "    </tr>\n",
       "    <tr>\n",
       "      <th>31</th>\n",
       "      <td>0.355860</td>\n",
       "      <td>0.471037</td>\n",
       "      <td>0.908294</td>\n",
       "      <td>0.515188</td>\n",
       "      <td>0.686880</td>\n",
       "    </tr>\n",
       "  </tbody>\n",
       "</table>\n",
       "</div>"
      ],
      "text/plain": [
       "    CO Net Production Rate (mol/molRh/s)_initial value  \\\n",
       "0                                            0.072021    \n",
       "1                                            0.344699    \n",
       "2                                            0.542619    \n",
       "3                                            0.418492    \n",
       "4                                            0.255764    \n",
       "5                                            0.440914    \n",
       "6                                            0.031842    \n",
       "7                                            0.022752    \n",
       "8                                            0.364014    \n",
       "9                                            0.300850    \n",
       "10                                           0.102524    \n",
       "11                                           0.329106    \n",
       "12                                           0.068128    \n",
       "13                                           0.023665    \n",
       "14                                           1.000000    \n",
       "15                                           0.342509    \n",
       "16                                           0.745778    \n",
       "17                                           0.591188    \n",
       "18                                           0.299700    \n",
       "19                                           0.530893    \n",
       "20                                           0.588105    \n",
       "21                                           0.110720    \n",
       "22                                           0.549596    \n",
       "23                                           0.062700    \n",
       "24                                           0.000000    \n",
       "25                                           0.328569    \n",
       "26                                           0.298632    \n",
       "27                                           0.034971    \n",
       "28                                           0.914026    \n",
       "29                                           0.704851    \n",
       "30                                           0.334076    \n",
       "31                                           0.355860    \n",
       "\n",
       "    CO Net Production Rate (mol/molRh/s)_final value  \\\n",
       "0                                           0.256470   \n",
       "1                                           0.316926   \n",
       "2                                           0.706020   \n",
       "3                                           0.544211   \n",
       "4                                           0.242545   \n",
       "5                                           0.403145   \n",
       "6                                           0.015903   \n",
       "7                                           0.134119   \n",
       "8                                           0.463427   \n",
       "9                                           0.103393   \n",
       "10                                          0.021536   \n",
       "11                                          0.391403   \n",
       "12                                          0.204057   \n",
       "13                                          0.021683   \n",
       "14                                          0.970539   \n",
       "15                                          0.391684   \n",
       "16                                          0.920326   \n",
       "17                                          0.660599   \n",
       "18                                          0.533976   \n",
       "19                                          0.713132   \n",
       "20                                          0.678573   \n",
       "21                                          0.196075   \n",
       "22                                          0.723422   \n",
       "23                                          0.149336   \n",
       "24                                          0.000000   \n",
       "25                                          0.439565   \n",
       "26                                          0.402737   \n",
       "27                                          0.157536   \n",
       "28                                          1.000000   \n",
       "29                                          0.937606   \n",
       "30                                          0.442144   \n",
       "31                                          0.471037   \n",
       "\n",
       "    CO Net Production Rate (mol/molRh/s)_initial slope  \\\n",
       "0                                            1.000000    \n",
       "1                                            0.875429    \n",
       "2                                            0.969799    \n",
       "3                                            0.892052    \n",
       "4                                            0.851641    \n",
       "5                                            0.863363    \n",
       "6                                            0.925741    \n",
       "7                                            0.962161    \n",
       "8                                            0.891929    \n",
       "9                                            0.822395    \n",
       "10                                           0.897869    \n",
       "11                                           0.901910    \n",
       "12                                           0.969891    \n",
       "13                                           0.926974    \n",
       "14                                           0.000000    \n",
       "15                                           0.892376    \n",
       "16                                           0.968200    \n",
       "17                                           0.828671    \n",
       "18                                           0.734878    \n",
       "19                                           0.969099    \n",
       "20                                           0.855416    \n",
       "21                                           0.985382    \n",
       "22                                           0.961066    \n",
       "23                                           0.997154    \n",
       "24                                           0.928092    \n",
       "25                                           0.913142    \n",
       "26                                           0.919025    \n",
       "27                                           0.959212    \n",
       "28                                           0.809805    \n",
       "29                                           0.984621    \n",
       "30                                           0.910612    \n",
       "31                                           0.908294    \n",
       "\n",
       "    CO Net Production Rate (mol/molRh/s)_final slope  \\\n",
       "0                                           0.265437   \n",
       "1                                           0.274420   \n",
       "2                                           0.362613   \n",
       "3                                           0.706101   \n",
       "4                                           0.638930   \n",
       "5                                           0.385426   \n",
       "6                                           0.378622   \n",
       "7                                           0.628813   \n",
       "8                                           0.444944   \n",
       "9                                           0.347971   \n",
       "10                                          0.217459   \n",
       "11                                          0.430427   \n",
       "12                                          0.316026   \n",
       "13                                          0.386184   \n",
       "14                                          0.898063   \n",
       "15                                          0.409304   \n",
       "16                                          0.512332   \n",
       "17                                          0.295998   \n",
       "18                                          1.000000   \n",
       "19                                          0.409721   \n",
       "20                                          0.356954   \n",
       "21                                          0.576935   \n",
       "22                                          0.408710   \n",
       "23                                          0.571788   \n",
       "24                                          0.466193   \n",
       "25                                          0.502135   \n",
       "26                                          0.528052   \n",
       "27                                          0.611467   \n",
       "28                                          0.000000   \n",
       "29                                          0.385188   \n",
       "30                                          0.535830   \n",
       "31                                          0.515188   \n",
       "\n",
       "    CO Net Production Rate (mol/molRh/s)_overall slope  \n",
       "0                                            1.000000   \n",
       "1                                            0.411935   \n",
       "2                                            0.665210   \n",
       "3                                            0.668395   \n",
       "4                                            0.495823   \n",
       "5                                            0.332489   \n",
       "6                                            0.630217   \n",
       "7                                            0.886642   \n",
       "8                                            0.650387   \n",
       "9                                            0.104779   \n",
       "10                                           0.457746   \n",
       "11                                           0.598980   \n",
       "12                                           0.906772   \n",
       "13                                           0.663027   \n",
       "14                                           0.000000   \n",
       "15                                           0.564754   \n",
       "16                                           0.561247   \n",
       "17                                           0.449649   \n",
       "18                                           0.955775   \n",
       "19                                           0.709652   \n",
       "20                                           0.493088   \n",
       "21                                           0.780397   \n",
       "22                                           0.681413   \n",
       "23                                           0.812989   \n",
       "24                                           0.681643   \n",
       "25                                           0.695580   \n",
       "26                                           0.700617   \n",
       "27                                           0.899911   \n",
       "28                                           0.284262   \n",
       "29                                           0.701044   \n",
       "30                                           0.686445   \n",
       "31                                           0.686880   "
      ]
     },
     "metadata": {},
     "output_type": "display_data"
    }
   ],
   "source": [
    "df_selected = df_scaled.iloc[:, 8:]\n",
    "df_selected"
   ]
  },
  {
   "cell_type": "code",
   "execution_count": null,
   "id": "864fde94",
   "metadata": {},
   "outputs": [
    {
     "name": "stdout",
     "output_type": "stream",
     "text": [
      "PCA explained variance ratio: [0.63735757 0.18045863]\n"
     ]
    },
    {
     "name": "stderr",
     "output_type": "stream",
     "text": [
      "/Users/djayshin/miniconda3/envs/botorch_env/lib/python3.12/site-packages/sklearn/manifold/_t_sne.py:1162: FutureWarning: 'n_iter' was renamed to 'max_iter' in version 1.5 and will be removed in 1.7.\n",
      "  warnings.warn(\n",
      "/Users/djayshin/miniconda3/envs/botorch_env/lib/python3.12/site-packages/sklearn/manifold/_t_sne.py:1162: FutureWarning: 'n_iter' was renamed to 'max_iter' in version 1.5 and will be removed in 1.7.\n",
      "  warnings.warn(\n",
      "/Users/djayshin/miniconda3/envs/botorch_env/lib/python3.12/site-packages/sklearn/manifold/_t_sne.py:1162: FutureWarning: 'n_iter' was renamed to 'max_iter' in version 1.5 and will be removed in 1.7.\n",
      "  warnings.warn(\n",
      "/Users/djayshin/miniconda3/envs/botorch_env/lib/python3.12/site-packages/sklearn/manifold/_t_sne.py:1162: FutureWarning: 'n_iter' was renamed to 'max_iter' in version 1.5 and will be removed in 1.7.\n",
      "  warnings.warn(\n",
      "/Users/djayshin/miniconda3/envs/botorch_env/lib/python3.12/site-packages/sklearn/manifold/_t_sne.py:1162: FutureWarning: 'n_iter' was renamed to 'max_iter' in version 1.5 and will be removed in 1.7.\n",
      "  warnings.warn(\n",
      "/Users/djayshin/miniconda3/envs/botorch_env/lib/python3.12/site-packages/sklearn/manifold/_t_sne.py:1162: FutureWarning: 'n_iter' was renamed to 'max_iter' in version 1.5 and will be removed in 1.7.\n",
      "  warnings.warn(\n",
      "/Users/djayshin/miniconda3/envs/botorch_env/lib/python3.12/site-packages/sklearn/manifold/_t_sne.py:1162: FutureWarning: 'n_iter' was renamed to 'max_iter' in version 1.5 and will be removed in 1.7.\n",
      "  warnings.warn(\n",
      "/Users/djayshin/miniconda3/envs/botorch_env/lib/python3.12/site-packages/sklearn/manifold/_t_sne.py:1162: FutureWarning: 'n_iter' was renamed to 'max_iter' in version 1.5 and will be removed in 1.7.\n",
      "  warnings.warn(\n",
      "/Users/djayshin/miniconda3/envs/botorch_env/lib/python3.12/site-packages/sklearn/manifold/_t_sne.py:1162: FutureWarning: 'n_iter' was renamed to 'max_iter' in version 1.5 and will be removed in 1.7.\n",
      "  warnings.warn(\n",
      "/Users/djayshin/miniconda3/envs/botorch_env/lib/python3.12/site-packages/sklearn/manifold/_t_sne.py:1162: FutureWarning: 'n_iter' was renamed to 'max_iter' in version 1.5 and will be removed in 1.7.\n",
      "  warnings.warn(\n",
      "/Users/djayshin/miniconda3/envs/botorch_env/lib/python3.12/site-packages/sklearn/manifold/_t_sne.py:1162: FutureWarning: 'n_iter' was renamed to 'max_iter' in version 1.5 and will be removed in 1.7.\n",
      "  warnings.warn(\n",
      "/Users/djayshin/miniconda3/envs/botorch_env/lib/python3.12/site-packages/sklearn/manifold/_t_sne.py:1162: FutureWarning: 'n_iter' was renamed to 'max_iter' in version 1.5 and will be removed in 1.7.\n",
      "  warnings.warn(\n",
      "/Users/djayshin/miniconda3/envs/botorch_env/lib/python3.12/site-packages/sklearn/manifold/_t_sne.py:1162: FutureWarning: 'n_iter' was renamed to 'max_iter' in version 1.5 and will be removed in 1.7.\n",
      "  warnings.warn(\n",
      "/Users/djayshin/miniconda3/envs/botorch_env/lib/python3.12/site-packages/sklearn/manifold/_t_sne.py:1162: FutureWarning: 'n_iter' was renamed to 'max_iter' in version 1.5 and will be removed in 1.7.\n",
      "  warnings.warn(\n",
      "/Users/djayshin/miniconda3/envs/botorch_env/lib/python3.12/site-packages/sklearn/manifold/_t_sne.py:1162: FutureWarning: 'n_iter' was renamed to 'max_iter' in version 1.5 and will be removed in 1.7.\n",
      "  warnings.warn(\n",
      "/Users/djayshin/miniconda3/envs/botorch_env/lib/python3.12/site-packages/sklearn/manifold/_t_sne.py:1162: FutureWarning: 'n_iter' was renamed to 'max_iter' in version 1.5 and will be removed in 1.7.\n",
      "  warnings.warn(\n",
      "/Users/djayshin/miniconda3/envs/botorch_env/lib/python3.12/site-packages/sklearn/manifold/_t_sne.py:1162: FutureWarning: 'n_iter' was renamed to 'max_iter' in version 1.5 and will be removed in 1.7.\n",
      "  warnings.warn(\n",
      "/Users/djayshin/miniconda3/envs/botorch_env/lib/python3.12/site-packages/sklearn/manifold/_t_sne.py:1162: FutureWarning: 'n_iter' was renamed to 'max_iter' in version 1.5 and will be removed in 1.7.\n",
      "  warnings.warn(\n",
      "/Users/djayshin/miniconda3/envs/botorch_env/lib/python3.12/site-packages/sklearn/manifold/_t_sne.py:1162: FutureWarning: 'n_iter' was renamed to 'max_iter' in version 1.5 and will be removed in 1.7.\n",
      "  warnings.warn(\n",
      "/Users/djayshin/miniconda3/envs/botorch_env/lib/python3.12/site-packages/sklearn/manifold/_t_sne.py:1162: FutureWarning: 'n_iter' was renamed to 'max_iter' in version 1.5 and will be removed in 1.7.\n",
      "  warnings.warn(\n",
      "/Users/djayshin/miniconda3/envs/botorch_env/lib/python3.12/site-packages/sklearn/manifold/_t_sne.py:1162: FutureWarning: 'n_iter' was renamed to 'max_iter' in version 1.5 and will be removed in 1.7.\n",
      "  warnings.warn(\n",
      "/Users/djayshin/miniconda3/envs/botorch_env/lib/python3.12/site-packages/sklearn/manifold/_t_sne.py:1162: FutureWarning: 'n_iter' was renamed to 'max_iter' in version 1.5 and will be removed in 1.7.\n",
      "  warnings.warn(\n",
      "/Users/djayshin/miniconda3/envs/botorch_env/lib/python3.12/site-packages/sklearn/manifold/_t_sne.py:1162: FutureWarning: 'n_iter' was renamed to 'max_iter' in version 1.5 and will be removed in 1.7.\n",
      "  warnings.warn(\n",
      "/Users/djayshin/miniconda3/envs/botorch_env/lib/python3.12/site-packages/sklearn/manifold/_t_sne.py:1162: FutureWarning: 'n_iter' was renamed to 'max_iter' in version 1.5 and will be removed in 1.7.\n",
      "  warnings.warn(\n",
      "/Users/djayshin/miniconda3/envs/botorch_env/lib/python3.12/site-packages/sklearn/manifold/_t_sne.py:1162: FutureWarning: 'n_iter' was renamed to 'max_iter' in version 1.5 and will be removed in 1.7.\n",
      "  warnings.warn(\n",
      "/Users/djayshin/miniconda3/envs/botorch_env/lib/python3.12/site-packages/sklearn/manifold/_t_sne.py:1162: FutureWarning: 'n_iter' was renamed to 'max_iter' in version 1.5 and will be removed in 1.7.\n",
      "  warnings.warn(\n",
      "/Users/djayshin/miniconda3/envs/botorch_env/lib/python3.12/site-packages/sklearn/manifold/_t_sne.py:1162: FutureWarning: 'n_iter' was renamed to 'max_iter' in version 1.5 and will be removed in 1.7.\n",
      "  warnings.warn(\n",
      "/Users/djayshin/miniconda3/envs/botorch_env/lib/python3.12/site-packages/sklearn/manifold/_t_sne.py:1162: FutureWarning: 'n_iter' was renamed to 'max_iter' in version 1.5 and will be removed in 1.7.\n",
      "  warnings.warn(\n",
      "/Users/djayshin/miniconda3/envs/botorch_env/lib/python3.12/site-packages/sklearn/manifold/_t_sne.py:1162: FutureWarning: 'n_iter' was renamed to 'max_iter' in version 1.5 and will be removed in 1.7.\n",
      "  warnings.warn(\n",
      "/Users/djayshin/miniconda3/envs/botorch_env/lib/python3.12/site-packages/sklearn/manifold/_t_sne.py:1162: FutureWarning: 'n_iter' was renamed to 'max_iter' in version 1.5 and will be removed in 1.7.\n",
      "  warnings.warn(\n",
      "/Users/djayshin/miniconda3/envs/botorch_env/lib/python3.12/site-packages/sklearn/manifold/_t_sne.py:1162: FutureWarning: 'n_iter' was renamed to 'max_iter' in version 1.5 and will be removed in 1.7.\n",
      "  warnings.warn(\n",
      "/Users/djayshin/miniconda3/envs/botorch_env/lib/python3.12/site-packages/sklearn/manifold/_t_sne.py:1162: FutureWarning: 'n_iter' was renamed to 'max_iter' in version 1.5 and will be removed in 1.7.\n",
      "  warnings.warn(\n",
      "/Users/djayshin/miniconda3/envs/botorch_env/lib/python3.12/site-packages/sklearn/manifold/_t_sne.py:1162: FutureWarning: 'n_iter' was renamed to 'max_iter' in version 1.5 and will be removed in 1.7.\n",
      "  warnings.warn(\n",
      "/Users/djayshin/miniconda3/envs/botorch_env/lib/python3.12/site-packages/sklearn/manifold/_t_sne.py:1162: FutureWarning: 'n_iter' was renamed to 'max_iter' in version 1.5 and will be removed in 1.7.\n",
      "  warnings.warn(\n",
      "/Users/djayshin/miniconda3/envs/botorch_env/lib/python3.12/site-packages/sklearn/manifold/_t_sne.py:1162: FutureWarning: 'n_iter' was renamed to 'max_iter' in version 1.5 and will be removed in 1.7.\n",
      "  warnings.warn(\n",
      "/Users/djayshin/miniconda3/envs/botorch_env/lib/python3.12/site-packages/sklearn/manifold/_t_sne.py:1162: FutureWarning: 'n_iter' was renamed to 'max_iter' in version 1.5 and will be removed in 1.7.\n",
      "  warnings.warn(\n",
      "/Users/djayshin/miniconda3/envs/botorch_env/lib/python3.12/site-packages/sklearn/manifold/_t_sne.py:1162: FutureWarning: 'n_iter' was renamed to 'max_iter' in version 1.5 and will be removed in 1.7.\n",
      "  warnings.warn(\n",
      "/Users/djayshin/miniconda3/envs/botorch_env/lib/python3.12/site-packages/sklearn/manifold/_t_sne.py:1162: FutureWarning: 'n_iter' was renamed to 'max_iter' in version 1.5 and will be removed in 1.7.\n",
      "  warnings.warn(\n",
      "/Users/djayshin/miniconda3/envs/botorch_env/lib/python3.12/site-packages/sklearn/manifold/_t_sne.py:1162: FutureWarning: 'n_iter' was renamed to 'max_iter' in version 1.5 and will be removed in 1.7.\n",
      "  warnings.warn(\n",
      "/Users/djayshin/miniconda3/envs/botorch_env/lib/python3.12/site-packages/sklearn/manifold/_t_sne.py:1162: FutureWarning: 'n_iter' was renamed to 'max_iter' in version 1.5 and will be removed in 1.7.\n",
      "  warnings.warn(\n",
      "/Users/djayshin/miniconda3/envs/botorch_env/lib/python3.12/site-packages/sklearn/manifold/_t_sne.py:1162: FutureWarning: 'n_iter' was renamed to 'max_iter' in version 1.5 and will be removed in 1.7.\n",
      "  warnings.warn(\n",
      "/Users/djayshin/miniconda3/envs/botorch_env/lib/python3.12/site-packages/sklearn/manifold/_t_sne.py:1162: FutureWarning: 'n_iter' was renamed to 'max_iter' in version 1.5 and will be removed in 1.7.\n",
      "  warnings.warn(\n",
      "/Users/djayshin/miniconda3/envs/botorch_env/lib/python3.12/site-packages/sklearn/manifold/_t_sne.py:1162: FutureWarning: 'n_iter' was renamed to 'max_iter' in version 1.5 and will be removed in 1.7.\n",
      "  warnings.warn(\n",
      "/Users/djayshin/miniconda3/envs/botorch_env/lib/python3.12/site-packages/sklearn/manifold/_t_sne.py:1162: FutureWarning: 'n_iter' was renamed to 'max_iter' in version 1.5 and will be removed in 1.7.\n",
      "  warnings.warn(\n",
      "/Users/djayshin/miniconda3/envs/botorch_env/lib/python3.12/site-packages/sklearn/manifold/_t_sne.py:1162: FutureWarning: 'n_iter' was renamed to 'max_iter' in version 1.5 and will be removed in 1.7.\n",
      "  warnings.warn(\n",
      "/Users/djayshin/miniconda3/envs/botorch_env/lib/python3.12/site-packages/sklearn/manifold/_t_sne.py:1162: FutureWarning: 'n_iter' was renamed to 'max_iter' in version 1.5 and will be removed in 1.7.\n",
      "  warnings.warn(\n",
      "/Users/djayshin/miniconda3/envs/botorch_env/lib/python3.12/site-packages/sklearn/manifold/_t_sne.py:1162: FutureWarning: 'n_iter' was renamed to 'max_iter' in version 1.5 and will be removed in 1.7.\n",
      "  warnings.warn(\n",
      "/Users/djayshin/miniconda3/envs/botorch_env/lib/python3.12/site-packages/sklearn/manifold/_t_sne.py:1162: FutureWarning: 'n_iter' was renamed to 'max_iter' in version 1.5 and will be removed in 1.7.\n",
      "  warnings.warn(\n",
      "/Users/djayshin/miniconda3/envs/botorch_env/lib/python3.12/site-packages/sklearn/manifold/_t_sne.py:1162: FutureWarning: 'n_iter' was renamed to 'max_iter' in version 1.5 and will be removed in 1.7.\n",
      "  warnings.warn(\n",
      "/Users/djayshin/miniconda3/envs/botorch_env/lib/python3.12/site-packages/sklearn/manifold/_t_sne.py:1162: FutureWarning: 'n_iter' was renamed to 'max_iter' in version 1.5 and will be removed in 1.7.\n",
      "  warnings.warn(\n",
      "/Users/djayshin/miniconda3/envs/botorch_env/lib/python3.12/site-packages/sklearn/manifold/_t_sne.py:1162: FutureWarning: 'n_iter' was renamed to 'max_iter' in version 1.5 and will be removed in 1.7.\n",
      "  warnings.warn(\n",
      "/Users/djayshin/miniconda3/envs/botorch_env/lib/python3.12/site-packages/sklearn/manifold/_t_sne.py:1162: FutureWarning: 'n_iter' was renamed to 'max_iter' in version 1.5 and will be removed in 1.7.\n",
      "  warnings.warn(\n",
      "/Users/djayshin/miniconda3/envs/botorch_env/lib/python3.12/site-packages/sklearn/manifold/_t_sne.py:1162: FutureWarning: 'n_iter' was renamed to 'max_iter' in version 1.5 and will be removed in 1.7.\n",
      "  warnings.warn(\n",
      "/Users/djayshin/miniconda3/envs/botorch_env/lib/python3.12/site-packages/sklearn/manifold/_t_sne.py:1162: FutureWarning: 'n_iter' was renamed to 'max_iter' in version 1.5 and will be removed in 1.7.\n",
      "  warnings.warn(\n",
      "/Users/djayshin/miniconda3/envs/botorch_env/lib/python3.12/site-packages/sklearn/manifold/_t_sne.py:1162: FutureWarning: 'n_iter' was renamed to 'max_iter' in version 1.5 and will be removed in 1.7.\n",
      "  warnings.warn(\n",
      "/Users/djayshin/miniconda3/envs/botorch_env/lib/python3.12/site-packages/sklearn/manifold/_t_sne.py:1162: FutureWarning: 'n_iter' was renamed to 'max_iter' in version 1.5 and will be removed in 1.7.\n",
      "  warnings.warn(\n",
      "/Users/djayshin/miniconda3/envs/botorch_env/lib/python3.12/site-packages/sklearn/manifold/_t_sne.py:1162: FutureWarning: 'n_iter' was renamed to 'max_iter' in version 1.5 and will be removed in 1.7.\n",
      "  warnings.warn(\n",
      "/Users/djayshin/miniconda3/envs/botorch_env/lib/python3.12/site-packages/sklearn/manifold/_t_sne.py:1162: FutureWarning: 'n_iter' was renamed to 'max_iter' in version 1.5 and will be removed in 1.7.\n",
      "  warnings.warn(\n",
      "/Users/djayshin/miniconda3/envs/botorch_env/lib/python3.12/site-packages/sklearn/manifold/_t_sne.py:1162: FutureWarning: 'n_iter' was renamed to 'max_iter' in version 1.5 and will be removed in 1.7.\n",
      "  warnings.warn(\n",
      "/Users/djayshin/miniconda3/envs/botorch_env/lib/python3.12/site-packages/sklearn/manifold/_t_sne.py:1162: FutureWarning: 'n_iter' was renamed to 'max_iter' in version 1.5 and will be removed in 1.7.\n",
      "  warnings.warn(\n",
      "/Users/djayshin/miniconda3/envs/botorch_env/lib/python3.12/site-packages/sklearn/manifold/_t_sne.py:1162: FutureWarning: 'n_iter' was renamed to 'max_iter' in version 1.5 and will be removed in 1.7.\n",
      "  warnings.warn(\n",
      "/Users/djayshin/miniconda3/envs/botorch_env/lib/python3.12/site-packages/sklearn/manifold/_t_sne.py:1162: FutureWarning: 'n_iter' was renamed to 'max_iter' in version 1.5 and will be removed in 1.7.\n",
      "  warnings.warn(\n",
      "/Users/djayshin/miniconda3/envs/botorch_env/lib/python3.12/site-packages/sklearn/manifold/_t_sne.py:1162: FutureWarning: 'n_iter' was renamed to 'max_iter' in version 1.5 and will be removed in 1.7.\n",
      "  warnings.warn(\n",
      "/Users/djayshin/miniconda3/envs/botorch_env/lib/python3.12/site-packages/sklearn/manifold/_t_sne.py:1162: FutureWarning: 'n_iter' was renamed to 'max_iter' in version 1.5 and will be removed in 1.7.\n",
      "  warnings.warn(\n",
      "/Users/djayshin/miniconda3/envs/botorch_env/lib/python3.12/site-packages/sklearn/manifold/_t_sne.py:1162: FutureWarning: 'n_iter' was renamed to 'max_iter' in version 1.5 and will be removed in 1.7.\n",
      "  warnings.warn(\n",
      "/Users/djayshin/miniconda3/envs/botorch_env/lib/python3.12/site-packages/sklearn/manifold/_t_sne.py:1162: FutureWarning: 'n_iter' was renamed to 'max_iter' in version 1.5 and will be removed in 1.7.\n",
      "  warnings.warn(\n",
      "/Users/djayshin/miniconda3/envs/botorch_env/lib/python3.12/site-packages/sklearn/manifold/_t_sne.py:1162: FutureWarning: 'n_iter' was renamed to 'max_iter' in version 1.5 and will be removed in 1.7.\n",
      "  warnings.warn(\n",
      "/Users/djayshin/miniconda3/envs/botorch_env/lib/python3.12/site-packages/sklearn/manifold/_t_sne.py:1162: FutureWarning: 'n_iter' was renamed to 'max_iter' in version 1.5 and will be removed in 1.7.\n",
      "  warnings.warn(\n",
      "/Users/djayshin/miniconda3/envs/botorch_env/lib/python3.12/site-packages/sklearn/manifold/_t_sne.py:1162: FutureWarning: 'n_iter' was renamed to 'max_iter' in version 1.5 and will be removed in 1.7.\n",
      "  warnings.warn(\n",
      "/Users/djayshin/miniconda3/envs/botorch_env/lib/python3.12/site-packages/sklearn/manifold/_t_sne.py:1162: FutureWarning: 'n_iter' was renamed to 'max_iter' in version 1.5 and will be removed in 1.7.\n",
      "  warnings.warn(\n",
      "/Users/djayshin/miniconda3/envs/botorch_env/lib/python3.12/site-packages/sklearn/manifold/_t_sne.py:1162: FutureWarning: 'n_iter' was renamed to 'max_iter' in version 1.5 and will be removed in 1.7.\n",
      "  warnings.warn(\n",
      "/Users/djayshin/miniconda3/envs/botorch_env/lib/python3.12/site-packages/sklearn/manifold/_t_sne.py:1162: FutureWarning: 'n_iter' was renamed to 'max_iter' in version 1.5 and will be removed in 1.7.\n",
      "  warnings.warn(\n",
      "/Users/djayshin/miniconda3/envs/botorch_env/lib/python3.12/site-packages/sklearn/manifold/_t_sne.py:1162: FutureWarning: 'n_iter' was renamed to 'max_iter' in version 1.5 and will be removed in 1.7.\n",
      "  warnings.warn(\n",
      "/Users/djayshin/miniconda3/envs/botorch_env/lib/python3.12/site-packages/sklearn/manifold/_t_sne.py:1162: FutureWarning: 'n_iter' was renamed to 'max_iter' in version 1.5 and will be removed in 1.7.\n",
      "  warnings.warn(\n",
      "/Users/djayshin/miniconda3/envs/botorch_env/lib/python3.12/site-packages/sklearn/manifold/_t_sne.py:1162: FutureWarning: 'n_iter' was renamed to 'max_iter' in version 1.5 and will be removed in 1.7.\n",
      "  warnings.warn(\n",
      "/Users/djayshin/miniconda3/envs/botorch_env/lib/python3.12/site-packages/sklearn/manifold/_t_sne.py:1162: FutureWarning: 'n_iter' was renamed to 'max_iter' in version 1.5 and will be removed in 1.7.\n",
      "  warnings.warn(\n",
      "/Users/djayshin/miniconda3/envs/botorch_env/lib/python3.12/site-packages/sklearn/manifold/_t_sne.py:1162: FutureWarning: 'n_iter' was renamed to 'max_iter' in version 1.5 and will be removed in 1.7.\n",
      "  warnings.warn(\n",
      "/Users/djayshin/miniconda3/envs/botorch_env/lib/python3.12/site-packages/sklearn/manifold/_t_sne.py:1162: FutureWarning: 'n_iter' was renamed to 'max_iter' in version 1.5 and will be removed in 1.7.\n",
      "  warnings.warn(\n",
      "/Users/djayshin/miniconda3/envs/botorch_env/lib/python3.12/site-packages/sklearn/manifold/_t_sne.py:1162: FutureWarning: 'n_iter' was renamed to 'max_iter' in version 1.5 and will be removed in 1.7.\n",
      "  warnings.warn(\n",
      "/Users/djayshin/miniconda3/envs/botorch_env/lib/python3.12/site-packages/sklearn/manifold/_t_sne.py:1162: FutureWarning: 'n_iter' was renamed to 'max_iter' in version 1.5 and will be removed in 1.7.\n",
      "  warnings.warn(\n",
      "/Users/djayshin/miniconda3/envs/botorch_env/lib/python3.12/site-packages/sklearn/manifold/_t_sne.py:1162: FutureWarning: 'n_iter' was renamed to 'max_iter' in version 1.5 and will be removed in 1.7.\n",
      "  warnings.warn(\n",
      "/Users/djayshin/miniconda3/envs/botorch_env/lib/python3.12/site-packages/sklearn/manifold/_t_sne.py:1162: FutureWarning: 'n_iter' was renamed to 'max_iter' in version 1.5 and will be removed in 1.7.\n",
      "  warnings.warn(\n",
      "/Users/djayshin/miniconda3/envs/botorch_env/lib/python3.12/site-packages/sklearn/manifold/_t_sne.py:1162: FutureWarning: 'n_iter' was renamed to 'max_iter' in version 1.5 and will be removed in 1.7.\n",
      "  warnings.warn(\n",
      "/Users/djayshin/miniconda3/envs/botorch_env/lib/python3.12/site-packages/sklearn/manifold/_t_sne.py:1162: FutureWarning: 'n_iter' was renamed to 'max_iter' in version 1.5 and will be removed in 1.7.\n",
      "  warnings.warn(\n",
      "/Users/djayshin/miniconda3/envs/botorch_env/lib/python3.12/site-packages/sklearn/manifold/_t_sne.py:1162: FutureWarning: 'n_iter' was renamed to 'max_iter' in version 1.5 and will be removed in 1.7.\n",
      "  warnings.warn(\n",
      "/Users/djayshin/miniconda3/envs/botorch_env/lib/python3.12/site-packages/sklearn/manifold/_t_sne.py:1162: FutureWarning: 'n_iter' was renamed to 'max_iter' in version 1.5 and will be removed in 1.7.\n",
      "  warnings.warn(\n",
      "/Users/djayshin/miniconda3/envs/botorch_env/lib/python3.12/site-packages/sklearn/manifold/_t_sne.py:1162: FutureWarning: 'n_iter' was renamed to 'max_iter' in version 1.5 and will be removed in 1.7.\n",
      "  warnings.warn(\n",
      "/Users/djayshin/miniconda3/envs/botorch_env/lib/python3.12/site-packages/sklearn/manifold/_t_sne.py:1162: FutureWarning: 'n_iter' was renamed to 'max_iter' in version 1.5 and will be removed in 1.7.\n",
      "  warnings.warn(\n",
      "/Users/djayshin/miniconda3/envs/botorch_env/lib/python3.12/site-packages/sklearn/manifold/_t_sne.py:1162: FutureWarning: 'n_iter' was renamed to 'max_iter' in version 1.5 and will be removed in 1.7.\n",
      "  warnings.warn(\n",
      "/Users/djayshin/miniconda3/envs/botorch_env/lib/python3.12/site-packages/sklearn/manifold/_t_sne.py:1162: FutureWarning: 'n_iter' was renamed to 'max_iter' in version 1.5 and will be removed in 1.7.\n",
      "  warnings.warn(\n",
      "/Users/djayshin/miniconda3/envs/botorch_env/lib/python3.12/site-packages/sklearn/manifold/_t_sne.py:1162: FutureWarning: 'n_iter' was renamed to 'max_iter' in version 1.5 and will be removed in 1.7.\n",
      "  warnings.warn(\n",
      "/Users/djayshin/miniconda3/envs/botorch_env/lib/python3.12/site-packages/sklearn/manifold/_t_sne.py:1162: FutureWarning: 'n_iter' was renamed to 'max_iter' in version 1.5 and will be removed in 1.7.\n",
      "  warnings.warn(\n",
      "/Users/djayshin/miniconda3/envs/botorch_env/lib/python3.12/site-packages/sklearn/manifold/_t_sne.py:1162: FutureWarning: 'n_iter' was renamed to 'max_iter' in version 1.5 and will be removed in 1.7.\n",
      "  warnings.warn(\n",
      "/Users/djayshin/miniconda3/envs/botorch_env/lib/python3.12/site-packages/sklearn/manifold/_t_sne.py:1162: FutureWarning: 'n_iter' was renamed to 'max_iter' in version 1.5 and will be removed in 1.7.\n",
      "  warnings.warn(\n",
      "/Users/djayshin/miniconda3/envs/botorch_env/lib/python3.12/site-packages/sklearn/manifold/_t_sne.py:1162: FutureWarning: 'n_iter' was renamed to 'max_iter' in version 1.5 and will be removed in 1.7.\n",
      "  warnings.warn(\n",
      "/Users/djayshin/miniconda3/envs/botorch_env/lib/python3.12/site-packages/sklearn/manifold/_t_sne.py:1162: FutureWarning: 'n_iter' was renamed to 'max_iter' in version 1.5 and will be removed in 1.7.\n",
      "  warnings.warn(\n",
      "/Users/djayshin/miniconda3/envs/botorch_env/lib/python3.12/site-packages/sklearn/manifold/_t_sne.py:1162: FutureWarning: 'n_iter' was renamed to 'max_iter' in version 1.5 and will be removed in 1.7.\n",
      "  warnings.warn(\n",
      "/Users/djayshin/miniconda3/envs/botorch_env/lib/python3.12/site-packages/sklearn/manifold/_t_sne.py:1162: FutureWarning: 'n_iter' was renamed to 'max_iter' in version 1.5 and will be removed in 1.7.\n",
      "  warnings.warn(\n",
      "/Users/djayshin/miniconda3/envs/botorch_env/lib/python3.12/site-packages/sklearn/manifold/_t_sne.py:1162: FutureWarning: 'n_iter' was renamed to 'max_iter' in version 1.5 and will be removed in 1.7.\n",
      "  warnings.warn(\n",
      "/Users/djayshin/miniconda3/envs/botorch_env/lib/python3.12/site-packages/sklearn/manifold/_t_sne.py:1162: FutureWarning: 'n_iter' was renamed to 'max_iter' in version 1.5 and will be removed in 1.7.\n",
      "  warnings.warn(\n",
      "/Users/djayshin/miniconda3/envs/botorch_env/lib/python3.12/site-packages/sklearn/manifold/_t_sne.py:1162: FutureWarning: 'n_iter' was renamed to 'max_iter' in version 1.5 and will be removed in 1.7.\n",
      "  warnings.warn(\n",
      "/Users/djayshin/miniconda3/envs/botorch_env/lib/python3.12/site-packages/sklearn/manifold/_t_sne.py:1162: FutureWarning: 'n_iter' was renamed to 'max_iter' in version 1.5 and will be removed in 1.7.\n",
      "  warnings.warn(\n",
      "/Users/djayshin/miniconda3/envs/botorch_env/lib/python3.12/site-packages/sklearn/manifold/_t_sne.py:1162: FutureWarning: 'n_iter' was renamed to 'max_iter' in version 1.5 and will be removed in 1.7.\n",
      "  warnings.warn(\n",
      "/Users/djayshin/miniconda3/envs/botorch_env/lib/python3.12/site-packages/sklearn/manifold/_t_sne.py:1162: FutureWarning: 'n_iter' was renamed to 'max_iter' in version 1.5 and will be removed in 1.7.\n",
      "  warnings.warn(\n",
      "/Users/djayshin/miniconda3/envs/botorch_env/lib/python3.12/site-packages/sklearn/manifold/_t_sne.py:1162: FutureWarning: 'n_iter' was renamed to 'max_iter' in version 1.5 and will be removed in 1.7.\n",
      "  warnings.warn(\n",
      "/Users/djayshin/miniconda3/envs/botorch_env/lib/python3.12/site-packages/sklearn/manifold/_t_sne.py:1162: FutureWarning: 'n_iter' was renamed to 'max_iter' in version 1.5 and will be removed in 1.7.\n",
      "  warnings.warn(\n",
      "/Users/djayshin/miniconda3/envs/botorch_env/lib/python3.12/site-packages/sklearn/manifold/_t_sne.py:1162: FutureWarning: 'n_iter' was renamed to 'max_iter' in version 1.5 and will be removed in 1.7.\n",
      "  warnings.warn(\n",
      "/Users/djayshin/miniconda3/envs/botorch_env/lib/python3.12/site-packages/sklearn/manifold/_t_sne.py:1162: FutureWarning: 'n_iter' was renamed to 'max_iter' in version 1.5 and will be removed in 1.7.\n",
      "  warnings.warn(\n",
      "/Users/djayshin/miniconda3/envs/botorch_env/lib/python3.12/site-packages/sklearn/manifold/_t_sne.py:1162: FutureWarning: 'n_iter' was renamed to 'max_iter' in version 1.5 and will be removed in 1.7.\n",
      "  warnings.warn(\n",
      "/Users/djayshin/miniconda3/envs/botorch_env/lib/python3.12/site-packages/sklearn/manifold/_t_sne.py:1162: FutureWarning: 'n_iter' was renamed to 'max_iter' in version 1.5 and will be removed in 1.7.\n",
      "  warnings.warn(\n",
      "/Users/djayshin/miniconda3/envs/botorch_env/lib/python3.12/site-packages/sklearn/manifold/_t_sne.py:1162: FutureWarning: 'n_iter' was renamed to 'max_iter' in version 1.5 and will be removed in 1.7.\n",
      "  warnings.warn(\n",
      "/Users/djayshin/miniconda3/envs/botorch_env/lib/python3.12/site-packages/sklearn/manifold/_t_sne.py:1162: FutureWarning: 'n_iter' was renamed to 'max_iter' in version 1.5 and will be removed in 1.7.\n",
      "  warnings.warn(\n",
      "/Users/djayshin/miniconda3/envs/botorch_env/lib/python3.12/site-packages/sklearn/manifold/_t_sne.py:1162: FutureWarning: 'n_iter' was renamed to 'max_iter' in version 1.5 and will be removed in 1.7.\n",
      "  warnings.warn(\n",
      "/Users/djayshin/miniconda3/envs/botorch_env/lib/python3.12/site-packages/sklearn/manifold/_t_sne.py:1162: FutureWarning: 'n_iter' was renamed to 'max_iter' in version 1.5 and will be removed in 1.7.\n",
      "  warnings.warn(\n",
      "/Users/djayshin/miniconda3/envs/botorch_env/lib/python3.12/site-packages/sklearn/manifold/_t_sne.py:1162: FutureWarning: 'n_iter' was renamed to 'max_iter' in version 1.5 and will be removed in 1.7.\n",
      "  warnings.warn(\n",
      "/Users/djayshin/miniconda3/envs/botorch_env/lib/python3.12/site-packages/sklearn/manifold/_t_sne.py:1162: FutureWarning: 'n_iter' was renamed to 'max_iter' in version 1.5 and will be removed in 1.7.\n",
      "  warnings.warn(\n",
      "/Users/djayshin/miniconda3/envs/botorch_env/lib/python3.12/site-packages/sklearn/manifold/_t_sne.py:1162: FutureWarning: 'n_iter' was renamed to 'max_iter' in version 1.5 and will be removed in 1.7.\n",
      "  warnings.warn(\n",
      "/Users/djayshin/miniconda3/envs/botorch_env/lib/python3.12/site-packages/sklearn/manifold/_t_sne.py:1162: FutureWarning: 'n_iter' was renamed to 'max_iter' in version 1.5 and will be removed in 1.7.\n",
      "  warnings.warn(\n",
      "/Users/djayshin/miniconda3/envs/botorch_env/lib/python3.12/site-packages/sklearn/manifold/_t_sne.py:1162: FutureWarning: 'n_iter' was renamed to 'max_iter' in version 1.5 and will be removed in 1.7.\n",
      "  warnings.warn(\n",
      "/Users/djayshin/miniconda3/envs/botorch_env/lib/python3.12/site-packages/sklearn/manifold/_t_sne.py:1162: FutureWarning: 'n_iter' was renamed to 'max_iter' in version 1.5 and will be removed in 1.7.\n",
      "  warnings.warn(\n",
      "/Users/djayshin/miniconda3/envs/botorch_env/lib/python3.12/site-packages/sklearn/manifold/_t_sne.py:1162: FutureWarning: 'n_iter' was renamed to 'max_iter' in version 1.5 and will be removed in 1.7.\n",
      "  warnings.warn(\n",
      "/Users/djayshin/miniconda3/envs/botorch_env/lib/python3.12/site-packages/sklearn/manifold/_t_sne.py:1162: FutureWarning: 'n_iter' was renamed to 'max_iter' in version 1.5 and will be removed in 1.7.\n",
      "  warnings.warn(\n",
      "/Users/djayshin/miniconda3/envs/botorch_env/lib/python3.12/site-packages/sklearn/manifold/_t_sne.py:1162: FutureWarning: 'n_iter' was renamed to 'max_iter' in version 1.5 and will be removed in 1.7.\n",
      "  warnings.warn(\n",
      "/Users/djayshin/miniconda3/envs/botorch_env/lib/python3.12/site-packages/sklearn/manifold/_t_sne.py:1162: FutureWarning: 'n_iter' was renamed to 'max_iter' in version 1.5 and will be removed in 1.7.\n",
      "  warnings.warn(\n",
      "/Users/djayshin/miniconda3/envs/botorch_env/lib/python3.12/site-packages/sklearn/manifold/_t_sne.py:1162: FutureWarning: 'n_iter' was renamed to 'max_iter' in version 1.5 and will be removed in 1.7.\n",
      "  warnings.warn(\n",
      "/Users/djayshin/miniconda3/envs/botorch_env/lib/python3.12/site-packages/sklearn/manifold/_t_sne.py:1162: FutureWarning: 'n_iter' was renamed to 'max_iter' in version 1.5 and will be removed in 1.7.\n",
      "  warnings.warn(\n",
      "/Users/djayshin/miniconda3/envs/botorch_env/lib/python3.12/site-packages/sklearn/manifold/_t_sne.py:1162: FutureWarning: 'n_iter' was renamed to 'max_iter' in version 1.5 and will be removed in 1.7.\n",
      "  warnings.warn(\n",
      "/Users/djayshin/miniconda3/envs/botorch_env/lib/python3.12/site-packages/sklearn/manifold/_t_sne.py:1162: FutureWarning: 'n_iter' was renamed to 'max_iter' in version 1.5 and will be removed in 1.7.\n",
      "  warnings.warn(\n",
      "/Users/djayshin/miniconda3/envs/botorch_env/lib/python3.12/site-packages/sklearn/manifold/_t_sne.py:1162: FutureWarning: 'n_iter' was renamed to 'max_iter' in version 1.5 and will be removed in 1.7.\n",
      "  warnings.warn(\n",
      "/Users/djayshin/miniconda3/envs/botorch_env/lib/python3.12/site-packages/sklearn/manifold/_t_sne.py:1162: FutureWarning: 'n_iter' was renamed to 'max_iter' in version 1.5 and will be removed in 1.7.\n",
      "  warnings.warn(\n",
      "/Users/djayshin/miniconda3/envs/botorch_env/lib/python3.12/site-packages/sklearn/manifold/_t_sne.py:1162: FutureWarning: 'n_iter' was renamed to 'max_iter' in version 1.5 and will be removed in 1.7.\n",
      "  warnings.warn(\n",
      "/Users/djayshin/miniconda3/envs/botorch_env/lib/python3.12/site-packages/sklearn/manifold/_t_sne.py:1162: FutureWarning: 'n_iter' was renamed to 'max_iter' in version 1.5 and will be removed in 1.7.\n",
      "  warnings.warn(\n",
      "/Users/djayshin/miniconda3/envs/botorch_env/lib/python3.12/site-packages/sklearn/manifold/_t_sne.py:1162: FutureWarning: 'n_iter' was renamed to 'max_iter' in version 1.5 and will be removed in 1.7.\n",
      "  warnings.warn(\n",
      "/Users/djayshin/miniconda3/envs/botorch_env/lib/python3.12/site-packages/sklearn/manifold/_t_sne.py:1162: FutureWarning: 'n_iter' was renamed to 'max_iter' in version 1.5 and will be removed in 1.7.\n",
      "  warnings.warn(\n",
      "/Users/djayshin/miniconda3/envs/botorch_env/lib/python3.12/site-packages/sklearn/manifold/_t_sne.py:1162: FutureWarning: 'n_iter' was renamed to 'max_iter' in version 1.5 and will be removed in 1.7.\n",
      "  warnings.warn(\n",
      "/Users/djayshin/miniconda3/envs/botorch_env/lib/python3.12/site-packages/sklearn/manifold/_t_sne.py:1162: FutureWarning: 'n_iter' was renamed to 'max_iter' in version 1.5 and will be removed in 1.7.\n",
      "  warnings.warn(\n",
      "/Users/djayshin/miniconda3/envs/botorch_env/lib/python3.12/site-packages/sklearn/manifold/_t_sne.py:1162: FutureWarning: 'n_iter' was renamed to 'max_iter' in version 1.5 and will be removed in 1.7.\n",
      "  warnings.warn(\n",
      "/Users/djayshin/miniconda3/envs/botorch_env/lib/python3.12/site-packages/sklearn/manifold/_t_sne.py:1162: FutureWarning: 'n_iter' was renamed to 'max_iter' in version 1.5 and will be removed in 1.7.\n",
      "  warnings.warn(\n",
      "/Users/djayshin/miniconda3/envs/botorch_env/lib/python3.12/site-packages/sklearn/manifold/_t_sne.py:1162: FutureWarning: 'n_iter' was renamed to 'max_iter' in version 1.5 and will be removed in 1.7.\n",
      "  warnings.warn(\n",
      "/Users/djayshin/miniconda3/envs/botorch_env/lib/python3.12/site-packages/sklearn/manifold/_t_sne.py:1162: FutureWarning: 'n_iter' was renamed to 'max_iter' in version 1.5 and will be removed in 1.7.\n",
      "  warnings.warn(\n",
      "/Users/djayshin/miniconda3/envs/botorch_env/lib/python3.12/site-packages/sklearn/manifold/_t_sne.py:1162: FutureWarning: 'n_iter' was renamed to 'max_iter' in version 1.5 and will be removed in 1.7.\n",
      "  warnings.warn(\n",
      "/Users/djayshin/miniconda3/envs/botorch_env/lib/python3.12/site-packages/sklearn/manifold/_t_sne.py:1162: FutureWarning: 'n_iter' was renamed to 'max_iter' in version 1.5 and will be removed in 1.7.\n",
      "  warnings.warn(\n",
      "/Users/djayshin/miniconda3/envs/botorch_env/lib/python3.12/site-packages/sklearn/manifold/_t_sne.py:1162: FutureWarning: 'n_iter' was renamed to 'max_iter' in version 1.5 and will be removed in 1.7.\n",
      "  warnings.warn(\n",
      "/Users/djayshin/miniconda3/envs/botorch_env/lib/python3.12/site-packages/sklearn/manifold/_t_sne.py:1162: FutureWarning: 'n_iter' was renamed to 'max_iter' in version 1.5 and will be removed in 1.7.\n",
      "  warnings.warn(\n",
      "/Users/djayshin/miniconda3/envs/botorch_env/lib/python3.12/site-packages/sklearn/manifold/_t_sne.py:1162: FutureWarning: 'n_iter' was renamed to 'max_iter' in version 1.5 and will be removed in 1.7.\n",
      "  warnings.warn(\n",
      "/Users/djayshin/miniconda3/envs/botorch_env/lib/python3.12/site-packages/sklearn/manifold/_t_sne.py:1162: FutureWarning: 'n_iter' was renamed to 'max_iter' in version 1.5 and will be removed in 1.7.\n",
      "  warnings.warn(\n",
      "/Users/djayshin/miniconda3/envs/botorch_env/lib/python3.12/site-packages/sklearn/manifold/_t_sne.py:1162: FutureWarning: 'n_iter' was renamed to 'max_iter' in version 1.5 and will be removed in 1.7.\n",
      "  warnings.warn(\n",
      "/Users/djayshin/miniconda3/envs/botorch_env/lib/python3.12/site-packages/sklearn/manifold/_t_sne.py:1162: FutureWarning: 'n_iter' was renamed to 'max_iter' in version 1.5 and will be removed in 1.7.\n",
      "  warnings.warn(\n",
      "/Users/djayshin/miniconda3/envs/botorch_env/lib/python3.12/site-packages/sklearn/manifold/_t_sne.py:1162: FutureWarning: 'n_iter' was renamed to 'max_iter' in version 1.5 and will be removed in 1.7.\n",
      "  warnings.warn(\n",
      "/Users/djayshin/miniconda3/envs/botorch_env/lib/python3.12/site-packages/sklearn/manifold/_t_sne.py:1162: FutureWarning: 'n_iter' was renamed to 'max_iter' in version 1.5 and will be removed in 1.7.\n",
      "  warnings.warn(\n",
      "/Users/djayshin/miniconda3/envs/botorch_env/lib/python3.12/site-packages/sklearn/manifold/_t_sne.py:1162: FutureWarning: 'n_iter' was renamed to 'max_iter' in version 1.5 and will be removed in 1.7.\n",
      "  warnings.warn(\n",
      "/Users/djayshin/miniconda3/envs/botorch_env/lib/python3.12/site-packages/sklearn/manifold/_t_sne.py:1162: FutureWarning: 'n_iter' was renamed to 'max_iter' in version 1.5 and will be removed in 1.7.\n",
      "  warnings.warn(\n",
      "/Users/djayshin/miniconda3/envs/botorch_env/lib/python3.12/site-packages/sklearn/manifold/_t_sne.py:1162: FutureWarning: 'n_iter' was renamed to 'max_iter' in version 1.5 and will be removed in 1.7.\n",
      "  warnings.warn(\n",
      "/Users/djayshin/miniconda3/envs/botorch_env/lib/python3.12/site-packages/sklearn/manifold/_t_sne.py:1162: FutureWarning: 'n_iter' was renamed to 'max_iter' in version 1.5 and will be removed in 1.7.\n",
      "  warnings.warn(\n",
      "/Users/djayshin/miniconda3/envs/botorch_env/lib/python3.12/site-packages/sklearn/manifold/_t_sne.py:1162: FutureWarning: 'n_iter' was renamed to 'max_iter' in version 1.5 and will be removed in 1.7.\n",
      "  warnings.warn(\n",
      "/Users/djayshin/miniconda3/envs/botorch_env/lib/python3.12/site-packages/sklearn/manifold/_t_sne.py:1162: FutureWarning: 'n_iter' was renamed to 'max_iter' in version 1.5 and will be removed in 1.7.\n",
      "  warnings.warn(\n",
      "/Users/djayshin/miniconda3/envs/botorch_env/lib/python3.12/site-packages/sklearn/manifold/_t_sne.py:1162: FutureWarning: 'n_iter' was renamed to 'max_iter' in version 1.5 and will be removed in 1.7.\n",
      "  warnings.warn(\n",
      "/Users/djayshin/miniconda3/envs/botorch_env/lib/python3.12/site-packages/sklearn/manifold/_t_sne.py:1162: FutureWarning: 'n_iter' was renamed to 'max_iter' in version 1.5 and will be removed in 1.7.\n",
      "  warnings.warn(\n",
      "/Users/djayshin/miniconda3/envs/botorch_env/lib/python3.12/site-packages/sklearn/manifold/_t_sne.py:1162: FutureWarning: 'n_iter' was renamed to 'max_iter' in version 1.5 and will be removed in 1.7.\n",
      "  warnings.warn(\n",
      "/Users/djayshin/miniconda3/envs/botorch_env/lib/python3.12/site-packages/sklearn/manifold/_t_sne.py:1162: FutureWarning: 'n_iter' was renamed to 'max_iter' in version 1.5 and will be removed in 1.7.\n",
      "  warnings.warn(\n",
      "/Users/djayshin/miniconda3/envs/botorch_env/lib/python3.12/site-packages/sklearn/manifold/_t_sne.py:1162: FutureWarning: 'n_iter' was renamed to 'max_iter' in version 1.5 and will be removed in 1.7.\n",
      "  warnings.warn(\n",
      "/Users/djayshin/miniconda3/envs/botorch_env/lib/python3.12/site-packages/sklearn/manifold/_t_sne.py:1162: FutureWarning: 'n_iter' was renamed to 'max_iter' in version 1.5 and will be removed in 1.7.\n",
      "  warnings.warn(\n",
      "/Users/djayshin/miniconda3/envs/botorch_env/lib/python3.12/site-packages/sklearn/manifold/_t_sne.py:1162: FutureWarning: 'n_iter' was renamed to 'max_iter' in version 1.5 and will be removed in 1.7.\n",
      "  warnings.warn(\n",
      "/Users/djayshin/miniconda3/envs/botorch_env/lib/python3.12/site-packages/sklearn/manifold/_t_sne.py:1162: FutureWarning: 'n_iter' was renamed to 'max_iter' in version 1.5 and will be removed in 1.7.\n",
      "  warnings.warn(\n",
      "/Users/djayshin/miniconda3/envs/botorch_env/lib/python3.12/site-packages/sklearn/manifold/_t_sne.py:1162: FutureWarning: 'n_iter' was renamed to 'max_iter' in version 1.5 and will be removed in 1.7.\n",
      "  warnings.warn(\n",
      "/Users/djayshin/miniconda3/envs/botorch_env/lib/python3.12/site-packages/sklearn/manifold/_t_sne.py:1162: FutureWarning: 'n_iter' was renamed to 'max_iter' in version 1.5 and will be removed in 1.7.\n",
      "  warnings.warn(\n",
      "/Users/djayshin/miniconda3/envs/botorch_env/lib/python3.12/site-packages/sklearn/manifold/_t_sne.py:1162: FutureWarning: 'n_iter' was renamed to 'max_iter' in version 1.5 and will be removed in 1.7.\n",
      "  warnings.warn(\n",
      "/Users/djayshin/miniconda3/envs/botorch_env/lib/python3.12/site-packages/sklearn/manifold/_t_sne.py:1162: FutureWarning: 'n_iter' was renamed to 'max_iter' in version 1.5 and will be removed in 1.7.\n",
      "  warnings.warn(\n"
     ]
    }
   ],
   "source": [
    "import matplotlib.pyplot as plt\n",
    "\n",
    "\n",
    "import seaborn as sns\n",
    "from sklearn.manifold import TSNE \n",
    "# import umap.umap_ as umap\n",
    "from umap.umap_ import UMAP\n",
    "from sklearn.decomposition import PCA\n",
    "from sklearn.model_selection import ParameterGrid\n",
    "from sklearn.manifold import trustworthiness\n",
    "\n",
    "X = df_selected.values\n",
    "\n",
    "PCA = PCA(n_components=2, \n",
    "          # random_state=0\n",
    "          )\n",
    "X_p = PCA.fit_transform(X)\n",
    "# PCA explanained variance ratio\n",
    "print(f'PCA explained variance ratio: {PCA.explained_variance_ratio_}')\n",
    "\n",
    "\n",
    "# Define hyperparameter grids\n",
    "tsne_params = {\n",
    "    'perplexity': [5, 7, 10, 12, 15, 18, 20],\n",
    "    'n_iter': [500, 750, 1000, 1500],\n",
    "    'learning_rate': [50, 100, 200, 300, 500, 800]\n",
    "}\n",
    "umap_params = {\n",
    "    'n_neighbors': [3, 5, 7, 10, 12, 15, 18, 20],\n",
    "    'min_dist': [0.0, 0.05, 0.1, 0.2, 0.3, 0.5],\n",
    "    'spread': [0.8, 1.0, 1.2, 1.5, 2.0],\n",
    "    'metric': ['euclidean', 'manhattan', 'cosine']\n",
    "}\n",
    "\n",
    "# Optimize TSNE\n",
    "best_tsne_score = float('inf')\n",
    "best_tsne = None\n",
    "best_X_t = None\n",
    "for params in ParameterGrid(tsne_params):\n",
    "    tsne = TSNE(n_components=2, **params)\n",
    "    X_t_candidate = tsne.fit_transform(X)\n",
    "    # Use KL divergence as score (lower is better)\n",
    "    score = tsne.kl_divergence_\n",
    "    if score < best_tsne_score:\n",
    "        best_tsne_score = score\n",
    "        best_tsne = tsne\n",
    "        best_X_t = X_t_candidate\n",
    "X_t = best_X_t\n",
    "\n",
    "# Optimize UMAP\n",
    "best_umap_score = float('-inf')\n",
    "best_umap = None\n",
    "best_X_u = None\n",
    "for params in ParameterGrid(umap_params):\n",
    "    umap_model = UMAP(n_components=2, **params)\n",
    "    X_u_candidate = umap_model.fit_transform(X)\n",
    "    # Use local continuity meta-criterion (LCMC) as a simple score (higher is better)\n",
    "    # Here, we use trustworthiness as a proxy\n",
    "    score = trustworthiness(X, X_u_candidate, n_neighbors=5)\n",
    "    if score > best_umap_score:\n",
    "        best_umap_score = score\n",
    "        best_umap = umap_model\n",
    "        best_X_u = X_u_candidate\n",
    "X_u = best_X_u"
   ]
  },
  {
   "cell_type": "code",
   "execution_count": null,
   "id": "22e5f97c",
   "metadata": {},
   "outputs": [
    {
     "ename": "NameError",
     "evalue": "name 'plt' is not defined",
     "output_type": "error",
     "traceback": [
      "\u001b[0;31m---------------------------------------------------------------------------\u001b[0m\n",
      "\u001b[0;31mNameError\u001b[0m                                 Traceback (most recent call last)\n",
      "Cell \u001b[0;32mIn[1], line 4\u001b[0m\n",
      "\u001b[1;32m      1\u001b[0m \u001b[38;5;66;03m# plot convex hull for each group\u001b[39;00m\n",
      "\u001b[1;32m      2\u001b[0m \u001b[38;5;28;01mfrom\u001b[39;00m \u001b[38;5;21;01mscipy\u001b[39;00m\u001b[38;5;21;01m.\u001b[39;00m\u001b[38;5;21;01mspatial\u001b[39;00m \u001b[38;5;28;01mimport\u001b[39;00m ConvexHull\n",
      "\u001b[0;32m----> 4\u001b[0m fig, ax \u001b[38;5;241m=\u001b[39m \u001b[43mplt\u001b[49m\u001b[38;5;241m.\u001b[39msubplots(figsize\u001b[38;5;241m=\u001b[39m(\u001b[38;5;241m6\u001b[39m, \u001b[38;5;241m5\u001b[39m), ncols\u001b[38;5;241m=\u001b[39m\u001b[38;5;241m1\u001b[39m, nrows\u001b[38;5;241m=\u001b[39m\u001b[38;5;241m1\u001b[39m)\n",
      "\u001b[1;32m      5\u001b[0m palette \u001b[38;5;241m=\u001b[39m sns\u001b[38;5;241m.\u001b[39mcolor_palette(\u001b[38;5;124m\"\u001b[39m\u001b[38;5;124mhusl\u001b[39m\u001b[38;5;124m\"\u001b[39m, n_colors\u001b[38;5;241m=\u001b[39m\u001b[38;5;28mlen\u001b[39m(df_scaled[\u001b[38;5;124m'\u001b[39m\u001b[38;5;124mGroupID\u001b[39m\u001b[38;5;124m'\u001b[39m]\u001b[38;5;241m.\u001b[39munique()))\n",
      "\u001b[1;32m      7\u001b[0m \u001b[38;5;66;03m# Plot the PCA scatter first\u001b[39;00m\n",
      "\n",
      "\u001b[0;31mNameError\u001b[0m: name 'plt' is not defined"
     ]
    }
   ],
   "source": [
    "# plot convex hull for each group\n",
    "from scipy.spatial import ConvexHull\n",
    "\n",
    "fig, ax = plt.subplots(figsize=(6, 5), ncols=1, nrows=1)\n",
    "palette = sns.color_palette(\"husl\", n_colors=len(df_scaled['GroupID'].unique()))\n",
    "\n",
    "# Plot the PCA scatter first\n",
    "location_markers = {'Cargnello': '^', 'SLAC': 's', 'UCSB': 'o', 'PSU': 'P'}\n",
    "scatter_pca = sns.scatterplot(\n",
    "    x=X_p[:, 0], y=X_p[:, 1], hue=df_scaled['GroupID'], style=df_scaled['location'], \n",
    "    palette=palette,\n",
    "    markers=location_markers,\n",
    "    legend=\"auto\", \n",
    "    edgecolor=\"k\", s=100,\n",
    "    ax=ax,\n",
    "    zorder=2,\n",
    ")\n",
    "\n",
    "# Overlay convex hulls for each group on the same axes\n",
    "unique_groups = df_scaled['GroupID'].unique()\n",
    "unique_groups = np.sort(unique_groups)\n",
    "for i, group in enumerate(unique_groups):\n",
    "    group_mask = df_scaled['GroupID'] == group\n",
    "    points = X_p[group_mask]\n",
    "    if len(points) >= 3:\n",
    "        hull = ConvexHull(points)\n",
    "        hull_pts = points[hull.vertices]\n",
    "        hull_pts = np.concatenate([hull_pts, hull_pts[:1]], axis=0)\n",
    "        ax.plot(hull_pts[:, 0], hull_pts[:, 1], lw=2, label=f'Group {group} hull', alpha=0.5, color=palette[i], zorder=1)\n",
    "        ax.fill(hull_pts[:, 0], hull_pts[:, 1], alpha=0.15, color=palette[i], zorder=1)\n",
    "\n",
    "ax.set_title(\"PCA\")\n",
    "ax.set_xlabel(\"PC1\")\n",
    "ax.set_ylabel(\"PC2\")\n",
    "ax.legend(\n",
    "    # title=\"GroupID\",\n",
    "    bbox_to_anchor=(1.05, 1), loc='upper left'\n",
    "    )\n",
    "\n",
    "# Set limits with a margin\n",
    "margin = 0.2\n",
    "ax.set_xlim(X_p[:, 0].min() - margin, X_p[:, 0].max() + margin)\n",
    "ax.set_ylim(X_p[:, 1].min() - margin, X_p[:, 1].max() + margin)\n",
    "plt.show()\n",
    "\n",
    "\n",
    "# Plot t-SNE and UMAP\n",
    "sns.scatterplot(x=X_t[:, 0], y=X_t[:, 1], hue=df_scaled['GroupID'], palette=\"deep\", legend=\"full\")\n",
    "plt.title(\"t-SNE\")\n",
    "plt.xlabel(\"t-SNE 1\")\n",
    "plt.ylabel(\"t-SNE 2\")\n",
    "plt.show()\n",
    "sns.scatterplot(x=X_u[:, 0], y=X_u[:, 1], hue=df_scaled['GroupID'], palette=\"deep\", legend=\"full\")\n",
    "plt.title(\"UMAP\")\n",
    "plt.xlabel(\"UMAP 1\")\n",
    "plt.ylabel(\"UMAP 2\")\n",
    "plt.show()"
   ]
  },
  {
   "cell_type": "code",
   "execution_count": null,
   "id": "97e6a1bd",
   "metadata": {},
   "outputs": [
    {
     "data": {
      "application/vnd.plotly.v1+json": {
       "config": {
        "plotlyServerURL": "https://plot.ly"
       },
       "data": [
        {
         "customdata": {
          "bdata": "FAWyof5vsj84yRZeAGrQPwAAAAAAAPA/dNBKl+z80D8AAAAAAADwP0A0rMyND9Y/nex+noVI1D9zMGhqhAPsP8jxjY4YkNE/8GxNOiNd2j/CsCv2Il3hP3MGxhu4l+Y/AG1jrpcI7z+yNyjsDDXXP4fF75RlSeU/e75UGJHI2j/Mm/wgLmrhP6PsZqqxi+w/yqq1D2GY5j8x2FmofmPlP5F0xRluXtA/uEyjn7YLzz8JcwFtpEDrP9jGYf4dcuQ/KIaw8Y+73z9PETF/7TfcPyrIiq8fzdk/PRo+8aqg6z9ZTAFM06rYP/WJTnB+R9U/DGio76hNoD846r47wkiQP6e51R2sn+0/YG9Ni1c72D9YCKxdvSrkP+jP23VeTJc/EjOvmc8qwT/xQSrEBcruP4Tzs7k7H+Q/3i8pBV5f7D8QYg1SAUzXP5xO9mLIqN0/eg8HM6+K7D9T32fz9HncP0oMD1/5z+Q/s6iOziFB0z/kDEj5+ne6P3PmuhQPUeo/f0pt9CdF1j9o9PdAxdK6P5bLqUn7Pro/yDW3Ap8Nlj9R6kYuV7vsP4z/Y2S21cs//ZB3MLRL3T+cCT4wEhDVP3ZAiui/DNk/PhRnEnPc7D+EmAPgHYzbP7tU7QfYKuM/Ng8aAc5wsT/IWhSOiB7KPx8cr2tYCe8/4vf3BsQ51D8wn18/RgTtP6D/G7HCO5g/KKg2cgo0lj+98Kx9xantPyWb3Xo+t9g/uC8a94M35T8AAAAAAADwP5CkCk6oDu8/AAAAAAAAAAAM//wU7rzsPwAAAAAAAAAAPrdK/Kvr1T9ggOP/WRHZP2WY4tdXjuw/1mxqlwcy2j8gh5GedxLiPxit+6Bq3ec/es0NUVBz7T92EevEffvuP6nmMwsHZeA/dBaFAbz14T/kQF19A+viP6/qmwChI+U/pngjUnmE6j9bwLuoofHSPxS3x/oLx9w/chzYAUgu0z+kkgG3VRbhPyO8kfAdhOc/AAAAAAAA8D/vuHn0tZXuP4DwCRwT/eA/V98Gk/nR5j/bhe543ALvP/+q+wbdONo/2ATeDXm15j909KXTwNHiP8I5Ix3etuU/GrXUzZBf6z8p/k4xV9jWP1plt37Bjt8/kKyMvR1YvD/mZXRFABnJP8IZqYs/iO8/wbzMmz924j99bCdbAvnoP3JhQypLluE/9mNzu0Ym5z/VAsH6DcHuP6bGt09PKNo/utoeVCLO5T/6ingiIA2wP07cWjltHcM/GdLQra7o7z/YU4nkFUziP2Pf8NUABOo/AAAAAAAAAAAAAAAAAAAAAGsrwsTusu0/KHt0EhvW3T/INRBrBdDlP7NIB55EB9U/rntUZ9Qh3D9KZbS9dTjtP3PdMDt+EeA/dwW2FDBC5j/cs2PjyRzTP6jS5e5yxtk/F+FnUaZo7T9nSm3SzOXgPypJcyh1a+Y/6A7sx6jnoT+Scv1xJCrEP896PBDese4/cWfWESSR4z+s/vNMEczsP1oXmbGzP+0/AAAAAAAA8D81rAjG7OnpPwAAAAAAAAAALBQQYFkx0j/M963FI47mP3KGxefdAO4/6XYpSASC7z9Rz6Jt7KbYP+qLOoz0buY/259WjX5h1T+qsMBHFEzcP4aIZBu7I+0/8x5NfYUl4T/JuzwkW/flP3JEgxxnxtY/TEUS1Xgl3j90AEKCvhDtP2IOVhZsfOA/cMSfxuv65T8=",
          "dtype": "f8",
          "shape": "32, 5"
         },
         "hovertemplate": "PC1=%{x}<br>PC2=%{y}<br>CO Net Production Rate (mol/molRh/s)_initial value=%{customdata[0]}<br>CO Net Production Rate (mol/molRh/s)_final value=%{customdata[1]}<br>CO Net Production Rate (mol/molRh/s)_initial slope=%{customdata[2]}<br>CO Net Production Rate (mol/molRh/s)_final slope=%{customdata[3]}<br>CO Net Production Rate (mol/molRh/s)_overall slope=%{customdata[4]}<br>GroupID=%{marker.color}<extra></extra>",
         "legendgroup": "",
         "marker": {
          "color": {
           "bdata": "AwQCBAUEAQMEBQEEAwEGBQIGBgICAwIDAQQFAwYCBQU=",
           "dtype": "i1"
          },
          "coloraxis": "coloraxis",
          "symbol": "circle"
         },
         "mode": "markers",
         "name": "",
         "orientation": "v",
         "showlegend": false,
         "type": "scatter",
         "x": {
          "bdata": "nDMfBQIK3L9PIa81oLdjv02TWFRsfNE/i4HgBrrOuj8Lgo5NwrPAv1GQBo+xccI/2Y2fJ6jn3r9bMCn9CSTgv7AfjGJ4Gpg/7JT6IaJTrb99N6T8yrjXv15bktmFGKC/2MpBZr7927/3qCgTIrTfvxnArL7t+PI/xTRDF+DNgr/dfXWYXXniP15L3FCGPdg/nEcyBnv1ob/hFsSi2WDQP/qdcsG2itc/JD1oJ2c22L9PjGRUo0nSP4GgqhCX/ty/O4eTxK//4L9STmrwm8Ghv63Smq9jvbS/TDHDbfYH37/UT2P1QrnrP7zOHimka+A/I4kywUaVmr+dl4scNf99Pw==",
          "dtype": "f8"
         },
         "xaxis": "x",
         "y": {
          "bdata": "1DhBj87+yz/E6abZqjbPv28NsCF+Rck/d9rvY1p9wT8jeTX8s2fGv19ovzdf1s+/RTOORRR0yb/bCQw3o127P7dzhj+XiqY/Oq913JQe478YLcc2rhjXv3AlFd6CbZ+/+DKsptDZvT+FiRageKvFvwqOmhjvPd2/nV0X/JAusL8TzhWC/ebPP+8dQMRCwaq/leoNnz5m1T8omAHZhejOP6eJzLFy6oE/ME2J/rcrrj+V72Q1vG3MP/GQz8/yN7A/KpWh+evEw79DcDGZWw21P4x1qvOOrrI/58RdjnIQwD8h2+/be/2qv1ejCrVnlNY/01YXkbGYtD9fGRiGFoW3Pw==",
          "dtype": "f8"
         },
         "yaxis": "y"
        }
       ],
       "layout": {
        "coloraxis": {
         "colorbar": {
          "title": {
           "text": "GroupID"
          }
         },
         "colorscale": [
          [
           0,
           "#0d0887"
          ],
          [
           0.1111111111111111,
           "#46039f"
          ],
          [
           0.2222222222222222,
           "#7201a8"
          ],
          [
           0.3333333333333333,
           "#9c179e"
          ],
          [
           0.4444444444444444,
           "#bd3786"
          ],
          [
           0.5555555555555556,
           "#d8576b"
          ],
          [
           0.6666666666666666,
           "#ed7953"
          ],
          [
           0.7777777777777778,
           "#fb9f3a"
          ],
          [
           0.8888888888888888,
           "#fdca26"
          ],
          [
           1,
           "#f0f921"
          ]
         ]
        },
        "height": 600,
        "legend": {
         "tracegroupgap": 0
        },
        "template": {
         "data": {
          "bar": [
           {
            "error_x": {
             "color": "#2a3f5f"
            },
            "error_y": {
             "color": "#2a3f5f"
            },
            "marker": {
             "line": {
              "color": "#E5ECF6",
              "width": 0.5
             },
             "pattern": {
              "fillmode": "overlay",
              "size": 10,
              "solidity": 0.2
             }
            },
            "type": "bar"
           }
          ],
          "barpolar": [
           {
            "marker": {
             "line": {
              "color": "#E5ECF6",
              "width": 0.5
             },
             "pattern": {
              "fillmode": "overlay",
              "size": 10,
              "solidity": 0.2
             }
            },
            "type": "barpolar"
           }
          ],
          "carpet": [
           {
            "aaxis": {
             "endlinecolor": "#2a3f5f",
             "gridcolor": "white",
             "linecolor": "white",
             "minorgridcolor": "white",
             "startlinecolor": "#2a3f5f"
            },
            "baxis": {
             "endlinecolor": "#2a3f5f",
             "gridcolor": "white",
             "linecolor": "white",
             "minorgridcolor": "white",
             "startlinecolor": "#2a3f5f"
            },
            "type": "carpet"
           }
          ],
          "choropleth": [
           {
            "colorbar": {
             "outlinewidth": 0,
             "ticks": ""
            },
            "type": "choropleth"
           }
          ],
          "contour": [
           {
            "colorbar": {
             "outlinewidth": 0,
             "ticks": ""
            },
            "colorscale": [
             [
              0,
              "#0d0887"
             ],
             [
              0.1111111111111111,
              "#46039f"
             ],
             [
              0.2222222222222222,
              "#7201a8"
             ],
             [
              0.3333333333333333,
              "#9c179e"
             ],
             [
              0.4444444444444444,
              "#bd3786"
             ],
             [
              0.5555555555555556,
              "#d8576b"
             ],
             [
              0.6666666666666666,
              "#ed7953"
             ],
             [
              0.7777777777777778,
              "#fb9f3a"
             ],
             [
              0.8888888888888888,
              "#fdca26"
             ],
             [
              1,
              "#f0f921"
             ]
            ],
            "type": "contour"
           }
          ],
          "contourcarpet": [
           {
            "colorbar": {
             "outlinewidth": 0,
             "ticks": ""
            },
            "type": "contourcarpet"
           }
          ],
          "heatmap": [
           {
            "colorbar": {
             "outlinewidth": 0,
             "ticks": ""
            },
            "colorscale": [
             [
              0,
              "#0d0887"
             ],
             [
              0.1111111111111111,
              "#46039f"
             ],
             [
              0.2222222222222222,
              "#7201a8"
             ],
             [
              0.3333333333333333,
              "#9c179e"
             ],
             [
              0.4444444444444444,
              "#bd3786"
             ],
             [
              0.5555555555555556,
              "#d8576b"
             ],
             [
              0.6666666666666666,
              "#ed7953"
             ],
             [
              0.7777777777777778,
              "#fb9f3a"
             ],
             [
              0.8888888888888888,
              "#fdca26"
             ],
             [
              1,
              "#f0f921"
             ]
            ],
            "type": "heatmap"
           }
          ],
          "histogram": [
           {
            "marker": {
             "pattern": {
              "fillmode": "overlay",
              "size": 10,
              "solidity": 0.2
             }
            },
            "type": "histogram"
           }
          ],
          "histogram2d": [
           {
            "colorbar": {
             "outlinewidth": 0,
             "ticks": ""
            },
            "colorscale": [
             [
              0,
              "#0d0887"
             ],
             [
              0.1111111111111111,
              "#46039f"
             ],
             [
              0.2222222222222222,
              "#7201a8"
             ],
             [
              0.3333333333333333,
              "#9c179e"
             ],
             [
              0.4444444444444444,
              "#bd3786"
             ],
             [
              0.5555555555555556,
              "#d8576b"
             ],
             [
              0.6666666666666666,
              "#ed7953"
             ],
             [
              0.7777777777777778,
              "#fb9f3a"
             ],
             [
              0.8888888888888888,
              "#fdca26"
             ],
             [
              1,
              "#f0f921"
             ]
            ],
            "type": "histogram2d"
           }
          ],
          "histogram2dcontour": [
           {
            "colorbar": {
             "outlinewidth": 0,
             "ticks": ""
            },
            "colorscale": [
             [
              0,
              "#0d0887"
             ],
             [
              0.1111111111111111,
              "#46039f"
             ],
             [
              0.2222222222222222,
              "#7201a8"
             ],
             [
              0.3333333333333333,
              "#9c179e"
             ],
             [
              0.4444444444444444,
              "#bd3786"
             ],
             [
              0.5555555555555556,
              "#d8576b"
             ],
             [
              0.6666666666666666,
              "#ed7953"
             ],
             [
              0.7777777777777778,
              "#fb9f3a"
             ],
             [
              0.8888888888888888,
              "#fdca26"
             ],
             [
              1,
              "#f0f921"
             ]
            ],
            "type": "histogram2dcontour"
           }
          ],
          "mesh3d": [
           {
            "colorbar": {
             "outlinewidth": 0,
             "ticks": ""
            },
            "type": "mesh3d"
           }
          ],
          "parcoords": [
           {
            "line": {
             "colorbar": {
              "outlinewidth": 0,
              "ticks": ""
             }
            },
            "type": "parcoords"
           }
          ],
          "pie": [
           {
            "automargin": true,
            "type": "pie"
           }
          ],
          "scatter": [
           {
            "fillpattern": {
             "fillmode": "overlay",
             "size": 10,
             "solidity": 0.2
            },
            "type": "scatter"
           }
          ],
          "scatter3d": [
           {
            "line": {
             "colorbar": {
              "outlinewidth": 0,
              "ticks": ""
             }
            },
            "marker": {
             "colorbar": {
              "outlinewidth": 0,
              "ticks": ""
             }
            },
            "type": "scatter3d"
           }
          ],
          "scattercarpet": [
           {
            "marker": {
             "colorbar": {
              "outlinewidth": 0,
              "ticks": ""
             }
            },
            "type": "scattercarpet"
           }
          ],
          "scattergeo": [
           {
            "marker": {
             "colorbar": {
              "outlinewidth": 0,
              "ticks": ""
             }
            },
            "type": "scattergeo"
           }
          ],
          "scattergl": [
           {
            "marker": {
             "colorbar": {
              "outlinewidth": 0,
              "ticks": ""
             }
            },
            "type": "scattergl"
           }
          ],
          "scattermap": [
           {
            "marker": {
             "colorbar": {
              "outlinewidth": 0,
              "ticks": ""
             }
            },
            "type": "scattermap"
           }
          ],
          "scattermapbox": [
           {
            "marker": {
             "colorbar": {
              "outlinewidth": 0,
              "ticks": ""
             }
            },
            "type": "scattermapbox"
           }
          ],
          "scatterpolar": [
           {
            "marker": {
             "colorbar": {
              "outlinewidth": 0,
              "ticks": ""
             }
            },
            "type": "scatterpolar"
           }
          ],
          "scatterpolargl": [
           {
            "marker": {
             "colorbar": {
              "outlinewidth": 0,
              "ticks": ""
             }
            },
            "type": "scatterpolargl"
           }
          ],
          "scatterternary": [
           {
            "marker": {
             "colorbar": {
              "outlinewidth": 0,
              "ticks": ""
             }
            },
            "type": "scatterternary"
           }
          ],
          "surface": [
           {
            "colorbar": {
             "outlinewidth": 0,
             "ticks": ""
            },
            "colorscale": [
             [
              0,
              "#0d0887"
             ],
             [
              0.1111111111111111,
              "#46039f"
             ],
             [
              0.2222222222222222,
              "#7201a8"
             ],
             [
              0.3333333333333333,
              "#9c179e"
             ],
             [
              0.4444444444444444,
              "#bd3786"
             ],
             [
              0.5555555555555556,
              "#d8576b"
             ],
             [
              0.6666666666666666,
              "#ed7953"
             ],
             [
              0.7777777777777778,
              "#fb9f3a"
             ],
             [
              0.8888888888888888,
              "#fdca26"
             ],
             [
              1,
              "#f0f921"
             ]
            ],
            "type": "surface"
           }
          ],
          "table": [
           {
            "cells": {
             "fill": {
              "color": "#EBF0F8"
             },
             "line": {
              "color": "white"
             }
            },
            "header": {
             "fill": {
              "color": "#C8D4E3"
             },
             "line": {
              "color": "white"
             }
            },
            "type": "table"
           }
          ]
         },
         "layout": {
          "annotationdefaults": {
           "arrowcolor": "#2a3f5f",
           "arrowhead": 0,
           "arrowwidth": 1
          },
          "autotypenumbers": "strict",
          "coloraxis": {
           "colorbar": {
            "outlinewidth": 0,
            "ticks": ""
           }
          },
          "colorscale": {
           "diverging": [
            [
             0,
             "#8e0152"
            ],
            [
             0.1,
             "#c51b7d"
            ],
            [
             0.2,
             "#de77ae"
            ],
            [
             0.3,
             "#f1b6da"
            ],
            [
             0.4,
             "#fde0ef"
            ],
            [
             0.5,
             "#f7f7f7"
            ],
            [
             0.6,
             "#e6f5d0"
            ],
            [
             0.7,
             "#b8e186"
            ],
            [
             0.8,
             "#7fbc41"
            ],
            [
             0.9,
             "#4d9221"
            ],
            [
             1,
             "#276419"
            ]
           ],
           "sequential": [
            [
             0,
             "#0d0887"
            ],
            [
             0.1111111111111111,
             "#46039f"
            ],
            [
             0.2222222222222222,
             "#7201a8"
            ],
            [
             0.3333333333333333,
             "#9c179e"
            ],
            [
             0.4444444444444444,
             "#bd3786"
            ],
            [
             0.5555555555555556,
             "#d8576b"
            ],
            [
             0.6666666666666666,
             "#ed7953"
            ],
            [
             0.7777777777777778,
             "#fb9f3a"
            ],
            [
             0.8888888888888888,
             "#fdca26"
            ],
            [
             1,
             "#f0f921"
            ]
           ],
           "sequentialminus": [
            [
             0,
             "#0d0887"
            ],
            [
             0.1111111111111111,
             "#46039f"
            ],
            [
             0.2222222222222222,
             "#7201a8"
            ],
            [
             0.3333333333333333,
             "#9c179e"
            ],
            [
             0.4444444444444444,
             "#bd3786"
            ],
            [
             0.5555555555555556,
             "#d8576b"
            ],
            [
             0.6666666666666666,
             "#ed7953"
            ],
            [
             0.7777777777777778,
             "#fb9f3a"
            ],
            [
             0.8888888888888888,
             "#fdca26"
            ],
            [
             1,
             "#f0f921"
            ]
           ]
          },
          "colorway": [
           "#636efa",
           "#EF553B",
           "#00cc96",
           "#ab63fa",
           "#FFA15A",
           "#19d3f3",
           "#FF6692",
           "#B6E880",
           "#FF97FF",
           "#FECB52"
          ],
          "font": {
           "color": "#2a3f5f"
          },
          "geo": {
           "bgcolor": "white",
           "lakecolor": "white",
           "landcolor": "#E5ECF6",
           "showlakes": true,
           "showland": true,
           "subunitcolor": "white"
          },
          "hoverlabel": {
           "align": "left"
          },
          "hovermode": "closest",
          "mapbox": {
           "style": "light"
          },
          "paper_bgcolor": "white",
          "plot_bgcolor": "#E5ECF6",
          "polar": {
           "angularaxis": {
            "gridcolor": "white",
            "linecolor": "white",
            "ticks": ""
           },
           "bgcolor": "#E5ECF6",
           "radialaxis": {
            "gridcolor": "white",
            "linecolor": "white",
            "ticks": ""
           }
          },
          "scene": {
           "xaxis": {
            "backgroundcolor": "#E5ECF6",
            "gridcolor": "white",
            "gridwidth": 2,
            "linecolor": "white",
            "showbackground": true,
            "ticks": "",
            "zerolinecolor": "white"
           },
           "yaxis": {
            "backgroundcolor": "#E5ECF6",
            "gridcolor": "white",
            "gridwidth": 2,
            "linecolor": "white",
            "showbackground": true,
            "ticks": "",
            "zerolinecolor": "white"
           },
           "zaxis": {
            "backgroundcolor": "#E5ECF6",
            "gridcolor": "white",
            "gridwidth": 2,
            "linecolor": "white",
            "showbackground": true,
            "ticks": "",
            "zerolinecolor": "white"
           }
          },
          "shapedefaults": {
           "line": {
            "color": "#2a3f5f"
           }
          },
          "ternary": {
           "aaxis": {
            "gridcolor": "white",
            "linecolor": "white",
            "ticks": ""
           },
           "baxis": {
            "gridcolor": "white",
            "linecolor": "white",
            "ticks": ""
           },
           "bgcolor": "#E5ECF6",
           "caxis": {
            "gridcolor": "white",
            "linecolor": "white",
            "ticks": ""
           }
          },
          "title": {
           "x": 0.05
          },
          "xaxis": {
           "automargin": true,
           "gridcolor": "white",
           "linecolor": "white",
           "ticks": "",
           "title": {
            "standoff": 15
           },
           "zerolinecolor": "white",
           "zerolinewidth": 2
          },
          "yaxis": {
           "automargin": true,
           "gridcolor": "white",
           "linecolor": "white",
           "ticks": "",
           "title": {
            "standoff": 15
           },
           "zerolinecolor": "white",
           "zerolinewidth": 2
          }
         }
        },
        "title": {
         "text": "PCA"
        },
        "width": 600,
        "xaxis": {
         "anchor": "y",
         "domain": [
          0,
          1
         ],
         "title": {
          "text": "PC1"
         }
        },
        "yaxis": {
         "anchor": "x",
         "domain": [
          0,
          1
         ],
         "title": {
          "text": "PC2"
         }
        }
       }
      }
     },
     "metadata": {},
     "output_type": "display_data"
    },
    {
     "data": {
      "application/vnd.plotly.v1+json": {
       "config": {
        "plotlyServerURL": "https://plot.ly"
       },
       "data": [
        {
         "customdata": {
          "bdata": "FAWyof5vsj84yRZeAGrQPwAAAAAAAPA/dNBKl+z80D8AAAAAAADwP0A0rMyND9Y/nex+noVI1D9zMGhqhAPsP8jxjY4YkNE/8GxNOiNd2j/CsCv2Il3hP3MGxhu4l+Y/AG1jrpcI7z+yNyjsDDXXP4fF75RlSeU/e75UGJHI2j/Mm/wgLmrhP6PsZqqxi+w/yqq1D2GY5j8x2FmofmPlP5F0xRluXtA/uEyjn7YLzz8JcwFtpEDrP9jGYf4dcuQ/KIaw8Y+73z9PETF/7TfcPyrIiq8fzdk/PRo+8aqg6z9ZTAFM06rYP/WJTnB+R9U/DGio76hNoD846r47wkiQP6e51R2sn+0/YG9Ni1c72D9YCKxdvSrkP+jP23VeTJc/EjOvmc8qwT/xQSrEBcruP4Tzs7k7H+Q/3i8pBV5f7D8QYg1SAUzXP5xO9mLIqN0/eg8HM6+K7D9T32fz9HncP0oMD1/5z+Q/s6iOziFB0z/kDEj5+ne6P3PmuhQPUeo/f0pt9CdF1j9o9PdAxdK6P5bLqUn7Pro/yDW3Ap8Nlj9R6kYuV7vsP4z/Y2S21cs//ZB3MLRL3T+cCT4wEhDVP3ZAiui/DNk/PhRnEnPc7D+EmAPgHYzbP7tU7QfYKuM/Ng8aAc5wsT/IWhSOiB7KPx8cr2tYCe8/4vf3BsQ51D8wn18/RgTtP6D/G7HCO5g/KKg2cgo0lj+98Kx9xantPyWb3Xo+t9g/uC8a94M35T8AAAAAAADwP5CkCk6oDu8/AAAAAAAAAAAM//wU7rzsPwAAAAAAAAAAPrdK/Kvr1T9ggOP/WRHZP2WY4tdXjuw/1mxqlwcy2j8gh5GedxLiPxit+6Bq3ec/es0NUVBz7T92EevEffvuP6nmMwsHZeA/dBaFAbz14T/kQF19A+viP6/qmwChI+U/pngjUnmE6j9bwLuoofHSPxS3x/oLx9w/chzYAUgu0z+kkgG3VRbhPyO8kfAdhOc/AAAAAAAA8D/vuHn0tZXuP4DwCRwT/eA/V98Gk/nR5j/bhe543ALvP/+q+wbdONo/2ATeDXm15j909KXTwNHiP8I5Ix3etuU/GrXUzZBf6z8p/k4xV9jWP1plt37Bjt8/kKyMvR1YvD/mZXRFABnJP8IZqYs/iO8/wbzMmz924j99bCdbAvnoP3JhQypLluE/9mNzu0Ym5z/VAsH6DcHuP6bGt09PKNo/utoeVCLO5T/6ingiIA2wP07cWjltHcM/GdLQra7o7z/YU4nkFUziP2Pf8NUABOo/AAAAAAAAAAAAAAAAAAAAAGsrwsTusu0/KHt0EhvW3T/INRBrBdDlP7NIB55EB9U/rntUZ9Qh3D9KZbS9dTjtP3PdMDt+EeA/dwW2FDBC5j/cs2PjyRzTP6jS5e5yxtk/F+FnUaZo7T9nSm3SzOXgPypJcyh1a+Y/6A7sx6jnoT+Scv1xJCrEP896PBDese4/cWfWESSR4z+s/vNMEczsP1oXmbGzP+0/AAAAAAAA8D81rAjG7OnpPwAAAAAAAAAALBQQYFkx0j/M963FI47mP3KGxefdAO4/6XYpSASC7z9Rz6Jt7KbYP+qLOoz0buY/259WjX5h1T+qsMBHFEzcP4aIZBu7I+0/8x5NfYUl4T/JuzwkW/flP3JEgxxnxtY/TEUS1Xgl3j90AEKCvhDtP2IOVhZsfOA/cMSfxuv65T8=",
          "dtype": "f8",
          "shape": "32, 5"
         },
         "hovertemplate": "TSNE1=%{x}<br>TSNE2=%{y}<br>CO Net Production Rate (mol/molRh/s)_initial value=%{customdata[0]}<br>CO Net Production Rate (mol/molRh/s)_final value=%{customdata[1]}<br>CO Net Production Rate (mol/molRh/s)_initial slope=%{customdata[2]}<br>CO Net Production Rate (mol/molRh/s)_final slope=%{customdata[3]}<br>CO Net Production Rate (mol/molRh/s)_overall slope=%{customdata[4]}<br>GroupID=%{marker.color}<extra></extra>",
         "legendgroup": "",
         "marker": {
          "color": {
           "bdata": "AwQCBAUEAQMEBQEEAwEGBQIGBgICAwIDAQQFAwYCBQU=",
           "dtype": "i1"
          },
          "coloraxis": "coloraxis",
          "symbol": "circle"
         },
         "mode": "markers",
         "name": "",
         "orientation": "v",
         "showlegend": false,
         "type": "scatter",
         "x": {
          "bdata": "h3jEwNhHT8AqM2rATWmfwKC/i8CBR0LAhD6YwFNUvsAVNIXAJLo+wI0AgcBHC4PAIJ67wL8HncAHat2/puV5wA44R8DsaTnA7ZXCwDBxesBkKUTAPAyvwIslccDRO7LAIvyhwF/ulMAhpprAG+u+wIQnF8DV7FjAo0+XwBF6kcA=",
          "dtype": "f4"
         },
         "xaxis": "x",
         "y": {
          "bdata": "4ofAv3pFWsCXSLPADmWdwEmnR8BkcnnAtDjPvzJJFcAu3ovAl6giwG9o2r+BsnXAudrKv0fHzb+iSbPArcx3wM1uyMCAd6jAJ1KUwGTmtcDIVavAUw0jwL7AtsCzIBDAXXjVv4ithMAVcnfAZUoWwIA7ycDQVMvAG3KGwH5TjsA=",
          "dtype": "f4"
         },
         "yaxis": "y"
        }
       ],
       "layout": {
        "coloraxis": {
         "colorbar": {
          "title": {
           "text": "GroupID"
          }
         },
         "colorscale": [
          [
           0,
           "#0d0887"
          ],
          [
           0.1111111111111111,
           "#46039f"
          ],
          [
           0.2222222222222222,
           "#7201a8"
          ],
          [
           0.3333333333333333,
           "#9c179e"
          ],
          [
           0.4444444444444444,
           "#bd3786"
          ],
          [
           0.5555555555555556,
           "#d8576b"
          ],
          [
           0.6666666666666666,
           "#ed7953"
          ],
          [
           0.7777777777777778,
           "#fb9f3a"
          ],
          [
           0.8888888888888888,
           "#fdca26"
          ],
          [
           1,
           "#f0f921"
          ]
         ]
        },
        "height": 600,
        "legend": {
         "tracegroupgap": 0
        },
        "template": {
         "data": {
          "bar": [
           {
            "error_x": {
             "color": "#2a3f5f"
            },
            "error_y": {
             "color": "#2a3f5f"
            },
            "marker": {
             "line": {
              "color": "#E5ECF6",
              "width": 0.5
             },
             "pattern": {
              "fillmode": "overlay",
              "size": 10,
              "solidity": 0.2
             }
            },
            "type": "bar"
           }
          ],
          "barpolar": [
           {
            "marker": {
             "line": {
              "color": "#E5ECF6",
              "width": 0.5
             },
             "pattern": {
              "fillmode": "overlay",
              "size": 10,
              "solidity": 0.2
             }
            },
            "type": "barpolar"
           }
          ],
          "carpet": [
           {
            "aaxis": {
             "endlinecolor": "#2a3f5f",
             "gridcolor": "white",
             "linecolor": "white",
             "minorgridcolor": "white",
             "startlinecolor": "#2a3f5f"
            },
            "baxis": {
             "endlinecolor": "#2a3f5f",
             "gridcolor": "white",
             "linecolor": "white",
             "minorgridcolor": "white",
             "startlinecolor": "#2a3f5f"
            },
            "type": "carpet"
           }
          ],
          "choropleth": [
           {
            "colorbar": {
             "outlinewidth": 0,
             "ticks": ""
            },
            "type": "choropleth"
           }
          ],
          "contour": [
           {
            "colorbar": {
             "outlinewidth": 0,
             "ticks": ""
            },
            "colorscale": [
             [
              0,
              "#0d0887"
             ],
             [
              0.1111111111111111,
              "#46039f"
             ],
             [
              0.2222222222222222,
              "#7201a8"
             ],
             [
              0.3333333333333333,
              "#9c179e"
             ],
             [
              0.4444444444444444,
              "#bd3786"
             ],
             [
              0.5555555555555556,
              "#d8576b"
             ],
             [
              0.6666666666666666,
              "#ed7953"
             ],
             [
              0.7777777777777778,
              "#fb9f3a"
             ],
             [
              0.8888888888888888,
              "#fdca26"
             ],
             [
              1,
              "#f0f921"
             ]
            ],
            "type": "contour"
           }
          ],
          "contourcarpet": [
           {
            "colorbar": {
             "outlinewidth": 0,
             "ticks": ""
            },
            "type": "contourcarpet"
           }
          ],
          "heatmap": [
           {
            "colorbar": {
             "outlinewidth": 0,
             "ticks": ""
            },
            "colorscale": [
             [
              0,
              "#0d0887"
             ],
             [
              0.1111111111111111,
              "#46039f"
             ],
             [
              0.2222222222222222,
              "#7201a8"
             ],
             [
              0.3333333333333333,
              "#9c179e"
             ],
             [
              0.4444444444444444,
              "#bd3786"
             ],
             [
              0.5555555555555556,
              "#d8576b"
             ],
             [
              0.6666666666666666,
              "#ed7953"
             ],
             [
              0.7777777777777778,
              "#fb9f3a"
             ],
             [
              0.8888888888888888,
              "#fdca26"
             ],
             [
              1,
              "#f0f921"
             ]
            ],
            "type": "heatmap"
           }
          ],
          "histogram": [
           {
            "marker": {
             "pattern": {
              "fillmode": "overlay",
              "size": 10,
              "solidity": 0.2
             }
            },
            "type": "histogram"
           }
          ],
          "histogram2d": [
           {
            "colorbar": {
             "outlinewidth": 0,
             "ticks": ""
            },
            "colorscale": [
             [
              0,
              "#0d0887"
             ],
             [
              0.1111111111111111,
              "#46039f"
             ],
             [
              0.2222222222222222,
              "#7201a8"
             ],
             [
              0.3333333333333333,
              "#9c179e"
             ],
             [
              0.4444444444444444,
              "#bd3786"
             ],
             [
              0.5555555555555556,
              "#d8576b"
             ],
             [
              0.6666666666666666,
              "#ed7953"
             ],
             [
              0.7777777777777778,
              "#fb9f3a"
             ],
             [
              0.8888888888888888,
              "#fdca26"
             ],
             [
              1,
              "#f0f921"
             ]
            ],
            "type": "histogram2d"
           }
          ],
          "histogram2dcontour": [
           {
            "colorbar": {
             "outlinewidth": 0,
             "ticks": ""
            },
            "colorscale": [
             [
              0,
              "#0d0887"
             ],
             [
              0.1111111111111111,
              "#46039f"
             ],
             [
              0.2222222222222222,
              "#7201a8"
             ],
             [
              0.3333333333333333,
              "#9c179e"
             ],
             [
              0.4444444444444444,
              "#bd3786"
             ],
             [
              0.5555555555555556,
              "#d8576b"
             ],
             [
              0.6666666666666666,
              "#ed7953"
             ],
             [
              0.7777777777777778,
              "#fb9f3a"
             ],
             [
              0.8888888888888888,
              "#fdca26"
             ],
             [
              1,
              "#f0f921"
             ]
            ],
            "type": "histogram2dcontour"
           }
          ],
          "mesh3d": [
           {
            "colorbar": {
             "outlinewidth": 0,
             "ticks": ""
            },
            "type": "mesh3d"
           }
          ],
          "parcoords": [
           {
            "line": {
             "colorbar": {
              "outlinewidth": 0,
              "ticks": ""
             }
            },
            "type": "parcoords"
           }
          ],
          "pie": [
           {
            "automargin": true,
            "type": "pie"
           }
          ],
          "scatter": [
           {
            "fillpattern": {
             "fillmode": "overlay",
             "size": 10,
             "solidity": 0.2
            },
            "type": "scatter"
           }
          ],
          "scatter3d": [
           {
            "line": {
             "colorbar": {
              "outlinewidth": 0,
              "ticks": ""
             }
            },
            "marker": {
             "colorbar": {
              "outlinewidth": 0,
              "ticks": ""
             }
            },
            "type": "scatter3d"
           }
          ],
          "scattercarpet": [
           {
            "marker": {
             "colorbar": {
              "outlinewidth": 0,
              "ticks": ""
             }
            },
            "type": "scattercarpet"
           }
          ],
          "scattergeo": [
           {
            "marker": {
             "colorbar": {
              "outlinewidth": 0,
              "ticks": ""
             }
            },
            "type": "scattergeo"
           }
          ],
          "scattergl": [
           {
            "marker": {
             "colorbar": {
              "outlinewidth": 0,
              "ticks": ""
             }
            },
            "type": "scattergl"
           }
          ],
          "scattermap": [
           {
            "marker": {
             "colorbar": {
              "outlinewidth": 0,
              "ticks": ""
             }
            },
            "type": "scattermap"
           }
          ],
          "scattermapbox": [
           {
            "marker": {
             "colorbar": {
              "outlinewidth": 0,
              "ticks": ""
             }
            },
            "type": "scattermapbox"
           }
          ],
          "scatterpolar": [
           {
            "marker": {
             "colorbar": {
              "outlinewidth": 0,
              "ticks": ""
             }
            },
            "type": "scatterpolar"
           }
          ],
          "scatterpolargl": [
           {
            "marker": {
             "colorbar": {
              "outlinewidth": 0,
              "ticks": ""
             }
            },
            "type": "scatterpolargl"
           }
          ],
          "scatterternary": [
           {
            "marker": {
             "colorbar": {
              "outlinewidth": 0,
              "ticks": ""
             }
            },
            "type": "scatterternary"
           }
          ],
          "surface": [
           {
            "colorbar": {
             "outlinewidth": 0,
             "ticks": ""
            },
            "colorscale": [
             [
              0,
              "#0d0887"
             ],
             [
              0.1111111111111111,
              "#46039f"
             ],
             [
              0.2222222222222222,
              "#7201a8"
             ],
             [
              0.3333333333333333,
              "#9c179e"
             ],
             [
              0.4444444444444444,
              "#bd3786"
             ],
             [
              0.5555555555555556,
              "#d8576b"
             ],
             [
              0.6666666666666666,
              "#ed7953"
             ],
             [
              0.7777777777777778,
              "#fb9f3a"
             ],
             [
              0.8888888888888888,
              "#fdca26"
             ],
             [
              1,
              "#f0f921"
             ]
            ],
            "type": "surface"
           }
          ],
          "table": [
           {
            "cells": {
             "fill": {
              "color": "#EBF0F8"
             },
             "line": {
              "color": "white"
             }
            },
            "header": {
             "fill": {
              "color": "#C8D4E3"
             },
             "line": {
              "color": "white"
             }
            },
            "type": "table"
           }
          ]
         },
         "layout": {
          "annotationdefaults": {
           "arrowcolor": "#2a3f5f",
           "arrowhead": 0,
           "arrowwidth": 1
          },
          "autotypenumbers": "strict",
          "coloraxis": {
           "colorbar": {
            "outlinewidth": 0,
            "ticks": ""
           }
          },
          "colorscale": {
           "diverging": [
            [
             0,
             "#8e0152"
            ],
            [
             0.1,
             "#c51b7d"
            ],
            [
             0.2,
             "#de77ae"
            ],
            [
             0.3,
             "#f1b6da"
            ],
            [
             0.4,
             "#fde0ef"
            ],
            [
             0.5,
             "#f7f7f7"
            ],
            [
             0.6,
             "#e6f5d0"
            ],
            [
             0.7,
             "#b8e186"
            ],
            [
             0.8,
             "#7fbc41"
            ],
            [
             0.9,
             "#4d9221"
            ],
            [
             1,
             "#276419"
            ]
           ],
           "sequential": [
            [
             0,
             "#0d0887"
            ],
            [
             0.1111111111111111,
             "#46039f"
            ],
            [
             0.2222222222222222,
             "#7201a8"
            ],
            [
             0.3333333333333333,
             "#9c179e"
            ],
            [
             0.4444444444444444,
             "#bd3786"
            ],
            [
             0.5555555555555556,
             "#d8576b"
            ],
            [
             0.6666666666666666,
             "#ed7953"
            ],
            [
             0.7777777777777778,
             "#fb9f3a"
            ],
            [
             0.8888888888888888,
             "#fdca26"
            ],
            [
             1,
             "#f0f921"
            ]
           ],
           "sequentialminus": [
            [
             0,
             "#0d0887"
            ],
            [
             0.1111111111111111,
             "#46039f"
            ],
            [
             0.2222222222222222,
             "#7201a8"
            ],
            [
             0.3333333333333333,
             "#9c179e"
            ],
            [
             0.4444444444444444,
             "#bd3786"
            ],
            [
             0.5555555555555556,
             "#d8576b"
            ],
            [
             0.6666666666666666,
             "#ed7953"
            ],
            [
             0.7777777777777778,
             "#fb9f3a"
            ],
            [
             0.8888888888888888,
             "#fdca26"
            ],
            [
             1,
             "#f0f921"
            ]
           ]
          },
          "colorway": [
           "#636efa",
           "#EF553B",
           "#00cc96",
           "#ab63fa",
           "#FFA15A",
           "#19d3f3",
           "#FF6692",
           "#B6E880",
           "#FF97FF",
           "#FECB52"
          ],
          "font": {
           "color": "#2a3f5f"
          },
          "geo": {
           "bgcolor": "white",
           "lakecolor": "white",
           "landcolor": "#E5ECF6",
           "showlakes": true,
           "showland": true,
           "subunitcolor": "white"
          },
          "hoverlabel": {
           "align": "left"
          },
          "hovermode": "closest",
          "mapbox": {
           "style": "light"
          },
          "paper_bgcolor": "white",
          "plot_bgcolor": "#E5ECF6",
          "polar": {
           "angularaxis": {
            "gridcolor": "white",
            "linecolor": "white",
            "ticks": ""
           },
           "bgcolor": "#E5ECF6",
           "radialaxis": {
            "gridcolor": "white",
            "linecolor": "white",
            "ticks": ""
           }
          },
          "scene": {
           "xaxis": {
            "backgroundcolor": "#E5ECF6",
            "gridcolor": "white",
            "gridwidth": 2,
            "linecolor": "white",
            "showbackground": true,
            "ticks": "",
            "zerolinecolor": "white"
           },
           "yaxis": {
            "backgroundcolor": "#E5ECF6",
            "gridcolor": "white",
            "gridwidth": 2,
            "linecolor": "white",
            "showbackground": true,
            "ticks": "",
            "zerolinecolor": "white"
           },
           "zaxis": {
            "backgroundcolor": "#E5ECF6",
            "gridcolor": "white",
            "gridwidth": 2,
            "linecolor": "white",
            "showbackground": true,
            "ticks": "",
            "zerolinecolor": "white"
           }
          },
          "shapedefaults": {
           "line": {
            "color": "#2a3f5f"
           }
          },
          "ternary": {
           "aaxis": {
            "gridcolor": "white",
            "linecolor": "white",
            "ticks": ""
           },
           "baxis": {
            "gridcolor": "white",
            "linecolor": "white",
            "ticks": ""
           },
           "bgcolor": "#E5ECF6",
           "caxis": {
            "gridcolor": "white",
            "linecolor": "white",
            "ticks": ""
           }
          },
          "title": {
           "x": 0.05
          },
          "xaxis": {
           "automargin": true,
           "gridcolor": "white",
           "linecolor": "white",
           "ticks": "",
           "title": {
            "standoff": 15
           },
           "zerolinecolor": "white",
           "zerolinewidth": 2
          },
          "yaxis": {
           "automargin": true,
           "gridcolor": "white",
           "linecolor": "white",
           "ticks": "",
           "title": {
            "standoff": 15
           },
           "zerolinecolor": "white",
           "zerolinewidth": 2
          }
         }
        },
        "title": {
         "text": "t-SNE"
        },
        "width": 600,
        "xaxis": {
         "anchor": "y",
         "domain": [
          0,
          1
         ],
         "title": {
          "text": "TSNE1"
         }
        },
        "yaxis": {
         "anchor": "x",
         "domain": [
          0,
          1
         ],
         "title": {
          "text": "TSNE2"
         }
        }
       }
      }
     },
     "metadata": {},
     "output_type": "display_data"
    },
    {
     "data": {
      "application/vnd.plotly.v1+json": {
       "config": {
        "plotlyServerURL": "https://plot.ly"
       },
       "data": [
        {
         "customdata": {
          "bdata": "FAWyof5vsj84yRZeAGrQPwAAAAAAAPA/dNBKl+z80D8AAAAAAADwP0A0rMyND9Y/nex+noVI1D9zMGhqhAPsP8jxjY4YkNE/8GxNOiNd2j/CsCv2Il3hP3MGxhu4l+Y/AG1jrpcI7z+yNyjsDDXXP4fF75RlSeU/e75UGJHI2j/Mm/wgLmrhP6PsZqqxi+w/yqq1D2GY5j8x2FmofmPlP5F0xRluXtA/uEyjn7YLzz8JcwFtpEDrP9jGYf4dcuQ/KIaw8Y+73z9PETF/7TfcPyrIiq8fzdk/PRo+8aqg6z9ZTAFM06rYP/WJTnB+R9U/DGio76hNoD846r47wkiQP6e51R2sn+0/YG9Ni1c72D9YCKxdvSrkP+jP23VeTJc/EjOvmc8qwT/xQSrEBcruP4Tzs7k7H+Q/3i8pBV5f7D8QYg1SAUzXP5xO9mLIqN0/eg8HM6+K7D9T32fz9HncP0oMD1/5z+Q/s6iOziFB0z/kDEj5+ne6P3PmuhQPUeo/f0pt9CdF1j9o9PdAxdK6P5bLqUn7Pro/yDW3Ap8Nlj9R6kYuV7vsP4z/Y2S21cs//ZB3MLRL3T+cCT4wEhDVP3ZAiui/DNk/PhRnEnPc7D+EmAPgHYzbP7tU7QfYKuM/Ng8aAc5wsT/IWhSOiB7KPx8cr2tYCe8/4vf3BsQ51D8wn18/RgTtP6D/G7HCO5g/KKg2cgo0lj+98Kx9xantPyWb3Xo+t9g/uC8a94M35T8AAAAAAADwP5CkCk6oDu8/AAAAAAAAAAAM//wU7rzsPwAAAAAAAAAAPrdK/Kvr1T9ggOP/WRHZP2WY4tdXjuw/1mxqlwcy2j8gh5GedxLiPxit+6Bq3ec/es0NUVBz7T92EevEffvuP6nmMwsHZeA/dBaFAbz14T/kQF19A+viP6/qmwChI+U/pngjUnmE6j9bwLuoofHSPxS3x/oLx9w/chzYAUgu0z+kkgG3VRbhPyO8kfAdhOc/AAAAAAAA8D/vuHn0tZXuP4DwCRwT/eA/V98Gk/nR5j/bhe543ALvP/+q+wbdONo/2ATeDXm15j909KXTwNHiP8I5Ix3etuU/GrXUzZBf6z8p/k4xV9jWP1plt37Bjt8/kKyMvR1YvD/mZXRFABnJP8IZqYs/iO8/wbzMmz924j99bCdbAvnoP3JhQypLluE/9mNzu0Ym5z/VAsH6DcHuP6bGt09PKNo/utoeVCLO5T/6ingiIA2wP07cWjltHcM/GdLQra7o7z/YU4nkFUziP2Pf8NUABOo/AAAAAAAAAAAAAAAAAAAAAGsrwsTusu0/KHt0EhvW3T/INRBrBdDlP7NIB55EB9U/rntUZ9Qh3D9KZbS9dTjtP3PdMDt+EeA/dwW2FDBC5j/cs2PjyRzTP6jS5e5yxtk/F+FnUaZo7T9nSm3SzOXgPypJcyh1a+Y/6A7sx6jnoT+Scv1xJCrEP896PBDese4/cWfWESSR4z+s/vNMEczsP1oXmbGzP+0/AAAAAAAA8D81rAjG7OnpPwAAAAAAAAAALBQQYFkx0j/M963FI47mP3KGxefdAO4/6XYpSASC7z9Rz6Jt7KbYP+qLOoz0buY/259WjX5h1T+qsMBHFEzcP4aIZBu7I+0/8x5NfYUl4T/JuzwkW/flP3JEgxxnxtY/TEUS1Xgl3j90AEKCvhDtP2IOVhZsfOA/cMSfxuv65T8=",
          "dtype": "f8",
          "shape": "32, 5"
         },
         "hovertemplate": "UMAP1=%{x}<br>UMAP2=%{y}<br>CO Net Production Rate (mol/molRh/s)_initial value=%{customdata[0]}<br>CO Net Production Rate (mol/molRh/s)_final value=%{customdata[1]}<br>CO Net Production Rate (mol/molRh/s)_initial slope=%{customdata[2]}<br>CO Net Production Rate (mol/molRh/s)_final slope=%{customdata[3]}<br>CO Net Production Rate (mol/molRh/s)_overall slope=%{customdata[4]}<br>GroupID=%{marker.color}<extra></extra>",
         "legendgroup": "",
         "marker": {
          "color": {
           "bdata": "AwQCBAUEAQMEBQEEAwEGBQIGBgICAwIDAQQFAwYCBQU=",
           "dtype": "i1"
          },
          "coloraxis": "coloraxis",
          "symbol": "circle"
         },
         "mode": "markers",
         "name": "",
         "orientation": "v",
         "showlegend": false,
         "type": "scatter",
         "x": {
          "bdata": "5UGGwOT1RkGG4mZBcMxiQXirUkGX20dBViqcwB/RlcBwSVpBOK1AQelCm8DR51JB8g6MwOtKlcAta19BfjRNQfS2ZEGtFFxBaGpoQYqXZ0Ecj2NBbsupwDTbbEFo9qDACF6lwF+/YUFqIllBIMOPwBWAWkGmtWFBooVbQVbdX0E=",
          "dtype": "f4"
         },
         "xaxis": "x",
         "y": {
          "bdata": "SdzvQHtgWkHd9yxBNARqQWlwZ0G2jFJB3+sIQTsH70Cw3FhBeGZXQYtdD0HV1l9BHoP3QDJfBEHvZRxBW69jQR8zIEHaAzFBV/VqQUMzKEEqtDFBmh3zQCyoK0FCOOhA4TUEQTRqXkEhymBBXv3hQJtQKkHSeCZBjQ5rQWxRZUE=",
          "dtype": "f4"
         },
         "yaxis": "y"
        }
       ],
       "layout": {
        "coloraxis": {
         "colorbar": {
          "title": {
           "text": "GroupID"
          }
         },
         "colorscale": [
          [
           0,
           "#0d0887"
          ],
          [
           0.1111111111111111,
           "#46039f"
          ],
          [
           0.2222222222222222,
           "#7201a8"
          ],
          [
           0.3333333333333333,
           "#9c179e"
          ],
          [
           0.4444444444444444,
           "#bd3786"
          ],
          [
           0.5555555555555556,
           "#d8576b"
          ],
          [
           0.6666666666666666,
           "#ed7953"
          ],
          [
           0.7777777777777778,
           "#fb9f3a"
          ],
          [
           0.8888888888888888,
           "#fdca26"
          ],
          [
           1,
           "#f0f921"
          ]
         ]
        },
        "height": 600,
        "legend": {
         "tracegroupgap": 0
        },
        "template": {
         "data": {
          "bar": [
           {
            "error_x": {
             "color": "#2a3f5f"
            },
            "error_y": {
             "color": "#2a3f5f"
            },
            "marker": {
             "line": {
              "color": "#E5ECF6",
              "width": 0.5
             },
             "pattern": {
              "fillmode": "overlay",
              "size": 10,
              "solidity": 0.2
             }
            },
            "type": "bar"
           }
          ],
          "barpolar": [
           {
            "marker": {
             "line": {
              "color": "#E5ECF6",
              "width": 0.5
             },
             "pattern": {
              "fillmode": "overlay",
              "size": 10,
              "solidity": 0.2
             }
            },
            "type": "barpolar"
           }
          ],
          "carpet": [
           {
            "aaxis": {
             "endlinecolor": "#2a3f5f",
             "gridcolor": "white",
             "linecolor": "white",
             "minorgridcolor": "white",
             "startlinecolor": "#2a3f5f"
            },
            "baxis": {
             "endlinecolor": "#2a3f5f",
             "gridcolor": "white",
             "linecolor": "white",
             "minorgridcolor": "white",
             "startlinecolor": "#2a3f5f"
            },
            "type": "carpet"
           }
          ],
          "choropleth": [
           {
            "colorbar": {
             "outlinewidth": 0,
             "ticks": ""
            },
            "type": "choropleth"
           }
          ],
          "contour": [
           {
            "colorbar": {
             "outlinewidth": 0,
             "ticks": ""
            },
            "colorscale": [
             [
              0,
              "#0d0887"
             ],
             [
              0.1111111111111111,
              "#46039f"
             ],
             [
              0.2222222222222222,
              "#7201a8"
             ],
             [
              0.3333333333333333,
              "#9c179e"
             ],
             [
              0.4444444444444444,
              "#bd3786"
             ],
             [
              0.5555555555555556,
              "#d8576b"
             ],
             [
              0.6666666666666666,
              "#ed7953"
             ],
             [
              0.7777777777777778,
              "#fb9f3a"
             ],
             [
              0.8888888888888888,
              "#fdca26"
             ],
             [
              1,
              "#f0f921"
             ]
            ],
            "type": "contour"
           }
          ],
          "contourcarpet": [
           {
            "colorbar": {
             "outlinewidth": 0,
             "ticks": ""
            },
            "type": "contourcarpet"
           }
          ],
          "heatmap": [
           {
            "colorbar": {
             "outlinewidth": 0,
             "ticks": ""
            },
            "colorscale": [
             [
              0,
              "#0d0887"
             ],
             [
              0.1111111111111111,
              "#46039f"
             ],
             [
              0.2222222222222222,
              "#7201a8"
             ],
             [
              0.3333333333333333,
              "#9c179e"
             ],
             [
              0.4444444444444444,
              "#bd3786"
             ],
             [
              0.5555555555555556,
              "#d8576b"
             ],
             [
              0.6666666666666666,
              "#ed7953"
             ],
             [
              0.7777777777777778,
              "#fb9f3a"
             ],
             [
              0.8888888888888888,
              "#fdca26"
             ],
             [
              1,
              "#f0f921"
             ]
            ],
            "type": "heatmap"
           }
          ],
          "histogram": [
           {
            "marker": {
             "pattern": {
              "fillmode": "overlay",
              "size": 10,
              "solidity": 0.2
             }
            },
            "type": "histogram"
           }
          ],
          "histogram2d": [
           {
            "colorbar": {
             "outlinewidth": 0,
             "ticks": ""
            },
            "colorscale": [
             [
              0,
              "#0d0887"
             ],
             [
              0.1111111111111111,
              "#46039f"
             ],
             [
              0.2222222222222222,
              "#7201a8"
             ],
             [
              0.3333333333333333,
              "#9c179e"
             ],
             [
              0.4444444444444444,
              "#bd3786"
             ],
             [
              0.5555555555555556,
              "#d8576b"
             ],
             [
              0.6666666666666666,
              "#ed7953"
             ],
             [
              0.7777777777777778,
              "#fb9f3a"
             ],
             [
              0.8888888888888888,
              "#fdca26"
             ],
             [
              1,
              "#f0f921"
             ]
            ],
            "type": "histogram2d"
           }
          ],
          "histogram2dcontour": [
           {
            "colorbar": {
             "outlinewidth": 0,
             "ticks": ""
            },
            "colorscale": [
             [
              0,
              "#0d0887"
             ],
             [
              0.1111111111111111,
              "#46039f"
             ],
             [
              0.2222222222222222,
              "#7201a8"
             ],
             [
              0.3333333333333333,
              "#9c179e"
             ],
             [
              0.4444444444444444,
              "#bd3786"
             ],
             [
              0.5555555555555556,
              "#d8576b"
             ],
             [
              0.6666666666666666,
              "#ed7953"
             ],
             [
              0.7777777777777778,
              "#fb9f3a"
             ],
             [
              0.8888888888888888,
              "#fdca26"
             ],
             [
              1,
              "#f0f921"
             ]
            ],
            "type": "histogram2dcontour"
           }
          ],
          "mesh3d": [
           {
            "colorbar": {
             "outlinewidth": 0,
             "ticks": ""
            },
            "type": "mesh3d"
           }
          ],
          "parcoords": [
           {
            "line": {
             "colorbar": {
              "outlinewidth": 0,
              "ticks": ""
             }
            },
            "type": "parcoords"
           }
          ],
          "pie": [
           {
            "automargin": true,
            "type": "pie"
           }
          ],
          "scatter": [
           {
            "fillpattern": {
             "fillmode": "overlay",
             "size": 10,
             "solidity": 0.2
            },
            "type": "scatter"
           }
          ],
          "scatter3d": [
           {
            "line": {
             "colorbar": {
              "outlinewidth": 0,
              "ticks": ""
             }
            },
            "marker": {
             "colorbar": {
              "outlinewidth": 0,
              "ticks": ""
             }
            },
            "type": "scatter3d"
           }
          ],
          "scattercarpet": [
           {
            "marker": {
             "colorbar": {
              "outlinewidth": 0,
              "ticks": ""
             }
            },
            "type": "scattercarpet"
           }
          ],
          "scattergeo": [
           {
            "marker": {
             "colorbar": {
              "outlinewidth": 0,
              "ticks": ""
             }
            },
            "type": "scattergeo"
           }
          ],
          "scattergl": [
           {
            "marker": {
             "colorbar": {
              "outlinewidth": 0,
              "ticks": ""
             }
            },
            "type": "scattergl"
           }
          ],
          "scattermap": [
           {
            "marker": {
             "colorbar": {
              "outlinewidth": 0,
              "ticks": ""
             }
            },
            "type": "scattermap"
           }
          ],
          "scattermapbox": [
           {
            "marker": {
             "colorbar": {
              "outlinewidth": 0,
              "ticks": ""
             }
            },
            "type": "scattermapbox"
           }
          ],
          "scatterpolar": [
           {
            "marker": {
             "colorbar": {
              "outlinewidth": 0,
              "ticks": ""
             }
            },
            "type": "scatterpolar"
           }
          ],
          "scatterpolargl": [
           {
            "marker": {
             "colorbar": {
              "outlinewidth": 0,
              "ticks": ""
             }
            },
            "type": "scatterpolargl"
           }
          ],
          "scatterternary": [
           {
            "marker": {
             "colorbar": {
              "outlinewidth": 0,
              "ticks": ""
             }
            },
            "type": "scatterternary"
           }
          ],
          "surface": [
           {
            "colorbar": {
             "outlinewidth": 0,
             "ticks": ""
            },
            "colorscale": [
             [
              0,
              "#0d0887"
             ],
             [
              0.1111111111111111,
              "#46039f"
             ],
             [
              0.2222222222222222,
              "#7201a8"
             ],
             [
              0.3333333333333333,
              "#9c179e"
             ],
             [
              0.4444444444444444,
              "#bd3786"
             ],
             [
              0.5555555555555556,
              "#d8576b"
             ],
             [
              0.6666666666666666,
              "#ed7953"
             ],
             [
              0.7777777777777778,
              "#fb9f3a"
             ],
             [
              0.8888888888888888,
              "#fdca26"
             ],
             [
              1,
              "#f0f921"
             ]
            ],
            "type": "surface"
           }
          ],
          "table": [
           {
            "cells": {
             "fill": {
              "color": "#EBF0F8"
             },
             "line": {
              "color": "white"
             }
            },
            "header": {
             "fill": {
              "color": "#C8D4E3"
             },
             "line": {
              "color": "white"
             }
            },
            "type": "table"
           }
          ]
         },
         "layout": {
          "annotationdefaults": {
           "arrowcolor": "#2a3f5f",
           "arrowhead": 0,
           "arrowwidth": 1
          },
          "autotypenumbers": "strict",
          "coloraxis": {
           "colorbar": {
            "outlinewidth": 0,
            "ticks": ""
           }
          },
          "colorscale": {
           "diverging": [
            [
             0,
             "#8e0152"
            ],
            [
             0.1,
             "#c51b7d"
            ],
            [
             0.2,
             "#de77ae"
            ],
            [
             0.3,
             "#f1b6da"
            ],
            [
             0.4,
             "#fde0ef"
            ],
            [
             0.5,
             "#f7f7f7"
            ],
            [
             0.6,
             "#e6f5d0"
            ],
            [
             0.7,
             "#b8e186"
            ],
            [
             0.8,
             "#7fbc41"
            ],
            [
             0.9,
             "#4d9221"
            ],
            [
             1,
             "#276419"
            ]
           ],
           "sequential": [
            [
             0,
             "#0d0887"
            ],
            [
             0.1111111111111111,
             "#46039f"
            ],
            [
             0.2222222222222222,
             "#7201a8"
            ],
            [
             0.3333333333333333,
             "#9c179e"
            ],
            [
             0.4444444444444444,
             "#bd3786"
            ],
            [
             0.5555555555555556,
             "#d8576b"
            ],
            [
             0.6666666666666666,
             "#ed7953"
            ],
            [
             0.7777777777777778,
             "#fb9f3a"
            ],
            [
             0.8888888888888888,
             "#fdca26"
            ],
            [
             1,
             "#f0f921"
            ]
           ],
           "sequentialminus": [
            [
             0,
             "#0d0887"
            ],
            [
             0.1111111111111111,
             "#46039f"
            ],
            [
             0.2222222222222222,
             "#7201a8"
            ],
            [
             0.3333333333333333,
             "#9c179e"
            ],
            [
             0.4444444444444444,
             "#bd3786"
            ],
            [
             0.5555555555555556,
             "#d8576b"
            ],
            [
             0.6666666666666666,
             "#ed7953"
            ],
            [
             0.7777777777777778,
             "#fb9f3a"
            ],
            [
             0.8888888888888888,
             "#fdca26"
            ],
            [
             1,
             "#f0f921"
            ]
           ]
          },
          "colorway": [
           "#636efa",
           "#EF553B",
           "#00cc96",
           "#ab63fa",
           "#FFA15A",
           "#19d3f3",
           "#FF6692",
           "#B6E880",
           "#FF97FF",
           "#FECB52"
          ],
          "font": {
           "color": "#2a3f5f"
          },
          "geo": {
           "bgcolor": "white",
           "lakecolor": "white",
           "landcolor": "#E5ECF6",
           "showlakes": true,
           "showland": true,
           "subunitcolor": "white"
          },
          "hoverlabel": {
           "align": "left"
          },
          "hovermode": "closest",
          "mapbox": {
           "style": "light"
          },
          "paper_bgcolor": "white",
          "plot_bgcolor": "#E5ECF6",
          "polar": {
           "angularaxis": {
            "gridcolor": "white",
            "linecolor": "white",
            "ticks": ""
           },
           "bgcolor": "#E5ECF6",
           "radialaxis": {
            "gridcolor": "white",
            "linecolor": "white",
            "ticks": ""
           }
          },
          "scene": {
           "xaxis": {
            "backgroundcolor": "#E5ECF6",
            "gridcolor": "white",
            "gridwidth": 2,
            "linecolor": "white",
            "showbackground": true,
            "ticks": "",
            "zerolinecolor": "white"
           },
           "yaxis": {
            "backgroundcolor": "#E5ECF6",
            "gridcolor": "white",
            "gridwidth": 2,
            "linecolor": "white",
            "showbackground": true,
            "ticks": "",
            "zerolinecolor": "white"
           },
           "zaxis": {
            "backgroundcolor": "#E5ECF6",
            "gridcolor": "white",
            "gridwidth": 2,
            "linecolor": "white",
            "showbackground": true,
            "ticks": "",
            "zerolinecolor": "white"
           }
          },
          "shapedefaults": {
           "line": {
            "color": "#2a3f5f"
           }
          },
          "ternary": {
           "aaxis": {
            "gridcolor": "white",
            "linecolor": "white",
            "ticks": ""
           },
           "baxis": {
            "gridcolor": "white",
            "linecolor": "white",
            "ticks": ""
           },
           "bgcolor": "#E5ECF6",
           "caxis": {
            "gridcolor": "white",
            "linecolor": "white",
            "ticks": ""
           }
          },
          "title": {
           "x": 0.05
          },
          "xaxis": {
           "automargin": true,
           "gridcolor": "white",
           "linecolor": "white",
           "ticks": "",
           "title": {
            "standoff": 15
           },
           "zerolinecolor": "white",
           "zerolinewidth": 2
          },
          "yaxis": {
           "automargin": true,
           "gridcolor": "white",
           "linecolor": "white",
           "ticks": "",
           "title": {
            "standoff": 15
           },
           "zerolinecolor": "white",
           "zerolinewidth": 2
          }
         }
        },
        "title": {
         "text": "UMAP"
        },
        "width": 600,
        "xaxis": {
         "anchor": "y",
         "domain": [
          0,
          1
         ],
         "title": {
          "text": "UMAP1"
         }
        },
        "yaxis": {
         "anchor": "x",
         "domain": [
          0,
          1
         ],
         "title": {
          "text": "UMAP2"
         }
        }
       }
      }
     },
     "metadata": {},
     "output_type": "display_data"
    }
   ],
   "source": [
    "import plotly.express as px\n",
    "\n",
    "import pandas as pd\n",
    "\n",
    "# Prepare DataFrames for each embedding\n",
    "df_pca = df_selected.copy()\n",
    "df_pca['PC1'] = X_p[:, 0]\n",
    "df_pca['PC2'] = X_p[:, 1]\n",
    "df_pca['GroupID'] = dataset.df_us['GroupID'].values\n",
    "\n",
    "df_tsne = df_selected.copy()\n",
    "df_tsne['TSNE1'] = X_t[:, 0]\n",
    "df_tsne['TSNE2'] = X_t[:, 1]\n",
    "df_tsne['GroupID'] = dataset.df_us['GroupID'].values\n",
    "\n",
    "df_umap = df_selected.copy()\n",
    "df_umap['UMAP1'] = X_u[:, 0]\n",
    "df_umap['UMAP2'] = X_u[:, 1]\n",
    "df_umap['GroupID'] = dataset.df_us['GroupID'].values\n",
    "\n",
    "# PCA plot\n",
    "fig_pca = px.scatter(\n",
    "    df_pca,\n",
    "    x='PC1', y='PC2',\n",
    "    color='GroupID',\n",
    "    hover_data=df_selected.columns,\n",
    "    title=\"PCA\",\n",
    "    width=600,\n",
    "    height=600\n",
    ")\n",
    "fig_pca.show()\n",
    "\n",
    "# t-SNE plot\n",
    "fig_tsne = px.scatter(\n",
    "    df_tsne,\n",
    "    x='TSNE1', y='TSNE2',\n",
    "    color='GroupID',\n",
    "    hover_data=df_selected.columns,\n",
    "    title=\"t-SNE\",\n",
    "    width=600,\n",
    "    height=600\n",
    ")\n",
    "fig_tsne.show()\n",
    "\n",
    "# UMAP plot\n",
    "fig_umap = px.scatter(\n",
    "    df_umap,\n",
    "    x='UMAP1', y='UMAP2',\n",
    "    color='GroupID',\n",
    "    hover_data=df_selected.columns,\n",
    "    title=\"UMAP\",\n",
    "    width=600,\n",
    "    height=600\n",
    ")\n",
    "fig_umap.show()"
   ]
  }
 ],
 "metadata": {
  "kernelspec": {
   "display_name": "spyder-env",
   "language": "python",
   "name": "python3"
  },
  "language_info": {
   "codemirror_mode": {
    "name": "ipython",
    "version": 3
   },
   "file_extension": ".py",
   "mimetype": "text/x-python",
   "name": "python",
   "nbconvert_exporter": "python",
   "pygments_lexer": "ipython3",
   "version": "3.12.3"
  }
 },
 "nbformat": 4,
 "nbformat_minor": 5
}
